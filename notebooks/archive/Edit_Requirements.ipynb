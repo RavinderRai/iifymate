{
 "cells": [
  {
   "cell_type": "markdown",
   "id": "3a01e215-89f8-42bb-875e-d36a3abd6aac",
   "metadata": {},
   "source": [
    "# Requirements.txt\n",
    "\n",
    "Automating the process of getting the requirements.txt file. First, run `pip freeze > requirements.txt` to create the file, then we want to get a list of the imports from the .py files in the calorie_predictor folder and compare these."
   ]
  },
  {
   "cell_type": "code",
   "execution_count": 39,
   "id": "4c797403-9a8a-479b-86a8-a0a55ee610b7",
   "metadata": {},
   "outputs": [],
   "source": [
    "import os\n",
    "import ast\n",
    "\n",
    "# Path to your Python files\n",
    "python_files_dir = 'calorie_predicter/'\n",
    "\n",
    "# List of Python files to analyze\n",
    "python_files = ['app.py', 'predict.py', 'train.py', 'data_processing.py', 'utils.py']  # Add more files if necessary\n",
    "\n",
    "# List to store imports\n",
    "imports = []\n",
    "\n",
    "# Iterate through each Python file\n",
    "for file_name in python_files:\n",
    "    file_path = os.path.join(python_files_dir, file_name)\n",
    "    with open(file_path, 'r') as file:\n",
    "        tree = ast.parse(file.read(), filename=file_name)\n",
    "        for node in ast.walk(tree):\n",
    "            if isinstance(node, ast.Import):\n",
    "                for alias in node.names:\n",
    "                    imports.append(alias.name)\n",
    "            elif isinstance(node, ast.ImportFrom):\n",
    "                imports.append(node.module)"
   ]
  },
  {
   "cell_type": "code",
   "execution_count": 40,
   "id": "f07b8215-738b-4c32-9b44-14e7c496a4d0",
   "metadata": {},
   "outputs": [
    {
     "name": "stdout",
     "output_type": "stream",
     "text": [
      "['sklearn.metrics', 'predict', 'sklearn.preprocessing', 'time', 'json', 'nltk.corpus', 'nltk.stem', 'mlflow.sklearn', 'pandas', 'os', 'sklearn.feature_extraction.text', 'utils', 'nltk.tokenize', 'xgboost', 'yaml', 'logging', 'streamlit', 'warnings', 'pandas_gbq', 'google.cloud', 'pickle', 'ast', 'sklearn.model_selection', 'mlflow']\n"
     ]
    }
   ],
   "source": [
    "print(list(set(imports)))"
   ]
  },
  {
   "cell_type": "code",
   "execution_count": 50,
   "id": "13243833-cc5c-4432-98e2-b4d450bd9ee0",
   "metadata": {},
   "outputs": [],
   "source": [
    "import jsonschema"
   ]
  },
  {
   "cell_type": "code",
   "execution_count": 41,
   "id": "08c10111-1fed-4ca0-9a73-217bd39331ca",
   "metadata": {},
   "outputs": [
    {
     "name": "stdout",
     "output_type": "stream",
     "text": [
      "['time', 'json', 'yaml', 'utils', 'logging', 'google', 'streamlit', 'warnings', 'pandas_gbq', 'pickle', 'xgboost', 'mlflow', 'sklearn', 'ast', 'predict', 'pandas', 'os', 'nltk']\n"
     ]
    }
   ],
   "source": [
    "# get rid of subpackages, i.e. nltk.stem means we want to install nltk\n",
    "imports = [imprt.split('.')[0] if '.' in imprt else imprt for imprt in imports]\n",
    "imports = list(set(imports))\n",
    "print(imports)"
   ]
  },
  {
   "cell_type": "code",
   "execution_count": 43,
   "id": "a2f1b6f6-7849-4c77-81d1-8f949dc941f2",
   "metadata": {},
   "outputs": [],
   "source": [
    "import io\n",
    "requirements = []\n",
    "with io.open('requirements.txt', encoding='utf-16', errors='ignore') as f:\n",
    "    for line in f:\n",
    "        package = line.split('==')[0]\n",
    "        if package in imports:\n",
    "            requirements.append(line)\n",
    "        else:\n",
    "            for imprt in imports:\n",
    "                if imprt in line:\n",
    "                    requirements.append(line)"
   ]
  },
  {
   "cell_type": "code",
   "execution_count": 53,
   "id": "a771fe62-a87c-4a5c-ac2f-80e6bdeb57a7",
   "metadata": {},
   "outputs": [
    {
     "data": {
      "text/plain": [
       "['xgboost==2.0.3\\n',\n",
       " 'google-resumable-media==2.7.0\\n',\n",
       " 'pydata-google-auth==1.8.2\\n',\n",
       " 'google-pasta==0.2.0\\n',\n",
       " 'google-api-core==2.17.1\\n',\n",
       " 'google-cloud-bigquery==3.17.2\\n',\n",
       " 'astroid==3.1.0\\n',\n",
       " 'fastjsonschema==2.19.1\\n',\n",
       " 'google-auth-oauthlib==1.0.0\\n',\n",
       " 'google-crc32c==1.5.0\\n',\n",
       " 'aiosignal==1.3.1\\n',\n",
       " 'jsonpointer==2.4\\n',\n",
       " 'nltk==3.8.1\\n',\n",
       " 'pandas==2.2.0\\n',\n",
       " 'googleapis-common-protos==1.62.0\\n',\n",
       " 'mlflow==2.10.2\\n',\n",
       " 'astunparse==1.6.3\\n',\n",
       " 'simplejson==3.19.2\\n',\n",
       " 'google-cloud-core==2.4.1\\n',\n",
       " 'grpc-google-iam-v1==0.13.0\\n',\n",
       " 'json5==0.9.14\\n',\n",
       " 'jsonschema==4.21.1\\n',\n",
       " 'google-auth==2.27.0\\n',\n",
       " 'asttokens==2.4.1\\n',\n",
       " 'google-cloud-aiplatform==1.43.0\\n',\n",
       " 'fastrlock==0.8.2\\n',\n",
       " 'google-cloud-storage==2.14.0\\n',\n",
       " 'google-cloud-resource-manager==1.12.2\\n',\n",
       " 'gast==0.4.0\\n',\n",
       " 'jsonschema-specifications==2023.12.1\\n',\n",
       " 'pandas-gbq==0.21.0\\n',\n",
       " 'cloudpickle==3.0.0\\n',\n",
       " 'streamlit==1.31.1\\n',\n",
       " 'google-cloud-bigquery-storage==2.24.0\\n',\n",
       " 'python-json-logger==2.0.7\\n']"
      ]
     },
     "execution_count": 53,
     "metadata": {},
     "output_type": "execute_result"
    }
   ],
   "source": [
    "requirements = list(set(requirements))\n",
    "requirements"
   ]
  },
  {
   "cell_type": "code",
   "execution_count": 54,
   "id": "f94abf55-72d0-4c68-8559-d8728015f72e",
   "metadata": {},
   "outputs": [],
   "source": [
    "with open('requirements.txt', 'w') as f:\n",
    "    f.writelines(requirements)"
   ]
  },
  {
   "cell_type": "code",
   "execution_count": null,
   "id": "ef7f5391-7699-4007-abb1-696029c42a50",
   "metadata": {},
   "outputs": [],
   "source": []
  }
 ],
 "metadata": {
  "kernelspec": {
   "display_name": "Python 3 (ipykernel)",
   "language": "python",
   "name": "python3"
  },
  "language_info": {
   "codemirror_mode": {
    "name": "ipython",
    "version": 3
   },
   "file_extension": ".py",
   "mimetype": "text/x-python",
   "name": "python",
   "nbconvert_exporter": "python",
   "pygments_lexer": "ipython3",
   "version": "3.11.7"
  }
 },
 "nbformat": 4,
 "nbformat_minor": 5
}
