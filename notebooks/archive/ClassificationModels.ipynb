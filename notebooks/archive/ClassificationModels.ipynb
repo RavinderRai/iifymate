{
 "cells": [
  {
   "cell_type": "markdown",
   "id": "6a135fd0-4ca6-4708-bca8-15275fbbaf22",
   "metadata": {},
   "source": [
    "# Classification Models on Recipes\n",
    "\n",
    "This notebook contains simpler classification models rather than an LLM. The main goal here is to predict the calorie count given a recipe. "
   ]
  },
  {
   "cell_type": "code",
   "execution_count": 1,
   "id": "bbb5e8ba-b1dc-4638-8926-6f17dc5614eb",
   "metadata": {},
   "outputs": [],
   "source": [
    "import pandas as pd\n",
    "import matplotlib.pyplot as plt\n",
    "import ast\n",
    "from collections import Counter"
   ]
  },
  {
   "cell_type": "code",
   "execution_count": 2,
   "id": "90edcebe-3370-45d5-84a3-b7f853fd9434",
   "metadata": {},
   "outputs": [
    {
     "data": {
      "text/html": [
       "<div>\n",
       "<style scoped>\n",
       "    .dataframe tbody tr th:only-of-type {\n",
       "        vertical-align: middle;\n",
       "    }\n",
       "\n",
       "    .dataframe tbody tr th {\n",
       "        vertical-align: top;\n",
       "    }\n",
       "\n",
       "    .dataframe thead th {\n",
       "        text-align: right;\n",
       "    }\n",
       "</style>\n",
       "<table border=\"1\" class=\"dataframe\">\n",
       "  <thead>\n",
       "    <tr style=\"text-align: right;\">\n",
       "      <th></th>\n",
       "      <th>uri</th>\n",
       "      <th>label</th>\n",
       "      <th>image</th>\n",
       "      <th>source</th>\n",
       "      <th>url</th>\n",
       "      <th>shareAs</th>\n",
       "      <th>yield</th>\n",
       "      <th>dietLabels</th>\n",
       "      <th>healthLabels</th>\n",
       "      <th>cautions</th>\n",
       "      <th>...</th>\n",
       "      <th>calories</th>\n",
       "      <th>totalWeight</th>\n",
       "      <th>totalTime</th>\n",
       "      <th>cuisineType</th>\n",
       "      <th>mealType</th>\n",
       "      <th>dishType</th>\n",
       "      <th>totalNutrients</th>\n",
       "      <th>totalDaily</th>\n",
       "      <th>digest</th>\n",
       "      <th>tags</th>\n",
       "    </tr>\n",
       "  </thead>\n",
       "  <tbody>\n",
       "    <tr>\n",
       "      <th>0</th>\n",
       "      <td>http://www.edamam.com/ontologies/edamam.owl#re...</td>\n",
       "      <td>Green Beans</td>\n",
       "      <td>https://edamam-product-images.s3.amazonaws.com...</td>\n",
       "      <td>Martha Stewart</td>\n",
       "      <td>http://www.marthastewart.com/338543/green-beans</td>\n",
       "      <td>http://www.edamam.com/recipe/green-beans-a91ad...</td>\n",
       "      <td>4.0</td>\n",
       "      <td>[]</td>\n",
       "      <td>['Sugar-Conscious', 'Kidney-Friendly', 'Keto-F...</td>\n",
       "      <td>[]</td>\n",
       "      <td>...</td>\n",
       "      <td>245.950111</td>\n",
       "      <td>471.932982</td>\n",
       "      <td>24.0</td>\n",
       "      <td>['american']</td>\n",
       "      <td>['lunch/dinner']</td>\n",
       "      <td>['main course']</td>\n",
       "      <td>{'ENERC_KCAL': {'label': 'Energy', 'quantity':...</td>\n",
       "      <td>{'ENERC_KCAL': {'label': 'Energy', 'quantity':...</td>\n",
       "      <td>[{'label': 'Fat', 'tag': 'FAT', 'schemaOrgTag'...</td>\n",
       "      <td>NaN</td>\n",
       "    </tr>\n",
       "    <tr>\n",
       "      <th>1</th>\n",
       "      <td>http://www.edamam.com/ontologies/edamam.owl#re...</td>\n",
       "      <td>Sauteed Green Beans</td>\n",
       "      <td>https://edamam-product-images.s3.amazonaws.com...</td>\n",
       "      <td>Epicurious</td>\n",
       "      <td>https://www.epicurious.com/recipes/food/views/...</td>\n",
       "      <td>http://www.edamam.com/recipe/sauteed-green-bea...</td>\n",
       "      <td>8.0</td>\n",
       "      <td>['Balanced', 'Low-Sodium']</td>\n",
       "      <td>['Sugar-Conscious', 'Kidney-Friendly', 'Keto-F...</td>\n",
       "      <td>[]</td>\n",
       "      <td>...</td>\n",
       "      <td>331.965452</td>\n",
       "      <td>699.388555</td>\n",
       "      <td>0.0</td>\n",
       "      <td>['french']</td>\n",
       "      <td>['lunch/dinner']</td>\n",
       "      <td>['starter']</td>\n",
       "      <td>{'ENERC_KCAL': {'label': 'Energy', 'quantity':...</td>\n",
       "      <td>{'ENERC_KCAL': {'label': 'Energy', 'quantity':...</td>\n",
       "      <td>[{'label': 'Fat', 'tag': 'FAT', 'schemaOrgTag'...</td>\n",
       "      <td>['Vegetarian', 'Vegan', 'Quick &amp; Easy', 'Bean'...</td>\n",
       "    </tr>\n",
       "    <tr>\n",
       "      <th>2</th>\n",
       "      <td>http://www.edamam.com/ontologies/edamam.owl#re...</td>\n",
       "      <td>Caramelized Green Beans</td>\n",
       "      <td>https://edamam-product-images.s3.amazonaws.com...</td>\n",
       "      <td>Saveur</td>\n",
       "      <td>http://www.saveur.com/article/Recipes/Carameli...</td>\n",
       "      <td>http://www.edamam.com/recipe/caramelized-green...</td>\n",
       "      <td>6.0</td>\n",
       "      <td>['Low-Carb', 'Low-Sodium']</td>\n",
       "      <td>['Sugar-Conscious', 'Kidney-Friendly', 'Keto-F...</td>\n",
       "      <td>[]</td>\n",
       "      <td>...</td>\n",
       "      <td>1025.432452</td>\n",
       "      <td>793.988555</td>\n",
       "      <td>0.0</td>\n",
       "      <td>['american']</td>\n",
       "      <td>['lunch/dinner']</td>\n",
       "      <td>['main course']</td>\n",
       "      <td>{'ENERC_KCAL': {'label': 'Energy', 'quantity':...</td>\n",
       "      <td>{'ENERC_KCAL': {'label': 'Energy', 'quantity':...</td>\n",
       "      <td>[{'label': 'Fat', 'tag': 'FAT', 'schemaOrgTag'...</td>\n",
       "      <td>NaN</td>\n",
       "    </tr>\n",
       "    <tr>\n",
       "      <th>3</th>\n",
       "      <td>http://www.edamam.com/ontologies/edamam.owl#re...</td>\n",
       "      <td>Sautéed Fresh Green Beans</td>\n",
       "      <td>https://edamam-product-images.s3.amazonaws.com...</td>\n",
       "      <td>EatingWell</td>\n",
       "      <td>http://www.eatingwell.com/recipe/261341/sautee...</td>\n",
       "      <td>http://www.edamam.com/recipe/saut%C3%A9ed-fres...</td>\n",
       "      <td>4.0</td>\n",
       "      <td>['Balanced', 'Low-Sodium']</td>\n",
       "      <td>['Sugar-Conscious', 'Kidney-Friendly', 'Keto-F...</td>\n",
       "      <td>[]</td>\n",
       "      <td>...</td>\n",
       "      <td>220.173635</td>\n",
       "      <td>462.592370</td>\n",
       "      <td>5.0</td>\n",
       "      <td>['french']</td>\n",
       "      <td>['lunch/dinner']</td>\n",
       "      <td>['starter']</td>\n",
       "      <td>{'ENERC_KCAL': {'label': 'Energy', 'quantity':...</td>\n",
       "      <td>{'ENERC_KCAL': {'label': 'Energy', 'quantity':...</td>\n",
       "      <td>[{'label': 'Fat', 'tag': 'FAT', 'schemaOrgTag'...</td>\n",
       "      <td>['Gluten-Free', 'Low Fat', 'Vegan', 'High Fibe...</td>\n",
       "    </tr>\n",
       "    <tr>\n",
       "      <th>4</th>\n",
       "      <td>http://www.edamam.com/ontologies/edamam.owl#re...</td>\n",
       "      <td>Fancy Green Beans</td>\n",
       "      <td>https://edamam-product-images.s3.amazonaws.com...</td>\n",
       "      <td>PBS Food</td>\n",
       "      <td>http://www.pbs.org/food/recipes/fancy-green-be...</td>\n",
       "      <td>http://www.edamam.com/recipe/fancy-green-beans...</td>\n",
       "      <td>2.0</td>\n",
       "      <td>['Balanced', 'High-Fiber']</td>\n",
       "      <td>['Vegan', 'Vegetarian', 'Pescatarian', 'Dairy-...</td>\n",
       "      <td>['Sulfites', 'FODMAP']</td>\n",
       "      <td>...</td>\n",
       "      <td>245.191312</td>\n",
       "      <td>472.898439</td>\n",
       "      <td>47.0</td>\n",
       "      <td>['american']</td>\n",
       "      <td>['lunch/dinner']</td>\n",
       "      <td>['main course']</td>\n",
       "      <td>{'ENERC_KCAL': {'label': 'Energy', 'quantity':...</td>\n",
       "      <td>{'ENERC_KCAL': {'label': 'Energy', 'quantity':...</td>\n",
       "      <td>[{'label': 'Fat', 'tag': 'FAT', 'schemaOrgTag'...</td>\n",
       "      <td>NaN</td>\n",
       "    </tr>\n",
       "  </tbody>\n",
       "</table>\n",
       "<p>5 rows × 22 columns</p>\n",
       "</div>"
      ],
      "text/plain": [
       "                                                 uri  \\\n",
       "0  http://www.edamam.com/ontologies/edamam.owl#re...   \n",
       "1  http://www.edamam.com/ontologies/edamam.owl#re...   \n",
       "2  http://www.edamam.com/ontologies/edamam.owl#re...   \n",
       "3  http://www.edamam.com/ontologies/edamam.owl#re...   \n",
       "4  http://www.edamam.com/ontologies/edamam.owl#re...   \n",
       "\n",
       "                       label  \\\n",
       "0                Green Beans   \n",
       "1        Sauteed Green Beans   \n",
       "2    Caramelized Green Beans   \n",
       "3  Sautéed Fresh Green Beans   \n",
       "4          Fancy Green Beans   \n",
       "\n",
       "                                               image          source  \\\n",
       "0  https://edamam-product-images.s3.amazonaws.com...  Martha Stewart   \n",
       "1  https://edamam-product-images.s3.amazonaws.com...      Epicurious   \n",
       "2  https://edamam-product-images.s3.amazonaws.com...          Saveur   \n",
       "3  https://edamam-product-images.s3.amazonaws.com...      EatingWell   \n",
       "4  https://edamam-product-images.s3.amazonaws.com...        PBS Food   \n",
       "\n",
       "                                                 url  \\\n",
       "0    http://www.marthastewart.com/338543/green-beans   \n",
       "1  https://www.epicurious.com/recipes/food/views/...   \n",
       "2  http://www.saveur.com/article/Recipes/Carameli...   \n",
       "3  http://www.eatingwell.com/recipe/261341/sautee...   \n",
       "4  http://www.pbs.org/food/recipes/fancy-green-be...   \n",
       "\n",
       "                                             shareAs  yield  \\\n",
       "0  http://www.edamam.com/recipe/green-beans-a91ad...    4.0   \n",
       "1  http://www.edamam.com/recipe/sauteed-green-bea...    8.0   \n",
       "2  http://www.edamam.com/recipe/caramelized-green...    6.0   \n",
       "3  http://www.edamam.com/recipe/saut%C3%A9ed-fres...    4.0   \n",
       "4  http://www.edamam.com/recipe/fancy-green-beans...    2.0   \n",
       "\n",
       "                   dietLabels  \\\n",
       "0                          []   \n",
       "1  ['Balanced', 'Low-Sodium']   \n",
       "2  ['Low-Carb', 'Low-Sodium']   \n",
       "3  ['Balanced', 'Low-Sodium']   \n",
       "4  ['Balanced', 'High-Fiber']   \n",
       "\n",
       "                                        healthLabels                cautions  \\\n",
       "0  ['Sugar-Conscious', 'Kidney-Friendly', 'Keto-F...                      []   \n",
       "1  ['Sugar-Conscious', 'Kidney-Friendly', 'Keto-F...                      []   \n",
       "2  ['Sugar-Conscious', 'Kidney-Friendly', 'Keto-F...                      []   \n",
       "3  ['Sugar-Conscious', 'Kidney-Friendly', 'Keto-F...                      []   \n",
       "4  ['Vegan', 'Vegetarian', 'Pescatarian', 'Dairy-...  ['Sulfites', 'FODMAP']   \n",
       "\n",
       "   ...     calories totalWeight  totalTime   cuisineType          mealType  \\\n",
       "0  ...   245.950111  471.932982       24.0  ['american']  ['lunch/dinner']   \n",
       "1  ...   331.965452  699.388555        0.0    ['french']  ['lunch/dinner']   \n",
       "2  ...  1025.432452  793.988555        0.0  ['american']  ['lunch/dinner']   \n",
       "3  ...   220.173635  462.592370        5.0    ['french']  ['lunch/dinner']   \n",
       "4  ...   245.191312  472.898439       47.0  ['american']  ['lunch/dinner']   \n",
       "\n",
       "          dishType                                     totalNutrients  \\\n",
       "0  ['main course']  {'ENERC_KCAL': {'label': 'Energy', 'quantity':...   \n",
       "1      ['starter']  {'ENERC_KCAL': {'label': 'Energy', 'quantity':...   \n",
       "2  ['main course']  {'ENERC_KCAL': {'label': 'Energy', 'quantity':...   \n",
       "3      ['starter']  {'ENERC_KCAL': {'label': 'Energy', 'quantity':...   \n",
       "4  ['main course']  {'ENERC_KCAL': {'label': 'Energy', 'quantity':...   \n",
       "\n",
       "                                          totalDaily  \\\n",
       "0  {'ENERC_KCAL': {'label': 'Energy', 'quantity':...   \n",
       "1  {'ENERC_KCAL': {'label': 'Energy', 'quantity':...   \n",
       "2  {'ENERC_KCAL': {'label': 'Energy', 'quantity':...   \n",
       "3  {'ENERC_KCAL': {'label': 'Energy', 'quantity':...   \n",
       "4  {'ENERC_KCAL': {'label': 'Energy', 'quantity':...   \n",
       "\n",
       "                                              digest  \\\n",
       "0  [{'label': 'Fat', 'tag': 'FAT', 'schemaOrgTag'...   \n",
       "1  [{'label': 'Fat', 'tag': 'FAT', 'schemaOrgTag'...   \n",
       "2  [{'label': 'Fat', 'tag': 'FAT', 'schemaOrgTag'...   \n",
       "3  [{'label': 'Fat', 'tag': 'FAT', 'schemaOrgTag'...   \n",
       "4  [{'label': 'Fat', 'tag': 'FAT', 'schemaOrgTag'...   \n",
       "\n",
       "                                                tags  \n",
       "0                                                NaN  \n",
       "1  ['Vegetarian', 'Vegan', 'Quick & Easy', 'Bean'...  \n",
       "2                                                NaN  \n",
       "3  ['Gluten-Free', 'Low Fat', 'Vegan', 'High Fibe...  \n",
       "4                                                NaN  \n",
       "\n",
       "[5 rows x 22 columns]"
      ]
     },
     "execution_count": 2,
     "metadata": {},
     "output_type": "execute_result"
    }
   ],
   "source": [
    "raw_df = pd.read_csv('recipes.csv')\n",
    "raw_df.head()"
   ]
  },
  {
   "cell_type": "code",
   "execution_count": 3,
   "id": "d12fbeea-b9ee-4287-b360-c52c09c28744",
   "metadata": {},
   "outputs": [
    {
     "name": "stdout",
     "output_type": "stream",
     "text": [
      "<class 'pandas.core.frame.DataFrame'>\n",
      "RangeIndex: 13272 entries, 0 to 13271\n",
      "Data columns (total 22 columns):\n",
      " #   Column           Non-Null Count  Dtype  \n",
      "---  ------           --------------  -----  \n",
      " 0   uri              13272 non-null  object \n",
      " 1   label            13272 non-null  object \n",
      " 2   image            13272 non-null  object \n",
      " 3   source           13272 non-null  object \n",
      " 4   url              13272 non-null  object \n",
      " 5   shareAs          13272 non-null  object \n",
      " 6   yield            13272 non-null  float64\n",
      " 7   dietLabels       13272 non-null  object \n",
      " 8   healthLabels     13272 non-null  object \n",
      " 9   cautions         13272 non-null  object \n",
      " 10  ingredientLines  13272 non-null  object \n",
      " 11  ingredients      13272 non-null  object \n",
      " 12  calories         13272 non-null  float64\n",
      " 13  totalWeight      13272 non-null  float64\n",
      " 14  totalTime        13272 non-null  float64\n",
      " 15  cuisineType      13272 non-null  object \n",
      " 16  mealType         13272 non-null  object \n",
      " 17  dishType         13139 non-null  object \n",
      " 18  totalNutrients   13272 non-null  object \n",
      " 19  totalDaily       13272 non-null  object \n",
      " 20  digest           13272 non-null  object \n",
      " 21  tags             7382 non-null   object \n",
      "dtypes: float64(4), object(18)\n",
      "memory usage: 2.2+ MB\n"
     ]
    }
   ],
   "source": [
    "raw_df.info()"
   ]
  },
  {
   "cell_type": "code",
   "execution_count": 4,
   "id": "d44c40fe-e669-41fd-b4eb-d74f6f76b1bf",
   "metadata": {},
   "outputs": [
    {
     "data": {
      "text/html": [
       "<div>\n",
       "<style scoped>\n",
       "    .dataframe tbody tr th:only-of-type {\n",
       "        vertical-align: middle;\n",
       "    }\n",
       "\n",
       "    .dataframe tbody tr th {\n",
       "        vertical-align: top;\n",
       "    }\n",
       "\n",
       "    .dataframe thead th {\n",
       "        text-align: right;\n",
       "    }\n",
       "</style>\n",
       "<table border=\"1\" class=\"dataframe\">\n",
       "  <thead>\n",
       "    <tr style=\"text-align: right;\">\n",
       "      <th></th>\n",
       "      <th>yield</th>\n",
       "      <th>calories</th>\n",
       "      <th>totalWeight</th>\n",
       "      <th>totalTime</th>\n",
       "    </tr>\n",
       "  </thead>\n",
       "  <tbody>\n",
       "    <tr>\n",
       "      <th>count</th>\n",
       "      <td>13272.000000</td>\n",
       "      <td>13272.000000</td>\n",
       "      <td>13272.000000</td>\n",
       "      <td>13272.000000</td>\n",
       "    </tr>\n",
       "    <tr>\n",
       "      <th>mean</th>\n",
       "      <td>6.390032</td>\n",
       "      <td>1919.546543</td>\n",
       "      <td>1247.258306</td>\n",
       "      <td>59.567021</td>\n",
       "    </tr>\n",
       "    <tr>\n",
       "      <th>std</th>\n",
       "      <td>6.267674</td>\n",
       "      <td>1938.485052</td>\n",
       "      <td>1009.295434</td>\n",
       "      <td>400.767255</td>\n",
       "    </tr>\n",
       "    <tr>\n",
       "      <th>min</th>\n",
       "      <td>0.666000</td>\n",
       "      <td>0.840000</td>\n",
       "      <td>5.325627</td>\n",
       "      <td>0.000000</td>\n",
       "    </tr>\n",
       "    <tr>\n",
       "      <th>25%</th>\n",
       "      <td>4.000000</td>\n",
       "      <td>734.920750</td>\n",
       "      <td>575.989799</td>\n",
       "      <td>0.000000</td>\n",
       "    </tr>\n",
       "    <tr>\n",
       "      <th>50%</th>\n",
       "      <td>4.000000</td>\n",
       "      <td>1419.177262</td>\n",
       "      <td>980.685969</td>\n",
       "      <td>15.000000</td>\n",
       "    </tr>\n",
       "    <tr>\n",
       "      <th>75%</th>\n",
       "      <td>8.000000</td>\n",
       "      <td>2429.584040</td>\n",
       "      <td>1590.382305</td>\n",
       "      <td>45.000000</td>\n",
       "    </tr>\n",
       "    <tr>\n",
       "      <th>max</th>\n",
       "      <td>150.000000</td>\n",
       "      <td>44565.178197</td>\n",
       "      <td>7956.830802</td>\n",
       "      <td>30245.000000</td>\n",
       "    </tr>\n",
       "  </tbody>\n",
       "</table>\n",
       "</div>"
      ],
      "text/plain": [
       "              yield      calories   totalWeight     totalTime\n",
       "count  13272.000000  13272.000000  13272.000000  13272.000000\n",
       "mean       6.390032   1919.546543   1247.258306     59.567021\n",
       "std        6.267674   1938.485052   1009.295434    400.767255\n",
       "min        0.666000      0.840000      5.325627      0.000000\n",
       "25%        4.000000    734.920750    575.989799      0.000000\n",
       "50%        4.000000   1419.177262    980.685969     15.000000\n",
       "75%        8.000000   2429.584040   1590.382305     45.000000\n",
       "max      150.000000  44565.178197   7956.830802  30245.000000"
      ]
     },
     "execution_count": 4,
     "metadata": {},
     "output_type": "execute_result"
    }
   ],
   "source": [
    "raw_df.describe()"
   ]
  },
  {
   "cell_type": "code",
   "execution_count": 5,
   "id": "e900090c-2c29-4788-9287-0b4168217004",
   "metadata": {},
   "outputs": [
    {
     "data": {
      "text/html": [
       "<div>\n",
       "<style scoped>\n",
       "    .dataframe tbody tr th:only-of-type {\n",
       "        vertical-align: middle;\n",
       "    }\n",
       "\n",
       "    .dataframe tbody tr th {\n",
       "        vertical-align: top;\n",
       "    }\n",
       "\n",
       "    .dataframe thead th {\n",
       "        text-align: right;\n",
       "    }\n",
       "</style>\n",
       "<table border=\"1\" class=\"dataframe\">\n",
       "  <thead>\n",
       "    <tr style=\"text-align: right;\">\n",
       "      <th></th>\n",
       "      <th>uri</th>\n",
       "      <th>label</th>\n",
       "      <th>image</th>\n",
       "      <th>source</th>\n",
       "      <th>url</th>\n",
       "      <th>shareAs</th>\n",
       "      <th>yield</th>\n",
       "      <th>dietLabels</th>\n",
       "      <th>healthLabels</th>\n",
       "      <th>cautions</th>\n",
       "      <th>...</th>\n",
       "      <th>calories</th>\n",
       "      <th>totalWeight</th>\n",
       "      <th>totalTime</th>\n",
       "      <th>cuisineType</th>\n",
       "      <th>mealType</th>\n",
       "      <th>dishType</th>\n",
       "      <th>totalNutrients</th>\n",
       "      <th>totalDaily</th>\n",
       "      <th>digest</th>\n",
       "      <th>tags</th>\n",
       "    </tr>\n",
       "  </thead>\n",
       "  <tbody>\n",
       "    <tr>\n",
       "      <th>0</th>\n",
       "      <td>http://www.edamam.com/ontologies/edamam.owl#re...</td>\n",
       "      <td>Green Beans</td>\n",
       "      <td>https://edamam-product-images.s3.amazonaws.com...</td>\n",
       "      <td>Martha Stewart</td>\n",
       "      <td>http://www.marthastewart.com/338543/green-beans</td>\n",
       "      <td>http://www.edamam.com/recipe/green-beans-a91ad...</td>\n",
       "      <td>4.0</td>\n",
       "      <td>[]</td>\n",
       "      <td>['Sugar-Conscious', 'Kidney-Friendly', 'Keto-F...</td>\n",
       "      <td>[]</td>\n",
       "      <td>...</td>\n",
       "      <td>245.950111</td>\n",
       "      <td>471.932982</td>\n",
       "      <td>24.0</td>\n",
       "      <td>['american']</td>\n",
       "      <td>['lunch/dinner']</td>\n",
       "      <td>['main course']</td>\n",
       "      <td>{'ENERC_KCAL': {'label': 'Energy', 'quantity':...</td>\n",
       "      <td>{'ENERC_KCAL': {'label': 'Energy', 'quantity':...</td>\n",
       "      <td>[{'label': 'Fat', 'tag': 'FAT', 'schemaOrgTag'...</td>\n",
       "      <td>NaN</td>\n",
       "    </tr>\n",
       "    <tr>\n",
       "      <th>1</th>\n",
       "      <td>http://www.edamam.com/ontologies/edamam.owl#re...</td>\n",
       "      <td>Sauteed Green Beans</td>\n",
       "      <td>https://edamam-product-images.s3.amazonaws.com...</td>\n",
       "      <td>Epicurious</td>\n",
       "      <td>https://www.epicurious.com/recipes/food/views/...</td>\n",
       "      <td>http://www.edamam.com/recipe/sauteed-green-bea...</td>\n",
       "      <td>8.0</td>\n",
       "      <td>['Balanced', 'Low-Sodium']</td>\n",
       "      <td>['Sugar-Conscious', 'Kidney-Friendly', 'Keto-F...</td>\n",
       "      <td>[]</td>\n",
       "      <td>...</td>\n",
       "      <td>331.965452</td>\n",
       "      <td>699.388555</td>\n",
       "      <td>0.0</td>\n",
       "      <td>['french']</td>\n",
       "      <td>['lunch/dinner']</td>\n",
       "      <td>['starter']</td>\n",
       "      <td>{'ENERC_KCAL': {'label': 'Energy', 'quantity':...</td>\n",
       "      <td>{'ENERC_KCAL': {'label': 'Energy', 'quantity':...</td>\n",
       "      <td>[{'label': 'Fat', 'tag': 'FAT', 'schemaOrgTag'...</td>\n",
       "      <td>['Vegetarian', 'Vegan', 'Quick &amp; Easy', 'Bean'...</td>\n",
       "    </tr>\n",
       "    <tr>\n",
       "      <th>2</th>\n",
       "      <td>http://www.edamam.com/ontologies/edamam.owl#re...</td>\n",
       "      <td>Caramelized Green Beans</td>\n",
       "      <td>https://edamam-product-images.s3.amazonaws.com...</td>\n",
       "      <td>Saveur</td>\n",
       "      <td>http://www.saveur.com/article/Recipes/Carameli...</td>\n",
       "      <td>http://www.edamam.com/recipe/caramelized-green...</td>\n",
       "      <td>6.0</td>\n",
       "      <td>['Low-Carb', 'Low-Sodium']</td>\n",
       "      <td>['Sugar-Conscious', 'Kidney-Friendly', 'Keto-F...</td>\n",
       "      <td>[]</td>\n",
       "      <td>...</td>\n",
       "      <td>1025.432452</td>\n",
       "      <td>793.988555</td>\n",
       "      <td>0.0</td>\n",
       "      <td>['american']</td>\n",
       "      <td>['lunch/dinner']</td>\n",
       "      <td>['main course']</td>\n",
       "      <td>{'ENERC_KCAL': {'label': 'Energy', 'quantity':...</td>\n",
       "      <td>{'ENERC_KCAL': {'label': 'Energy', 'quantity':...</td>\n",
       "      <td>[{'label': 'Fat', 'tag': 'FAT', 'schemaOrgTag'...</td>\n",
       "      <td>NaN</td>\n",
       "    </tr>\n",
       "    <tr>\n",
       "      <th>3</th>\n",
       "      <td>http://www.edamam.com/ontologies/edamam.owl#re...</td>\n",
       "      <td>Sautéed Fresh Green Beans</td>\n",
       "      <td>https://edamam-product-images.s3.amazonaws.com...</td>\n",
       "      <td>EatingWell</td>\n",
       "      <td>http://www.eatingwell.com/recipe/261341/sautee...</td>\n",
       "      <td>http://www.edamam.com/recipe/saut%C3%A9ed-fres...</td>\n",
       "      <td>4.0</td>\n",
       "      <td>['Balanced', 'Low-Sodium']</td>\n",
       "      <td>['Sugar-Conscious', 'Kidney-Friendly', 'Keto-F...</td>\n",
       "      <td>[]</td>\n",
       "      <td>...</td>\n",
       "      <td>220.173635</td>\n",
       "      <td>462.592370</td>\n",
       "      <td>5.0</td>\n",
       "      <td>['french']</td>\n",
       "      <td>['lunch/dinner']</td>\n",
       "      <td>['starter']</td>\n",
       "      <td>{'ENERC_KCAL': {'label': 'Energy', 'quantity':...</td>\n",
       "      <td>{'ENERC_KCAL': {'label': 'Energy', 'quantity':...</td>\n",
       "      <td>[{'label': 'Fat', 'tag': 'FAT', 'schemaOrgTag'...</td>\n",
       "      <td>['Gluten-Free', 'Low Fat', 'Vegan', 'High Fibe...</td>\n",
       "    </tr>\n",
       "    <tr>\n",
       "      <th>4</th>\n",
       "      <td>http://www.edamam.com/ontologies/edamam.owl#re...</td>\n",
       "      <td>Fancy Green Beans</td>\n",
       "      <td>https://edamam-product-images.s3.amazonaws.com...</td>\n",
       "      <td>PBS Food</td>\n",
       "      <td>http://www.pbs.org/food/recipes/fancy-green-be...</td>\n",
       "      <td>http://www.edamam.com/recipe/fancy-green-beans...</td>\n",
       "      <td>2.0</td>\n",
       "      <td>['Balanced', 'High-Fiber']</td>\n",
       "      <td>['Vegan', 'Vegetarian', 'Pescatarian', 'Dairy-...</td>\n",
       "      <td>['Sulfites', 'FODMAP']</td>\n",
       "      <td>...</td>\n",
       "      <td>245.191312</td>\n",
       "      <td>472.898439</td>\n",
       "      <td>47.0</td>\n",
       "      <td>['american']</td>\n",
       "      <td>['lunch/dinner']</td>\n",
       "      <td>['main course']</td>\n",
       "      <td>{'ENERC_KCAL': {'label': 'Energy', 'quantity':...</td>\n",
       "      <td>{'ENERC_KCAL': {'label': 'Energy', 'quantity':...</td>\n",
       "      <td>[{'label': 'Fat', 'tag': 'FAT', 'schemaOrgTag'...</td>\n",
       "      <td>NaN</td>\n",
       "    </tr>\n",
       "    <tr>\n",
       "      <th>...</th>\n",
       "      <td>...</td>\n",
       "      <td>...</td>\n",
       "      <td>...</td>\n",
       "      <td>...</td>\n",
       "      <td>...</td>\n",
       "      <td>...</td>\n",
       "      <td>...</td>\n",
       "      <td>...</td>\n",
       "      <td>...</td>\n",
       "      <td>...</td>\n",
       "      <td>...</td>\n",
       "      <td>...</td>\n",
       "      <td>...</td>\n",
       "      <td>...</td>\n",
       "      <td>...</td>\n",
       "      <td>...</td>\n",
       "      <td>...</td>\n",
       "      <td>...</td>\n",
       "      <td>...</td>\n",
       "      <td>...</td>\n",
       "      <td>...</td>\n",
       "    </tr>\n",
       "    <tr>\n",
       "      <th>13267</th>\n",
       "      <td>http://www.edamam.com/ontologies/edamam.owl#re...</td>\n",
       "      <td>Red Pepper Farro With Tuna</td>\n",
       "      <td>https://edamam-product-images.s3.amazonaws.com...</td>\n",
       "      <td>Self</td>\n",
       "      <td>https://www.self.com/recipe/red-pepper-farro-w...</td>\n",
       "      <td>http://www.edamam.com/recipe/red-pepper-farro-...</td>\n",
       "      <td>6.0</td>\n",
       "      <td>[]</td>\n",
       "      <td>['Sugar-Conscious', 'Pescatarian', 'Mediterran...</td>\n",
       "      <td>['Sulfites']</td>\n",
       "      <td>...</td>\n",
       "      <td>1118.129068</td>\n",
       "      <td>652.479234</td>\n",
       "      <td>0.0</td>\n",
       "      <td>['italian']</td>\n",
       "      <td>['lunch/dinner']</td>\n",
       "      <td>['starter']</td>\n",
       "      <td>{'ENERC_KCAL': {'label': 'Energy', 'quantity':...</td>\n",
       "      <td>{'ENERC_KCAL': {'label': 'Energy', 'quantity':...</td>\n",
       "      <td>[{'label': 'Fat', 'tag': 'FAT', 'schemaOrgTag'...</td>\n",
       "      <td>NaN</td>\n",
       "    </tr>\n",
       "    <tr>\n",
       "      <th>13268</th>\n",
       "      <td>http://www.edamam.com/ontologies/edamam.owl#re...</td>\n",
       "      <td>Tuna Salad</td>\n",
       "      <td>https://edamam-product-images.s3.amazonaws.com...</td>\n",
       "      <td>Food Network</td>\n",
       "      <td>https://www.foodnetwork.com/recipes/food-netwo...</td>\n",
       "      <td>http://www.edamam.com/recipe/tuna-salad-9a9f92...</td>\n",
       "      <td>4.0</td>\n",
       "      <td>['Low-Carb']</td>\n",
       "      <td>['Sugar-Conscious', 'Kidney-Friendly', 'Keto-F...</td>\n",
       "      <td>['Sulfites']</td>\n",
       "      <td>...</td>\n",
       "      <td>848.826200</td>\n",
       "      <td>470.413798</td>\n",
       "      <td>15.0</td>\n",
       "      <td>['american']</td>\n",
       "      <td>['lunch/dinner']</td>\n",
       "      <td>['salad']</td>\n",
       "      <td>{'ENERC_KCAL': {'label': 'Energy', 'quantity':...</td>\n",
       "      <td>{'ENERC_KCAL': {'label': 'Energy', 'quantity':...</td>\n",
       "      <td>[{'label': 'Fat', 'tag': 'FAT', 'schemaOrgTag'...</td>\n",
       "      <td>['Fish', 'Lunch', 'Vegetable', 'Celery', 'Amer...</td>\n",
       "    </tr>\n",
       "    <tr>\n",
       "      <th>13269</th>\n",
       "      <td>http://www.edamam.com/ontologies/edamam.owl#re...</td>\n",
       "      <td>Savory Tuna Sandwich</td>\n",
       "      <td>https://edamam-product-images.s3.amazonaws.com...</td>\n",
       "      <td>Men's Health</td>\n",
       "      <td>https://www.menshealth.com/recipes/savory-tuna...</td>\n",
       "      <td>http://www.edamam.com/recipe/savory-tuna-sandw...</td>\n",
       "      <td>6.0</td>\n",
       "      <td>['High-Fiber']</td>\n",
       "      <td>['Pescatarian', 'Mediterranean', 'Dairy-Free',...</td>\n",
       "      <td>['Sulfites']</td>\n",
       "      <td>...</td>\n",
       "      <td>1544.770105</td>\n",
       "      <td>1583.525703</td>\n",
       "      <td>10.0</td>\n",
       "      <td>['american']</td>\n",
       "      <td>['lunch/dinner']</td>\n",
       "      <td>['sandwiches']</td>\n",
       "      <td>{'ENERC_KCAL': {'label': 'Energy', 'quantity':...</td>\n",
       "      <td>{'ENERC_KCAL': {'label': 'Energy', 'quantity':...</td>\n",
       "      <td>[{'label': 'Fat', 'tag': 'FAT', 'schemaOrgTag'...</td>\n",
       "      <td>['Fish', 'Lunch', 'Main Dishes', 'American', '...</td>\n",
       "    </tr>\n",
       "    <tr>\n",
       "      <th>13270</th>\n",
       "      <td>http://www.edamam.com/ontologies/edamam.owl#re...</td>\n",
       "      <td>Tiny Tuna Melts recipes</td>\n",
       "      <td>https://edamam-product-images.s3.amazonaws.com...</td>\n",
       "      <td>Martha Stewart</td>\n",
       "      <td>http://www.marthastewart.com/326831/tiny-tuna-...</td>\n",
       "      <td>http://www.edamam.com/recipe/tiny-tuna-melts-r...</td>\n",
       "      <td>2.0</td>\n",
       "      <td>[]</td>\n",
       "      <td>['Sugar-Conscious', 'Low Potassium', 'Kidney-F...</td>\n",
       "      <td>['Sulfites']</td>\n",
       "      <td>...</td>\n",
       "      <td>486.300996</td>\n",
       "      <td>176.831644</td>\n",
       "      <td>10.0</td>\n",
       "      <td>['american']</td>\n",
       "      <td>['lunch/dinner']</td>\n",
       "      <td>['sandwiches']</td>\n",
       "      <td>{'ENERC_KCAL': {'label': 'Energy', 'quantity':...</td>\n",
       "      <td>{'ENERC_KCAL': {'label': 'Energy', 'quantity':...</td>\n",
       "      <td>[{'label': 'Fat', 'tag': 'FAT', 'schemaOrgTag'...</td>\n",
       "      <td>['salmon', 'tiny', 'tuna and crackers', 'healt...</td>\n",
       "    </tr>\n",
       "    <tr>\n",
       "      <th>13271</th>\n",
       "      <td>http://www.edamam.com/ontologies/edamam.owl#re...</td>\n",
       "      <td>Mexi-Cali Tuna Salad</td>\n",
       "      <td>https://edamam-product-images.s3.amazonaws.com...</td>\n",
       "      <td>Men's Health</td>\n",
       "      <td>https://www.menshealth.com/recipes/mexi-cali-t...</td>\n",
       "      <td>http://www.edamam.com/recipe/mexi-cali-tuna-sa...</td>\n",
       "      <td>4.0</td>\n",
       "      <td>['High-Fiber']</td>\n",
       "      <td>['Sugar-Conscious', 'Keto-Friendly', 'Pescatar...</td>\n",
       "      <td>['Sulfites']</td>\n",
       "      <td>...</td>\n",
       "      <td>633.055000</td>\n",
       "      <td>725.000000</td>\n",
       "      <td>5.0</td>\n",
       "      <td>['mexican']</td>\n",
       "      <td>['lunch/dinner']</td>\n",
       "      <td>['salad']</td>\n",
       "      <td>{'ENERC_KCAL': {'label': 'Energy', 'quantity':...</td>\n",
       "      <td>{'ENERC_KCAL': {'label': 'Energy', 'quantity':...</td>\n",
       "      <td>[{'label': 'Fat', 'tag': 'FAT', 'schemaOrgTag'...</td>\n",
       "      <td>['Fish', 'Lunch', 'Vegetable', 'Salads', 'Main...</td>\n",
       "    </tr>\n",
       "  </tbody>\n",
       "</table>\n",
       "<p>12501 rows × 22 columns</p>\n",
       "</div>"
      ],
      "text/plain": [
       "                                                     uri  \\\n",
       "0      http://www.edamam.com/ontologies/edamam.owl#re...   \n",
       "1      http://www.edamam.com/ontologies/edamam.owl#re...   \n",
       "2      http://www.edamam.com/ontologies/edamam.owl#re...   \n",
       "3      http://www.edamam.com/ontologies/edamam.owl#re...   \n",
       "4      http://www.edamam.com/ontologies/edamam.owl#re...   \n",
       "...                                                  ...   \n",
       "13267  http://www.edamam.com/ontologies/edamam.owl#re...   \n",
       "13268  http://www.edamam.com/ontologies/edamam.owl#re...   \n",
       "13269  http://www.edamam.com/ontologies/edamam.owl#re...   \n",
       "13270  http://www.edamam.com/ontologies/edamam.owl#re...   \n",
       "13271  http://www.edamam.com/ontologies/edamam.owl#re...   \n",
       "\n",
       "                            label  \\\n",
       "0                     Green Beans   \n",
       "1             Sauteed Green Beans   \n",
       "2         Caramelized Green Beans   \n",
       "3       Sautéed Fresh Green Beans   \n",
       "4               Fancy Green Beans   \n",
       "...                           ...   \n",
       "13267  Red Pepper Farro With Tuna   \n",
       "13268                  Tuna Salad   \n",
       "13269        Savory Tuna Sandwich   \n",
       "13270     Tiny Tuna Melts recipes   \n",
       "13271        Mexi-Cali Tuna Salad   \n",
       "\n",
       "                                                   image          source  \\\n",
       "0      https://edamam-product-images.s3.amazonaws.com...  Martha Stewart   \n",
       "1      https://edamam-product-images.s3.amazonaws.com...      Epicurious   \n",
       "2      https://edamam-product-images.s3.amazonaws.com...          Saveur   \n",
       "3      https://edamam-product-images.s3.amazonaws.com...      EatingWell   \n",
       "4      https://edamam-product-images.s3.amazonaws.com...        PBS Food   \n",
       "...                                                  ...             ...   \n",
       "13267  https://edamam-product-images.s3.amazonaws.com...            Self   \n",
       "13268  https://edamam-product-images.s3.amazonaws.com...    Food Network   \n",
       "13269  https://edamam-product-images.s3.amazonaws.com...    Men's Health   \n",
       "13270  https://edamam-product-images.s3.amazonaws.com...  Martha Stewart   \n",
       "13271  https://edamam-product-images.s3.amazonaws.com...    Men's Health   \n",
       "\n",
       "                                                     url  \\\n",
       "0        http://www.marthastewart.com/338543/green-beans   \n",
       "1      https://www.epicurious.com/recipes/food/views/...   \n",
       "2      http://www.saveur.com/article/Recipes/Carameli...   \n",
       "3      http://www.eatingwell.com/recipe/261341/sautee...   \n",
       "4      http://www.pbs.org/food/recipes/fancy-green-be...   \n",
       "...                                                  ...   \n",
       "13267  https://www.self.com/recipe/red-pepper-farro-w...   \n",
       "13268  https://www.foodnetwork.com/recipes/food-netwo...   \n",
       "13269  https://www.menshealth.com/recipes/savory-tuna...   \n",
       "13270  http://www.marthastewart.com/326831/tiny-tuna-...   \n",
       "13271  https://www.menshealth.com/recipes/mexi-cali-t...   \n",
       "\n",
       "                                                 shareAs  yield  \\\n",
       "0      http://www.edamam.com/recipe/green-beans-a91ad...    4.0   \n",
       "1      http://www.edamam.com/recipe/sauteed-green-bea...    8.0   \n",
       "2      http://www.edamam.com/recipe/caramelized-green...    6.0   \n",
       "3      http://www.edamam.com/recipe/saut%C3%A9ed-fres...    4.0   \n",
       "4      http://www.edamam.com/recipe/fancy-green-beans...    2.0   \n",
       "...                                                  ...    ...   \n",
       "13267  http://www.edamam.com/recipe/red-pepper-farro-...    6.0   \n",
       "13268  http://www.edamam.com/recipe/tuna-salad-9a9f92...    4.0   \n",
       "13269  http://www.edamam.com/recipe/savory-tuna-sandw...    6.0   \n",
       "13270  http://www.edamam.com/recipe/tiny-tuna-melts-r...    2.0   \n",
       "13271  http://www.edamam.com/recipe/mexi-cali-tuna-sa...    4.0   \n",
       "\n",
       "                       dietLabels  \\\n",
       "0                              []   \n",
       "1      ['Balanced', 'Low-Sodium']   \n",
       "2      ['Low-Carb', 'Low-Sodium']   \n",
       "3      ['Balanced', 'Low-Sodium']   \n",
       "4      ['Balanced', 'High-Fiber']   \n",
       "...                           ...   \n",
       "13267                          []   \n",
       "13268                ['Low-Carb']   \n",
       "13269              ['High-Fiber']   \n",
       "13270                          []   \n",
       "13271              ['High-Fiber']   \n",
       "\n",
       "                                            healthLabels  \\\n",
       "0      ['Sugar-Conscious', 'Kidney-Friendly', 'Keto-F...   \n",
       "1      ['Sugar-Conscious', 'Kidney-Friendly', 'Keto-F...   \n",
       "2      ['Sugar-Conscious', 'Kidney-Friendly', 'Keto-F...   \n",
       "3      ['Sugar-Conscious', 'Kidney-Friendly', 'Keto-F...   \n",
       "4      ['Vegan', 'Vegetarian', 'Pescatarian', 'Dairy-...   \n",
       "...                                                  ...   \n",
       "13267  ['Sugar-Conscious', 'Pescatarian', 'Mediterran...   \n",
       "13268  ['Sugar-Conscious', 'Kidney-Friendly', 'Keto-F...   \n",
       "13269  ['Pescatarian', 'Mediterranean', 'Dairy-Free',...   \n",
       "13270  ['Sugar-Conscious', 'Low Potassium', 'Kidney-F...   \n",
       "13271  ['Sugar-Conscious', 'Keto-Friendly', 'Pescatar...   \n",
       "\n",
       "                     cautions  ...     calories  totalWeight  totalTime  \\\n",
       "0                          []  ...   245.950111   471.932982       24.0   \n",
       "1                          []  ...   331.965452   699.388555        0.0   \n",
       "2                          []  ...  1025.432452   793.988555        0.0   \n",
       "3                          []  ...   220.173635   462.592370        5.0   \n",
       "4      ['Sulfites', 'FODMAP']  ...   245.191312   472.898439       47.0   \n",
       "...                       ...  ...          ...          ...        ...   \n",
       "13267            ['Sulfites']  ...  1118.129068   652.479234        0.0   \n",
       "13268            ['Sulfites']  ...   848.826200   470.413798       15.0   \n",
       "13269            ['Sulfites']  ...  1544.770105  1583.525703       10.0   \n",
       "13270            ['Sulfites']  ...   486.300996   176.831644       10.0   \n",
       "13271            ['Sulfites']  ...   633.055000   725.000000        5.0   \n",
       "\n",
       "        cuisineType          mealType         dishType  \\\n",
       "0      ['american']  ['lunch/dinner']  ['main course']   \n",
       "1        ['french']  ['lunch/dinner']      ['starter']   \n",
       "2      ['american']  ['lunch/dinner']  ['main course']   \n",
       "3        ['french']  ['lunch/dinner']      ['starter']   \n",
       "4      ['american']  ['lunch/dinner']  ['main course']   \n",
       "...             ...               ...              ...   \n",
       "13267   ['italian']  ['lunch/dinner']      ['starter']   \n",
       "13268  ['american']  ['lunch/dinner']        ['salad']   \n",
       "13269  ['american']  ['lunch/dinner']   ['sandwiches']   \n",
       "13270  ['american']  ['lunch/dinner']   ['sandwiches']   \n",
       "13271   ['mexican']  ['lunch/dinner']        ['salad']   \n",
       "\n",
       "                                          totalNutrients  \\\n",
       "0      {'ENERC_KCAL': {'label': 'Energy', 'quantity':...   \n",
       "1      {'ENERC_KCAL': {'label': 'Energy', 'quantity':...   \n",
       "2      {'ENERC_KCAL': {'label': 'Energy', 'quantity':...   \n",
       "3      {'ENERC_KCAL': {'label': 'Energy', 'quantity':...   \n",
       "4      {'ENERC_KCAL': {'label': 'Energy', 'quantity':...   \n",
       "...                                                  ...   \n",
       "13267  {'ENERC_KCAL': {'label': 'Energy', 'quantity':...   \n",
       "13268  {'ENERC_KCAL': {'label': 'Energy', 'quantity':...   \n",
       "13269  {'ENERC_KCAL': {'label': 'Energy', 'quantity':...   \n",
       "13270  {'ENERC_KCAL': {'label': 'Energy', 'quantity':...   \n",
       "13271  {'ENERC_KCAL': {'label': 'Energy', 'quantity':...   \n",
       "\n",
       "                                              totalDaily  \\\n",
       "0      {'ENERC_KCAL': {'label': 'Energy', 'quantity':...   \n",
       "1      {'ENERC_KCAL': {'label': 'Energy', 'quantity':...   \n",
       "2      {'ENERC_KCAL': {'label': 'Energy', 'quantity':...   \n",
       "3      {'ENERC_KCAL': {'label': 'Energy', 'quantity':...   \n",
       "4      {'ENERC_KCAL': {'label': 'Energy', 'quantity':...   \n",
       "...                                                  ...   \n",
       "13267  {'ENERC_KCAL': {'label': 'Energy', 'quantity':...   \n",
       "13268  {'ENERC_KCAL': {'label': 'Energy', 'quantity':...   \n",
       "13269  {'ENERC_KCAL': {'label': 'Energy', 'quantity':...   \n",
       "13270  {'ENERC_KCAL': {'label': 'Energy', 'quantity':...   \n",
       "13271  {'ENERC_KCAL': {'label': 'Energy', 'quantity':...   \n",
       "\n",
       "                                                  digest  \\\n",
       "0      [{'label': 'Fat', 'tag': 'FAT', 'schemaOrgTag'...   \n",
       "1      [{'label': 'Fat', 'tag': 'FAT', 'schemaOrgTag'...   \n",
       "2      [{'label': 'Fat', 'tag': 'FAT', 'schemaOrgTag'...   \n",
       "3      [{'label': 'Fat', 'tag': 'FAT', 'schemaOrgTag'...   \n",
       "4      [{'label': 'Fat', 'tag': 'FAT', 'schemaOrgTag'...   \n",
       "...                                                  ...   \n",
       "13267  [{'label': 'Fat', 'tag': 'FAT', 'schemaOrgTag'...   \n",
       "13268  [{'label': 'Fat', 'tag': 'FAT', 'schemaOrgTag'...   \n",
       "13269  [{'label': 'Fat', 'tag': 'FAT', 'schemaOrgTag'...   \n",
       "13270  [{'label': 'Fat', 'tag': 'FAT', 'schemaOrgTag'...   \n",
       "13271  [{'label': 'Fat', 'tag': 'FAT', 'schemaOrgTag'...   \n",
       "\n",
       "                                                    tags  \n",
       "0                                                    NaN  \n",
       "1      ['Vegetarian', 'Vegan', 'Quick & Easy', 'Bean'...  \n",
       "2                                                    NaN  \n",
       "3      ['Gluten-Free', 'Low Fat', 'Vegan', 'High Fibe...  \n",
       "4                                                    NaN  \n",
       "...                                                  ...  \n",
       "13267                                                NaN  \n",
       "13268  ['Fish', 'Lunch', 'Vegetable', 'Celery', 'Amer...  \n",
       "13269  ['Fish', 'Lunch', 'Main Dishes', 'American', '...  \n",
       "13270  ['salmon', 'tiny', 'tuna and crackers', 'healt...  \n",
       "13271  ['Fish', 'Lunch', 'Vegetable', 'Salads', 'Main...  \n",
       "\n",
       "[12501 rows x 22 columns]"
      ]
     },
     "execution_count": 5,
     "metadata": {},
     "output_type": "execute_result"
    }
   ],
   "source": [
    "raw_df[raw_df['calories'] < 5000]"
   ]
  },
  {
   "cell_type": "markdown",
   "id": "2caac3cc-ebcd-459a-b672-3d47f23cd55a",
   "metadata": {},
   "source": [
    "So most recipes have less than 5000 calories. Certainly past 10000 calories for a single meal is abnormal so we might consider removing these recipes from consideration. Likely though, most meals will have less than 2500 calories, so removing recipes with calories counts past aroudn 2500 makes the most sense."
   ]
  },
  {
   "cell_type": "code",
   "execution_count": 6,
   "id": "a321af0b-f69a-4442-bad8-438ee73ee6fb",
   "metadata": {},
   "outputs": [
    {
     "data": {
      "text/plain": [
       "uri                http://www.edamam.com/ontologies/edamam.owl#re...\n",
       "label                                             French Green Beans\n",
       "image              https://edamam-product-images.s3.amazonaws.com...\n",
       "source                                                  Food Network\n",
       "url                https://www.foodnetwork.com/recipes/danny-boom...\n",
       "shareAs            http://www.edamam.com/recipe/french-green-bean...\n",
       "yield                                                            6.0\n",
       "dietLabels                                               ['Low-Fat']\n",
       "healthLabels       ['Sugar-Conscious', 'Kidney-Friendly', 'Keto-F...\n",
       "cautions                                                          []\n",
       "ingredientLines    ['1 pound French green beans (haricots verts)'...\n",
       "ingredients        [{'text': '1 pound French green beans (haricot...\n",
       "calories                                                  140.613635\n",
       "totalWeight                                               456.240835\n",
       "totalTime                                                        8.0\n",
       "cuisineType                                               ['french']\n",
       "mealType                                            ['lunch/dinner']\n",
       "dishType                                                ['desserts']\n",
       "totalNutrients     {'ENERC_KCAL': {'label': 'Energy', 'quantity':...\n",
       "totalDaily         {'ENERC_KCAL': {'label': 'Energy', 'quantity':...\n",
       "digest             [{'label': 'Fat', 'tag': 'FAT', 'schemaOrgTag'...\n",
       "tags               ['Easy', 'Side Dish', 'Green Bean', 'Beans and...\n",
       "Name: 5, dtype: object"
      ]
     },
     "execution_count": 6,
     "metadata": {},
     "output_type": "execute_result"
    }
   ],
   "source": [
    "raw_df.iloc[5]"
   ]
  },
  {
   "cell_type": "markdown",
   "id": "5e26629e-ea81-4d58-a2a6-837f1597a879",
   "metadata": {},
   "source": [
    "## Data Exploration and Preprocessing.\n",
    "\n",
    "To start, we want to build a classification model on the calories column. So we will convert the column to bins to make it a classification task. Then the input will be the recipe name and we will also use the mealType and dishType since these are things people should know off hand normally. healthLabels and dietLabels won't always be easily known so it might be better to predicts these themselves rather than using them as inputs. "
   ]
  },
  {
   "cell_type": "code",
   "execution_count": 7,
   "id": "f36f85ff-4106-4a52-833d-ed43cdcfb62c",
   "metadata": {},
   "outputs": [
    {
     "data": {
      "text/plain": [
       "(11680, 22)"
      ]
     },
     "execution_count": 7,
     "metadata": {},
     "output_type": "execute_result"
    }
   ],
   "source": [
    "#first drop duplicates from recipe names or label column\n",
    "df = raw_df.drop_duplicates('label')\n",
    "df.shape"
   ]
  },
  {
   "cell_type": "code",
   "execution_count": 8,
   "id": "ace748ca-7dcc-4dd4-9647-79b118aff238",
   "metadata": {},
   "outputs": [
    {
     "data": {
      "text/plain": [
       "114"
      ]
     },
     "execution_count": 8,
     "metadata": {},
     "output_type": "execute_result"
    }
   ],
   "source": [
    "df['dishType'].isna().sum()"
   ]
  },
  {
   "cell_type": "code",
   "execution_count": 9,
   "id": "ee5f8757-278a-45aa-909a-345277286fda",
   "metadata": {},
   "outputs": [
    {
     "data": {
      "text/plain": [
       "0"
      ]
     },
     "execution_count": 9,
     "metadata": {},
     "output_type": "execute_result"
    }
   ],
   "source": [
    "df['mealType'].isna().sum()"
   ]
  },
  {
   "cell_type": "code",
   "execution_count": 10,
   "id": "a7c1dd12-6372-4ab9-a952-0d85ebab9bf9",
   "metadata": {},
   "outputs": [
    {
     "name": "stdout",
     "output_type": "stream",
     "text": [
      "0\n"
     ]
    }
   ],
   "source": [
    "# so we need to remove the rows with null dishType\n",
    "df = df.dropna(subset=['dishType'])\n",
    "print(df['dishType'].isna().sum())"
   ]
  },
  {
   "cell_type": "code",
   "execution_count": 11,
   "id": "870fb262-937d-4ca2-b010-823d0dbc5dcd",
   "metadata": {},
   "outputs": [
    {
     "data": {
      "text/plain": [
       "(11566, 22)"
      ]
     },
     "execution_count": 11,
     "metadata": {},
     "output_type": "execute_result"
    }
   ],
   "source": [
    "df.shape"
   ]
  },
  {
   "cell_type": "markdown",
   "id": "284b7212-63f5-452f-bea9-d49e9b11983f",
   "metadata": {},
   "source": [
    "### Calories - Target Variable"
   ]
  },
  {
   "cell_type": "code",
   "execution_count": 12,
   "id": "c9768fa9-5ee3-4571-a261-016aa7b354de",
   "metadata": {},
   "outputs": [],
   "source": [
    "#function for quick view of distribution\n",
    "def plot_distribution(data, bins=10, title='Distribution', ylabel='Count'):\n",
    "    plt.figure(figsize=(6, 4))\n",
    "    plt.hist(data, bins=bins, color='skyblue', edgecolor='black') #max calories value is 45000 so 45 bins\n",
    "    plt.title(title)\n",
    "    plt.ylabel(ylabel)\n",
    "    plt.grid(True)\n",
    "    plt.show()"
   ]
  },
  {
   "cell_type": "code",
   "execution_count": 13,
   "id": "ac3a10b6-2109-454e-865d-610c35a55205",
   "metadata": {},
   "outputs": [
    {
     "data": {
      "image/png": "[encoded data removed]",
      "text/plain": [
       "<Figure size 600x400 with 1 Axes>"
      ]
     },
     "metadata": {},
     "output_type": "display_data"
    }
   ],
   "source": [
    "# Assuming dfplot_distribution is your DataFrame and 'column_name' is the name of the column containing the float data\n",
    "calories_df = df['calories']\n",
    "\n",
    "plot_distribution(calories_df, bins=45, title='Distribution of Calories')"
   ]
  },
  {
   "cell_type": "code",
   "execution_count": 14,
   "id": "479ab042-6adb-4e1e-b203-d77e207e2fe4",
   "metadata": {},
   "outputs": [
    {
     "data": {
      "text/plain": [
       "3929.6416603584908"
      ]
     },
     "execution_count": 14,
     "metadata": {},
     "output_type": "execute_result"
    }
   ],
   "source": [
    "calories_df.quantile(0.90)"
   ]
  },
  {
   "cell_type": "markdown",
   "id": "8b985473-e026-4449-bb85-d2308d9394a0",
   "metadata": {},
   "source": [
    "Let's make this more reasonable to start with. Make the dataset only consider recipes with less than 4000 calories or less since that contains 90% of our data and is more normal. Also, counting calories is always error prone so going for ranges of 300 makes sense. "
   ]
  },
  {
   "cell_type": "code",
   "execution_count": 15,
   "id": "87966b66-e706-4065-b28e-bfe878854fc9",
   "metadata": {},
   "outputs": [],
   "source": [
    "#defining functions to round the quartile to the nearest multiple of 300\n",
    "#rounding up and down to nearest multiple of 300, or whatever bin_size, then we can select whichever is closer\n",
    "def round_up_to_nearest(number, bin_size=300):\n",
    "    # Round up to the nearest multiple of 100\n",
    "    rounded_number = ((number + 99) // 100) * 100\n",
    "    # Find the nearest multiple of 300 that is greater than or equal to the rounded number\n",
    "    rounded_number = ((rounded_number + (bin_size-1)) // bin_size) * bin_size\n",
    "    return rounded_number\n",
    "\n",
    "def round_down_to_nearest(number, bin_size=300):\n",
    "    # Round down to the nearest multiple of 100\n",
    "    rounded_number = (number // 100) * 100\n",
    "    # Find the nearest multiple of 300 that is less than or equal to the rounded number\n",
    "    rounded_number = (rounded_number // bin_size) * bin_size\n",
    "    return rounded_number\n",
    "\n",
    "def filter_calories(df, column='calories', quartile_percent=0.9):\n",
    "    #get the calories cutoff and round up or down, whichever is closer\n",
    "    calorie_cutoff = df[column].quantile(quartile_percent)\n",
    "    rounded_down = round_down_to_nearest(calorie_cutoff)\n",
    "    rounded_up = round_up_to_nearest(calorie_cutoff)\n",
    "\n",
    "    diff_to_rounded_down = abs(calorie_cutoff - rounded_down)\n",
    "    diff_to_rounded_up = abs(calorie_cutoff - rounded_up)\n",
    "    \n",
    "    # Select the min or max value, whichever is closer to the number\n",
    "    if diff_to_rounded_down < diff_to_rounded_up:\n",
    "        return df[df[column] < rounded_down]['calories']\n",
    "    else:\n",
    "        return df[df[column] < rounded_up]['calories']"
   ]
  },
  {
   "cell_type": "code",
   "execution_count": 16,
   "id": "452a525b-86ae-4750-b5d4-2a1ada0c9630",
   "metadata": {},
   "outputs": [
    {
     "name": "stdout",
     "output_type": "stream",
     "text": [
      "(10385,)\n",
      "3899.60432375\n"
     ]
    }
   ],
   "source": [
    "filtered_calories_df = filter_calories(df)\n",
    "print(filtered_calories_df.shape)\n",
    "print(max(filtered_calories_df))"
   ]
  },
  {
   "cell_type": "code",
   "execution_count": 18,
   "id": "a157c85a-3379-4871-a300-61aa33064592",
   "metadata": {},
   "outputs": [
    {
     "data": {
      "image/png": "[encoded data removed]",
      "text/plain": [
       "<Figure size 600x400 with 1 Axes>"
      ]
     },
     "metadata": {},
     "output_type": "display_data"
    }
   ],
   "source": [
    "# Plotting histogram with no extreme values\n",
    "plot_distribution(filtered_calories_df, bins=13, title='Distribution of Calories')"
   ]
  },
  {
   "cell_type": "markdown",
   "id": "4de5cdc2-f384-44ce-8361-a5f951cf8f72",
   "metadata": {},
   "source": [
    "The distribution looks skewed to the left, which makes sense. Let's bin the calorie counts now."
   ]
  },
  {
   "cell_type": "code",
   "execution_count": 19,
   "id": "9a476c77-a6c2-4a21-a8d8-11fae4869c30",
   "metadata": {},
   "outputs": [
    {
     "name": "stdout",
     "output_type": "stream",
     "text": [
      "Calories Cutoff: 3900.0\n"
     ]
    }
   ],
   "source": [
    "max_calorie_cutoff = round_up_to_nearest(max(filtered_calories_df))\n",
    "print('Calories Cutoff:', max_calorie_cutoff)"
   ]
  },
  {
   "cell_type": "code",
   "execution_count": 20,
   "id": "83e83751-d855-41e4-b7f9-ef23aa42dc91",
   "metadata": {},
   "outputs": [
    {
     "data": {
      "text/plain": [
       "0            0-299\n",
       "1          300-599\n",
       "2         900-1199\n",
       "3            0-299\n",
       "4            0-299\n",
       "           ...    \n",
       "13265    2400-2699\n",
       "13266      300-599\n",
       "13269    1500-1799\n",
       "13270      300-599\n",
       "13271      600-899\n",
       "Name: calories, Length: 10385, dtype: category\n",
       "Categories (13, object): ['0-299' < '300-599' < '600-899' < '900-1199' ... '2700-2999' < '3000-3299' < '3300-3599' < '3600-3899']"
      ]
     },
     "execution_count": 20,
     "metadata": {},
     "output_type": "execute_result"
    }
   ],
   "source": [
    "#putting calories into ranges\n",
    "bin_edges = [i for i in range(0, int(max_calorie_cutoff)+1, 300)]\n",
    "labels = [f\"{bin_edges[i]}-{bin_edges[i+1]-1}\" for i in range(len(bin_edges)-1)]\n",
    "binned_calories = pd.cut(filtered_calories_df, bins=bin_edges, labels=labels, include_lowest=True)\n",
    "binned_calories"
   ]
  },
  {
   "cell_type": "code",
   "execution_count": 21,
   "id": "786f30ac-1f6f-4188-964e-c2c669f7fc13",
   "metadata": {},
   "outputs": [
    {
     "data": {
      "text/plain": [
       "0"
      ]
     },
     "execution_count": 21,
     "metadata": {},
     "output_type": "execute_result"
    }
   ],
   "source": [
    "binned_calories.isna().sum()"
   ]
  },
  {
   "cell_type": "code",
   "execution_count": 22,
   "id": "c26d363f-6c86-4fb7-8864-9890580b53d4",
   "metadata": {},
   "outputs": [
    {
     "data": {
      "text/plain": [
       "Counter({'600-899': 1425,\n",
       "         '300-599': 1381,\n",
       "         '900-1199': 1269,\n",
       "         '1200-1499': 1190,\n",
       "         '1500-1799': 1002,\n",
       "         '1800-2099': 834,\n",
       "         '0-299': 780,\n",
       "         '2100-2399': 692,\n",
       "         '2400-2699': 568,\n",
       "         '2700-2999': 440,\n",
       "         '3000-3299': 309,\n",
       "         '3300-3599': 278,\n",
       "         '3600-3899': 217})"
      ]
     },
     "execution_count": 22,
     "metadata": {},
     "output_type": "execute_result"
    }
   ],
   "source": [
    "Counter(binned_calories)"
   ]
  },
  {
   "cell_type": "code",
   "execution_count": 23,
   "id": "b0763f74-b0a6-4ad3-bc40-407b00e75806",
   "metadata": {},
   "outputs": [],
   "source": [
    "binned_calories = pd.DataFrame(binned_calories).rename(columns={'calories':'binnedCalories'})"
   ]
  },
  {
   "cell_type": "code",
   "execution_count": 24,
   "id": "78b985ca-bf31-4791-b2bc-2c550c53bbdd",
   "metadata": {},
   "outputs": [
    {
     "data": {
      "text/html": [
       "<div>\n",
       "<style scoped>\n",
       "    .dataframe tbody tr th:only-of-type {\n",
       "        vertical-align: middle;\n",
       "    }\n",
       "\n",
       "    .dataframe tbody tr th {\n",
       "        vertical-align: top;\n",
       "    }\n",
       "\n",
       "    .dataframe thead th {\n",
       "        text-align: right;\n",
       "    }\n",
       "</style>\n",
       "<table border=\"1\" class=\"dataframe\">\n",
       "  <thead>\n",
       "    <tr style=\"text-align: right;\">\n",
       "      <th></th>\n",
       "      <th>uri</th>\n",
       "      <th>label</th>\n",
       "      <th>image</th>\n",
       "      <th>source</th>\n",
       "      <th>url</th>\n",
       "      <th>shareAs</th>\n",
       "      <th>yield</th>\n",
       "      <th>dietLabels</th>\n",
       "      <th>healthLabels</th>\n",
       "      <th>cautions</th>\n",
       "      <th>...</th>\n",
       "      <th>totalWeight</th>\n",
       "      <th>totalTime</th>\n",
       "      <th>cuisineType</th>\n",
       "      <th>mealType</th>\n",
       "      <th>dishType</th>\n",
       "      <th>totalNutrients</th>\n",
       "      <th>totalDaily</th>\n",
       "      <th>digest</th>\n",
       "      <th>tags</th>\n",
       "      <th>binnedCalories</th>\n",
       "    </tr>\n",
       "  </thead>\n",
       "  <tbody>\n",
       "    <tr>\n",
       "      <th>0</th>\n",
       "      <td>http://www.edamam.com/ontologies/edamam.owl#re...</td>\n",
       "      <td>Green Beans</td>\n",
       "      <td>https://edamam-product-images.s3.amazonaws.com...</td>\n",
       "      <td>Martha Stewart</td>\n",
       "      <td>http://www.marthastewart.com/338543/green-beans</td>\n",
       "      <td>http://www.edamam.com/recipe/green-beans-a91ad...</td>\n",
       "      <td>4.0</td>\n",
       "      <td>[]</td>\n",
       "      <td>['Sugar-Conscious', 'Kidney-Friendly', 'Keto-F...</td>\n",
       "      <td>[]</td>\n",
       "      <td>...</td>\n",
       "      <td>471.932982</td>\n",
       "      <td>24.0</td>\n",
       "      <td>['american']</td>\n",
       "      <td>['lunch/dinner']</td>\n",
       "      <td>['main course']</td>\n",
       "      <td>{'ENERC_KCAL': {'label': 'Energy', 'quantity':...</td>\n",
       "      <td>{'ENERC_KCAL': {'label': 'Energy', 'quantity':...</td>\n",
       "      <td>[{'label': 'Fat', 'tag': 'FAT', 'schemaOrgTag'...</td>\n",
       "      <td>NaN</td>\n",
       "      <td>0-299</td>\n",
       "    </tr>\n",
       "    <tr>\n",
       "      <th>1</th>\n",
       "      <td>http://www.edamam.com/ontologies/edamam.owl#re...</td>\n",
       "      <td>Sauteed Green Beans</td>\n",
       "      <td>https://edamam-product-images.s3.amazonaws.com...</td>\n",
       "      <td>Epicurious</td>\n",
       "      <td>https://www.epicurious.com/recipes/food/views/...</td>\n",
       "      <td>http://www.edamam.com/recipe/sauteed-green-bea...</td>\n",
       "      <td>8.0</td>\n",
       "      <td>['Balanced', 'Low-Sodium']</td>\n",
       "      <td>['Sugar-Conscious', 'Kidney-Friendly', 'Keto-F...</td>\n",
       "      <td>[]</td>\n",
       "      <td>...</td>\n",
       "      <td>699.388555</td>\n",
       "      <td>0.0</td>\n",
       "      <td>['french']</td>\n",
       "      <td>['lunch/dinner']</td>\n",
       "      <td>['starter']</td>\n",
       "      <td>{'ENERC_KCAL': {'label': 'Energy', 'quantity':...</td>\n",
       "      <td>{'ENERC_KCAL': {'label': 'Energy', 'quantity':...</td>\n",
       "      <td>[{'label': 'Fat', 'tag': 'FAT', 'schemaOrgTag'...</td>\n",
       "      <td>['Vegetarian', 'Vegan', 'Quick &amp; Easy', 'Bean'...</td>\n",
       "      <td>300-599</td>\n",
       "    </tr>\n",
       "    <tr>\n",
       "      <th>2</th>\n",
       "      <td>http://www.edamam.com/ontologies/edamam.owl#re...</td>\n",
       "      <td>Caramelized Green Beans</td>\n",
       "      <td>https://edamam-product-images.s3.amazonaws.com...</td>\n",
       "      <td>Saveur</td>\n",
       "      <td>http://www.saveur.com/article/Recipes/Carameli...</td>\n",
       "      <td>http://www.edamam.com/recipe/caramelized-green...</td>\n",
       "      <td>6.0</td>\n",
       "      <td>['Low-Carb', 'Low-Sodium']</td>\n",
       "      <td>['Sugar-Conscious', 'Kidney-Friendly', 'Keto-F...</td>\n",
       "      <td>[]</td>\n",
       "      <td>...</td>\n",
       "      <td>793.988555</td>\n",
       "      <td>0.0</td>\n",
       "      <td>['american']</td>\n",
       "      <td>['lunch/dinner']</td>\n",
       "      <td>['main course']</td>\n",
       "      <td>{'ENERC_KCAL': {'label': 'Energy', 'quantity':...</td>\n",
       "      <td>{'ENERC_KCAL': {'label': 'Energy', 'quantity':...</td>\n",
       "      <td>[{'label': 'Fat', 'tag': 'FAT', 'schemaOrgTag'...</td>\n",
       "      <td>NaN</td>\n",
       "      <td>900-1199</td>\n",
       "    </tr>\n",
       "    <tr>\n",
       "      <th>3</th>\n",
       "      <td>http://www.edamam.com/ontologies/edamam.owl#re...</td>\n",
       "      <td>Sautéed Fresh Green Beans</td>\n",
       "      <td>https://edamam-product-images.s3.amazonaws.com...</td>\n",
       "      <td>EatingWell</td>\n",
       "      <td>http://www.eatingwell.com/recipe/261341/sautee...</td>\n",
       "      <td>http://www.edamam.com/recipe/saut%C3%A9ed-fres...</td>\n",
       "      <td>4.0</td>\n",
       "      <td>['Balanced', 'Low-Sodium']</td>\n",
       "      <td>['Sugar-Conscious', 'Kidney-Friendly', 'Keto-F...</td>\n",
       "      <td>[]</td>\n",
       "      <td>...</td>\n",
       "      <td>462.592370</td>\n",
       "      <td>5.0</td>\n",
       "      <td>['french']</td>\n",
       "      <td>['lunch/dinner']</td>\n",
       "      <td>['starter']</td>\n",
       "      <td>{'ENERC_KCAL': {'label': 'Energy', 'quantity':...</td>\n",
       "      <td>{'ENERC_KCAL': {'label': 'Energy', 'quantity':...</td>\n",
       "      <td>[{'label': 'Fat', 'tag': 'FAT', 'schemaOrgTag'...</td>\n",
       "      <td>['Gluten-Free', 'Low Fat', 'Vegan', 'High Fibe...</td>\n",
       "      <td>0-299</td>\n",
       "    </tr>\n",
       "    <tr>\n",
       "      <th>4</th>\n",
       "      <td>http://www.edamam.com/ontologies/edamam.owl#re...</td>\n",
       "      <td>Fancy Green Beans</td>\n",
       "      <td>https://edamam-product-images.s3.amazonaws.com...</td>\n",
       "      <td>PBS Food</td>\n",
       "      <td>http://www.pbs.org/food/recipes/fancy-green-be...</td>\n",
       "      <td>http://www.edamam.com/recipe/fancy-green-beans...</td>\n",
       "      <td>2.0</td>\n",
       "      <td>['Balanced', 'High-Fiber']</td>\n",
       "      <td>['Vegan', 'Vegetarian', 'Pescatarian', 'Dairy-...</td>\n",
       "      <td>['Sulfites', 'FODMAP']</td>\n",
       "      <td>...</td>\n",
       "      <td>472.898439</td>\n",
       "      <td>47.0</td>\n",
       "      <td>['american']</td>\n",
       "      <td>['lunch/dinner']</td>\n",
       "      <td>['main course']</td>\n",
       "      <td>{'ENERC_KCAL': {'label': 'Energy', 'quantity':...</td>\n",
       "      <td>{'ENERC_KCAL': {'label': 'Energy', 'quantity':...</td>\n",
       "      <td>[{'label': 'Fat', 'tag': 'FAT', 'schemaOrgTag'...</td>\n",
       "      <td>NaN</td>\n",
       "      <td>0-299</td>\n",
       "    </tr>\n",
       "  </tbody>\n",
       "</table>\n",
       "<p>5 rows × 23 columns</p>\n",
       "</div>"
      ],
      "text/plain": [
       "                                                 uri  \\\n",
       "0  http://www.edamam.com/ontologies/edamam.owl#re...   \n",
       "1  http://www.edamam.com/ontologies/edamam.owl#re...   \n",
       "2  http://www.edamam.com/ontologies/edamam.owl#re...   \n",
       "3  http://www.edamam.com/ontologies/edamam.owl#re...   \n",
       "4  http://www.edamam.com/ontologies/edamam.owl#re...   \n",
       "\n",
       "                       label  \\\n",
       "0                Green Beans   \n",
       "1        Sauteed Green Beans   \n",
       "2    Caramelized Green Beans   \n",
       "3  Sautéed Fresh Green Beans   \n",
       "4          Fancy Green Beans   \n",
       "\n",
       "                                               image          source  \\\n",
       "0  https://edamam-product-images.s3.amazonaws.com...  Martha Stewart   \n",
       "1  https://edamam-product-images.s3.amazonaws.com...      Epicurious   \n",
       "2  https://edamam-product-images.s3.amazonaws.com...          Saveur   \n",
       "3  https://edamam-product-images.s3.amazonaws.com...      EatingWell   \n",
       "4  https://edamam-product-images.s3.amazonaws.com...        PBS Food   \n",
       "\n",
       "                                                 url  \\\n",
       "0    http://www.marthastewart.com/338543/green-beans   \n",
       "1  https://www.epicurious.com/recipes/food/views/...   \n",
       "2  http://www.saveur.com/article/Recipes/Carameli...   \n",
       "3  http://www.eatingwell.com/recipe/261341/sautee...   \n",
       "4  http://www.pbs.org/food/recipes/fancy-green-be...   \n",
       "\n",
       "                                             shareAs  yield  \\\n",
       "0  http://www.edamam.com/recipe/green-beans-a91ad...    4.0   \n",
       "1  http://www.edamam.com/recipe/sauteed-green-bea...    8.0   \n",
       "2  http://www.edamam.com/recipe/caramelized-green...    6.0   \n",
       "3  http://www.edamam.com/recipe/saut%C3%A9ed-fres...    4.0   \n",
       "4  http://www.edamam.com/recipe/fancy-green-beans...    2.0   \n",
       "\n",
       "                   dietLabels  \\\n",
       "0                          []   \n",
       "1  ['Balanced', 'Low-Sodium']   \n",
       "2  ['Low-Carb', 'Low-Sodium']   \n",
       "3  ['Balanced', 'Low-Sodium']   \n",
       "4  ['Balanced', 'High-Fiber']   \n",
       "\n",
       "                                        healthLabels                cautions  \\\n",
       "0  ['Sugar-Conscious', 'Kidney-Friendly', 'Keto-F...                      []   \n",
       "1  ['Sugar-Conscious', 'Kidney-Friendly', 'Keto-F...                      []   \n",
       "2  ['Sugar-Conscious', 'Kidney-Friendly', 'Keto-F...                      []   \n",
       "3  ['Sugar-Conscious', 'Kidney-Friendly', 'Keto-F...                      []   \n",
       "4  ['Vegan', 'Vegetarian', 'Pescatarian', 'Dairy-...  ['Sulfites', 'FODMAP']   \n",
       "\n",
       "   ... totalWeight totalTime   cuisineType          mealType         dishType  \\\n",
       "0  ...  471.932982      24.0  ['american']  ['lunch/dinner']  ['main course']   \n",
       "1  ...  699.388555       0.0    ['french']  ['lunch/dinner']      ['starter']   \n",
       "2  ...  793.988555       0.0  ['american']  ['lunch/dinner']  ['main course']   \n",
       "3  ...  462.592370       5.0    ['french']  ['lunch/dinner']      ['starter']   \n",
       "4  ...  472.898439      47.0  ['american']  ['lunch/dinner']  ['main course']   \n",
       "\n",
       "                                      totalNutrients  \\\n",
       "0  {'ENERC_KCAL': {'label': 'Energy', 'quantity':...   \n",
       "1  {'ENERC_KCAL': {'label': 'Energy', 'quantity':...   \n",
       "2  {'ENERC_KCAL': {'label': 'Energy', 'quantity':...   \n",
       "3  {'ENERC_KCAL': {'label': 'Energy', 'quantity':...   \n",
       "4  {'ENERC_KCAL': {'label': 'Energy', 'quantity':...   \n",
       "\n",
       "                                          totalDaily  \\\n",
       "0  {'ENERC_KCAL': {'label': 'Energy', 'quantity':...   \n",
       "1  {'ENERC_KCAL': {'label': 'Energy', 'quantity':...   \n",
       "2  {'ENERC_KCAL': {'label': 'Energy', 'quantity':...   \n",
       "3  {'ENERC_KCAL': {'label': 'Energy', 'quantity':...   \n",
       "4  {'ENERC_KCAL': {'label': 'Energy', 'quantity':...   \n",
       "\n",
       "                                              digest  \\\n",
       "0  [{'label': 'Fat', 'tag': 'FAT', 'schemaOrgTag'...   \n",
       "1  [{'label': 'Fat', 'tag': 'FAT', 'schemaOrgTag'...   \n",
       "2  [{'label': 'Fat', 'tag': 'FAT', 'schemaOrgTag'...   \n",
       "3  [{'label': 'Fat', 'tag': 'FAT', 'schemaOrgTag'...   \n",
       "4  [{'label': 'Fat', 'tag': 'FAT', 'schemaOrgTag'...   \n",
       "\n",
       "                                                tags binnedCalories  \n",
       "0                                                NaN          0-299  \n",
       "1  ['Vegetarian', 'Vegan', 'Quick & Easy', 'Bean'...        300-599  \n",
       "2                                                NaN       900-1199  \n",
       "3  ['Gluten-Free', 'Low Fat', 'Vegan', 'High Fibe...          0-299  \n",
       "4                                                NaN          0-299  \n",
       "\n",
       "[5 rows x 23 columns]"
      ]
     },
     "execution_count": 24,
     "metadata": {},
     "output_type": "execute_result"
    }
   ],
   "source": [
    "#get the full dataframe with these indices\n",
    "binned_calories_df = df.loc[binned_calories.index]\n",
    "binned_calories_df = pd.concat([binned_calories_df, binned_calories], axis = 1)\n",
    "binned_calories_df.head()"
   ]
  },
  {
   "cell_type": "code",
   "execution_count": 25,
   "id": "2adfda08-3f8f-44e2-8b75-1adcbe47a868",
   "metadata": {},
   "outputs": [
    {
     "data": {
      "text/plain": [
       "(10385, 24)"
      ]
     },
     "execution_count": 25,
     "metadata": {},
     "output_type": "execute_result"
    }
   ],
   "source": [
    "binned_calories_df.reset_index(inplace=True)\n",
    "binned_calories_df.shape"
   ]
  },
  {
   "cell_type": "code",
   "execution_count": 26,
   "id": "109db3db-20e3-4613-adba-d68b69614fef",
   "metadata": {},
   "outputs": [
    {
     "data": {
      "text/plain": [
       "Index(['index', 'uri', 'label', 'image', 'source', 'url', 'shareAs', 'yield',\n",
       "       'dietLabels', 'healthLabels', 'cautions', 'ingredientLines',\n",
       "       'ingredients', 'calories', 'totalWeight', 'totalTime', 'cuisineType',\n",
       "       'mealType', 'dishType', 'totalNutrients', 'totalDaily', 'digest',\n",
       "       'tags', 'binnedCalories'],\n",
       "      dtype='object')"
      ]
     },
     "execution_count": 26,
     "metadata": {},
     "output_type": "execute_result"
    }
   ],
   "source": [
    "binned_calories_df.columns"
   ]
  },
  {
   "cell_type": "markdown",
   "id": "33dc8800-181a-47e0-8c1f-6f2cff296783",
   "metadata": {},
   "source": [
    "Later we will probably do label encoding."
   ]
  },
  {
   "cell_type": "markdown",
   "id": "73a37970-aeb1-45cc-853d-8a7392572eaa",
   "metadata": {},
   "source": [
    "### Input Variables\n",
    "\n",
    "#### Label"
   ]
  },
  {
   "cell_type": "code",
   "execution_count": 27,
   "id": "04b8f3e1-7827-4dba-8d89-d764b741b7fa",
   "metadata": {},
   "outputs": [
    {
     "data": {
      "text/plain": [
       "0                      Green Beans\n",
       "1              Sauteed Green Beans\n",
       "2          Caramelized Green Beans\n",
       "3        Sautéed Fresh Green Beans\n",
       "4                Fancy Green Beans\n",
       "                   ...            \n",
       "10380    Tuna melt pizza baguettes\n",
       "10381             Quick Tuna Salad\n",
       "10382         Savory Tuna Sandwich\n",
       "10383      Tiny Tuna Melts recipes\n",
       "10384         Mexi-Cali Tuna Salad\n",
       "Name: label, Length: 10385, dtype: object"
      ]
     },
     "execution_count": 27,
     "metadata": {},
     "output_type": "execute_result"
    }
   ],
   "source": [
    "binned_calories_df['label']"
   ]
  },
  {
   "cell_type": "markdown",
   "id": "d0c4876a-ce64-4166-98c4-fd564419b39c",
   "metadata": {},
   "source": [
    "Nothing to do here now. Will have to use NLP to preprocess."
   ]
  },
  {
   "cell_type": "markdown",
   "id": "e146a98c-d3db-4a0c-9612-de5d0784cc6d",
   "metadata": {},
   "source": [
    "#### dishType"
   ]
  },
  {
   "cell_type": "code",
   "execution_count": 28,
   "id": "ff4ae229-13db-42d6-b375-dd34e8e6f854",
   "metadata": {},
   "outputs": [],
   "source": [
    "dishType_df = binned_calories_df['dishType'].apply(ast.literal_eval)"
   ]
  },
  {
   "cell_type": "code",
   "execution_count": 29,
   "id": "ccb43dbd-d693-44fa-afd1-3ec2e92548d5",
   "metadata": {},
   "outputs": [],
   "source": [
    "#we have a few columns with list elements and we want to see the unqiue values so this function can do that\n",
    "def get_values(df, column):\n",
    "    df.loc[df[column].isna(), column] = '[]'\n",
    "    labels_lst = []\n",
    "    for label in df[column].apply(ast.literal_eval):\n",
    "        labels_lst += label\n",
    "    return labels_lst\n",
    "\n",
    "#this checks to see what recipes are multilabeled for the given column\n",
    "def check_if_multilabel(df, column):\n",
    "    lst = []\n",
    "    for row in df[column].apply(ast.literal_eval):\n",
    "        if len(row) > 1:\n",
    "            lst.append(row)\n",
    "    return lst"
   ]
  },
  {
   "cell_type": "code",
   "execution_count": 30,
   "id": "425559ae-316f-4bd5-8e26-3cf0ac6914ef",
   "metadata": {},
   "outputs": [
    {
     "data": {
      "text/plain": [
       "Counter({'main course': 3381,\n",
       "         'starter': 1757,\n",
       "         'condiments and sauces': 1217,\n",
       "         'desserts': 1080,\n",
       "         'salad': 1023,\n",
       "         'sandwiches': 416,\n",
       "         'soup': 411,\n",
       "         'drinks': 377,\n",
       "         'bread': 251,\n",
       "         'cereals': 206,\n",
       "         'alcohol cocktail': 168,\n",
       "         'biscuits and cookies': 116,\n",
       "         'pancake': 81,\n",
       "         'egg': 40,\n",
       "         'preserve': 11,\n",
       "         'special occasions': 11,\n",
       "         'omelet': 7,\n",
       "         'christmas': 7,\n",
       "         'preps': 6,\n",
       "         'thanksgiving': 2,\n",
       "         'new year': 1,\n",
       "         'cinco de mayo': 1})"
      ]
     },
     "execution_count": 30,
     "metadata": {},
     "output_type": "execute_result"
    }
   ],
   "source": [
    "Counter(get_values(binned_calories_df, 'dishType'))"
   ]
  },
  {
   "cell_type": "code",
   "execution_count": 31,
   "id": "d7bab483-2705-42d8-9487-8bd10ab4d797",
   "metadata": {},
   "outputs": [
    {
     "name": "stdout",
     "output_type": "stream",
     "text": [
      "Number of unique dish types: 22\n"
     ]
    }
   ],
   "source": [
    "print('Number of unique dish types:', len(set(get_values(binned_calories_df, 'dishType'))))"
   ]
  },
  {
   "cell_type": "code",
   "execution_count": 32,
   "id": "14dde66b-4609-422b-9fb5-485b5e103908",
   "metadata": {},
   "outputs": [
    {
     "data": {
      "text/plain": [
       "166"
      ]
     },
     "execution_count": 32,
     "metadata": {},
     "output_type": "execute_result"
    }
   ],
   "source": [
    "len(check_if_multilabel(binned_calories_df, 'dishType'))"
   ]
  },
  {
   "cell_type": "code",
   "execution_count": 33,
   "id": "72ded969-0c45-426b-afd7-a2c5cdde3b0d",
   "metadata": {},
   "outputs": [],
   "source": [
    "priority_list_dish_type = [\n",
    "    'main course',\n",
    "    'starter',\n",
    "    'salad',\n",
    "    'soup',\n",
    "    'drinks',\n",
    "    'bread',\n",
    "    'desserts',\n",
    "    'condiments and sauces',\n",
    "    'sandwiches',\n",
    "    'cereals',\n",
    "    'alcohol cocktail',\n",
    "    'biscuits and cookies',\n",
    "    'pancake',\n",
    "    'egg',\n",
    "    'preserve',\n",
    "    'omelet',\n",
    "    'special occasions',\n",
    "    'christmas',\n",
    "    'preps',\n",
    "    'thanksgiving',\n",
    "    'cinco de mayo'\n",
    "]"
   ]
  },
  {
   "cell_type": "code",
   "execution_count": 34,
   "id": "1d27637a-0851-4f9d-8795-3d5c176e41cc",
   "metadata": {},
   "outputs": [],
   "source": [
    "new_dish_type_df = []\n",
    "for dish_type_lst in dishType_df:\n",
    "    if len(dish_type_lst) == 1:\n",
    "        new_dish_type_df.append(dish_type_lst[0])\n",
    "    else:\n",
    "        for dish_type in priority_list_dish_type:\n",
    "            if dish_type in dish_type_lst:\n",
    "                new_dish_type_df.append(dish_type)\n",
    "                break"
   ]
  },
  {
   "cell_type": "code",
   "execution_count": 35,
   "id": "dc1cd31d-7fd4-4116-a66b-0bf236d82bed",
   "metadata": {},
   "outputs": [
    {
     "data": {
      "text/plain": [
       "Counter({'main course': 3381,\n",
       "         'starter': 1744,\n",
       "         'condiments and sauces': 1207,\n",
       "         'desserts': 1068,\n",
       "         'salad': 970,\n",
       "         'sandwiches': 407,\n",
       "         'soup': 394,\n",
       "         'drinks': 377,\n",
       "         'bread': 250,\n",
       "         'cereals': 204,\n",
       "         'alcohol cocktail': 168,\n",
       "         'biscuits and cookies': 116,\n",
       "         'pancake': 81,\n",
       "         'preserve': 11,\n",
       "         'preps': 5,\n",
       "         'special occasions': 2})"
      ]
     },
     "execution_count": 35,
     "metadata": {},
     "output_type": "execute_result"
    }
   ],
   "source": [
    "Counter(new_dish_type_df)"
   ]
  },
  {
   "cell_type": "code",
   "execution_count": 36,
   "id": "7b4e9876-8abb-4d10-adfa-11bfa80d235c",
   "metadata": {},
   "outputs": [
    {
     "data": {
      "text/html": [
       "<div>\n",
       "<style scoped>\n",
       "    .dataframe tbody tr th:only-of-type {\n",
       "        vertical-align: middle;\n",
       "    }\n",
       "\n",
       "    .dataframe tbody tr th {\n",
       "        vertical-align: top;\n",
       "    }\n",
       "\n",
       "    .dataframe thead th {\n",
       "        text-align: right;\n",
       "    }\n",
       "</style>\n",
       "<table border=\"1\" class=\"dataframe\">\n",
       "  <thead>\n",
       "    <tr style=\"text-align: right;\">\n",
       "      <th></th>\n",
       "      <th>dishTypeLabel</th>\n",
       "    </tr>\n",
       "  </thead>\n",
       "  <tbody>\n",
       "    <tr>\n",
       "      <th>0</th>\n",
       "      <td>main course</td>\n",
       "    </tr>\n",
       "    <tr>\n",
       "      <th>1</th>\n",
       "      <td>starter</td>\n",
       "    </tr>\n",
       "    <tr>\n",
       "      <th>2</th>\n",
       "      <td>main course</td>\n",
       "    </tr>\n",
       "    <tr>\n",
       "      <th>3</th>\n",
       "      <td>starter</td>\n",
       "    </tr>\n",
       "    <tr>\n",
       "      <th>4</th>\n",
       "      <td>main course</td>\n",
       "    </tr>\n",
       "  </tbody>\n",
       "</table>\n",
       "</div>"
      ],
      "text/plain": [
       "  dishTypeLabel\n",
       "0   main course\n",
       "1       starter\n",
       "2   main course\n",
       "3       starter\n",
       "4   main course"
      ]
     },
     "execution_count": 36,
     "metadata": {},
     "output_type": "execute_result"
    }
   ],
   "source": [
    "new_dish_type_df = pd.DataFrame(new_dish_type_df)\n",
    "new_dish_type_df.rename(columns={0: 'dishTypeLabel'}, inplace=True)\n",
    "new_dish_type_df.head()"
   ]
  },
  {
   "cell_type": "code",
   "execution_count": 37,
   "id": "e90e07aa-4322-45c5-8edd-85033b42905b",
   "metadata": {},
   "outputs": [
    {
     "data": {
      "text/plain": [
       "Index(['index', 'uri', 'label', 'image', 'source', 'url', 'shareAs', 'yield',\n",
       "       'dietLabels', 'healthLabels', 'cautions', 'ingredientLines',\n",
       "       'ingredients', 'calories', 'totalWeight', 'totalTime', 'cuisineType',\n",
       "       'mealType', 'dishType', 'totalNutrients', 'totalDaily', 'digest',\n",
       "       'tags', 'binnedCalories', 'dishTypeLabel'],\n",
       "      dtype='object')"
      ]
     },
     "execution_count": 37,
     "metadata": {},
     "output_type": "execute_result"
    }
   ],
   "source": [
    "#make a new df for all columns\n",
    "df2 = pd.concat([binned_calories_df, new_dish_type_df], axis=1)\n",
    "df2.columns"
   ]
  },
  {
   "cell_type": "code",
   "execution_count": 38,
   "id": "9f74da4c-fc48-4faf-ae28-cb2a1f8117be",
   "metadata": {},
   "outputs": [
    {
     "data": {
      "image/png": "[encoded data removed]",
      "text/plain": [
       "<Figure size 600x400 with 1 Axes>"
      ]
     },
     "metadata": {},
     "output_type": "display_data"
    },
    {
     "data": {
      "image/png": "[encoded data removed]",
      "text/plain": [
       "<Figure size 600x400 with 1 Axes>"
      ]
     },
     "metadata": {},
     "output_type": "display_data"
    },
    {
     "data": {
      "image/png": "[encoded data removed]",
      "text/plain": [
       "<Figure size 600x400 with 1 Axes>"
      ]
     },
     "metadata": {},
     "output_type": "display_data"
    },
    {
     "data": {
      "image/png": "[encoded data removed]",
      "text/plain": [
       "<Figure size 600x400 with 1 Axes>"
      ]
     },
     "metadata": {},
     "output_type": "display_data"
    },
    {
     "data": {
      "image/png": "[encoded data removed]",
      "text/plain": [
       "<Figure size 600x400 with 1 Axes>"
      ]
     },
     "metadata": {},
     "output_type": "display_data"
    },
    {
     "data": {
      "image/png": "[encoded data removed]",
      "text/plain": [
       "<Figure size 600x400 with 1 Axes>"
      ]
     },
     "metadata": {},
     "output_type": "display_data"
    },
    {
     "data": {
      "image/png": "[encoded data removed]",
      "text/plain": [
       "<Figure size 600x400 with 1 Axes>"
      ]
     },
     "metadata": {},
     "output_type": "display_data"
    },
    {
     "data": {
      "image/png": "[encoded data removed]",
      "text/plain": [
       "<Figure size 600x400 with 1 Axes>"
      ]
     },
     "metadata": {},
     "output_type": "display_data"
    },
    {
     "data": {
      "image/png": "[encoded data removed]",
      "text/plain": [
       "<Figure size 600x400 with 1 Axes>"
      ]
     },
     "metadata": {},
     "output_type": "display_data"
    },
    {
     "data": {
      "image/png": "[encoded data removed]",
      "text/plain": [
       "<Figure size 600x400 with 1 Axes>"
      ]
     },
     "metadata": {},
     "output_type": "display_data"
    },
    {
     "data": {
      "image/png": "[encoded data removed]",
      "text/plain": [
       "<Figure size 600x400 with 1 Axes>"
      ]
     },
     "metadata": {},
     "output_type": "display_data"
    },
    {
     "data": {
      "image/png": "[encoded data removed]",
      "text/plain": [
       "<Figure size 600x400 with 1 Axes>"
      ]
     },
     "metadata": {},
     "output_type": "display_data"
    },
    {
     "data": {
      "image/png": "[encoded data removed]",
      "text/plain": [
       "<Figure size 600x400 with 1 Axes>"
      ]
     },
     "metadata": {},
     "output_type": "display_data"
    },
    {
     "data": {
      "image/png": "[encoded data removed]",
      "text/plain": [
       "<Figure size 600x400 with 1 Axes>"
      ]
     },
     "metadata": {},
     "output_type": "display_data"
    },
    {
     "data": {
      "image/png": "[encoded data removed]",
      "text/plain": [
       "<Figure size 600x400 with 1 Axes>"
      ]
     },
     "metadata": {},
     "output_type": "display_data"
    },
    {
     "data": {
      "image/png": "[encoded data removed]",
      "text/plain": [
       "<Figure size 600x400 with 1 Axes>"
      ]
     },
     "metadata": {},
     "output_type": "display_data"
    }
   ],
   "source": [
    "unique_dish_types = list(df2['dishTypeLabel'].unique())\n",
    "for dishTypeLabel in unique_dish_types:\n",
    "    dishTypeLabel_calories_df = df2[df2['dishTypeLabel'] == dishTypeLabel]\n",
    "    dishTypeLabel_calories_df = filter_calories(dishTypeLabel_calories_df)\n",
    "    plot_distribution(dishTypeLabel_calories_df, bins=13, title='Distribution of Calories for {}'.format(dishTypeLabel))"
   ]
  },
  {
   "cell_type": "markdown",
   "id": "11badd82-7ebb-4fe4-952d-d0bf54ea8a60",
   "metadata": {},
   "source": [
    "So we can see all these distributions but to automate this process let's calculate a measure of the skewedness and put these categories into 3 snew categories based on the skewedness."
   ]
  },
  {
   "cell_type": "code",
   "execution_count": 39,
   "id": "23800531-beec-417f-8b92-fb7c53a79b2f",
   "metadata": {},
   "outputs": [
    {
     "data": {
      "text/plain": [
       "dishTypeLabel\n",
       "alcohol cocktail         0.884605\n",
       "biscuits and cookies    -0.204065\n",
       "bread                    0.189855\n",
       "cereals                  1.315521\n",
       "condiments and sauces    0.739704\n",
       "desserts                 0.386819\n",
       "drinks                   1.554733\n",
       "main course              0.515460\n",
       "pancake                  0.277986\n",
       "preps                    0.593710\n",
       "preserve                 0.583254\n",
       "salad                    0.926322\n",
       "sandwiches               0.637394\n",
       "soup                     0.585448\n",
       "special occasions             NaN\n",
       "starter                  0.776458\n",
       "Name: calories, dtype: float64"
      ]
     },
     "execution_count": 39,
     "metadata": {},
     "output_type": "execute_result"
    }
   ],
   "source": [
    "skewness_by_category = df2.groupby('dishTypeLabel')['calories'].skew()\n",
    "skewness_by_category"
   ]
  },
  {
   "cell_type": "markdown",
   "id": "aa6c83b6-2881-4396-9d5b-93bf2532f443",
   "metadata": {},
   "source": [
    "To make categories let's bin them into 3 categories. We can keep it simple for now and take the max-min and divide it by 3."
   ]
  },
  {
   "cell_type": "code",
   "execution_count": 40,
   "id": "3e68e9c0-276c-4957-aa35-9ba9167f03da",
   "metadata": {},
   "outputs": [
    {
     "name": "stdout",
     "output_type": "stream",
     "text": [
      "Left Skewed (Higher Calories): biscuits and cookies, bread, pancake\n",
      "Approximately Symmetric (Normal Calories): alcohol cocktail, condiments and sauces, desserts, main course, preps, preserve, salad, sandwiches, soup, starter\n",
      "Right Skewed (Lower Calories): cereals, drinks\n"
     ]
    }
   ],
   "source": [
    "skewness_min = skewness_by_category.min()\n",
    "skewness_max = skewness_by_category.max()\n",
    "\n",
    "interval_width = (skewness_max - skewness_min) / 3\n",
    "bin1_end = skewness_min + interval_width\n",
    "bin2_end = bin1_end + interval_width\n",
    "\n",
    "bins = {\n",
    "    'Left Skewed (Higher Calories)': skewness_by_category[(skewness_by_category >= skewness_min) & (skewness_by_category < bin1_end)],\n",
    "    'Approximately Symmetric (Normal Calories)': skewness_by_category[(skewness_by_category >= bin1_end) & (skewness_by_category < bin2_end)],\n",
    "    'Right Skewed (Lower Calories)': skewness_by_category[skewness_by_category >= bin2_end]\n",
    "}\n",
    "\n",
    "for bin_name, categories in bins.items():\n",
    "    print(f\"{bin_name}: {', '.join(categories.index)}\")"
   ]
  },
  {
   "cell_type": "code",
   "execution_count": 41,
   "id": "a939498d-b6cc-4e47-adff-203802082b8c",
   "metadata": {},
   "outputs": [
    {
     "data": {
      "text/plain": [
       "Index(['biscuits and cookies', 'bread', 'pancake'], dtype='object', name='dishTypeLabel')"
      ]
     },
     "execution_count": 41,
     "metadata": {},
     "output_type": "execute_result"
    }
   ],
   "source": [
    "bins['Left Skewed (Higher Calories)'].index"
   ]
  },
  {
   "cell_type": "code",
   "execution_count": 42,
   "id": "f831ce92-e553-4a60-8dc9-3040c3f9b302",
   "metadata": {},
   "outputs": [
    {
     "data": {
      "text/plain": [
       "{'biscuits and cookies': 'Left Skewed (Higher Calories)',\n",
       " 'bread': 'Left Skewed (Higher Calories)',\n",
       " 'pancake': 'Left Skewed (Higher Calories)',\n",
       " 'alcohol cocktail': 'Approximately Symmetric (Normal Calories)',\n",
       " 'condiments and sauces': 'Approximately Symmetric (Normal Calories)',\n",
       " 'desserts': 'Approximately Symmetric (Normal Calories)',\n",
       " 'main course': 'Approximately Symmetric (Normal Calories)',\n",
       " 'preps': 'Approximately Symmetric (Normal Calories)',\n",
       " 'preserve': 'Approximately Symmetric (Normal Calories)',\n",
       " 'salad': 'Approximately Symmetric (Normal Calories)',\n",
       " 'sandwiches': 'Approximately Symmetric (Normal Calories)',\n",
       " 'soup': 'Approximately Symmetric (Normal Calories)',\n",
       " 'starter': 'Approximately Symmetric (Normal Calories)',\n",
       " 'cereals': 'Right Skewed (Lower Calories)',\n",
       " 'drinks': 'Right Skewed (Lower Calories)'}"
      ]
     },
     "execution_count": 42,
     "metadata": {},
     "output_type": "execute_result"
    }
   ],
   "source": [
    "#get these categories and make them keys with values as the type of skew, then this will be a map to transform our column\n",
    "skew_map = {}\n",
    "for skew in bins.keys():\n",
    "    for category in bins[skew].index:\n",
    "        skew_map[category] = skew\n",
    "        #print(category)\n",
    "\n",
    "skew_map"
   ]
  },
  {
   "cell_type": "code",
   "execution_count": 43,
   "id": "f71e7dc3-892a-4757-afd3-be829d356633",
   "metadata": {},
   "outputs": [],
   "source": [
    "df2['dishTypeSkewedLabels'] = df2['dishTypeLabel'].map(skew_map)"
   ]
  },
  {
   "cell_type": "code",
   "execution_count": 44,
   "id": "d8e30010-27ba-489b-b461-20904455f090",
   "metadata": {},
   "outputs": [
    {
     "data": {
      "text/plain": [
       "Index(['index', 'uri', 'label', 'image', 'source', 'url', 'shareAs', 'yield',\n",
       "       'dietLabels', 'healthLabels', 'cautions', 'ingredientLines',\n",
       "       'ingredients', 'calories', 'totalWeight', 'totalTime', 'cuisineType',\n",
       "       'mealType', 'dishType', 'totalNutrients', 'totalDaily', 'digest',\n",
       "       'tags', 'binnedCalories', 'dishTypeLabel', 'dishTypeSkewedLabels'],\n",
       "      dtype='object')"
      ]
     },
     "execution_count": 44,
     "metadata": {},
     "output_type": "execute_result"
    }
   ],
   "source": [
    "df2.keys()"
   ]
  },
  {
   "cell_type": "code",
   "execution_count": 45,
   "id": "df5eae90-ce6f-4964-8355-9b41c52ba79c",
   "metadata": {},
   "outputs": [
    {
     "data": {
      "text/plain": [
       "array(['Approximately Symmetric (Normal Calories)',\n",
       "       'Right Skewed (Lower Calories)', 'Left Skewed (Higher Calories)',\n",
       "       nan], dtype=object)"
      ]
     },
     "execution_count": 45,
     "metadata": {},
     "output_type": "execute_result"
    }
   ],
   "source": [
    "df2['dishTypeSkewedLabels'].unique()"
   ]
  },
  {
   "cell_type": "code",
   "execution_count": 46,
   "id": "921a7b06-ab17-4c96-8b5a-7763e4252461",
   "metadata": {},
   "outputs": [
    {
     "name": "stdout",
     "output_type": "stream",
     "text": [
      "nan\n",
      "nan\n"
     ]
    }
   ],
   "source": [
    "for item in df2['dishTypeSkewedLabels']:\n",
    "    if item not in ['Approximately Symmetric (Normal Calories)', 'Right Skewed (Lower Calories)', 'Left Skewed (Higher Calories)']:\n",
    "        print(item)"
   ]
  },
  {
   "cell_type": "markdown",
   "id": "0a3560ab-1728-41e0-bb8d-89693e333698",
   "metadata": {},
   "source": [
    "#### mealType"
   ]
  },
  {
   "cell_type": "code",
   "execution_count": 47,
   "id": "55df811e-f2dc-4a56-8d38-e2d80ea7bbd8",
   "metadata": {},
   "outputs": [
    {
     "data": {
      "text/plain": [
       "{'breakfast', 'brunch', 'lunch/dinner', 'snack', 'teatime'}"
      ]
     },
     "execution_count": 47,
     "metadata": {},
     "output_type": "execute_result"
    }
   ],
   "source": [
    "set(get_values(df2, 'mealType'))"
   ]
  },
  {
   "cell_type": "code",
   "execution_count": 48,
   "id": "e4fe43f8-ad95-452e-af68-18dc1cfac26a",
   "metadata": {},
   "outputs": [
    {
     "data": {
      "text/plain": [
       "Counter({'lunch/dinner': 8909,\n",
       "         'breakfast': 817,\n",
       "         'snack': 414,\n",
       "         'brunch': 145,\n",
       "         'teatime': 139})"
      ]
     },
     "execution_count": 48,
     "metadata": {},
     "output_type": "execute_result"
    }
   ],
   "source": [
    "Counter(get_values(df2, 'mealType'))"
   ]
  },
  {
   "cell_type": "code",
   "execution_count": 49,
   "id": "d82c189b-caff-4c1a-9850-bd59ce11f3a4",
   "metadata": {},
   "outputs": [
    {
     "data": {
      "text/plain": [
       "39"
      ]
     },
     "execution_count": 49,
     "metadata": {},
     "output_type": "execute_result"
    }
   ],
   "source": [
    "len(check_if_multilabel(df2, 'mealType'))"
   ]
  },
  {
   "cell_type": "code",
   "execution_count": 50,
   "id": "2e4e927e-928b-47da-90f6-ba3566670c11",
   "metadata": {},
   "outputs": [],
   "source": [
    "mealType_df = df2['mealType'].apply(ast.literal_eval)"
   ]
  },
  {
   "cell_type": "markdown",
   "id": "e7af7a3a-545d-466a-8c21-da60e61f75df",
   "metadata": {},
   "source": [
    "Let's explore the calorie distribution for each of these meal types and see if we can combine any of them."
   ]
  },
  {
   "cell_type": "code",
   "execution_count": 51,
   "id": "f2b4026e-7f58-48eb-a1ad-856a06370d24",
   "metadata": {},
   "outputs": [],
   "source": [
    "brunch_df = df2[df2['mealType'] == \"['brunch']\"]\n",
    "breakfast_df = df2[df2['mealType'] == \"['breakfast']\"]\n",
    "teatime_df = df2[df2['mealType'] == \"['teatime']\"]\n",
    "snack_df = df2[df2['mealType'] == \"['snack']\"]\n",
    "lunchdinner_df = df2[df2['mealType'] == \"['lunch/dinner']\"]"
   ]
  },
  {
   "cell_type": "code",
   "execution_count": 52,
   "id": "d295a8d3-958e-4966-806f-97baf3db8b45",
   "metadata": {},
   "outputs": [
    {
     "data": {
      "image/png": "[encoded data removed]",
      "text/plain": [
       "<Figure size 600x400 with 1 Axes>"
      ]
     },
     "metadata": {},
     "output_type": "display_data"
    }
   ],
   "source": [
    "lunchdinner_df = filter_calories(lunchdinner_df)\n",
    "plot_distribution(lunchdinner_df, bins=13, title='Distribution of Calories for lunchdinner')"
   ]
  },
  {
   "cell_type": "code",
   "execution_count": 53,
   "id": "4ae6b5d5-c59d-4e98-a8c7-e4c528fb61cd",
   "metadata": {},
   "outputs": [
    {
     "data": {
      "image/png": "[encoded data removed]",
      "text/plain": [
       "<Figure size 600x400 with 1 Axes>"
      ]
     },
     "metadata": {},
     "output_type": "display_data"
    }
   ],
   "source": [
    "breakfast_df = filter_calories(breakfast_df)\n",
    "plot_distribution(breakfast_df, bins=13, title='Distribution of Calories for Breakfast')"
   ]
  },
  {
   "cell_type": "code",
   "execution_count": 54,
   "id": "08fa112d-b9ef-490f-8d9b-e38068e9815f",
   "metadata": {},
   "outputs": [
    {
     "data": {
      "image/png": "[encoded data removed]",
      "text/plain": [
       "<Figure size 600x400 with 1 Axes>"
      ]
     },
     "metadata": {},
     "output_type": "display_data"
    }
   ],
   "source": [
    "brunch_df = filter_calories(brunch_df)\n",
    "plot_distribution(brunch_df, bins=24, title='Distribution of Calories for Brunch')"
   ]
  },
  {
   "cell_type": "code",
   "execution_count": 55,
   "id": "60a67c4d-ba51-4967-8cef-3a12b13606d2",
   "metadata": {},
   "outputs": [
    {
     "data": {
      "image/png": "[encoded data removed]",
      "text/plain": [
       "<Figure size 600x400 with 1 Axes>"
      ]
     },
     "metadata": {},
     "output_type": "display_data"
    }
   ],
   "source": [
    "teatime_df = filter_calories(teatime_df)\n",
    "plot_distribution(teatime_df, bins=13, title='Distribution of Calories for teatime')"
   ]
  },
  {
   "cell_type": "code",
   "execution_count": 56,
   "id": "335e3638-b20f-4155-811f-83d84cbe12fe",
   "metadata": {},
   "outputs": [
    {
     "data": {
      "image/png": "[encoded data removed]",
      "text/plain": [
       "<Figure size 600x400 with 1 Axes>"
      ]
     },
     "metadata": {},
     "output_type": "display_data"
    }
   ],
   "source": [
    "snack_df = filter_calories(snack_df)\n",
    "plot_distribution(snack_df, bins=13, title='Distribution of Calories for snack')"
   ]
  },
  {
   "cell_type": "markdown",
   "id": "043b5073-ac22-43c7-bf5e-4cee5e5bbdc1",
   "metadata": {},
   "source": [
    "So lunch/dinner is more so normally distributed. Breakfast is skewed, and the rest are kind of all over the place but with a somewhat cyclical pattern. Let's combine them into an other category now since they are all few in count anyway."
   ]
  },
  {
   "cell_type": "code",
   "execution_count": 57,
   "id": "d7d16b64-4593-49e1-83fb-6f5a77ba8c70",
   "metadata": {},
   "outputs": [
    {
     "data": {
      "text/plain": [
       "Counter({'lunch/dinner': 8909,\n",
       "         'breakfast': 817,\n",
       "         'snack': 414,\n",
       "         'brunch': 145,\n",
       "         'teatime': 139})"
      ]
     },
     "execution_count": 57,
     "metadata": {},
     "output_type": "execute_result"
    }
   ],
   "source": [
    "Counter(get_values(df2, 'mealType'))"
   ]
  },
  {
   "cell_type": "code",
   "execution_count": 58,
   "id": "7a73e9c6-8c2e-41a8-bf11-861e58f2ec7b",
   "metadata": {},
   "outputs": [],
   "source": [
    "#for multilabeled rows we need a priority list to select which one we want to keep so it has just one main label\n",
    "meal_type_priority_list = ['breakfast', 'lunch/dinner', 'brunch', 'snack', 'teatime']\n",
    "new_meal_type_df = []\n",
    "for meal_type_lst in mealType_df:\n",
    "    if len(meal_type_lst) > 1:\n",
    "        for meal_type in meal_type_priority_list:\n",
    "            if meal_type in meal_type_lst:\n",
    "                new_meal_type_df.append(meal_type)\n",
    "                break\n",
    "    else:\n",
    "        new_meal_type_df.append(meal_type_lst[0])\n",
    "\n",
    "\n",
    "# Define a function to replace 'brunch', 'teatime' into snack also\n",
    "def replace_values(value):\n",
    "    if value in ['brunch', 'teatime']:\n",
    "        return 'snack'\n",
    "    else:\n",
    "        return value\n",
    "\n",
    "new_meal_type_df = [replace_values(meal_type) for meal_type in new_meal_type_df]"
   ]
  },
  {
   "cell_type": "code",
   "execution_count": 59,
   "id": "6b1a66c1-ae19-42a7-9df8-c7aa143cee31",
   "metadata": {},
   "outputs": [],
   "source": [
    "new_meal_type_df = pd.DataFrame(new_meal_type_df)\n",
    "new_meal_type_df.rename(columns={0: 'mealTypeRefined'}, inplace=True)"
   ]
  },
  {
   "cell_type": "code",
   "execution_count": 60,
   "id": "780b50ce-8c23-4b06-b70b-2060080e33ba",
   "metadata": {},
   "outputs": [
    {
     "data": {
      "text/plain": [
       "Counter({'lunch/dinner': 8895, 'breakfast': 817, 'snack': 673})"
      ]
     },
     "execution_count": 60,
     "metadata": {},
     "output_type": "execute_result"
    }
   ],
   "source": [
    "Counter(new_meal_type_df['mealTypeRefined'])"
   ]
  },
  {
   "cell_type": "code",
   "execution_count": 61,
   "id": "eda88c4e-34b9-44a2-94f6-fc25d459190d",
   "metadata": {},
   "outputs": [
    {
     "data": {
      "text/html": [
       "<div>\n",
       "<style scoped>\n",
       "    .dataframe tbody tr th:only-of-type {\n",
       "        vertical-align: middle;\n",
       "    }\n",
       "\n",
       "    .dataframe tbody tr th {\n",
       "        vertical-align: top;\n",
       "    }\n",
       "\n",
       "    .dataframe thead th {\n",
       "        text-align: right;\n",
       "    }\n",
       "</style>\n",
       "<table border=\"1\" class=\"dataframe\">\n",
       "  <thead>\n",
       "    <tr style=\"text-align: right;\">\n",
       "      <th></th>\n",
       "      <th>mealTypeRefined</th>\n",
       "    </tr>\n",
       "  </thead>\n",
       "  <tbody>\n",
       "    <tr>\n",
       "      <th>0</th>\n",
       "      <td>lunch/dinner</td>\n",
       "    </tr>\n",
       "    <tr>\n",
       "      <th>1</th>\n",
       "      <td>lunch/dinner</td>\n",
       "    </tr>\n",
       "    <tr>\n",
       "      <th>2</th>\n",
       "      <td>lunch/dinner</td>\n",
       "    </tr>\n",
       "    <tr>\n",
       "      <th>3</th>\n",
       "      <td>lunch/dinner</td>\n",
       "    </tr>\n",
       "    <tr>\n",
       "      <th>4</th>\n",
       "      <td>lunch/dinner</td>\n",
       "    </tr>\n",
       "    <tr>\n",
       "      <th>...</th>\n",
       "      <td>...</td>\n",
       "    </tr>\n",
       "    <tr>\n",
       "      <th>10380</th>\n",
       "      <td>lunch/dinner</td>\n",
       "    </tr>\n",
       "    <tr>\n",
       "      <th>10381</th>\n",
       "      <td>lunch/dinner</td>\n",
       "    </tr>\n",
       "    <tr>\n",
       "      <th>10382</th>\n",
       "      <td>lunch/dinner</td>\n",
       "    </tr>\n",
       "    <tr>\n",
       "      <th>10383</th>\n",
       "      <td>lunch/dinner</td>\n",
       "    </tr>\n",
       "    <tr>\n",
       "      <th>10384</th>\n",
       "      <td>lunch/dinner</td>\n",
       "    </tr>\n",
       "  </tbody>\n",
       "</table>\n",
       "<p>10385 rows × 1 columns</p>\n",
       "</div>"
      ],
      "text/plain": [
       "      mealTypeRefined\n",
       "0        lunch/dinner\n",
       "1        lunch/dinner\n",
       "2        lunch/dinner\n",
       "3        lunch/dinner\n",
       "4        lunch/dinner\n",
       "...               ...\n",
       "10380    lunch/dinner\n",
       "10381    lunch/dinner\n",
       "10382    lunch/dinner\n",
       "10383    lunch/dinner\n",
       "10384    lunch/dinner\n",
       "\n",
       "[10385 rows x 1 columns]"
      ]
     },
     "execution_count": 61,
     "metadata": {},
     "output_type": "execute_result"
    }
   ],
   "source": [
    "new_meal_type_df"
   ]
  },
  {
   "cell_type": "code",
   "execution_count": 62,
   "id": "75176f7f-94f9-4ffd-a01d-a871ae047888",
   "metadata": {},
   "outputs": [],
   "source": [
    "df2 = pd.concat([df2, new_meal_type_df], axis = 1)"
   ]
  },
  {
   "cell_type": "code",
   "execution_count": 63,
   "id": "d607e8fc-7475-4113-933d-23c4350708f4",
   "metadata": {},
   "outputs": [
    {
     "data": {
      "text/plain": [
       "Index(['index', 'uri', 'label', 'image', 'source', 'url', 'shareAs', 'yield',\n",
       "       'dietLabels', 'healthLabels', 'cautions', 'ingredientLines',\n",
       "       'ingredients', 'calories', 'totalWeight', 'totalTime', 'cuisineType',\n",
       "       'mealType', 'dishType', 'totalNutrients', 'totalDaily', 'digest',\n",
       "       'tags', 'binnedCalories', 'dishTypeLabel', 'dishTypeSkewedLabels',\n",
       "       'mealTypeRefined'],\n",
       "      dtype='object')"
      ]
     },
     "execution_count": 63,
     "metadata": {},
     "output_type": "execute_result"
    }
   ],
   "source": [
    "df2.columns"
   ]
  },
  {
   "cell_type": "markdown",
   "id": "68e4a2d6-7603-442c-aa36-f5fbe35018d1",
   "metadata": {},
   "source": [
    "Now let's check the new distributions."
   ]
  },
  {
   "cell_type": "code",
   "execution_count": 64,
   "id": "9d6464aa-1f29-4c43-993c-390de9032856",
   "metadata": {},
   "outputs": [],
   "source": [
    "lunch_dinner_df = df2[df2['mealTypeRefined'] == 'lunch/dinner']\n",
    "snack_df = df2[df2['mealTypeRefined'] == 'snack']\n",
    "breakfast_df = df2[df2['mealTypeRefined'] == 'breakfast']"
   ]
  },
  {
   "cell_type": "code",
   "execution_count": 65,
   "id": "290ec5e3-a465-421f-8fb3-397f235ceb5a",
   "metadata": {},
   "outputs": [
    {
     "data": {
      "image/png": "[encoded data removed]",
      "text/plain": [
       "<Figure size 600x400 with 1 Axes>"
      ]
     },
     "metadata": {},
     "output_type": "display_data"
    }
   ],
   "source": [
    "lunch_dinner_df_calories_df = filter_calories(lunch_dinner_df)\n",
    "plot_distribution(lunch_dinner_df_calories_df, bins=13, title='Distribution of Calories for Lunch/Dinner')"
   ]
  },
  {
   "cell_type": "code",
   "execution_count": 66,
   "id": "76107cde-7220-4db8-99f5-5d52d76d34d7",
   "metadata": {},
   "outputs": [
    {
     "data": {
      "image/png": "[encoded data removed]",
      "text/plain": [
       "<Figure size 600x400 with 1 Axes>"
      ]
     },
     "metadata": {},
     "output_type": "display_data"
    }
   ],
   "source": [
    "snack_calories_df = filter_calories(snack_df)\n",
    "plot_distribution(snack_calories_df, bins=13, title='Distribution of Calories for Snacks')"
   ]
  },
  {
   "cell_type": "code",
   "execution_count": 67,
   "id": "cb6f952a-ac11-433c-baa1-f297c774d1ed",
   "metadata": {},
   "outputs": [
    {
     "data": {
      "image/png": "[encoded data removed]",
      "text/plain": [
       "<Figure size 600x400 with 1 Axes>"
      ]
     },
     "metadata": {},
     "output_type": "display_data"
    }
   ],
   "source": [
    "breakfast_calories_df = filter_calories(breakfast_df)\n",
    "plot_distribution(breakfast_calories_df, bins=13, title='Distribution of Calories for Breakfast')"
   ]
  },
  {
   "cell_type": "code",
   "execution_count": 68,
   "id": "6b1c492b-583a-488d-9cbf-70c0d85c5aa2",
   "metadata": {},
   "outputs": [
    {
     "data": {
      "text/plain": [
       "mealTypeRefined\n",
       "breakfast       0.986597\n",
       "lunch/dinner    0.629500\n",
       "snack           0.471262\n",
       "Name: calories, dtype: float64"
      ]
     },
     "execution_count": 68,
     "metadata": {},
     "output_type": "execute_result"
    }
   ],
   "source": [
    "df2.groupby('mealTypeRefined')['calories'].skew()"
   ]
  },
  {
   "cell_type": "markdown",
   "id": "e94d9fe2-0dc5-4dac-804a-0ce0c91e165a",
   "metadata": {},
   "source": [
    "So breakfast is clearly skewed but the others aren't as bad. This may be better off one hot encoded."
   ]
  },
  {
   "cell_type": "markdown",
   "id": "87966c56-1ad7-419f-ae66-6cb56187552c",
   "metadata": {},
   "source": [
    "## Preprocessing\n",
    "\n",
    "### Target Variable"
   ]
  },
  {
   "cell_type": "code",
   "execution_count": 71,
   "id": "f474d1f2-88bf-4a0d-87b7-75eef5acd0c9",
   "metadata": {},
   "outputs": [],
   "source": [
    "#get only columns that we need, going to keep original calories column though in case we want to try regression models\n",
    "preprocessed_df = df2[['label', 'dishTypeSkewedLabels', 'mealTypeRefined', 'binnedCalories', 'calories']]"
   ]
  },
  {
   "cell_type": "code",
   "execution_count": 72,
   "id": "8c558ce4-51e8-47d9-8d6e-5297280caee9",
   "metadata": {},
   "outputs": [],
   "source": [
    "binnedCalories_df = preprocessed_df['binnedCalories']"
   ]
  },
  {
   "cell_type": "code",
   "execution_count": 73,
   "id": "ef24a803-a7e2-4d00-b688-775236179fea",
   "metadata": {},
   "outputs": [],
   "source": [
    "from sklearn.preprocessing import LabelEncoder\n",
    "\n",
    "label_encoder = LabelEncoder()\n",
    "\n",
    "encoded_labels = label_encoder.fit_transform(preprocessed_df['binnedCalories'])"
   ]
  },
  {
   "cell_type": "code",
   "execution_count": 74,
   "id": "5d9085bb-1399-4d60-8d2d-7a91ddbe984f",
   "metadata": {},
   "outputs": [
    {
     "data": {
      "text/plain": [
       "array([ 0,  7, 12, ...,  2,  7, 11])"
      ]
     },
     "execution_count": 74,
     "metadata": {},
     "output_type": "execute_result"
    }
   ],
   "source": [
    "encoded_labels"
   ]
  },
  {
   "cell_type": "code",
   "execution_count": 75,
   "id": "0a7d7af2-7439-47f2-9c87-6aa1152bfad6",
   "metadata": {},
   "outputs": [
    {
     "name": "stdout",
     "output_type": "stream",
     "text": [
      "0-299 -> 0\n",
      "1200-1499 -> 1\n",
      "1500-1799 -> 2\n",
      "1800-2099 -> 3\n",
      "2100-2399 -> 4\n",
      "2400-2699 -> 5\n",
      "2700-2999 -> 6\n",
      "300-599 -> 7\n",
      "3000-3299 -> 8\n",
      "3300-3599 -> 9\n",
      "3600-3899 -> 10\n",
      "600-899 -> 11\n",
      "900-1199 -> 12\n"
     ]
    }
   ],
   "source": [
    "for category, encoded_label in zip(label_encoder.classes_, label_encoder.transform(label_encoder.classes_)):\n",
    "    print(f\"{category} -> {encoded_label}\")"
   ]
  },
  {
   "cell_type": "code",
   "execution_count": 76,
   "id": "6cf5c7e4-3f31-43ab-bb55-1fd82dd9198e",
   "metadata": {},
   "outputs": [
    {
     "data": {
      "text/plain": [
       "['0-299',\n",
       " '300-599',\n",
       " '600-899',\n",
       " '900-1199',\n",
       " '1200-1499',\n",
       " '1500-1799',\n",
       " '1800-2099',\n",
       " '2100-2399',\n",
       " '2400-2699',\n",
       " '2700-2999',\n",
       " '3000-3299',\n",
       " '3300-3599',\n",
       " '3600-3899']"
      ]
     },
     "execution_count": 76,
     "metadata": {},
     "output_type": "execute_result"
    }
   ],
   "source": [
    "calorie_intervals = list(binnedCalories_df.unique())\n",
    "\n",
    "sorted_calorie_intervals = sorted((map(lambda x: tuple(map(int, x.split('-'))), calorie_intervals)), key=lambda x: x[0])\n",
    "\n",
    "# Convert sorted tuples back to interval strings\n",
    "sorted_calorie_intervals = ['{}-{}'.format(lower, upper) for lower, upper in sorted_calorie_intervals]\n",
    "\n",
    "sorted_calorie_intervals"
   ]
  },
  {
   "cell_type": "code",
   "execution_count": 77,
   "id": "79ad86a6-40e9-4c1e-8c8d-954163ec3d8b",
   "metadata": {},
   "outputs": [
    {
     "data": {
      "text/plain": [
       "{'0-299': 0,\n",
       " '300-599': 1,\n",
       " '600-899': 2,\n",
       " '900-1199': 3,\n",
       " '1200-1499': 4,\n",
       " '1500-1799': 5,\n",
       " '1800-2099': 6,\n",
       " '2100-2399': 7,\n",
       " '2400-2699': 8,\n",
       " '2700-2999': 9,\n",
       " '3000-3299': 10,\n",
       " '3300-3599': 11,\n",
       " '3600-3899': 12}"
      ]
     },
     "execution_count": 77,
     "metadata": {},
     "output_type": "execute_result"
    }
   ],
   "source": [
    "label_encoding_map = {}\n",
    "\n",
    "for i in range(len(sorted_calorie_intervals)):\n",
    "    label_encoding_map[sorted_calorie_intervals[i]] = i\n",
    "\n",
    "label_encoding_map"
   ]
  },
  {
   "cell_type": "code",
   "execution_count": 78,
   "id": "6aae192d-f569-42c9-878d-b9b4f9266d00",
   "metadata": {},
   "outputs": [],
   "source": [
    "target = binnedCalories_df.map(label_encoding_map)"
   ]
  },
  {
   "cell_type": "code",
   "execution_count": 79,
   "id": "4e7c4a64-cc7d-4a41-97c8-44e66a34b1b0",
   "metadata": {},
   "outputs": [
    {
     "data": {
      "text/html": [
       "<div>\n",
       "<style scoped>\n",
       "    .dataframe tbody tr th:only-of-type {\n",
       "        vertical-align: middle;\n",
       "    }\n",
       "\n",
       "    .dataframe tbody tr th {\n",
       "        vertical-align: top;\n",
       "    }\n",
       "\n",
       "    .dataframe thead th {\n",
       "        text-align: right;\n",
       "    }\n",
       "</style>\n",
       "<table border=\"1\" class=\"dataframe\">\n",
       "  <thead>\n",
       "    <tr style=\"text-align: right;\">\n",
       "      <th></th>\n",
       "      <th>calorieLabels</th>\n",
       "    </tr>\n",
       "  </thead>\n",
       "  <tbody>\n",
       "    <tr>\n",
       "      <th>0</th>\n",
       "      <td>0</td>\n",
       "    </tr>\n",
       "    <tr>\n",
       "      <th>1</th>\n",
       "      <td>1</td>\n",
       "    </tr>\n",
       "    <tr>\n",
       "      <th>2</th>\n",
       "      <td>3</td>\n",
       "    </tr>\n",
       "    <tr>\n",
       "      <th>3</th>\n",
       "      <td>0</td>\n",
       "    </tr>\n",
       "    <tr>\n",
       "      <th>4</th>\n",
       "      <td>0</td>\n",
       "    </tr>\n",
       "    <tr>\n",
       "      <th>...</th>\n",
       "      <td>...</td>\n",
       "    </tr>\n",
       "    <tr>\n",
       "      <th>10380</th>\n",
       "      <td>8</td>\n",
       "    </tr>\n",
       "    <tr>\n",
       "      <th>10381</th>\n",
       "      <td>1</td>\n",
       "    </tr>\n",
       "    <tr>\n",
       "      <th>10382</th>\n",
       "      <td>5</td>\n",
       "    </tr>\n",
       "    <tr>\n",
       "      <th>10383</th>\n",
       "      <td>1</td>\n",
       "    </tr>\n",
       "    <tr>\n",
       "      <th>10384</th>\n",
       "      <td>2</td>\n",
       "    </tr>\n",
       "  </tbody>\n",
       "</table>\n",
       "<p>10385 rows × 1 columns</p>\n",
       "</div>"
      ],
      "text/plain": [
       "      calorieLabels\n",
       "0                 0\n",
       "1                 1\n",
       "2                 3\n",
       "3                 0\n",
       "4                 0\n",
       "...             ...\n",
       "10380             8\n",
       "10381             1\n",
       "10382             5\n",
       "10383             1\n",
       "10384             2\n",
       "\n",
       "[10385 rows x 1 columns]"
      ]
     },
     "execution_count": 79,
     "metadata": {},
     "output_type": "execute_result"
    }
   ],
   "source": [
    "target = pd.DataFrame(target)\n",
    "target = target.rename(columns={'binnedCalories': 'calorieLabels'})\n",
    "target"
   ]
  },
  {
   "cell_type": "code",
   "execution_count": 80,
   "id": "1538c95b-d5f7-4b5a-a887-f09005ecaff6",
   "metadata": {},
   "outputs": [],
   "source": [
    "preprocessed_df = pd.concat([preprocessed_df, target], axis=1).drop('binnedCalories', axis=1)"
   ]
  },
  {
   "cell_type": "code",
   "execution_count": 81,
   "id": "39ec2f2d-2cd9-4461-9bb7-9d5a1ea83855",
   "metadata": {},
   "outputs": [
    {
     "data": {
      "text/html": [
       "<div>\n",
       "<style scoped>\n",
       "    .dataframe tbody tr th:only-of-type {\n",
       "        vertical-align: middle;\n",
       "    }\n",
       "\n",
       "    .dataframe tbody tr th {\n",
       "        vertical-align: top;\n",
       "    }\n",
       "\n",
       "    .dataframe thead th {\n",
       "        text-align: right;\n",
       "    }\n",
       "</style>\n",
       "<table border=\"1\" class=\"dataframe\">\n",
       "  <thead>\n",
       "    <tr style=\"text-align: right;\">\n",
       "      <th></th>\n",
       "      <th>label</th>\n",
       "      <th>dishTypeSkewedLabels</th>\n",
       "      <th>mealTypeRefined</th>\n",
       "      <th>calories</th>\n",
       "      <th>calorieLabels</th>\n",
       "    </tr>\n",
       "  </thead>\n",
       "  <tbody>\n",
       "    <tr>\n",
       "      <th>0</th>\n",
       "      <td>Green Beans</td>\n",
       "      <td>Approximately Symmetric (Normal Calories)</td>\n",
       "      <td>lunch/dinner</td>\n",
       "      <td>245.950111</td>\n",
       "      <td>0</td>\n",
       "    </tr>\n",
       "    <tr>\n",
       "      <th>1</th>\n",
       "      <td>Sauteed Green Beans</td>\n",
       "      <td>Approximately Symmetric (Normal Calories)</td>\n",
       "      <td>lunch/dinner</td>\n",
       "      <td>331.965452</td>\n",
       "      <td>1</td>\n",
       "    </tr>\n",
       "    <tr>\n",
       "      <th>2</th>\n",
       "      <td>Caramelized Green Beans</td>\n",
       "      <td>Approximately Symmetric (Normal Calories)</td>\n",
       "      <td>lunch/dinner</td>\n",
       "      <td>1025.432452</td>\n",
       "      <td>3</td>\n",
       "    </tr>\n",
       "    <tr>\n",
       "      <th>3</th>\n",
       "      <td>Sautéed Fresh Green Beans</td>\n",
       "      <td>Approximately Symmetric (Normal Calories)</td>\n",
       "      <td>lunch/dinner</td>\n",
       "      <td>220.173635</td>\n",
       "      <td>0</td>\n",
       "    </tr>\n",
       "    <tr>\n",
       "      <th>4</th>\n",
       "      <td>Fancy Green Beans</td>\n",
       "      <td>Approximately Symmetric (Normal Calories)</td>\n",
       "      <td>lunch/dinner</td>\n",
       "      <td>245.191312</td>\n",
       "      <td>0</td>\n",
       "    </tr>\n",
       "  </tbody>\n",
       "</table>\n",
       "</div>"
      ],
      "text/plain": [
       "                       label                       dishTypeSkewedLabels  \\\n",
       "0                Green Beans  Approximately Symmetric (Normal Calories)   \n",
       "1        Sauteed Green Beans  Approximately Symmetric (Normal Calories)   \n",
       "2    Caramelized Green Beans  Approximately Symmetric (Normal Calories)   \n",
       "3  Sautéed Fresh Green Beans  Approximately Symmetric (Normal Calories)   \n",
       "4          Fancy Green Beans  Approximately Symmetric (Normal Calories)   \n",
       "\n",
       "  mealTypeRefined     calories calorieLabels  \n",
       "0    lunch/dinner   245.950111             0  \n",
       "1    lunch/dinner   331.965452             1  \n",
       "2    lunch/dinner  1025.432452             3  \n",
       "3    lunch/dinner   220.173635             0  \n",
       "4    lunch/dinner   245.191312             0  "
      ]
     },
     "execution_count": 81,
     "metadata": {},
     "output_type": "execute_result"
    }
   ],
   "source": [
    "preprocessed_df.head()"
   ]
  },
  {
   "cell_type": "markdown",
   "id": "31a0b920-b7e1-438a-99ca-4ffb2fc45a59",
   "metadata": {},
   "source": [
    "### Input Variables\n",
    "\n",
    "#### dishTypeSkewedLabels"
   ]
  },
  {
   "cell_type": "code",
   "execution_count": 82,
   "id": "2a50f409-4aca-4ddf-949d-b3035a386b80",
   "metadata": {},
   "outputs": [
    {
     "data": {
      "text/plain": [
       "array(['Approximately Symmetric (Normal Calories)',\n",
       "       'Right Skewed (Lower Calories)', 'Left Skewed (Higher Calories)',\n",
       "       nan], dtype=object)"
      ]
     },
     "execution_count": 82,
     "metadata": {},
     "output_type": "execute_result"
    }
   ],
   "source": [
    "preprocessed_df['dishTypeSkewedLabels'].unique()"
   ]
  },
  {
   "cell_type": "code",
   "execution_count": 83,
   "id": "b4be9e2b-de1c-4017-b452-9848a5471b63",
   "metadata": {},
   "outputs": [],
   "source": [
    "#need to get rid of those nan values first\n",
    "preprocessed_df = preprocessed_df.dropna()\n",
    "preprocessed_df = preprocessed_df.reset_index(drop=True)"
   ]
  },
  {
   "cell_type": "markdown",
   "id": "4fd5074f-10a8-42f8-abf7-42e21eb4ea22",
   "metadata": {},
   "source": [
    "We can just label encode this too since there is some order to it in a sense, with them being skewed. "
   ]
  },
  {
   "cell_type": "code",
   "execution_count": 84,
   "id": "c9759a3f-9171-4a46-8d8b-cc541ccb123d",
   "metadata": {},
   "outputs": [],
   "source": [
    "dish_type_map = {'Approximately Symmetric (Normal Calories)': 1, 'Right Skewed (Lower Calories)': 0, 'Left Skewed (Higher Calories)': 2}"
   ]
  },
  {
   "cell_type": "code",
   "execution_count": 85,
   "id": "e346d57d-9cf1-40a3-a3cf-94091be2292e",
   "metadata": {},
   "outputs": [
    {
     "data": {
      "text/plain": [
       "0        1\n",
       "1        1\n",
       "2        1\n",
       "3        1\n",
       "4        1\n",
       "        ..\n",
       "10378    1\n",
       "10379    1\n",
       "10380    1\n",
       "10381    1\n",
       "10382    1\n",
       "Name: dishTypeSkewedLabels, Length: 10383, dtype: int64"
      ]
     },
     "execution_count": 85,
     "metadata": {},
     "output_type": "execute_result"
    }
   ],
   "source": [
    "preprocessed_df['dishTypeSkewedLabels'].map(dish_type_map)"
   ]
  },
  {
   "cell_type": "code",
   "execution_count": 86,
   "id": "2f649187-0a0e-44d3-93b7-60e40ba0c140",
   "metadata": {},
   "outputs": [],
   "source": [
    "preprocessed_df.loc[:, 'dishTypeSkewedLabels'] = preprocessed_df['dishTypeSkewedLabels'].map(dish_type_map)"
   ]
  },
  {
   "cell_type": "code",
   "execution_count": 87,
   "id": "96708380-9ece-4d85-a413-2a69dd1d8e67",
   "metadata": {},
   "outputs": [
    {
     "data": {
      "text/html": [
       "<div>\n",
       "<style scoped>\n",
       "    .dataframe tbody tr th:only-of-type {\n",
       "        vertical-align: middle;\n",
       "    }\n",
       "\n",
       "    .dataframe tbody tr th {\n",
       "        vertical-align: top;\n",
       "    }\n",
       "\n",
       "    .dataframe thead th {\n",
       "        text-align: right;\n",
       "    }\n",
       "</style>\n",
       "<table border=\"1\" class=\"dataframe\">\n",
       "  <thead>\n",
       "    <tr style=\"text-align: right;\">\n",
       "      <th></th>\n",
       "      <th>label</th>\n",
       "      <th>dishTypeSkewedLabels</th>\n",
       "      <th>mealTypeRefined</th>\n",
       "      <th>calories</th>\n",
       "      <th>calorieLabels</th>\n",
       "    </tr>\n",
       "  </thead>\n",
       "  <tbody>\n",
       "    <tr>\n",
       "      <th>0</th>\n",
       "      <td>Green Beans</td>\n",
       "      <td>1</td>\n",
       "      <td>lunch/dinner</td>\n",
       "      <td>245.950111</td>\n",
       "      <td>0</td>\n",
       "    </tr>\n",
       "    <tr>\n",
       "      <th>1</th>\n",
       "      <td>Sauteed Green Beans</td>\n",
       "      <td>1</td>\n",
       "      <td>lunch/dinner</td>\n",
       "      <td>331.965452</td>\n",
       "      <td>1</td>\n",
       "    </tr>\n",
       "    <tr>\n",
       "      <th>2</th>\n",
       "      <td>Caramelized Green Beans</td>\n",
       "      <td>1</td>\n",
       "      <td>lunch/dinner</td>\n",
       "      <td>1025.432452</td>\n",
       "      <td>3</td>\n",
       "    </tr>\n",
       "  </tbody>\n",
       "</table>\n",
       "</div>"
      ],
      "text/plain": [
       "                     label dishTypeSkewedLabels mealTypeRefined     calories  \\\n",
       "0              Green Beans                    1    lunch/dinner   245.950111   \n",
       "1      Sauteed Green Beans                    1    lunch/dinner   331.965452   \n",
       "2  Caramelized Green Beans                    1    lunch/dinner  1025.432452   \n",
       "\n",
       "  calorieLabels  \n",
       "0             0  \n",
       "1             1  \n",
       "2             3  "
      ]
     },
     "execution_count": 87,
     "metadata": {},
     "output_type": "execute_result"
    }
   ],
   "source": [
    "preprocessed_df.head(3)"
   ]
  },
  {
   "cell_type": "markdown",
   "id": "b52cc399-c759-4b29-b70b-eb586ccf75d6",
   "metadata": {},
   "source": [
    "#### mealTypeRefined"
   ]
  },
  {
   "cell_type": "code",
   "execution_count": 88,
   "id": "8243c463-1e48-4fd2-94a3-aa4407f587a3",
   "metadata": {},
   "outputs": [
    {
     "data": {
      "text/plain": [
       "array(['lunch/dinner', 'snack', 'breakfast'], dtype=object)"
      ]
     },
     "execution_count": 88,
     "metadata": {},
     "output_type": "execute_result"
    }
   ],
   "source": [
    "preprocessed_df['mealTypeRefined'].unique()"
   ]
  },
  {
   "cell_type": "markdown",
   "id": "fd2b77d7-19ae-459c-a56c-fd2e8433bfb5",
   "metadata": {},
   "source": [
    "There isn't as clear of an order here, though intuitively maybe, but let's just one hot encode it for now."
   ]
  },
  {
   "cell_type": "code",
   "execution_count": 89,
   "id": "2cb70826-85eb-48af-91ea-47b00ed2d24d",
   "metadata": {},
   "outputs": [],
   "source": [
    "from sklearn.preprocessing import OneHotEncoder\n",
    "\n",
    "# Create a OneHotEncoder object\n",
    "onehot_encoder = OneHotEncoder()\n",
    "\n",
    "# Fit and transform the column to one-hot encoded format\n",
    "onehot_encoded = onehot_encoder.fit_transform(preprocessed_df[['mealTypeRefined']])\n",
    "\n",
    "onehot_encoded_array = onehot_encoded.toarray()\n",
    "\n",
    "# Create a DataFrame from the one-hot encoded array\n",
    "onehot_encoded_df = pd.DataFrame(onehot_encoded_array, columns=onehot_encoder.get_feature_names_out(['mealTypeRefined']))"
   ]
  },
  {
   "cell_type": "code",
   "execution_count": 90,
   "id": "bba098d6-af4b-4b77-bdf8-fc5fcd5bea5b",
   "metadata": {},
   "outputs": [
    {
     "data": {
      "text/html": [
       "<div>\n",
       "<style scoped>\n",
       "    .dataframe tbody tr th:only-of-type {\n",
       "        vertical-align: middle;\n",
       "    }\n",
       "\n",
       "    .dataframe tbody tr th {\n",
       "        vertical-align: top;\n",
       "    }\n",
       "\n",
       "    .dataframe thead th {\n",
       "        text-align: right;\n",
       "    }\n",
       "</style>\n",
       "<table border=\"1\" class=\"dataframe\">\n",
       "  <thead>\n",
       "    <tr style=\"text-align: right;\">\n",
       "      <th></th>\n",
       "      <th>mealTypeRefined_breakfast</th>\n",
       "      <th>mealTypeRefined_lunch/dinner</th>\n",
       "      <th>mealTypeRefined_snack</th>\n",
       "    </tr>\n",
       "  </thead>\n",
       "  <tbody>\n",
       "    <tr>\n",
       "      <th>0</th>\n",
       "      <td>0.0</td>\n",
       "      <td>1.0</td>\n",
       "      <td>0.0</td>\n",
       "    </tr>\n",
       "    <tr>\n",
       "      <th>1</th>\n",
       "      <td>0.0</td>\n",
       "      <td>1.0</td>\n",
       "      <td>0.0</td>\n",
       "    </tr>\n",
       "    <tr>\n",
       "      <th>2</th>\n",
       "      <td>0.0</td>\n",
       "      <td>1.0</td>\n",
       "      <td>0.0</td>\n",
       "    </tr>\n",
       "    <tr>\n",
       "      <th>3</th>\n",
       "      <td>0.0</td>\n",
       "      <td>1.0</td>\n",
       "      <td>0.0</td>\n",
       "    </tr>\n",
       "    <tr>\n",
       "      <th>4</th>\n",
       "      <td>0.0</td>\n",
       "      <td>1.0</td>\n",
       "      <td>0.0</td>\n",
       "    </tr>\n",
       "    <tr>\n",
       "      <th>...</th>\n",
       "      <td>...</td>\n",
       "      <td>...</td>\n",
       "      <td>...</td>\n",
       "    </tr>\n",
       "    <tr>\n",
       "      <th>10378</th>\n",
       "      <td>0.0</td>\n",
       "      <td>1.0</td>\n",
       "      <td>0.0</td>\n",
       "    </tr>\n",
       "    <tr>\n",
       "      <th>10379</th>\n",
       "      <td>0.0</td>\n",
       "      <td>1.0</td>\n",
       "      <td>0.0</td>\n",
       "    </tr>\n",
       "    <tr>\n",
       "      <th>10380</th>\n",
       "      <td>0.0</td>\n",
       "      <td>1.0</td>\n",
       "      <td>0.0</td>\n",
       "    </tr>\n",
       "    <tr>\n",
       "      <th>10381</th>\n",
       "      <td>0.0</td>\n",
       "      <td>1.0</td>\n",
       "      <td>0.0</td>\n",
       "    </tr>\n",
       "    <tr>\n",
       "      <th>10382</th>\n",
       "      <td>0.0</td>\n",
       "      <td>1.0</td>\n",
       "      <td>0.0</td>\n",
       "    </tr>\n",
       "  </tbody>\n",
       "</table>\n",
       "<p>10383 rows × 3 columns</p>\n",
       "</div>"
      ],
      "text/plain": [
       "       mealTypeRefined_breakfast  mealTypeRefined_lunch/dinner  \\\n",
       "0                            0.0                           1.0   \n",
       "1                            0.0                           1.0   \n",
       "2                            0.0                           1.0   \n",
       "3                            0.0                           1.0   \n",
       "4                            0.0                           1.0   \n",
       "...                          ...                           ...   \n",
       "10378                        0.0                           1.0   \n",
       "10379                        0.0                           1.0   \n",
       "10380                        0.0                           1.0   \n",
       "10381                        0.0                           1.0   \n",
       "10382                        0.0                           1.0   \n",
       "\n",
       "       mealTypeRefined_snack  \n",
       "0                        0.0  \n",
       "1                        0.0  \n",
       "2                        0.0  \n",
       "3                        0.0  \n",
       "4                        0.0  \n",
       "...                      ...  \n",
       "10378                    0.0  \n",
       "10379                    0.0  \n",
       "10380                    0.0  \n",
       "10381                    0.0  \n",
       "10382                    0.0  \n",
       "\n",
       "[10383 rows x 3 columns]"
      ]
     },
     "execution_count": 90,
     "metadata": {},
     "output_type": "execute_result"
    }
   ],
   "source": [
    "onehot_encoded_df"
   ]
  },
  {
   "cell_type": "code",
   "execution_count": 91,
   "id": "e2137bc2-e6ce-4dd0-b56e-8047915f5fb3",
   "metadata": {},
   "outputs": [],
   "source": [
    "preprocessed_df = pd.concat([onehot_encoded_df, preprocessed_df], axis=1)\n",
    "preprocessed_df = preprocessed_df.drop('mealTypeRefined', axis=1)"
   ]
  },
  {
   "cell_type": "code",
   "execution_count": 92,
   "id": "ddedb319-9eb4-4650-8ca0-e40c92f731ff",
   "metadata": {},
   "outputs": [
    {
     "data": {
      "text/html": [
       "<div>\n",
       "<style scoped>\n",
       "    .dataframe tbody tr th:only-of-type {\n",
       "        vertical-align: middle;\n",
       "    }\n",
       "\n",
       "    .dataframe tbody tr th {\n",
       "        vertical-align: top;\n",
       "    }\n",
       "\n",
       "    .dataframe thead th {\n",
       "        text-align: right;\n",
       "    }\n",
       "</style>\n",
       "<table border=\"1\" class=\"dataframe\">\n",
       "  <thead>\n",
       "    <tr style=\"text-align: right;\">\n",
       "      <th></th>\n",
       "      <th>mealTypeRefined_breakfast</th>\n",
       "      <th>mealTypeRefined_lunch/dinner</th>\n",
       "      <th>mealTypeRefined_snack</th>\n",
       "      <th>label</th>\n",
       "      <th>dishTypeSkewedLabels</th>\n",
       "      <th>calories</th>\n",
       "      <th>calorieLabels</th>\n",
       "    </tr>\n",
       "  </thead>\n",
       "  <tbody>\n",
       "    <tr>\n",
       "      <th>0</th>\n",
       "      <td>0.0</td>\n",
       "      <td>1.0</td>\n",
       "      <td>0.0</td>\n",
       "      <td>Green Beans</td>\n",
       "      <td>1</td>\n",
       "      <td>245.950111</td>\n",
       "      <td>0</td>\n",
       "    </tr>\n",
       "    <tr>\n",
       "      <th>1</th>\n",
       "      <td>0.0</td>\n",
       "      <td>1.0</td>\n",
       "      <td>0.0</td>\n",
       "      <td>Sauteed Green Beans</td>\n",
       "      <td>1</td>\n",
       "      <td>331.965452</td>\n",
       "      <td>1</td>\n",
       "    </tr>\n",
       "    <tr>\n",
       "      <th>2</th>\n",
       "      <td>0.0</td>\n",
       "      <td>1.0</td>\n",
       "      <td>0.0</td>\n",
       "      <td>Caramelized Green Beans</td>\n",
       "      <td>1</td>\n",
       "      <td>1025.432452</td>\n",
       "      <td>3</td>\n",
       "    </tr>\n",
       "    <tr>\n",
       "      <th>3</th>\n",
       "      <td>0.0</td>\n",
       "      <td>1.0</td>\n",
       "      <td>0.0</td>\n",
       "      <td>Sautéed Fresh Green Beans</td>\n",
       "      <td>1</td>\n",
       "      <td>220.173635</td>\n",
       "      <td>0</td>\n",
       "    </tr>\n",
       "    <tr>\n",
       "      <th>4</th>\n",
       "      <td>0.0</td>\n",
       "      <td>1.0</td>\n",
       "      <td>0.0</td>\n",
       "      <td>Fancy Green Beans</td>\n",
       "      <td>1</td>\n",
       "      <td>245.191312</td>\n",
       "      <td>0</td>\n",
       "    </tr>\n",
       "  </tbody>\n",
       "</table>\n",
       "</div>"
      ],
      "text/plain": [
       "   mealTypeRefined_breakfast  mealTypeRefined_lunch/dinner  \\\n",
       "0                        0.0                           1.0   \n",
       "1                        0.0                           1.0   \n",
       "2                        0.0                           1.0   \n",
       "3                        0.0                           1.0   \n",
       "4                        0.0                           1.0   \n",
       "\n",
       "   mealTypeRefined_snack                      label dishTypeSkewedLabels  \\\n",
       "0                    0.0                Green Beans                    1   \n",
       "1                    0.0        Sauteed Green Beans                    1   \n",
       "2                    0.0    Caramelized Green Beans                    1   \n",
       "3                    0.0  Sautéed Fresh Green Beans                    1   \n",
       "4                    0.0          Fancy Green Beans                    1   \n",
       "\n",
       "      calories calorieLabels  \n",
       "0   245.950111             0  \n",
       "1   331.965452             1  \n",
       "2  1025.432452             3  \n",
       "3   220.173635             0  \n",
       "4   245.191312             0  "
      ]
     },
     "execution_count": 92,
     "metadata": {},
     "output_type": "execute_result"
    }
   ],
   "source": [
    "preprocessed_df.head()"
   ]
  },
  {
   "cell_type": "markdown",
   "id": "24ea7bee-1c13-4cd3-8a2d-908a5c2e0563",
   "metadata": {},
   "source": [
    "#### Recipe Names/label"
   ]
  },
  {
   "cell_type": "code",
   "execution_count": 93,
   "id": "14d6d364-beb2-47b8-94c9-439d97bcc316",
   "metadata": {},
   "outputs": [],
   "source": [
    "import nltk\n",
    "from nltk.tokenize import word_tokenize\n",
    "from nltk.corpus import stopwords\n",
    "from nltk.stem import WordNetLemmatizer\n",
    "import string"
   ]
  },
  {
   "cell_type": "code",
   "execution_count": 94,
   "id": "74ec1179-70ed-47c9-ad7d-2e8c491f98d0",
   "metadata": {},
   "outputs": [],
   "source": [
    "english_stop_words = stopwords.words('english')\n",
    "lemmatizer = WordNetLemmatizer()\n",
    "\n",
    "#making a function to remove stop words - taken from the above link\n",
    "def remove_stop_words(review):\n",
    "    #get the words in the review as a list\n",
    "    review_words = review.split()\n",
    "    \n",
    "    #make a new list with the same words but only if they are not a stop word\n",
    "    removed_stop_words_list = [word for word in review_words if word not in english_stop_words]\n",
    "    \n",
    "    removed_stop_words = ' '.join(removed_stop_words_list)\n",
    "    \n",
    "    return removed_stop_words\n",
    "\n",
    "def lemmatizing_reviews(review):\n",
    "    #get review text as a list of words\n",
    "    review_list = review.split()\n",
    "    \n",
    "    #lemmatize the words\n",
    "    lemmatized_list = [lemmatizer.lemmatize(word) for word in review_list]\n",
    "    \n",
    "    #make it into a string again\n",
    "    lemmatized_review = ' '.join(lemmatized_list)\n",
    "    \n",
    "    return lemmatized_review"
   ]
  },
  {
   "cell_type": "code",
   "execution_count": 95,
   "id": "e6b06fc6-7c2c-4249-a8cb-2a745013ef60",
   "metadata": {},
   "outputs": [],
   "source": [
    "recipes = preprocessed_df['label']\n",
    "recipes = recipes.apply(remove_stop_words)\n",
    "recipes = recipes.apply(lemmatizing_reviews)\n",
    "recipes = recipes.apply(lambda x: word_tokenize(x))"
   ]
  },
  {
   "cell_type": "code",
   "execution_count": 96,
   "id": "f14a078f-d2b9-4f55-b2d7-501dd9e6e0fa",
   "metadata": {},
   "outputs": [],
   "source": [
    "preprocessed_df.loc[:, 'label'] = recipes"
   ]
  },
  {
   "cell_type": "code",
   "execution_count": 97,
   "id": "9b86522c-af36-4fce-af0f-2fab76d7b5c7",
   "metadata": {},
   "outputs": [
    {
     "data": {
      "text/html": [
       "<div>\n",
       "<style scoped>\n",
       "    .dataframe tbody tr th:only-of-type {\n",
       "        vertical-align: middle;\n",
       "    }\n",
       "\n",
       "    .dataframe tbody tr th {\n",
       "        vertical-align: top;\n",
       "    }\n",
       "\n",
       "    .dataframe thead th {\n",
       "        text-align: right;\n",
       "    }\n",
       "</style>\n",
       "<table border=\"1\" class=\"dataframe\">\n",
       "  <thead>\n",
       "    <tr style=\"text-align: right;\">\n",
       "      <th></th>\n",
       "      <th>mealTypeRefined_breakfast</th>\n",
       "      <th>mealTypeRefined_lunch/dinner</th>\n",
       "      <th>mealTypeRefined_snack</th>\n",
       "      <th>label</th>\n",
       "      <th>dishTypeSkewedLabels</th>\n",
       "      <th>calories</th>\n",
       "      <th>calorieLabels</th>\n",
       "    </tr>\n",
       "  </thead>\n",
       "  <tbody>\n",
       "    <tr>\n",
       "      <th>0</th>\n",
       "      <td>0.0</td>\n",
       "      <td>1.0</td>\n",
       "      <td>0.0</td>\n",
       "      <td>[Green, Beans]</td>\n",
       "      <td>1</td>\n",
       "      <td>245.950111</td>\n",
       "      <td>0</td>\n",
       "    </tr>\n",
       "    <tr>\n",
       "      <th>1</th>\n",
       "      <td>0.0</td>\n",
       "      <td>1.0</td>\n",
       "      <td>0.0</td>\n",
       "      <td>[Sauteed, Green, Beans]</td>\n",
       "      <td>1</td>\n",
       "      <td>331.965452</td>\n",
       "      <td>1</td>\n",
       "    </tr>\n",
       "    <tr>\n",
       "      <th>2</th>\n",
       "      <td>0.0</td>\n",
       "      <td>1.0</td>\n",
       "      <td>0.0</td>\n",
       "      <td>[Caramelized, Green, Beans]</td>\n",
       "      <td>1</td>\n",
       "      <td>1025.432452</td>\n",
       "      <td>3</td>\n",
       "    </tr>\n",
       "    <tr>\n",
       "      <th>3</th>\n",
       "      <td>0.0</td>\n",
       "      <td>1.0</td>\n",
       "      <td>0.0</td>\n",
       "      <td>[Sautéed, Fresh, Green, Beans]</td>\n",
       "      <td>1</td>\n",
       "      <td>220.173635</td>\n",
       "      <td>0</td>\n",
       "    </tr>\n",
       "    <tr>\n",
       "      <th>4</th>\n",
       "      <td>0.0</td>\n",
       "      <td>1.0</td>\n",
       "      <td>0.0</td>\n",
       "      <td>[Fancy, Green, Beans]</td>\n",
       "      <td>1</td>\n",
       "      <td>245.191312</td>\n",
       "      <td>0</td>\n",
       "    </tr>\n",
       "  </tbody>\n",
       "</table>\n",
       "</div>"
      ],
      "text/plain": [
       "   mealTypeRefined_breakfast  mealTypeRefined_lunch/dinner  \\\n",
       "0                        0.0                           1.0   \n",
       "1                        0.0                           1.0   \n",
       "2                        0.0                           1.0   \n",
       "3                        0.0                           1.0   \n",
       "4                        0.0                           1.0   \n",
       "\n",
       "   mealTypeRefined_snack                           label dishTypeSkewedLabels  \\\n",
       "0                    0.0                  [Green, Beans]                    1   \n",
       "1                    0.0         [Sauteed, Green, Beans]                    1   \n",
       "2                    0.0     [Caramelized, Green, Beans]                    1   \n",
       "3                    0.0  [Sautéed, Fresh, Green, Beans]                    1   \n",
       "4                    0.0           [Fancy, Green, Beans]                    1   \n",
       "\n",
       "      calories calorieLabels  \n",
       "0   245.950111             0  \n",
       "1   331.965452             1  \n",
       "2  1025.432452             3  \n",
       "3   220.173635             0  \n",
       "4   245.191312             0  "
      ]
     },
     "execution_count": 97,
     "metadata": {},
     "output_type": "execute_result"
    }
   ],
   "source": [
    "preprocessed_df.head()"
   ]
  },
  {
   "cell_type": "markdown",
   "id": "b5a01dcc-232c-44ea-8f54-94e2e69fc177",
   "metadata": {},
   "source": [
    "## Modeling\n",
    "\n",
    "First let's do the standard initial step of getting our data ready and splitting it into training and testing sets."
   ]
  },
  {
   "cell_type": "code",
   "execution_count": 98,
   "id": "52e7a2ea-c77b-444e-a3db-e04094c6f05b",
   "metadata": {},
   "outputs": [],
   "source": [
    "from sklearn.model_selection import train_test_split\n",
    "from sklearn.feature_extraction.text import TfidfVectorizer\n",
    "from sklearn.metrics import cohen_kappa_score, make_scorer, accuracy_score, r2_score\n",
    "from sklearn.model_selection import GridSearchCV\n",
    "\n",
    "from xgboost import XGBClassifier\n",
    "\n",
    "seed = 42"
   ]
  },
  {
   "cell_type": "code",
   "execution_count": 99,
   "id": "4cba5e62-734c-4264-909c-6e73ea76769c",
   "metadata": {},
   "outputs": [
    {
     "data": {
      "text/plain": [
       "mealTypeRefined_breakfast        float64\n",
       "mealTypeRefined_lunch/dinner     float64\n",
       "mealTypeRefined_snack            float64\n",
       "label                             object\n",
       "dishTypeSkewedLabels              object\n",
       "calories                         float64\n",
       "calorieLabels                   category\n",
       "dtype: object"
      ]
     },
     "execution_count": 99,
     "metadata": {},
     "output_type": "execute_result"
    }
   ],
   "source": [
    "preprocessed_df.dtypes"
   ]
  },
  {
   "cell_type": "markdown",
   "id": "f0672f34-bfd6-4a0a-9100-5f13d38ab82f",
   "metadata": {},
   "source": [
    "We need to fix the columns that aren't floats or ints."
   ]
  },
  {
   "cell_type": "code",
   "execution_count": 100,
   "id": "41bdd1e6-7ca9-4ffe-a1cd-ee18add9ede4",
   "metadata": {},
   "outputs": [],
   "source": [
    "preprocessed_df['dishTypeSkewedLabels'] = preprocessed_df['dishTypeSkewedLabels'].astype(int)\n",
    "preprocessed_df['calorieLabels'] = preprocessed_df['calorieLabels'].astype(int)"
   ]
  },
  {
   "cell_type": "code",
   "execution_count": 101,
   "id": "dec9be3c-e43a-408c-99e6-0731f3f5c12f",
   "metadata": {},
   "outputs": [
    {
     "data": {
      "text/plain": [
       "mealTypeRefined_breakfast       float64\n",
       "mealTypeRefined_lunch/dinner    float64\n",
       "mealTypeRefined_snack           float64\n",
       "label                            object\n",
       "dishTypeSkewedLabels              int32\n",
       "calories                        float64\n",
       "calorieLabels                     int32\n",
       "dtype: object"
      ]
     },
     "execution_count": 101,
     "metadata": {},
     "output_type": "execute_result"
    }
   ],
   "source": [
    "preprocessed_df.dtypes"
   ]
  },
  {
   "cell_type": "markdown",
   "id": "d7ec9236-de54-4b2f-a579-0e9bb1f99429",
   "metadata": {},
   "source": [
    "Now we need to process the label or recipe names using bag of words or tfidf, but we want to fit them only on training data first. "
   ]
  },
  {
   "cell_type": "code",
   "execution_count": 119,
   "id": "c12b85be-33df-402d-a18f-00d23ce92153",
   "metadata": {},
   "outputs": [],
   "source": [
    "def get_training_testing_data(df, X_columns, y_column, test_size=0.20, random_state=42):\n",
    "    X = df[X_columns]\n",
    "    y = df[y_column]\n",
    "    \n",
    "    X_train, X_test, y_train, y_test = train_test_split(X, y, test_size=test_size, random_state=random_state)\n",
    "    \n",
    "    X_train = X_train.reset_index(drop=True)\n",
    "    X_test = X_test.reset_index(drop=True)\n",
    "    y_train = y_train.reset_index(drop=True)\n",
    "    y_test = y_test.reset_index(drop=True)\n",
    "    \n",
    "    tfidf = TfidfVectorizer()\n",
    "    \n",
    "    tfidf_X_train_labels = tfidf.fit_transform(X_train['label'].str.join(' '))\n",
    "    tfidf_X_test_labels = tfidf.transform(X_test['label'].str.join(' '))\n",
    "\n",
    "    tfidf_train_df = pd.DataFrame(tfidf_X_train_labels.toarray(), columns=tfidf.get_feature_names_out())\n",
    "    tfidf_test_df = pd.DataFrame(tfidf_X_test_labels.toarray(), columns=tfidf.get_feature_names_out())\n",
    "    \n",
    "    X_train_tfidf = pd.concat([tfidf_train_df, X_train.drop('label', axis=1)], axis=1)\n",
    "    X_test_tfidf = pd.concat([tfidf_test_df, X_test.drop('label', axis=1)], axis=1)\n",
    "\n",
    "    return X_train_tfidf, X_test_tfidf, y_train, y_test"
   ]
  },
  {
   "cell_type": "markdown",
   "id": "e4283e97-cf7d-4344-ae9b-f84f674a890f",
   "metadata": {},
   "source": [
    "### XGBoost\n",
    "\n",
    "#### Classification"
   ]
  },
  {
   "cell_type": "code",
   "execution_count": 313,
   "id": "09c6a3ad-39ea-41e8-a67e-a24eceab7c5c",
   "metadata": {},
   "outputs": [],
   "source": [
    "kappa_scorer = make_scorer(cohen_kappa_score)"
   ]
  },
  {
   "cell_type": "code",
   "execution_count": 312,
   "id": "b0975539-4c47-4430-9d57-695e70505c04",
   "metadata": {},
   "outputs": [],
   "source": [
    "X_cols = ['mealTypeRefined_breakfast', 'mealTypeRefined_lunch/dinner', 'mealTypeRefined_snack', 'label', 'dishTypeSkewedLabels']\n",
    "y_col = 'calorieLabels'\n",
    "X_train, X_test, y_train, y_test = get_training_testing_data(preprocessed_df, X_cols, y_col)"
   ]
  },
  {
   "cell_type": "code",
   "execution_count": 314,
   "id": "f4798bff-5ef9-4024-8d0f-c5946ea49721",
   "metadata": {},
   "outputs": [
    {
     "data": {
      "text/html": [
       "<style>#sk-container-id-4 {\n",
       "  /* Definition of color scheme common for light and dark mode */\n",
       "  --sklearn-color-text: black;\n",
       "  --sklearn-color-line: gray;\n",
       "  /* Definition of color scheme for unfitted estimators */\n",
       "  --sklearn-color-unfitted-level-0: #fff5e6;\n",
       "  --sklearn-color-unfitted-level-1: #f6e4d2;\n",
       "  --sklearn-color-unfitted-level-2: #ffe0b3;\n",
       "  --sklearn-color-unfitted-level-3: chocolate;\n",
       "  /* Definition of color scheme for fitted estimators */\n",
       "  --sklearn-color-fitted-level-0: #f0f8ff;\n",
       "  --sklearn-color-fitted-level-1: #d4ebff;\n",
       "  --sklearn-color-fitted-level-2: #b3dbfd;\n",
       "  --sklearn-color-fitted-level-3: cornflowerblue;\n",
       "\n",
       "  /* Specific color for light theme */\n",
       "  --sklearn-color-text-on-default-background: var(--sg-text-color, var(--theme-code-foreground, var(--jp-content-font-color1, black)));\n",
       "  --sklearn-color-background: var(--sg-background-color, var(--theme-background, var(--jp-layout-color0, white)));\n",
       "  --sklearn-color-border-box: var(--sg-text-color, var(--theme-code-foreground, var(--jp-content-font-color1, black)));\n",
       "  --sklearn-color-icon: #696969;\n",
       "\n",
       "  @media (prefers-color-scheme: dark) {\n",
       "    /* Redefinition of color scheme for dark theme */\n",
       "    --sklearn-color-text-on-default-background: var(--sg-text-color, var(--theme-code-foreground, var(--jp-content-font-color1, white)));\n",
       "    --sklearn-color-background: var(--sg-background-color, var(--theme-background, var(--jp-layout-color0, #111)));\n",
       "    --sklearn-color-border-box: var(--sg-text-color, var(--theme-code-foreground, var(--jp-content-font-color1, white)));\n",
       "    --sklearn-color-icon: #878787;\n",
       "  }\n",
       "}\n",
       "\n",
       "#sk-container-id-4 {\n",
       "  color: var(--sklearn-color-text);\n",
       "}\n",
       "\n",
       "#sk-container-id-4 pre {\n",
       "  padding: 0;\n",
       "}\n",
       "\n",
       "#sk-container-id-4 input.sk-hidden--visually {\n",
       "  border: 0;\n",
       "  clip: rect(1px 1px 1px 1px);\n",
       "  clip: rect(1px, 1px, 1px, 1px);\n",
       "  height: 1px;\n",
       "  margin: -1px;\n",
       "  overflow: hidden;\n",
       "  padding: 0;\n",
       "  position: absolute;\n",
       "  width: 1px;\n",
       "}\n",
       "\n",
       "#sk-container-id-4 div.sk-dashed-wrapped {\n",
       "  border: 1px dashed var(--sklearn-color-line);\n",
       "  margin: 0 0.4em 0.5em 0.4em;\n",
       "  box-sizing: border-box;\n",
       "  padding-bottom: 0.4em;\n",
       "  background-color: var(--sklearn-color-background);\n",
       "}\n",
       "\n",
       "#sk-container-id-4 div.sk-container {\n",
       "  /* jupyter's `normalize.less` sets `[hidden] { display: none; }`\n",
       "     but bootstrap.min.css set `[hidden] { display: none !important; }`\n",
       "     so we also need the `!important` here to be able to override the\n",
       "     default hidden behavior on the sphinx rendered scikit-learn.org.\n",
       "     See: https://github.com/scikit-learn/scikit-learn/issues/21755 */\n",
       "  display: inline-block !important;\n",
       "  position: relative;\n",
       "}\n",
       "\n",
       "#sk-container-id-4 div.sk-text-repr-fallback {\n",
       "  display: none;\n",
       "}\n",
       "\n",
       "div.sk-parallel-item,\n",
       "div.sk-serial,\n",
       "div.sk-item {\n",
       "  /* draw centered vertical line to link estimators */\n",
       "  background-image: linear-gradient(var(--sklearn-color-text-on-default-background), var(--sklearn-color-text-on-default-background));\n",
       "  background-size: 2px 100%;\n",
       "  background-repeat: no-repeat;\n",
       "  background-position: center center;\n",
       "}\n",
       "\n",
       "/* Parallel-specific style estimator block */\n",
       "\n",
       "#sk-container-id-4 div.sk-parallel-item::after {\n",
       "  content: \"\";\n",
       "  width: 100%;\n",
       "  border-bottom: 2px solid var(--sklearn-color-text-on-default-background);\n",
       "  flex-grow: 1;\n",
       "}\n",
       "\n",
       "#sk-container-id-4 div.sk-parallel {\n",
       "  display: flex;\n",
       "  align-items: stretch;\n",
       "  justify-content: center;\n",
       "  background-color: var(--sklearn-color-background);\n",
       "  position: relative;\n",
       "}\n",
       "\n",
       "#sk-container-id-4 div.sk-parallel-item {\n",
       "  display: flex;\n",
       "  flex-direction: column;\n",
       "}\n",
       "\n",
       "#sk-container-id-4 div.sk-parallel-item:first-child::after {\n",
       "  align-self: flex-end;\n",
       "  width: 50%;\n",
       "}\n",
       "\n",
       "#sk-container-id-4 div.sk-parallel-item:last-child::after {\n",
       "  align-self: flex-start;\n",
       "  width: 50%;\n",
       "}\n",
       "\n",
       "#sk-container-id-4 div.sk-parallel-item:only-child::after {\n",
       "  width: 0;\n",
       "}\n",
       "\n",
       "/* Serial-specific style estimator block */\n",
       "\n",
       "#sk-container-id-4 div.sk-serial {\n",
       "  display: flex;\n",
       "  flex-direction: column;\n",
       "  align-items: center;\n",
       "  background-color: var(--sklearn-color-background);\n",
       "  padding-right: 1em;\n",
       "  padding-left: 1em;\n",
       "}\n",
       "\n",
       "\n",
       "/* Toggleable style: style used for estimator/Pipeline/ColumnTransformer box that is\n",
       "clickable and can be expanded/collapsed.\n",
       "- Pipeline and ColumnTransformer use this feature and define the default style\n",
       "- Estimators will overwrite some part of the style using the `sk-estimator` class\n",
       "*/\n",
       "\n",
       "/* Pipeline and ColumnTransformer style (default) */\n",
       "\n",
       "#sk-container-id-4 div.sk-toggleable {\n",
       "  /* Default theme specific background. It is overwritten whether we have a\n",
       "  specific estimator or a Pipeline/ColumnTransformer */\n",
       "  background-color: var(--sklearn-color-background);\n",
       "}\n",
       "\n",
       "/* Toggleable label */\n",
       "#sk-container-id-4 label.sk-toggleable__label {\n",
       "  cursor: pointer;\n",
       "  display: block;\n",
       "  width: 100%;\n",
       "  margin-bottom: 0;\n",
       "  padding: 0.5em;\n",
       "  box-sizing: border-box;\n",
       "  text-align: center;\n",
       "}\n",
       "\n",
       "#sk-container-id-4 label.sk-toggleable__label-arrow:before {\n",
       "  /* Arrow on the left of the label */\n",
       "  content: \"▸\";\n",
       "  float: left;\n",
       "  margin-right: 0.25em;\n",
       "  color: var(--sklearn-color-icon);\n",
       "}\n",
       "\n",
       "#sk-container-id-4 label.sk-toggleable__label-arrow:hover:before {\n",
       "  color: var(--sklearn-color-text);\n",
       "}\n",
       "\n",
       "/* Toggleable content - dropdown */\n",
       "\n",
       "#sk-container-id-4 div.sk-toggleable__content {\n",
       "  max-height: 0;\n",
       "  max-width: 0;\n",
       "  overflow: hidden;\n",
       "  text-align: left;\n",
       "  /* unfitted */\n",
       "  background-color: var(--sklearn-color-unfitted-level-0);\n",
       "}\n",
       "\n",
       "#sk-container-id-4 div.sk-toggleable__content.fitted {\n",
       "  /* fitted */\n",
       "  background-color: var(--sklearn-color-fitted-level-0);\n",
       "}\n",
       "\n",
       "#sk-container-id-4 div.sk-toggleable__content pre {\n",
       "  margin: 0.2em;\n",
       "  border-radius: 0.25em;\n",
       "  color: var(--sklearn-color-text);\n",
       "  /* unfitted */\n",
       "  background-color: var(--sklearn-color-unfitted-level-0);\n",
       "}\n",
       "\n",
       "#sk-container-id-4 div.sk-toggleable__content.fitted pre {\n",
       "  /* unfitted */\n",
       "  background-color: var(--sklearn-color-fitted-level-0);\n",
       "}\n",
       "\n",
       "#sk-container-id-4 input.sk-toggleable__control:checked~div.sk-toggleable__content {\n",
       "  /* Expand drop-down */\n",
       "  max-height: 200px;\n",
       "  max-width: 100%;\n",
       "  overflow: auto;\n",
       "}\n",
       "\n",
       "#sk-container-id-4 input.sk-toggleable__control:checked~label.sk-toggleable__label-arrow:before {\n",
       "  content: \"▾\";\n",
       "}\n",
       "\n",
       "/* Pipeline/ColumnTransformer-specific style */\n",
       "\n",
       "#sk-container-id-4 div.sk-label input.sk-toggleable__control:checked~label.sk-toggleable__label {\n",
       "  color: var(--sklearn-color-text);\n",
       "  background-color: var(--sklearn-color-unfitted-level-2);\n",
       "}\n",
       "\n",
       "#sk-container-id-4 div.sk-label.fitted input.sk-toggleable__control:checked~label.sk-toggleable__label {\n",
       "  background-color: var(--sklearn-color-fitted-level-2);\n",
       "}\n",
       "\n",
       "/* Estimator-specific style */\n",
       "\n",
       "/* Colorize estimator box */\n",
       "#sk-container-id-4 div.sk-estimator input.sk-toggleable__control:checked~label.sk-toggleable__label {\n",
       "  /* unfitted */\n",
       "  background-color: var(--sklearn-color-unfitted-level-2);\n",
       "}\n",
       "\n",
       "#sk-container-id-4 div.sk-estimator.fitted input.sk-toggleable__control:checked~label.sk-toggleable__label {\n",
       "  /* fitted */\n",
       "  background-color: var(--sklearn-color-fitted-level-2);\n",
       "}\n",
       "\n",
       "#sk-container-id-4 div.sk-label label.sk-toggleable__label,\n",
       "#sk-container-id-4 div.sk-label label {\n",
       "  /* The background is the default theme color */\n",
       "  color: var(--sklearn-color-text-on-default-background);\n",
       "}\n",
       "\n",
       "/* On hover, darken the color of the background */\n",
       "#sk-container-id-4 div.sk-label:hover label.sk-toggleable__label {\n",
       "  color: var(--sklearn-color-text);\n",
       "  background-color: var(--sklearn-color-unfitted-level-2);\n",
       "}\n",
       "\n",
       "/* Label box, darken color on hover, fitted */\n",
       "#sk-container-id-4 div.sk-label.fitted:hover label.sk-toggleable__label.fitted {\n",
       "  color: var(--sklearn-color-text);\n",
       "  background-color: var(--sklearn-color-fitted-level-2);\n",
       "}\n",
       "\n",
       "/* Estimator label */\n",
       "\n",
       "#sk-container-id-4 div.sk-label label {\n",
       "  font-family: monospace;\n",
       "  font-weight: bold;\n",
       "  display: inline-block;\n",
       "  line-height: 1.2em;\n",
       "}\n",
       "\n",
       "#sk-container-id-4 div.sk-label-container {\n",
       "  text-align: center;\n",
       "}\n",
       "\n",
       "/* Estimator-specific */\n",
       "#sk-container-id-4 div.sk-estimator {\n",
       "  font-family: monospace;\n",
       "  border: 1px dotted var(--sklearn-color-border-box);\n",
       "  border-radius: 0.25em;\n",
       "  box-sizing: border-box;\n",
       "  margin-bottom: 0.5em;\n",
       "  /* unfitted */\n",
       "  background-color: var(--sklearn-color-unfitted-level-0);\n",
       "}\n",
       "\n",
       "#sk-container-id-4 div.sk-estimator.fitted {\n",
       "  /* fitted */\n",
       "  background-color: var(--sklearn-color-fitted-level-0);\n",
       "}\n",
       "\n",
       "/* on hover */\n",
       "#sk-container-id-4 div.sk-estimator:hover {\n",
       "  /* unfitted */\n",
       "  background-color: var(--sklearn-color-unfitted-level-2);\n",
       "}\n",
       "\n",
       "#sk-container-id-4 div.sk-estimator.fitted:hover {\n",
       "  /* fitted */\n",
       "  background-color: var(--sklearn-color-fitted-level-2);\n",
       "}\n",
       "\n",
       "/* Specification for estimator info (e.g. \"i\" and \"?\") */\n",
       "\n",
       "/* Common style for \"i\" and \"?\" */\n",
       "\n",
       ".sk-estimator-doc-link,\n",
       "a:link.sk-estimator-doc-link,\n",
       "a:visited.sk-estimator-doc-link {\n",
       "  float: right;\n",
       "  font-size: smaller;\n",
       "  line-height: 1em;\n",
       "  font-family: monospace;\n",
       "  background-color: var(--sklearn-color-background);\n",
       "  border-radius: 1em;\n",
       "  height: 1em;\n",
       "  width: 1em;\n",
       "  text-decoration: none !important;\n",
       "  margin-left: 1ex;\n",
       "  /* unfitted */\n",
       "  border: var(--sklearn-color-unfitted-level-1) 1pt solid;\n",
       "  color: var(--sklearn-color-unfitted-level-1);\n",
       "}\n",
       "\n",
       ".sk-estimator-doc-link.fitted,\n",
       "a:link.sk-estimator-doc-link.fitted,\n",
       "a:visited.sk-estimator-doc-link.fitted {\n",
       "  /* fitted */\n",
       "  border: var(--sklearn-color-fitted-level-1) 1pt solid;\n",
       "  color: var(--sklearn-color-fitted-level-1);\n",
       "}\n",
       "\n",
       "/* On hover */\n",
       "div.sk-estimator:hover .sk-estimator-doc-link:hover,\n",
       ".sk-estimator-doc-link:hover,\n",
       "div.sk-label-container:hover .sk-estimator-doc-link:hover,\n",
       ".sk-estimator-doc-link:hover {\n",
       "  /* unfitted */\n",
       "  background-color: var(--sklearn-color-unfitted-level-3);\n",
       "  color: var(--sklearn-color-background);\n",
       "  text-decoration: none;\n",
       "}\n",
       "\n",
       "div.sk-estimator.fitted:hover .sk-estimator-doc-link.fitted:hover,\n",
       ".sk-estimator-doc-link.fitted:hover,\n",
       "div.sk-label-container:hover .sk-estimator-doc-link.fitted:hover,\n",
       ".sk-estimator-doc-link.fitted:hover {\n",
       "  /* fitted */\n",
       "  background-color: var(--sklearn-color-fitted-level-3);\n",
       "  color: var(--sklearn-color-background);\n",
       "  text-decoration: none;\n",
       "}\n",
       "\n",
       "/* Span, style for the box shown on hovering the info icon */\n",
       ".sk-estimator-doc-link span {\n",
       "  display: none;\n",
       "  z-index: 9999;\n",
       "  position: relative;\n",
       "  font-weight: normal;\n",
       "  right: .2ex;\n",
       "  padding: .5ex;\n",
       "  margin: .5ex;\n",
       "  width: min-content;\n",
       "  min-width: 20ex;\n",
       "  max-width: 50ex;\n",
       "  color: var(--sklearn-color-text);\n",
       "  box-shadow: 2pt 2pt 4pt #999;\n",
       "  /* unfitted */\n",
       "  background: var(--sklearn-color-unfitted-level-0);\n",
       "  border: .5pt solid var(--sklearn-color-unfitted-level-3);\n",
       "}\n",
       "\n",
       ".sk-estimator-doc-link.fitted span {\n",
       "  /* fitted */\n",
       "  background: var(--sklearn-color-fitted-level-0);\n",
       "  border: var(--sklearn-color-fitted-level-3);\n",
       "}\n",
       "\n",
       ".sk-estimator-doc-link:hover span {\n",
       "  display: block;\n",
       "}\n",
       "\n",
       "/* \"?\"-specific style due to the `<a>` HTML tag */\n",
       "\n",
       "#sk-container-id-4 a.estimator_doc_link {\n",
       "  float: right;\n",
       "  font-size: 1rem;\n",
       "  line-height: 1em;\n",
       "  font-family: monospace;\n",
       "  background-color: var(--sklearn-color-background);\n",
       "  border-radius: 1rem;\n",
       "  height: 1rem;\n",
       "  width: 1rem;\n",
       "  text-decoration: none;\n",
       "  /* unfitted */\n",
       "  color: var(--sklearn-color-unfitted-level-1);\n",
       "  border: var(--sklearn-color-unfitted-level-1) 1pt solid;\n",
       "}\n",
       "\n",
       "#sk-container-id-4 a.estimator_doc_link.fitted {\n",
       "  /* fitted */\n",
       "  border: var(--sklearn-color-fitted-level-1) 1pt solid;\n",
       "  color: var(--sklearn-color-fitted-level-1);\n",
       "}\n",
       "\n",
       "/* On hover */\n",
       "#sk-container-id-4 a.estimator_doc_link:hover {\n",
       "  /* unfitted */\n",
       "  background-color: var(--sklearn-color-unfitted-level-3);\n",
       "  color: var(--sklearn-color-background);\n",
       "  text-decoration: none;\n",
       "}\n",
       "\n",
       "#sk-container-id-4 a.estimator_doc_link.fitted:hover {\n",
       "  /* fitted */\n",
       "  background-color: var(--sklearn-color-fitted-level-3);\n",
       "}\n",
       "</style><div id=\"sk-container-id-4\" class=\"sk-top-container\"><div class=\"sk-text-repr-fallback\"><pre>XGBClassifier(base_score=None, booster=None, callbacks=None,\n",
       "              colsample_bylevel=None, colsample_bynode=None,\n",
       "              colsample_bytree=None, device=&#x27;cuda&#x27;, early_stopping_rounds=None,\n",
       "              enable_categorical=False, eval_metric=None, feature_types=None,\n",
       "              gamma=None, grow_policy=None, importance_type=None,\n",
       "              interaction_constraints=None, learning_rate=None, max_bin=None,\n",
       "              max_cat_threshold=None, max_cat_to_onehot=None,\n",
       "              max_delta_step=None, max_depth=None, max_leaves=None,\n",
       "              min_child_weight=None, missing=nan, monotone_constraints=None,\n",
       "              multi_strategy=None, n_estimators=None, n_jobs=None, num_class=13,\n",
       "              num_parallel_tree=None, ...)</pre><b>In a Jupyter environment, please rerun this cell to show the HTML representation or trust the notebook. <br />On GitHub, the HTML representation is unable to render, please try loading this page with nbviewer.org.</b></div><div class=\"sk-container\" hidden><div class=\"sk-item\"><div class=\"sk-estimator fitted sk-toggleable\"><input class=\"sk-toggleable__control sk-hidden--visually\" id=\"sk-estimator-id-6\" type=\"checkbox\" checked><label for=\"sk-estimator-id-6\" class=\"sk-toggleable__label fitted sk-toggleable__label-arrow fitted\">&nbsp;XGBClassifier<span class=\"sk-estimator-doc-link fitted\">i<span>Fitted</span></span></label><div class=\"sk-toggleable__content fitted\"><pre>XGBClassifier(base_score=None, booster=None, callbacks=None,\n",
       "              colsample_bylevel=None, colsample_bynode=None,\n",
       "              colsample_bytree=None, device=&#x27;cuda&#x27;, early_stopping_rounds=None,\n",
       "              enable_categorical=False, eval_metric=None, feature_types=None,\n",
       "              gamma=None, grow_policy=None, importance_type=None,\n",
       "              interaction_constraints=None, learning_rate=None, max_bin=None,\n",
       "              max_cat_threshold=None, max_cat_to_onehot=None,\n",
       "              max_delta_step=None, max_depth=None, max_leaves=None,\n",
       "              min_child_weight=None, missing=nan, monotone_constraints=None,\n",
       "              multi_strategy=None, n_estimators=None, n_jobs=None, num_class=13,\n",
       "              num_parallel_tree=None, ...)</pre></div> </div></div></div></div>"
      ],
      "text/plain": [
       "XGBClassifier(base_score=None, booster=None, callbacks=None,\n",
       "              colsample_bylevel=None, colsample_bynode=None,\n",
       "              colsample_bytree=None, device='cuda', early_stopping_rounds=None,\n",
       "              enable_categorical=False, eval_metric=None, feature_types=None,\n",
       "              gamma=None, grow_policy=None, importance_type=None,\n",
       "              interaction_constraints=None, learning_rate=None, max_bin=None,\n",
       "              max_cat_threshold=None, max_cat_to_onehot=None,\n",
       "              max_delta_step=None, max_depth=None, max_leaves=None,\n",
       "              min_child_weight=None, missing=nan, monotone_constraints=None,\n",
       "              multi_strategy=None, n_estimators=None, n_jobs=None, num_class=13,\n",
       "              num_parallel_tree=None, ...)"
      ]
     },
     "execution_count": 314,
     "metadata": {},
     "output_type": "execute_result"
    }
   ],
   "source": [
    "xgb_clf = XGBClassifier(objective='multi:softmax', \n",
    "                             num_class=13, \n",
    "                             random_state=seed, \n",
    "                             device = \"cuda\")\n",
    "\n",
    "xgb_clf.fit(X_train_tfidf, y_train)"
   ]
  },
  {
   "cell_type": "code",
   "execution_count": 315,
   "id": "605f8460-9a85-4744-ba72-f56f6b8d18ed",
   "metadata": {},
   "outputs": [
    {
     "name": "stdout",
     "output_type": "stream",
     "text": [
      "Accuracy training set score for xgboost after GridSearch: 0.543944136768601\n",
      "Accuracy testing set score for xgboost after GridSearch: 0.18006740491092924\n"
     ]
    }
   ],
   "source": [
    "print('Accuracy training set score for xgboost after GridSearch:', accuracy_score(xgb_clf.predict(X_train_tfidf), y_train))\n",
    "\n",
    "y_pred = xgb_clf.predict(X_test_tfidf)\n",
    "\n",
    "print('Accuracy testing set score for xgboost after GridSearch:', accuracy_score(y_pred, y_test))"
   ]
  },
  {
   "cell_type": "code",
   "execution_count": 319,
   "id": "12097de6-348e-45ea-9d1e-47b55c8d0a5b",
   "metadata": {},
   "outputs": [
    {
     "name": "stdout",
     "output_type": "stream",
     "text": [
      "Kappa training set score for xgboost after GridSearch: 0.4885705666446992\n",
      "Kappa testing set score for xgboost after GridSearch: 0.07910835371655967\n"
     ]
    }
   ],
   "source": [
    "print('Kappa training set score for xgboost after GridSearch:', cohen_kappa_score(xgb_clf.predict(X_train_tfidf), y_train))\n",
    "print('Kappa testing set score for xgboost after GridSearch:', cohen_kappa_score(y_pred, y_test))"
   ]
  },
  {
   "cell_type": "code",
   "execution_count": 321,
   "id": "6cd36846-5015-4d23-aa0c-d4a270b33cdb",
   "metadata": {},
   "outputs": [
    {
     "data": {
      "text/plain": [
       "Counter({2: 555,\n",
       "         1: 340,\n",
       "         3: 275,\n",
       "         4: 233,\n",
       "         5: 171,\n",
       "         0: 128,\n",
       "         6: 117,\n",
       "         7: 82,\n",
       "         8: 74,\n",
       "         9: 40,\n",
       "         10: 32,\n",
       "         11: 16,\n",
       "         12: 14})"
      ]
     },
     "execution_count": 321,
     "metadata": {},
     "output_type": "execute_result"
    }
   ],
   "source": [
    "Counter(y_pred)"
   ]
  },
  {
   "cell_type": "markdown",
   "id": "f01ca141-6f08-4510-8135-d5c848f8d110",
   "metadata": {},
   "source": [
    "So it makes predictions for each class at least. "
   ]
  },
  {
   "cell_type": "markdown",
   "id": "e1eb9308-9554-49e8-ba1a-e0736662befd",
   "metadata": {},
   "source": [
    "Grid Search"
   ]
  },
  {
   "cell_type": "code",
   "execution_count": 330,
   "id": "f6799046-5a65-4442-8e22-eda01b627626",
   "metadata": {},
   "outputs": [
    {
     "data": {
      "text/html": [
       "<style>#sk-container-id-7 {\n",
       "  /* Definition of color scheme common for light and dark mode */\n",
       "  --sklearn-color-text: black;\n",
       "  --sklearn-color-line: gray;\n",
       "  /* Definition of color scheme for unfitted estimators */\n",
       "  --sklearn-color-unfitted-level-0: #fff5e6;\n",
       "  --sklearn-color-unfitted-level-1: #f6e4d2;\n",
       "  --sklearn-color-unfitted-level-2: #ffe0b3;\n",
       "  --sklearn-color-unfitted-level-3: chocolate;\n",
       "  /* Definition of color scheme for fitted estimators */\n",
       "  --sklearn-color-fitted-level-0: #f0f8ff;\n",
       "  --sklearn-color-fitted-level-1: #d4ebff;\n",
       "  --sklearn-color-fitted-level-2: #b3dbfd;\n",
       "  --sklearn-color-fitted-level-3: cornflowerblue;\n",
       "\n",
       "  /* Specific color for light theme */\n",
       "  --sklearn-color-text-on-default-background: var(--sg-text-color, var(--theme-code-foreground, var(--jp-content-font-color1, black)));\n",
       "  --sklearn-color-background: var(--sg-background-color, var(--theme-background, var(--jp-layout-color0, white)));\n",
       "  --sklearn-color-border-box: var(--sg-text-color, var(--theme-code-foreground, var(--jp-content-font-color1, black)));\n",
       "  --sklearn-color-icon: #696969;\n",
       "\n",
       "  @media (prefers-color-scheme: dark) {\n",
       "    /* Redefinition of color scheme for dark theme */\n",
       "    --sklearn-color-text-on-default-background: var(--sg-text-color, var(--theme-code-foreground, var(--jp-content-font-color1, white)));\n",
       "    --sklearn-color-background: var(--sg-background-color, var(--theme-background, var(--jp-layout-color0, #111)));\n",
       "    --sklearn-color-border-box: var(--sg-text-color, var(--theme-code-foreground, var(--jp-content-font-color1, white)));\n",
       "    --sklearn-color-icon: #878787;\n",
       "  }\n",
       "}\n",
       "\n",
       "#sk-container-id-7 {\n",
       "  color: var(--sklearn-color-text);\n",
       "}\n",
       "\n",
       "#sk-container-id-7 pre {\n",
       "  padding: 0;\n",
       "}\n",
       "\n",
       "#sk-container-id-7 input.sk-hidden--visually {\n",
       "  border: 0;\n",
       "  clip: rect(1px 1px 1px 1px);\n",
       "  clip: rect(1px, 1px, 1px, 1px);\n",
       "  height: 1px;\n",
       "  margin: -1px;\n",
       "  overflow: hidden;\n",
       "  padding: 0;\n",
       "  position: absolute;\n",
       "  width: 1px;\n",
       "}\n",
       "\n",
       "#sk-container-id-7 div.sk-dashed-wrapped {\n",
       "  border: 1px dashed var(--sklearn-color-line);\n",
       "  margin: 0 0.4em 0.5em 0.4em;\n",
       "  box-sizing: border-box;\n",
       "  padding-bottom: 0.4em;\n",
       "  background-color: var(--sklearn-color-background);\n",
       "}\n",
       "\n",
       "#sk-container-id-7 div.sk-container {\n",
       "  /* jupyter's `normalize.less` sets `[hidden] { display: none; }`\n",
       "     but bootstrap.min.css set `[hidden] { display: none !important; }`\n",
       "     so we also need the `!important` here to be able to override the\n",
       "     default hidden behavior on the sphinx rendered scikit-learn.org.\n",
       "     See: https://github.com/scikit-learn/scikit-learn/issues/21755 */\n",
       "  display: inline-block !important;\n",
       "  position: relative;\n",
       "}\n",
       "\n",
       "#sk-container-id-7 div.sk-text-repr-fallback {\n",
       "  display: none;\n",
       "}\n",
       "\n",
       "div.sk-parallel-item,\n",
       "div.sk-serial,\n",
       "div.sk-item {\n",
       "  /* draw centered vertical line to link estimators */\n",
       "  background-image: linear-gradient(var(--sklearn-color-text-on-default-background), var(--sklearn-color-text-on-default-background));\n",
       "  background-size: 2px 100%;\n",
       "  background-repeat: no-repeat;\n",
       "  background-position: center center;\n",
       "}\n",
       "\n",
       "/* Parallel-specific style estimator block */\n",
       "\n",
       "#sk-container-id-7 div.sk-parallel-item::after {\n",
       "  content: \"\";\n",
       "  width: 100%;\n",
       "  border-bottom: 2px solid var(--sklearn-color-text-on-default-background);\n",
       "  flex-grow: 1;\n",
       "}\n",
       "\n",
       "#sk-container-id-7 div.sk-parallel {\n",
       "  display: flex;\n",
       "  align-items: stretch;\n",
       "  justify-content: center;\n",
       "  background-color: var(--sklearn-color-background);\n",
       "  position: relative;\n",
       "}\n",
       "\n",
       "#sk-container-id-7 div.sk-parallel-item {\n",
       "  display: flex;\n",
       "  flex-direction: column;\n",
       "}\n",
       "\n",
       "#sk-container-id-7 div.sk-parallel-item:first-child::after {\n",
       "  align-self: flex-end;\n",
       "  width: 50%;\n",
       "}\n",
       "\n",
       "#sk-container-id-7 div.sk-parallel-item:last-child::after {\n",
       "  align-self: flex-start;\n",
       "  width: 50%;\n",
       "}\n",
       "\n",
       "#sk-container-id-7 div.sk-parallel-item:only-child::after {\n",
       "  width: 0;\n",
       "}\n",
       "\n",
       "/* Serial-specific style estimator block */\n",
       "\n",
       "#sk-container-id-7 div.sk-serial {\n",
       "  display: flex;\n",
       "  flex-direction: column;\n",
       "  align-items: center;\n",
       "  background-color: var(--sklearn-color-background);\n",
       "  padding-right: 1em;\n",
       "  padding-left: 1em;\n",
       "}\n",
       "\n",
       "\n",
       "/* Toggleable style: style used for estimator/Pipeline/ColumnTransformer box that is\n",
       "clickable and can be expanded/collapsed.\n",
       "- Pipeline and ColumnTransformer use this feature and define the default style\n",
       "- Estimators will overwrite some part of the style using the `sk-estimator` class\n",
       "*/\n",
       "\n",
       "/* Pipeline and ColumnTransformer style (default) */\n",
       "\n",
       "#sk-container-id-7 div.sk-toggleable {\n",
       "  /* Default theme specific background. It is overwritten whether we have a\n",
       "  specific estimator or a Pipeline/ColumnTransformer */\n",
       "  background-color: var(--sklearn-color-background);\n",
       "}\n",
       "\n",
       "/* Toggleable label */\n",
       "#sk-container-id-7 label.sk-toggleable__label {\n",
       "  cursor: pointer;\n",
       "  display: block;\n",
       "  width: 100%;\n",
       "  margin-bottom: 0;\n",
       "  padding: 0.5em;\n",
       "  box-sizing: border-box;\n",
       "  text-align: center;\n",
       "}\n",
       "\n",
       "#sk-container-id-7 label.sk-toggleable__label-arrow:before {\n",
       "  /* Arrow on the left of the label */\n",
       "  content: \"▸\";\n",
       "  float: left;\n",
       "  margin-right: 0.25em;\n",
       "  color: var(--sklearn-color-icon);\n",
       "}\n",
       "\n",
       "#sk-container-id-7 label.sk-toggleable__label-arrow:hover:before {\n",
       "  color: var(--sklearn-color-text);\n",
       "}\n",
       "\n",
       "/* Toggleable content - dropdown */\n",
       "\n",
       "#sk-container-id-7 div.sk-toggleable__content {\n",
       "  max-height: 0;\n",
       "  max-width: 0;\n",
       "  overflow: hidden;\n",
       "  text-align: left;\n",
       "  /* unfitted */\n",
       "  background-color: var(--sklearn-color-unfitted-level-0);\n",
       "}\n",
       "\n",
       "#sk-container-id-7 div.sk-toggleable__content.fitted {\n",
       "  /* fitted */\n",
       "  background-color: var(--sklearn-color-fitted-level-0);\n",
       "}\n",
       "\n",
       "#sk-container-id-7 div.sk-toggleable__content pre {\n",
       "  margin: 0.2em;\n",
       "  border-radius: 0.25em;\n",
       "  color: var(--sklearn-color-text);\n",
       "  /* unfitted */\n",
       "  background-color: var(--sklearn-color-unfitted-level-0);\n",
       "}\n",
       "\n",
       "#sk-container-id-7 div.sk-toggleable__content.fitted pre {\n",
       "  /* unfitted */\n",
       "  background-color: var(--sklearn-color-fitted-level-0);\n",
       "}\n",
       "\n",
       "#sk-container-id-7 input.sk-toggleable__control:checked~div.sk-toggleable__content {\n",
       "  /* Expand drop-down */\n",
       "  max-height: 200px;\n",
       "  max-width: 100%;\n",
       "  overflow: auto;\n",
       "}\n",
       "\n",
       "#sk-container-id-7 input.sk-toggleable__control:checked~label.sk-toggleable__label-arrow:before {\n",
       "  content: \"▾\";\n",
       "}\n",
       "\n",
       "/* Pipeline/ColumnTransformer-specific style */\n",
       "\n",
       "#sk-container-id-7 div.sk-label input.sk-toggleable__control:checked~label.sk-toggleable__label {\n",
       "  color: var(--sklearn-color-text);\n",
       "  background-color: var(--sklearn-color-unfitted-level-2);\n",
       "}\n",
       "\n",
       "#sk-container-id-7 div.sk-label.fitted input.sk-toggleable__control:checked~label.sk-toggleable__label {\n",
       "  background-color: var(--sklearn-color-fitted-level-2);\n",
       "}\n",
       "\n",
       "/* Estimator-specific style */\n",
       "\n",
       "/* Colorize estimator box */\n",
       "#sk-container-id-7 div.sk-estimator input.sk-toggleable__control:checked~label.sk-toggleable__label {\n",
       "  /* unfitted */\n",
       "  background-color: var(--sklearn-color-unfitted-level-2);\n",
       "}\n",
       "\n",
       "#sk-container-id-7 div.sk-estimator.fitted input.sk-toggleable__control:checked~label.sk-toggleable__label {\n",
       "  /* fitted */\n",
       "  background-color: var(--sklearn-color-fitted-level-2);\n",
       "}\n",
       "\n",
       "#sk-container-id-7 div.sk-label label.sk-toggleable__label,\n",
       "#sk-container-id-7 div.sk-label label {\n",
       "  /* The background is the default theme color */\n",
       "  color: var(--sklearn-color-text-on-default-background);\n",
       "}\n",
       "\n",
       "/* On hover, darken the color of the background */\n",
       "#sk-container-id-7 div.sk-label:hover label.sk-toggleable__label {\n",
       "  color: var(--sklearn-color-text);\n",
       "  background-color: var(--sklearn-color-unfitted-level-2);\n",
       "}\n",
       "\n",
       "/* Label box, darken color on hover, fitted */\n",
       "#sk-container-id-7 div.sk-label.fitted:hover label.sk-toggleable__label.fitted {\n",
       "  color: var(--sklearn-color-text);\n",
       "  background-color: var(--sklearn-color-fitted-level-2);\n",
       "}\n",
       "\n",
       "/* Estimator label */\n",
       "\n",
       "#sk-container-id-7 div.sk-label label {\n",
       "  font-family: monospace;\n",
       "  font-weight: bold;\n",
       "  display: inline-block;\n",
       "  line-height: 1.2em;\n",
       "}\n",
       "\n",
       "#sk-container-id-7 div.sk-label-container {\n",
       "  text-align: center;\n",
       "}\n",
       "\n",
       "/* Estimator-specific */\n",
       "#sk-container-id-7 div.sk-estimator {\n",
       "  font-family: monospace;\n",
       "  border: 1px dotted var(--sklearn-color-border-box);\n",
       "  border-radius: 0.25em;\n",
       "  box-sizing: border-box;\n",
       "  margin-bottom: 0.5em;\n",
       "  /* unfitted */\n",
       "  background-color: var(--sklearn-color-unfitted-level-0);\n",
       "}\n",
       "\n",
       "#sk-container-id-7 div.sk-estimator.fitted {\n",
       "  /* fitted */\n",
       "  background-color: var(--sklearn-color-fitted-level-0);\n",
       "}\n",
       "\n",
       "/* on hover */\n",
       "#sk-container-id-7 div.sk-estimator:hover {\n",
       "  /* unfitted */\n",
       "  background-color: var(--sklearn-color-unfitted-level-2);\n",
       "}\n",
       "\n",
       "#sk-container-id-7 div.sk-estimator.fitted:hover {\n",
       "  /* fitted */\n",
       "  background-color: var(--sklearn-color-fitted-level-2);\n",
       "}\n",
       "\n",
       "/* Specification for estimator info (e.g. \"i\" and \"?\") */\n",
       "\n",
       "/* Common style for \"i\" and \"?\" */\n",
       "\n",
       ".sk-estimator-doc-link,\n",
       "a:link.sk-estimator-doc-link,\n",
       "a:visited.sk-estimator-doc-link {\n",
       "  float: right;\n",
       "  font-size: smaller;\n",
       "  line-height: 1em;\n",
       "  font-family: monospace;\n",
       "  background-color: var(--sklearn-color-background);\n",
       "  border-radius: 1em;\n",
       "  height: 1em;\n",
       "  width: 1em;\n",
       "  text-decoration: none !important;\n",
       "  margin-left: 1ex;\n",
       "  /* unfitted */\n",
       "  border: var(--sklearn-color-unfitted-level-1) 1pt solid;\n",
       "  color: var(--sklearn-color-unfitted-level-1);\n",
       "}\n",
       "\n",
       ".sk-estimator-doc-link.fitted,\n",
       "a:link.sk-estimator-doc-link.fitted,\n",
       "a:visited.sk-estimator-doc-link.fitted {\n",
       "  /* fitted */\n",
       "  border: var(--sklearn-color-fitted-level-1) 1pt solid;\n",
       "  color: var(--sklearn-color-fitted-level-1);\n",
       "}\n",
       "\n",
       "/* On hover */\n",
       "div.sk-estimator:hover .sk-estimator-doc-link:hover,\n",
       ".sk-estimator-doc-link:hover,\n",
       "div.sk-label-container:hover .sk-estimator-doc-link:hover,\n",
       ".sk-estimator-doc-link:hover {\n",
       "  /* unfitted */\n",
       "  background-color: var(--sklearn-color-unfitted-level-3);\n",
       "  color: var(--sklearn-color-background);\n",
       "  text-decoration: none;\n",
       "}\n",
       "\n",
       "div.sk-estimator.fitted:hover .sk-estimator-doc-link.fitted:hover,\n",
       ".sk-estimator-doc-link.fitted:hover,\n",
       "div.sk-label-container:hover .sk-estimator-doc-link.fitted:hover,\n",
       ".sk-estimator-doc-link.fitted:hover {\n",
       "  /* fitted */\n",
       "  background-color: var(--sklearn-color-fitted-level-3);\n",
       "  color: var(--sklearn-color-background);\n",
       "  text-decoration: none;\n",
       "}\n",
       "\n",
       "/* Span, style for the box shown on hovering the info icon */\n",
       ".sk-estimator-doc-link span {\n",
       "  display: none;\n",
       "  z-index: 9999;\n",
       "  position: relative;\n",
       "  font-weight: normal;\n",
       "  right: .2ex;\n",
       "  padding: .5ex;\n",
       "  margin: .5ex;\n",
       "  width: min-content;\n",
       "  min-width: 20ex;\n",
       "  max-width: 50ex;\n",
       "  color: var(--sklearn-color-text);\n",
       "  box-shadow: 2pt 2pt 4pt #999;\n",
       "  /* unfitted */\n",
       "  background: var(--sklearn-color-unfitted-level-0);\n",
       "  border: .5pt solid var(--sklearn-color-unfitted-level-3);\n",
       "}\n",
       "\n",
       ".sk-estimator-doc-link.fitted span {\n",
       "  /* fitted */\n",
       "  background: var(--sklearn-color-fitted-level-0);\n",
       "  border: var(--sklearn-color-fitted-level-3);\n",
       "}\n",
       "\n",
       ".sk-estimator-doc-link:hover span {\n",
       "  display: block;\n",
       "}\n",
       "\n",
       "/* \"?\"-specific style due to the `<a>` HTML tag */\n",
       "\n",
       "#sk-container-id-7 a.estimator_doc_link {\n",
       "  float: right;\n",
       "  font-size: 1rem;\n",
       "  line-height: 1em;\n",
       "  font-family: monospace;\n",
       "  background-color: var(--sklearn-color-background);\n",
       "  border-radius: 1rem;\n",
       "  height: 1rem;\n",
       "  width: 1rem;\n",
       "  text-decoration: none;\n",
       "  /* unfitted */\n",
       "  color: var(--sklearn-color-unfitted-level-1);\n",
       "  border: var(--sklearn-color-unfitted-level-1) 1pt solid;\n",
       "}\n",
       "\n",
       "#sk-container-id-7 a.estimator_doc_link.fitted {\n",
       "  /* fitted */\n",
       "  border: var(--sklearn-color-fitted-level-1) 1pt solid;\n",
       "  color: var(--sklearn-color-fitted-level-1);\n",
       "}\n",
       "\n",
       "/* On hover */\n",
       "#sk-container-id-7 a.estimator_doc_link:hover {\n",
       "  /* unfitted */\n",
       "  background-color: var(--sklearn-color-unfitted-level-3);\n",
       "  color: var(--sklearn-color-background);\n",
       "  text-decoration: none;\n",
       "}\n",
       "\n",
       "#sk-container-id-7 a.estimator_doc_link.fitted:hover {\n",
       "  /* fitted */\n",
       "  background-color: var(--sklearn-color-fitted-level-3);\n",
       "}\n",
       "</style><div id=\"sk-container-id-7\" class=\"sk-top-container\"><div class=\"sk-text-repr-fallback\"><pre>GridSearchCV(estimator=XGBClassifier(base_score=None, booster=None,\n",
       "                                     callbacks=None, colsample_bylevel=None,\n",
       "                                     colsample_bynode=None,\n",
       "                                     colsample_bytree=None, device=&#x27;cuda&#x27;,\n",
       "                                     early_stopping_rounds=None,\n",
       "                                     enable_categorical=False, eval_metric=None,\n",
       "                                     feature_types=None, gamma=None,\n",
       "                                     grow_policy=None, importance_type=None,\n",
       "                                     interaction_constraints=None,\n",
       "                                     learning_rate=None, max_bin=None,\n",
       "                                     max_cat_threshold=None,\n",
       "                                     max_cat_to_onehot=None,\n",
       "                                     max_delta_step=None, max_depth=None,\n",
       "                                     max_leaves=None, min_child_weight=None,\n",
       "                                     missing=nan, monotone_constraints=None,\n",
       "                                     multi_strategy=None, n_estimators=None,\n",
       "                                     n_jobs=None, num_class=13,\n",
       "                                     num_parallel_tree=None, ...),\n",
       "             n_jobs=-1, param_grid={&#x27;learning_rate&#x27;: [0.1, 0.01, 0.001]},\n",
       "             scoring=&#x27;accuracy&#x27;)</pre><b>In a Jupyter environment, please rerun this cell to show the HTML representation or trust the notebook. <br />On GitHub, the HTML representation is unable to render, please try loading this page with nbviewer.org.</b></div><div class=\"sk-container\" hidden><div class=\"sk-item sk-dashed-wrapped\"><div class=\"sk-label-container\"><div class=\"sk-label fitted sk-toggleable\"><input class=\"sk-toggleable__control sk-hidden--visually\" id=\"sk-estimator-id-13\" type=\"checkbox\" ><label for=\"sk-estimator-id-13\" class=\"sk-toggleable__label fitted sk-toggleable__label-arrow fitted\">&nbsp;&nbsp;GridSearchCV<a class=\"sk-estimator-doc-link fitted\" rel=\"noreferrer\" target=\"_blank\" href=\"https://scikit-learn.org/1.4/modules/generated/sklearn.model_selection.GridSearchCV.html\">?<span>Documentation for GridSearchCV</span></a><span class=\"sk-estimator-doc-link fitted\">i<span>Fitted</span></span></label><div class=\"sk-toggleable__content fitted\"><pre>GridSearchCV(estimator=XGBClassifier(base_score=None, booster=None,\n",
       "                                     callbacks=None, colsample_bylevel=None,\n",
       "                                     colsample_bynode=None,\n",
       "                                     colsample_bytree=None, device=&#x27;cuda&#x27;,\n",
       "                                     early_stopping_rounds=None,\n",
       "                                     enable_categorical=False, eval_metric=None,\n",
       "                                     feature_types=None, gamma=None,\n",
       "                                     grow_policy=None, importance_type=None,\n",
       "                                     interaction_constraints=None,\n",
       "                                     learning_rate=None, max_bin=None,\n",
       "                                     max_cat_threshold=None,\n",
       "                                     max_cat_to_onehot=None,\n",
       "                                     max_delta_step=None, max_depth=None,\n",
       "                                     max_leaves=None, min_child_weight=None,\n",
       "                                     missing=nan, monotone_constraints=None,\n",
       "                                     multi_strategy=None, n_estimators=None,\n",
       "                                     n_jobs=None, num_class=13,\n",
       "                                     num_parallel_tree=None, ...),\n",
       "             n_jobs=-1, param_grid={&#x27;learning_rate&#x27;: [0.1, 0.01, 0.001]},\n",
       "             scoring=&#x27;accuracy&#x27;)</pre></div> </div></div><div class=\"sk-parallel\"><div class=\"sk-parallel-item\"><div class=\"sk-item\"><div class=\"sk-label-container\"><div class=\"sk-label fitted sk-toggleable\"><input class=\"sk-toggleable__control sk-hidden--visually\" id=\"sk-estimator-id-14\" type=\"checkbox\" ><label for=\"sk-estimator-id-14\" class=\"sk-toggleable__label fitted sk-toggleable__label-arrow fitted\">estimator: XGBClassifier</label><div class=\"sk-toggleable__content fitted\"><pre>XGBClassifier(base_score=None, booster=None, callbacks=None,\n",
       "              colsample_bylevel=None, colsample_bynode=None,\n",
       "              colsample_bytree=None, device=&#x27;cuda&#x27;, early_stopping_rounds=None,\n",
       "              enable_categorical=False, eval_metric=None, feature_types=None,\n",
       "              gamma=None, grow_policy=None, importance_type=None,\n",
       "              interaction_constraints=None, learning_rate=None, max_bin=None,\n",
       "              max_cat_threshold=None, max_cat_to_onehot=None,\n",
       "              max_delta_step=None, max_depth=None, max_leaves=None,\n",
       "              min_child_weight=None, missing=nan, monotone_constraints=None,\n",
       "              multi_strategy=None, n_estimators=None, n_jobs=None, num_class=13,\n",
       "              num_parallel_tree=None, ...)</pre></div> </div></div><div class=\"sk-serial\"><div class=\"sk-item\"><div class=\"sk-estimator fitted sk-toggleable\"><input class=\"sk-toggleable__control sk-hidden--visually\" id=\"sk-estimator-id-15\" type=\"checkbox\" ><label for=\"sk-estimator-id-15\" class=\"sk-toggleable__label fitted sk-toggleable__label-arrow fitted\">XGBClassifier</label><div class=\"sk-toggleable__content fitted\"><pre>XGBClassifier(base_score=None, booster=None, callbacks=None,\n",
       "              colsample_bylevel=None, colsample_bynode=None,\n",
       "              colsample_bytree=None, device=&#x27;cuda&#x27;, early_stopping_rounds=None,\n",
       "              enable_categorical=False, eval_metric=None, feature_types=None,\n",
       "              gamma=None, grow_policy=None, importance_type=None,\n",
       "              interaction_constraints=None, learning_rate=None, max_bin=None,\n",
       "              max_cat_threshold=None, max_cat_to_onehot=None,\n",
       "              max_delta_step=None, max_depth=None, max_leaves=None,\n",
       "              min_child_weight=None, missing=nan, monotone_constraints=None,\n",
       "              multi_strategy=None, n_estimators=None, n_jobs=None, num_class=13,\n",
       "              num_parallel_tree=None, ...)</pre></div> </div></div></div></div></div></div></div></div></div>"
      ],
      "text/plain": [
       "GridSearchCV(estimator=XGBClassifier(base_score=None, booster=None,\n",
       "                                     callbacks=None, colsample_bylevel=None,\n",
       "                                     colsample_bynode=None,\n",
       "                                     colsample_bytree=None, device='cuda',\n",
       "                                     early_stopping_rounds=None,\n",
       "                                     enable_categorical=False, eval_metric=None,\n",
       "                                     feature_types=None, gamma=None,\n",
       "                                     grow_policy=None, importance_type=None,\n",
       "                                     interaction_constraints=None,\n",
       "                                     learning_rate=None, max_bin=None,\n",
       "                                     max_cat_threshold=None,\n",
       "                                     max_cat_to_onehot=None,\n",
       "                                     max_delta_step=None, max_depth=None,\n",
       "                                     max_leaves=None, min_child_weight=None,\n",
       "                                     missing=nan, monotone_constraints=None,\n",
       "                                     multi_strategy=None, n_estimators=None,\n",
       "                                     n_jobs=None, num_class=13,\n",
       "                                     num_parallel_tree=None, ...),\n",
       "             n_jobs=-1, param_grid={'learning_rate': [0.1, 0.01, 0.001]},\n",
       "             scoring='accuracy')"
      ]
     },
     "execution_count": 330,
     "metadata": {},
     "output_type": "execute_result"
    }
   ],
   "source": [
    "parameters = {\n",
    "    'learning_rate': [0.1, 0.01, 0.001], \n",
    "    #'max_depth': [3, 5, 7],\n",
    "    #'colsample_bytree': [0.6, 0.8, 1.0],\n",
    "    #'n_estimators': [50, 100, 150]\n",
    "}\n",
    "\n",
    "xgb_clf = XGBClassifier(objective='multi:softmax', \n",
    "                             num_class=13, \n",
    "                             random_state=seed, \n",
    "                             device = \"cuda\")\n",
    "\n",
    "clf = GridSearchCV(xgb_clf, parameters, scoring='accuracy', n_jobs=-1)\n",
    "\n",
    "clf.fit(X_train_tfidf, y_train)"
   ]
  },
  {
   "cell_type": "code",
   "execution_count": 331,
   "id": "412288b5-a832-43c9-b188-2b706a13a3d3",
   "metadata": {},
   "outputs": [
    {
     "name": "stdout",
     "output_type": "stream",
     "text": [
      "Best parameters: {'learning_rate': 0.1}\n"
     ]
    }
   ],
   "source": [
    "best_params = clf.best_params_\n",
    "print(\"Best parameters:\", best_params)"
   ]
  },
  {
   "cell_type": "code",
   "execution_count": 332,
   "id": "0dd92ad4-ca70-4f18-892e-fa9e076487fb",
   "metadata": {},
   "outputs": [
    {
     "name": "stdout",
     "output_type": "stream",
     "text": [
      "Accuracy training set score for xgboost after GridSearch: 0.416205152901517\n",
      "Accuracy testing set score for xgboost after GridSearch: 0.1868078960038517\n"
     ]
    }
   ],
   "source": [
    "print('Accuracy training set score for xgboost after GridSearch:', accuracy_score(clf.predict(X_train_tfidf), y_train))\n",
    "\n",
    "y_pred = clf.predict(X_test_tfidf)\n",
    "\n",
    "print('Accuracy testing set score for xgboost after GridSearch:', accuracy_score(y_pred, y_test))"
   ]
  },
  {
   "cell_type": "code",
   "execution_count": 336,
   "id": "d59d1a80-64cb-4f7a-bf5d-e5ad7844576f",
   "metadata": {},
   "outputs": [
    {
     "name": "stdout",
     "output_type": "stream",
     "text": [
      "Kappa training set score for xgboost after GridSearch: 0.3392165607391402\n",
      "Kappa testing set score for xgboost after GridSearch: 0.08043575362761035\n"
     ]
    }
   ],
   "source": [
    "print('Kappa training set score for xgboost after GridSearch:', cohen_kappa_score(clf.predict(X_train_tfidf), y_train))\n",
    "print('Kappa testing set score for xgboost after GridSearch:', cohen_kappa_score(y_pred, y_test))"
   ]
  },
  {
   "cell_type": "markdown",
   "id": "8339c06d-4fca-4c66-8c80-d4f00f51e2da",
   "metadata": {},
   "source": [
    "#### Regression\n",
    "\n",
    "Since our target variable for classificatoin are integers, we can treat it as a regression problem too, but we can also use regression with our original calorie column."
   ]
  },
  {
   "cell_type": "code",
   "execution_count": 105,
   "id": "ecf7be5c-c889-43d9-a432-ea6ae8b517bc",
   "metadata": {},
   "outputs": [],
   "source": [
    "from xgboost import XGBRegressor\n",
    "import numpy as np"
   ]
  },
  {
   "cell_type": "code",
   "execution_count": 115,
   "id": "249b11bf-b377-47b4-a1ad-ec40ad30b23a",
   "metadata": {},
   "outputs": [],
   "source": [
    "X_cols = ['mealTypeRefined_breakfast', 'mealTypeRefined_lunch/dinner', 'mealTypeRefined_snack', 'label', 'dishTypeSkewedLabels']\n",
    "y_col = 'calorieLabels'\n",
    "X_train, X_test, y_train, y_test = get_training_testing_data(preprocessed_df, X_cols, y_col)"
   ]
  },
  {
   "cell_type": "code",
   "execution_count": 116,
   "id": "36cf1190-ff85-4c7d-8a84-a78fbb2306bb",
   "metadata": {},
   "outputs": [
    {
     "name": "stdout",
     "output_type": "stream",
     "text": [
      "R-squared: 0.19881698314270535\n"
     ]
    }
   ],
   "source": [
    "xgb_regressor = XGBRegressor(\n",
    "                                objective='reg:squarederror', \n",
    "                                random_state=seed, \n",
    "                                #device = \"cuda\"\n",
    "                            )\n",
    "\n",
    "xgb_regressor.fit(X_train_tfidf, y_train)\n",
    "\n",
    "y_pred = xgb_regressor.predict(X_test_tfidf)\n",
    "\n",
    "from sklearn.metrics import r2_score\n",
    "r2 = r2_score(y_test, y_pred)\n",
    "print(\"R-squared:\", r2)"
   ]
  },
  {
   "cell_type": "markdown",
   "id": "65d91f80-2eb9-474b-9cda-85aa6693cf2a",
   "metadata": {},
   "source": [
    "Using the original target calories column."
   ]
  },
  {
   "cell_type": "code",
   "execution_count": 126,
   "id": "afa8190f-6691-40f7-803f-8450953a4fd4",
   "metadata": {},
   "outputs": [],
   "source": [
    "X_cols = ['mealTypeRefined_breakfast', 'mealTypeRefined_lunch/dinner', 'mealTypeRefined_snack', 'label', 'dishTypeSkewedLabels']\n",
    "y_col = 'calories'\n",
    "X_train, X_test, y_train, y_test = get_training_testing_data(preprocessed_df, X_cols, y_col)"
   ]
  },
  {
   "cell_type": "code",
   "execution_count": 129,
   "id": "57ff008f-491d-4466-9c32-e90e8687e422",
   "metadata": {},
   "outputs": [],
   "source": [
    "xgb_regressor = XGBRegressor(\n",
    "                                objective='reg:squarederror', \n",
    "                                random_state=seed, \n",
    "                                device = \"cuda\"\n",
    "                            )\n",
    "\n",
    "xgb_regressor.fit(X_train, y_train)\n",
    "\n",
    "y_pred = xgb_regressor.predict(X_test)"
   ]
  },
  {
   "cell_type": "code",
   "execution_count": 130,
   "id": "f9e3d605-dad3-4596-8c1c-8fdb1c2e245c",
   "metadata": {},
   "outputs": [
    {
     "name": "stdout",
     "output_type": "stream",
     "text": [
      "R-squared: 0.2053948445995285\n"
     ]
    }
   ],
   "source": [
    "r2 = r2_score(y_test, y_pred)\n",
    "print(\"R-squared:\", r2)"
   ]
  },
  {
   "cell_type": "markdown",
   "id": "2589b76d-947c-4e7b-a672-7f947f1dd950",
   "metadata": {},
   "source": [
    "Now trying grid search for a better score."
   ]
  },
  {
   "cell_type": "code",
   "execution_count": 131,
   "id": "9aaffa5a-9377-4095-9220-ce6955ff0ab2",
   "metadata": {},
   "outputs": [
    {
     "data": {
      "text/html": [
       "<style>#sk-container-id-1 {\n",
       "  /* Definition of color scheme common for light and dark mode */\n",
       "  --sklearn-color-text: black;\n",
       "  --sklearn-color-line: gray;\n",
       "  /* Definition of color scheme for unfitted estimators */\n",
       "  --sklearn-color-unfitted-level-0: #fff5e6;\n",
       "  --sklearn-color-unfitted-level-1: #f6e4d2;\n",
       "  --sklearn-color-unfitted-level-2: #ffe0b3;\n",
       "  --sklearn-color-unfitted-level-3: chocolate;\n",
       "  /* Definition of color scheme for fitted estimators */\n",
       "  --sklearn-color-fitted-level-0: #f0f8ff;\n",
       "  --sklearn-color-fitted-level-1: #d4ebff;\n",
       "  --sklearn-color-fitted-level-2: #b3dbfd;\n",
       "  --sklearn-color-fitted-level-3: cornflowerblue;\n",
       "\n",
       "  /* Specific color for light theme */\n",
       "  --sklearn-color-text-on-default-background: var(--sg-text-color, var(--theme-code-foreground, var(--jp-content-font-color1, black)));\n",
       "  --sklearn-color-background: var(--sg-background-color, var(--theme-background, var(--jp-layout-color0, white)));\n",
       "  --sklearn-color-border-box: var(--sg-text-color, var(--theme-code-foreground, var(--jp-content-font-color1, black)));\n",
       "  --sklearn-color-icon: #696969;\n",
       "\n",
       "  @media (prefers-color-scheme: dark) {\n",
       "    /* Redefinition of color scheme for dark theme */\n",
       "    --sklearn-color-text-on-default-background: var(--sg-text-color, var(--theme-code-foreground, var(--jp-content-font-color1, white)));\n",
       "    --sklearn-color-background: var(--sg-background-color, var(--theme-background, var(--jp-layout-color0, #111)));\n",
       "    --sklearn-color-border-box: var(--sg-text-color, var(--theme-code-foreground, var(--jp-content-font-color1, white)));\n",
       "    --sklearn-color-icon: #878787;\n",
       "  }\n",
       "}\n",
       "\n",
       "#sk-container-id-1 {\n",
       "  color: var(--sklearn-color-text);\n",
       "}\n",
       "\n",
       "#sk-container-id-1 pre {\n",
       "  padding: 0;\n",
       "}\n",
       "\n",
       "#sk-container-id-1 input.sk-hidden--visually {\n",
       "  border: 0;\n",
       "  clip: rect(1px 1px 1px 1px);\n",
       "  clip: rect(1px, 1px, 1px, 1px);\n",
       "  height: 1px;\n",
       "  margin: -1px;\n",
       "  overflow: hidden;\n",
       "  padding: 0;\n",
       "  position: absolute;\n",
       "  width: 1px;\n",
       "}\n",
       "\n",
       "#sk-container-id-1 div.sk-dashed-wrapped {\n",
       "  border: 1px dashed var(--sklearn-color-line);\n",
       "  margin: 0 0.4em 0.5em 0.4em;\n",
       "  box-sizing: border-box;\n",
       "  padding-bottom: 0.4em;\n",
       "  background-color: var(--sklearn-color-background);\n",
       "}\n",
       "\n",
       "#sk-container-id-1 div.sk-container {\n",
       "  /* jupyter's `normalize.less` sets `[hidden] { display: none; }`\n",
       "     but bootstrap.min.css set `[hidden] { display: none !important; }`\n",
       "     so we also need the `!important` here to be able to override the\n",
       "     default hidden behavior on the sphinx rendered scikit-learn.org.\n",
       "     See: https://github.com/scikit-learn/scikit-learn/issues/21755 */\n",
       "  display: inline-block !important;\n",
       "  position: relative;\n",
       "}\n",
       "\n",
       "#sk-container-id-1 div.sk-text-repr-fallback {\n",
       "  display: none;\n",
       "}\n",
       "\n",
       "div.sk-parallel-item,\n",
       "div.sk-serial,\n",
       "div.sk-item {\n",
       "  /* draw centered vertical line to link estimators */\n",
       "  background-image: linear-gradient(var(--sklearn-color-text-on-default-background), var(--sklearn-color-text-on-default-background));\n",
       "  background-size: 2px 100%;\n",
       "  background-repeat: no-repeat;\n",
       "  background-position: center center;\n",
       "}\n",
       "\n",
       "/* Parallel-specific style estimator block */\n",
       "\n",
       "#sk-container-id-1 div.sk-parallel-item::after {\n",
       "  content: \"\";\n",
       "  width: 100%;\n",
       "  border-bottom: 2px solid var(--sklearn-color-text-on-default-background);\n",
       "  flex-grow: 1;\n",
       "}\n",
       "\n",
       "#sk-container-id-1 div.sk-parallel {\n",
       "  display: flex;\n",
       "  align-items: stretch;\n",
       "  justify-content: center;\n",
       "  background-color: var(--sklearn-color-background);\n",
       "  position: relative;\n",
       "}\n",
       "\n",
       "#sk-container-id-1 div.sk-parallel-item {\n",
       "  display: flex;\n",
       "  flex-direction: column;\n",
       "}\n",
       "\n",
       "#sk-container-id-1 div.sk-parallel-item:first-child::after {\n",
       "  align-self: flex-end;\n",
       "  width: 50%;\n",
       "}\n",
       "\n",
       "#sk-container-id-1 div.sk-parallel-item:last-child::after {\n",
       "  align-self: flex-start;\n",
       "  width: 50%;\n",
       "}\n",
       "\n",
       "#sk-container-id-1 div.sk-parallel-item:only-child::after {\n",
       "  width: 0;\n",
       "}\n",
       "\n",
       "/* Serial-specific style estimator block */\n",
       "\n",
       "#sk-container-id-1 div.sk-serial {\n",
       "  display: flex;\n",
       "  flex-direction: column;\n",
       "  align-items: center;\n",
       "  background-color: var(--sklearn-color-background);\n",
       "  padding-right: 1em;\n",
       "  padding-left: 1em;\n",
       "}\n",
       "\n",
       "\n",
       "/* Toggleable style: style used for estimator/Pipeline/ColumnTransformer box that is\n",
       "clickable and can be expanded/collapsed.\n",
       "- Pipeline and ColumnTransformer use this feature and define the default style\n",
       "- Estimators will overwrite some part of the style using the `sk-estimator` class\n",
       "*/\n",
       "\n",
       "/* Pipeline and ColumnTransformer style (default) */\n",
       "\n",
       "#sk-container-id-1 div.sk-toggleable {\n",
       "  /* Default theme specific background. It is overwritten whether we have a\n",
       "  specific estimator or a Pipeline/ColumnTransformer */\n",
       "  background-color: var(--sklearn-color-background);\n",
       "}\n",
       "\n",
       "/* Toggleable label */\n",
       "#sk-container-id-1 label.sk-toggleable__label {\n",
       "  cursor: pointer;\n",
       "  display: block;\n",
       "  width: 100%;\n",
       "  margin-bottom: 0;\n",
       "  padding: 0.5em;\n",
       "  box-sizing: border-box;\n",
       "  text-align: center;\n",
       "}\n",
       "\n",
       "#sk-container-id-1 label.sk-toggleable__label-arrow:before {\n",
       "  /* Arrow on the left of the label */\n",
       "  content: \"▸\";\n",
       "  float: left;\n",
       "  margin-right: 0.25em;\n",
       "  color: var(--sklearn-color-icon);\n",
       "}\n",
       "\n",
       "#sk-container-id-1 label.sk-toggleable__label-arrow:hover:before {\n",
       "  color: var(--sklearn-color-text);\n",
       "}\n",
       "\n",
       "/* Toggleable content - dropdown */\n",
       "\n",
       "#sk-container-id-1 div.sk-toggleable__content {\n",
       "  max-height: 0;\n",
       "  max-width: 0;\n",
       "  overflow: hidden;\n",
       "  text-align: left;\n",
       "  /* unfitted */\n",
       "  background-color: var(--sklearn-color-unfitted-level-0);\n",
       "}\n",
       "\n",
       "#sk-container-id-1 div.sk-toggleable__content.fitted {\n",
       "  /* fitted */\n",
       "  background-color: var(--sklearn-color-fitted-level-0);\n",
       "}\n",
       "\n",
       "#sk-container-id-1 div.sk-toggleable__content pre {\n",
       "  margin: 0.2em;\n",
       "  border-radius: 0.25em;\n",
       "  color: var(--sklearn-color-text);\n",
       "  /* unfitted */\n",
       "  background-color: var(--sklearn-color-unfitted-level-0);\n",
       "}\n",
       "\n",
       "#sk-container-id-1 div.sk-toggleable__content.fitted pre {\n",
       "  /* unfitted */\n",
       "  background-color: var(--sklearn-color-fitted-level-0);\n",
       "}\n",
       "\n",
       "#sk-container-id-1 input.sk-toggleable__control:checked~div.sk-toggleable__content {\n",
       "  /* Expand drop-down */\n",
       "  max-height: 200px;\n",
       "  max-width: 100%;\n",
       "  overflow: auto;\n",
       "}\n",
       "\n",
       "#sk-container-id-1 input.sk-toggleable__control:checked~label.sk-toggleable__label-arrow:before {\n",
       "  content: \"▾\";\n",
       "}\n",
       "\n",
       "/* Pipeline/ColumnTransformer-specific style */\n",
       "\n",
       "#sk-container-id-1 div.sk-label input.sk-toggleable__control:checked~label.sk-toggleable__label {\n",
       "  color: var(--sklearn-color-text);\n",
       "  background-color: var(--sklearn-color-unfitted-level-2);\n",
       "}\n",
       "\n",
       "#sk-container-id-1 div.sk-label.fitted input.sk-toggleable__control:checked~label.sk-toggleable__label {\n",
       "  background-color: var(--sklearn-color-fitted-level-2);\n",
       "}\n",
       "\n",
       "/* Estimator-specific style */\n",
       "\n",
       "/* Colorize estimator box */\n",
       "#sk-container-id-1 div.sk-estimator input.sk-toggleable__control:checked~label.sk-toggleable__label {\n",
       "  /* unfitted */\n",
       "  background-color: var(--sklearn-color-unfitted-level-2);\n",
       "}\n",
       "\n",
       "#sk-container-id-1 div.sk-estimator.fitted input.sk-toggleable__control:checked~label.sk-toggleable__label {\n",
       "  /* fitted */\n",
       "  background-color: var(--sklearn-color-fitted-level-2);\n",
       "}\n",
       "\n",
       "#sk-container-id-1 div.sk-label label.sk-toggleable__label,\n",
       "#sk-container-id-1 div.sk-label label {\n",
       "  /* The background is the default theme color */\n",
       "  color: var(--sklearn-color-text-on-default-background);\n",
       "}\n",
       "\n",
       "/* On hover, darken the color of the background */\n",
       "#sk-container-id-1 div.sk-label:hover label.sk-toggleable__label {\n",
       "  color: var(--sklearn-color-text);\n",
       "  background-color: var(--sklearn-color-unfitted-level-2);\n",
       "}\n",
       "\n",
       "/* Label box, darken color on hover, fitted */\n",
       "#sk-container-id-1 div.sk-label.fitted:hover label.sk-toggleable__label.fitted {\n",
       "  color: var(--sklearn-color-text);\n",
       "  background-color: var(--sklearn-color-fitted-level-2);\n",
       "}\n",
       "\n",
       "/* Estimator label */\n",
       "\n",
       "#sk-container-id-1 div.sk-label label {\n",
       "  font-family: monospace;\n",
       "  font-weight: bold;\n",
       "  display: inline-block;\n",
       "  line-height: 1.2em;\n",
       "}\n",
       "\n",
       "#sk-container-id-1 div.sk-label-container {\n",
       "  text-align: center;\n",
       "}\n",
       "\n",
       "/* Estimator-specific */\n",
       "#sk-container-id-1 div.sk-estimator {\n",
       "  font-family: monospace;\n",
       "  border: 1px dotted var(--sklearn-color-border-box);\n",
       "  border-radius: 0.25em;\n",
       "  box-sizing: border-box;\n",
       "  margin-bottom: 0.5em;\n",
       "  /* unfitted */\n",
       "  background-color: var(--sklearn-color-unfitted-level-0);\n",
       "}\n",
       "\n",
       "#sk-container-id-1 div.sk-estimator.fitted {\n",
       "  /* fitted */\n",
       "  background-color: var(--sklearn-color-fitted-level-0);\n",
       "}\n",
       "\n",
       "/* on hover */\n",
       "#sk-container-id-1 div.sk-estimator:hover {\n",
       "  /* unfitted */\n",
       "  background-color: var(--sklearn-color-unfitted-level-2);\n",
       "}\n",
       "\n",
       "#sk-container-id-1 div.sk-estimator.fitted:hover {\n",
       "  /* fitted */\n",
       "  background-color: var(--sklearn-color-fitted-level-2);\n",
       "}\n",
       "\n",
       "/* Specification for estimator info (e.g. \"i\" and \"?\") */\n",
       "\n",
       "/* Common style for \"i\" and \"?\" */\n",
       "\n",
       ".sk-estimator-doc-link,\n",
       "a:link.sk-estimator-doc-link,\n",
       "a:visited.sk-estimator-doc-link {\n",
       "  float: right;\n",
       "  font-size: smaller;\n",
       "  line-height: 1em;\n",
       "  font-family: monospace;\n",
       "  background-color: var(--sklearn-color-background);\n",
       "  border-radius: 1em;\n",
       "  height: 1em;\n",
       "  width: 1em;\n",
       "  text-decoration: none !important;\n",
       "  margin-left: 1ex;\n",
       "  /* unfitted */\n",
       "  border: var(--sklearn-color-unfitted-level-1) 1pt solid;\n",
       "  color: var(--sklearn-color-unfitted-level-1);\n",
       "}\n",
       "\n",
       ".sk-estimator-doc-link.fitted,\n",
       "a:link.sk-estimator-doc-link.fitted,\n",
       "a:visited.sk-estimator-doc-link.fitted {\n",
       "  /* fitted */\n",
       "  border: var(--sklearn-color-fitted-level-1) 1pt solid;\n",
       "  color: var(--sklearn-color-fitted-level-1);\n",
       "}\n",
       "\n",
       "/* On hover */\n",
       "div.sk-estimator:hover .sk-estimator-doc-link:hover,\n",
       ".sk-estimator-doc-link:hover,\n",
       "div.sk-label-container:hover .sk-estimator-doc-link:hover,\n",
       ".sk-estimator-doc-link:hover {\n",
       "  /* unfitted */\n",
       "  background-color: var(--sklearn-color-unfitted-level-3);\n",
       "  color: var(--sklearn-color-background);\n",
       "  text-decoration: none;\n",
       "}\n",
       "\n",
       "div.sk-estimator.fitted:hover .sk-estimator-doc-link.fitted:hover,\n",
       ".sk-estimator-doc-link.fitted:hover,\n",
       "div.sk-label-container:hover .sk-estimator-doc-link.fitted:hover,\n",
       ".sk-estimator-doc-link.fitted:hover {\n",
       "  /* fitted */\n",
       "  background-color: var(--sklearn-color-fitted-level-3);\n",
       "  color: var(--sklearn-color-background);\n",
       "  text-decoration: none;\n",
       "}\n",
       "\n",
       "/* Span, style for the box shown on hovering the info icon */\n",
       ".sk-estimator-doc-link span {\n",
       "  display: none;\n",
       "  z-index: 9999;\n",
       "  position: relative;\n",
       "  font-weight: normal;\n",
       "  right: .2ex;\n",
       "  padding: .5ex;\n",
       "  margin: .5ex;\n",
       "  width: min-content;\n",
       "  min-width: 20ex;\n",
       "  max-width: 50ex;\n",
       "  color: var(--sklearn-color-text);\n",
       "  box-shadow: 2pt 2pt 4pt #999;\n",
       "  /* unfitted */\n",
       "  background: var(--sklearn-color-unfitted-level-0);\n",
       "  border: .5pt solid var(--sklearn-color-unfitted-level-3);\n",
       "}\n",
       "\n",
       ".sk-estimator-doc-link.fitted span {\n",
       "  /* fitted */\n",
       "  background: var(--sklearn-color-fitted-level-0);\n",
       "  border: var(--sklearn-color-fitted-level-3);\n",
       "}\n",
       "\n",
       ".sk-estimator-doc-link:hover span {\n",
       "  display: block;\n",
       "}\n",
       "\n",
       "/* \"?\"-specific style due to the `<a>` HTML tag */\n",
       "\n",
       "#sk-container-id-1 a.estimator_doc_link {\n",
       "  float: right;\n",
       "  font-size: 1rem;\n",
       "  line-height: 1em;\n",
       "  font-family: monospace;\n",
       "  background-color: var(--sklearn-color-background);\n",
       "  border-radius: 1rem;\n",
       "  height: 1rem;\n",
       "  width: 1rem;\n",
       "  text-decoration: none;\n",
       "  /* unfitted */\n",
       "  color: var(--sklearn-color-unfitted-level-1);\n",
       "  border: var(--sklearn-color-unfitted-level-1) 1pt solid;\n",
       "}\n",
       "\n",
       "#sk-container-id-1 a.estimator_doc_link.fitted {\n",
       "  /* fitted */\n",
       "  border: var(--sklearn-color-fitted-level-1) 1pt solid;\n",
       "  color: var(--sklearn-color-fitted-level-1);\n",
       "}\n",
       "\n",
       "/* On hover */\n",
       "#sk-container-id-1 a.estimator_doc_link:hover {\n",
       "  /* unfitted */\n",
       "  background-color: var(--sklearn-color-unfitted-level-3);\n",
       "  color: var(--sklearn-color-background);\n",
       "  text-decoration: none;\n",
       "}\n",
       "\n",
       "#sk-container-id-1 a.estimator_doc_link.fitted:hover {\n",
       "  /* fitted */\n",
       "  background-color: var(--sklearn-color-fitted-level-3);\n",
       "}\n",
       "</style><div id=\"sk-container-id-1\" class=\"sk-top-container\"><div class=\"sk-text-repr-fallback\"><pre>GridSearchCV(estimator=XGBRegressor(base_score=None, booster=None,\n",
       "                                    callbacks=None, colsample_bylevel=None,\n",
       "                                    colsample_bynode=None,\n",
       "                                    colsample_bytree=None, device=&#x27;cuda&#x27;,\n",
       "                                    early_stopping_rounds=None,\n",
       "                                    enable_categorical=False, eval_metric=None,\n",
       "                                    feature_types=None, gamma=None,\n",
       "                                    grow_policy=None, importance_type=None,\n",
       "                                    interaction_constraints=None,\n",
       "                                    learning_rate=None, max_...\n",
       "                                    max_cat_to_onehot=None, max_delta_step=None,\n",
       "                                    max_depth=None, max_leaves=None,\n",
       "                                    min_child_weight=None, missing=nan,\n",
       "                                    monotone_constraints=None,\n",
       "                                    multi_strategy=None, n_estimators=None,\n",
       "                                    n_jobs=None, num_parallel_tree=None,\n",
       "                                    random_state=42, ...),\n",
       "             n_jobs=-1,\n",
       "             param_grid={&#x27;learning_rate&#x27;: [0.01, 0.001], &#x27;max_depth&#x27;: [3, 5, 7],\n",
       "                         &#x27;n_estimators&#x27;: [50, 150]},\n",
       "             scoring=make_scorer(r2_score, response_method=&#x27;predict&#x27;))</pre><b>In a Jupyter environment, please rerun this cell to show the HTML representation or trust the notebook. <br />On GitHub, the HTML representation is unable to render, please try loading this page with nbviewer.org.</b></div><div class=\"sk-container\" hidden><div class=\"sk-item sk-dashed-wrapped\"><div class=\"sk-label-container\"><div class=\"sk-label fitted sk-toggleable\"><input class=\"sk-toggleable__control sk-hidden--visually\" id=\"sk-estimator-id-1\" type=\"checkbox\" ><label for=\"sk-estimator-id-1\" class=\"sk-toggleable__label fitted sk-toggleable__label-arrow fitted\">&nbsp;&nbsp;GridSearchCV<a class=\"sk-estimator-doc-link fitted\" rel=\"noreferrer\" target=\"_blank\" href=\"https://scikit-learn.org/1.4/modules/generated/sklearn.model_selection.GridSearchCV.html\">?<span>Documentation for GridSearchCV</span></a><span class=\"sk-estimator-doc-link fitted\">i<span>Fitted</span></span></label><div class=\"sk-toggleable__content fitted\"><pre>GridSearchCV(estimator=XGBRegressor(base_score=None, booster=None,\n",
       "                                    callbacks=None, colsample_bylevel=None,\n",
       "                                    colsample_bynode=None,\n",
       "                                    colsample_bytree=None, device=&#x27;cuda&#x27;,\n",
       "                                    early_stopping_rounds=None,\n",
       "                                    enable_categorical=False, eval_metric=None,\n",
       "                                    feature_types=None, gamma=None,\n",
       "                                    grow_policy=None, importance_type=None,\n",
       "                                    interaction_constraints=None,\n",
       "                                    learning_rate=None, max_...\n",
       "                                    max_cat_to_onehot=None, max_delta_step=None,\n",
       "                                    max_depth=None, max_leaves=None,\n",
       "                                    min_child_weight=None, missing=nan,\n",
       "                                    monotone_constraints=None,\n",
       "                                    multi_strategy=None, n_estimators=None,\n",
       "                                    n_jobs=None, num_parallel_tree=None,\n",
       "                                    random_state=42, ...),\n",
       "             n_jobs=-1,\n",
       "             param_grid={&#x27;learning_rate&#x27;: [0.01, 0.001], &#x27;max_depth&#x27;: [3, 5, 7],\n",
       "                         &#x27;n_estimators&#x27;: [50, 150]},\n",
       "             scoring=make_scorer(r2_score, response_method=&#x27;predict&#x27;))</pre></div> </div></div><div class=\"sk-parallel\"><div class=\"sk-parallel-item\"><div class=\"sk-item\"><div class=\"sk-label-container\"><div class=\"sk-label fitted sk-toggleable\"><input class=\"sk-toggleable__control sk-hidden--visually\" id=\"sk-estimator-id-2\" type=\"checkbox\" ><label for=\"sk-estimator-id-2\" class=\"sk-toggleable__label fitted sk-toggleable__label-arrow fitted\">estimator: XGBRegressor</label><div class=\"sk-toggleable__content fitted\"><pre>XGBRegressor(base_score=None, booster=None, callbacks=None,\n",
       "             colsample_bylevel=None, colsample_bynode=None,\n",
       "             colsample_bytree=None, device=&#x27;cuda&#x27;, early_stopping_rounds=None,\n",
       "             enable_categorical=False, eval_metric=None, feature_types=None,\n",
       "             gamma=None, grow_policy=None, importance_type=None,\n",
       "             interaction_constraints=None, learning_rate=None, max_bin=None,\n",
       "             max_cat_threshold=None, max_cat_to_onehot=None,\n",
       "             max_delta_step=None, max_depth=None, max_leaves=None,\n",
       "             min_child_weight=None, missing=nan, monotone_constraints=None,\n",
       "             multi_strategy=None, n_estimators=None, n_jobs=None,\n",
       "             num_parallel_tree=None, random_state=42, ...)</pre></div> </div></div><div class=\"sk-serial\"><div class=\"sk-item\"><div class=\"sk-estimator fitted sk-toggleable\"><input class=\"sk-toggleable__control sk-hidden--visually\" id=\"sk-estimator-id-3\" type=\"checkbox\" ><label for=\"sk-estimator-id-3\" class=\"sk-toggleable__label fitted sk-toggleable__label-arrow fitted\">XGBRegressor</label><div class=\"sk-toggleable__content fitted\"><pre>XGBRegressor(base_score=None, booster=None, callbacks=None,\n",
       "             colsample_bylevel=None, colsample_bynode=None,\n",
       "             colsample_bytree=None, device=&#x27;cuda&#x27;, early_stopping_rounds=None,\n",
       "             enable_categorical=False, eval_metric=None, feature_types=None,\n",
       "             gamma=None, grow_policy=None, importance_type=None,\n",
       "             interaction_constraints=None, learning_rate=None, max_bin=None,\n",
       "             max_cat_threshold=None, max_cat_to_onehot=None,\n",
       "             max_delta_step=None, max_depth=None, max_leaves=None,\n",
       "             min_child_weight=None, missing=nan, monotone_constraints=None,\n",
       "             multi_strategy=None, n_estimators=None, n_jobs=None,\n",
       "             num_parallel_tree=None, random_state=42, ...)</pre></div> </div></div></div></div></div></div></div></div></div>"
      ],
      "text/plain": [
       "GridSearchCV(estimator=XGBRegressor(base_score=None, booster=None,\n",
       "                                    callbacks=None, colsample_bylevel=None,\n",
       "                                    colsample_bynode=None,\n",
       "                                    colsample_bytree=None, device='cuda',\n",
       "                                    early_stopping_rounds=None,\n",
       "                                    enable_categorical=False, eval_metric=None,\n",
       "                                    feature_types=None, gamma=None,\n",
       "                                    grow_policy=None, importance_type=None,\n",
       "                                    interaction_constraints=None,\n",
       "                                    learning_rate=None, max_...\n",
       "                                    max_cat_to_onehot=None, max_delta_step=None,\n",
       "                                    max_depth=None, max_leaves=None,\n",
       "                                    min_child_weight=None, missing=nan,\n",
       "                                    monotone_constraints=None,\n",
       "                                    multi_strategy=None, n_estimators=None,\n",
       "                                    n_jobs=None, num_parallel_tree=None,\n",
       "                                    random_state=42, ...),\n",
       "             n_jobs=-1,\n",
       "             param_grid={'learning_rate': [0.01, 0.001], 'max_depth': [3, 5, 7],\n",
       "                         'n_estimators': [50, 150]},\n",
       "             scoring=make_scorer(r2_score, response_method='predict'))"
      ]
     },
     "execution_count": 131,
     "metadata": {},
     "output_type": "execute_result"
    }
   ],
   "source": [
    "parameters = {\n",
    "    'learning_rate': [0.01, 0.001], \n",
    "    'max_depth': [3, 5, 7],\n",
    "    'n_estimators': [50, 150]\n",
    "}\n",
    "\n",
    "xgb_regressor = XGBRegressor(\n",
    "                                objective='reg:squarederror', \n",
    "                                random_state=seed, \n",
    "                                device = \"cuda\"\n",
    "                            )\n",
    "\n",
    "r2_scorer = make_scorer(r2_score)\n",
    "reg = GridSearchCV(xgb_regressor, parameters, scoring=r2_scorer, n_jobs=-1)\n",
    "\n",
    "reg.fit(X_train, y_train)"
   ]
  },
  {
   "cell_type": "code",
   "execution_count": 132,
   "id": "796cf771-c61d-44fc-94b6-70460dc6f1ca",
   "metadata": {},
   "outputs": [
    {
     "name": "stdout",
     "output_type": "stream",
     "text": [
      "R-squared: 0.08889652831514194\n"
     ]
    }
   ],
   "source": [
    "y_pred = reg.predict(X_test)\n",
    "r2 = r2_score(y_test, y_pred)\n",
    "print(\"R-squared:\", r2)"
   ]
  },
  {
   "cell_type": "code",
   "execution_count": 133,
   "id": "0be9b54e-e60a-4ecd-9448-78f4e4890912",
   "metadata": {},
   "outputs": [
    {
     "name": "stdout",
     "output_type": "stream",
     "text": [
      "Best parameters: {'learning_rate': 0.01, 'max_depth': 7, 'n_estimators': 150}\n"
     ]
    }
   ],
   "source": [
    "best_params = reg.best_params_\n",
    "print(\"Best parameters:\", best_params)"
   ]
  },
  {
   "cell_type": "markdown",
   "id": "9864a80e-8d6b-4098-a512-533c087e9acf",
   "metadata": {},
   "source": [
    "### Word Embeddings\n",
    "\n",
    "These scores are all pretty bad. Let's try word embeddings."
   ]
  },
  {
   "cell_type": "code",
   "execution_count": 166,
   "id": "363df8d0-f4f1-401f-8920-00cffdc7f55c",
   "metadata": {},
   "outputs": [],
   "source": [
    "from gensim.models import Word2Vec\n",
    "\n",
    "# Train Word2Vec model\n",
    "model = Word2Vec(sentences=preprocessed_df['label'], vector_size=100, window=5, min_count=1, workers=4)"
   ]
  },
  {
   "cell_type": "code",
   "execution_count": 162,
   "id": "46b5a504-f3de-4d03-b04e-53af6e9c2eec",
   "metadata": {},
   "outputs": [
    {
     "data": {
      "text/plain": [
       "['Sauteed', 'Green', 'Beans']"
      ]
     },
     "execution_count": 162,
     "metadata": {},
     "output_type": "execute_result"
    }
   ],
   "source": [
    "ex_text = preprocessed_df['label'][1]\n",
    "ex_text = ' '.join(ex_text)\n",
    "ex_text.split()\n",
    "embeddings = [model.wv[word] for word in words if word in model.wv]"
   ]
  },
  {
   "cell_type": "code",
   "execution_count": 168,
   "id": "140a2c47-3923-4b88-9df9-0338e8863867",
   "metadata": {},
   "outputs": [],
   "source": [
    "# Function to generate word embeddings for a text sample\n",
    "def generate_embedding(text):\n",
    "    words = text  # Split text into words\n",
    "    embeddings = [model.wv[word] for word in words if word in model.wv]\n",
    "    if embeddings:\n",
    "        return sum(embeddings) / len(embeddings)  # Average word embeddings\n",
    "    else:\n",
    "        return [0] * model.vector_size  # Return zero vector if no embeddings found\n",
    "\n",
    "# Apply the function to each text sample in the DataFrame\n",
    "embeddings = preprocessed_df['label'].apply(generate_embedding)"
   ]
  },
  {
   "cell_type": "code",
   "execution_count": 170,
   "id": "f9594af9-3c9a-4eac-98f4-0a0e5c05416d",
   "metadata": {},
   "outputs": [],
   "source": [
    "embeddings_df = pd.DataFrame(embeddings.tolist()) "
   ]
  },
  {
   "cell_type": "code",
   "execution_count": 171,
   "id": "0d600f16-0ace-4779-94e2-246b08bdc5de",
   "metadata": {},
   "outputs": [],
   "source": [
    "embeddings_df = pd.concat([embeddings_df, preprocessed_df], axis=1).drop('label', axis=1)"
   ]
  },
  {
   "cell_type": "markdown",
   "id": "d24b5f6a-f034-4b53-8b67-13bd9be26a58",
   "metadata": {},
   "source": [
    "#### Classification"
   ]
  },
  {
   "cell_type": "code",
   "execution_count": 207,
   "id": "5941de12-3f3b-45bb-b0fc-36b94a8fbb59",
   "metadata": {},
   "outputs": [],
   "source": [
    "X = embeddings_df.drop(['calories', 'calorieLabels'], axis=1)\n",
    "y = embeddings_df['calorieLabels']\n",
    "\n",
    "X_train, X_test, y_train, y_test = train_test_split(X, y, test_size=0.2, random_state=seed)"
   ]
  },
  {
   "cell_type": "code",
   "execution_count": 199,
   "id": "2c129bf2-f411-4b72-8048-1e5f3dfacaf7",
   "metadata": {},
   "outputs": [
    {
     "data": {
      "text/html": [
       "<style>#sk-container-id-3 {\n",
       "  /* Definition of color scheme common for light and dark mode */\n",
       "  --sklearn-color-text: black;\n",
       "  --sklearn-color-line: gray;\n",
       "  /* Definition of color scheme for unfitted estimators */\n",
       "  --sklearn-color-unfitted-level-0: #fff5e6;\n",
       "  --sklearn-color-unfitted-level-1: #f6e4d2;\n",
       "  --sklearn-color-unfitted-level-2: #ffe0b3;\n",
       "  --sklearn-color-unfitted-level-3: chocolate;\n",
       "  /* Definition of color scheme for fitted estimators */\n",
       "  --sklearn-color-fitted-level-0: #f0f8ff;\n",
       "  --sklearn-color-fitted-level-1: #d4ebff;\n",
       "  --sklearn-color-fitted-level-2: #b3dbfd;\n",
       "  --sklearn-color-fitted-level-3: cornflowerblue;\n",
       "\n",
       "  /* Specific color for light theme */\n",
       "  --sklearn-color-text-on-default-background: var(--sg-text-color, var(--theme-code-foreground, var(--jp-content-font-color1, black)));\n",
       "  --sklearn-color-background: var(--sg-background-color, var(--theme-background, var(--jp-layout-color0, white)));\n",
       "  --sklearn-color-border-box: var(--sg-text-color, var(--theme-code-foreground, var(--jp-content-font-color1, black)));\n",
       "  --sklearn-color-icon: #696969;\n",
       "\n",
       "  @media (prefers-color-scheme: dark) {\n",
       "    /* Redefinition of color scheme for dark theme */\n",
       "    --sklearn-color-text-on-default-background: var(--sg-text-color, var(--theme-code-foreground, var(--jp-content-font-color1, white)));\n",
       "    --sklearn-color-background: var(--sg-background-color, var(--theme-background, var(--jp-layout-color0, #111)));\n",
       "    --sklearn-color-border-box: var(--sg-text-color, var(--theme-code-foreground, var(--jp-content-font-color1, white)));\n",
       "    --sklearn-color-icon: #878787;\n",
       "  }\n",
       "}\n",
       "\n",
       "#sk-container-id-3 {\n",
       "  color: var(--sklearn-color-text);\n",
       "}\n",
       "\n",
       "#sk-container-id-3 pre {\n",
       "  padding: 0;\n",
       "}\n",
       "\n",
       "#sk-container-id-3 input.sk-hidden--visually {\n",
       "  border: 0;\n",
       "  clip: rect(1px 1px 1px 1px);\n",
       "  clip: rect(1px, 1px, 1px, 1px);\n",
       "  height: 1px;\n",
       "  margin: -1px;\n",
       "  overflow: hidden;\n",
       "  padding: 0;\n",
       "  position: absolute;\n",
       "  width: 1px;\n",
       "}\n",
       "\n",
       "#sk-container-id-3 div.sk-dashed-wrapped {\n",
       "  border: 1px dashed var(--sklearn-color-line);\n",
       "  margin: 0 0.4em 0.5em 0.4em;\n",
       "  box-sizing: border-box;\n",
       "  padding-bottom: 0.4em;\n",
       "  background-color: var(--sklearn-color-background);\n",
       "}\n",
       "\n",
       "#sk-container-id-3 div.sk-container {\n",
       "  /* jupyter's `normalize.less` sets `[hidden] { display: none; }`\n",
       "     but bootstrap.min.css set `[hidden] { display: none !important; }`\n",
       "     so we also need the `!important` here to be able to override the\n",
       "     default hidden behavior on the sphinx rendered scikit-learn.org.\n",
       "     See: https://github.com/scikit-learn/scikit-learn/issues/21755 */\n",
       "  display: inline-block !important;\n",
       "  position: relative;\n",
       "}\n",
       "\n",
       "#sk-container-id-3 div.sk-text-repr-fallback {\n",
       "  display: none;\n",
       "}\n",
       "\n",
       "div.sk-parallel-item,\n",
       "div.sk-serial,\n",
       "div.sk-item {\n",
       "  /* draw centered vertical line to link estimators */\n",
       "  background-image: linear-gradient(var(--sklearn-color-text-on-default-background), var(--sklearn-color-text-on-default-background));\n",
       "  background-size: 2px 100%;\n",
       "  background-repeat: no-repeat;\n",
       "  background-position: center center;\n",
       "}\n",
       "\n",
       "/* Parallel-specific style estimator block */\n",
       "\n",
       "#sk-container-id-3 div.sk-parallel-item::after {\n",
       "  content: \"\";\n",
       "  width: 100%;\n",
       "  border-bottom: 2px solid var(--sklearn-color-text-on-default-background);\n",
       "  flex-grow: 1;\n",
       "}\n",
       "\n",
       "#sk-container-id-3 div.sk-parallel {\n",
       "  display: flex;\n",
       "  align-items: stretch;\n",
       "  justify-content: center;\n",
       "  background-color: var(--sklearn-color-background);\n",
       "  position: relative;\n",
       "}\n",
       "\n",
       "#sk-container-id-3 div.sk-parallel-item {\n",
       "  display: flex;\n",
       "  flex-direction: column;\n",
       "}\n",
       "\n",
       "#sk-container-id-3 div.sk-parallel-item:first-child::after {\n",
       "  align-self: flex-end;\n",
       "  width: 50%;\n",
       "}\n",
       "\n",
       "#sk-container-id-3 div.sk-parallel-item:last-child::after {\n",
       "  align-self: flex-start;\n",
       "  width: 50%;\n",
       "}\n",
       "\n",
       "#sk-container-id-3 div.sk-parallel-item:only-child::after {\n",
       "  width: 0;\n",
       "}\n",
       "\n",
       "/* Serial-specific style estimator block */\n",
       "\n",
       "#sk-container-id-3 div.sk-serial {\n",
       "  display: flex;\n",
       "  flex-direction: column;\n",
       "  align-items: center;\n",
       "  background-color: var(--sklearn-color-background);\n",
       "  padding-right: 1em;\n",
       "  padding-left: 1em;\n",
       "}\n",
       "\n",
       "\n",
       "/* Toggleable style: style used for estimator/Pipeline/ColumnTransformer box that is\n",
       "clickable and can be expanded/collapsed.\n",
       "- Pipeline and ColumnTransformer use this feature and define the default style\n",
       "- Estimators will overwrite some part of the style using the `sk-estimator` class\n",
       "*/\n",
       "\n",
       "/* Pipeline and ColumnTransformer style (default) */\n",
       "\n",
       "#sk-container-id-3 div.sk-toggleable {\n",
       "  /* Default theme specific background. It is overwritten whether we have a\n",
       "  specific estimator or a Pipeline/ColumnTransformer */\n",
       "  background-color: var(--sklearn-color-background);\n",
       "}\n",
       "\n",
       "/* Toggleable label */\n",
       "#sk-container-id-3 label.sk-toggleable__label {\n",
       "  cursor: pointer;\n",
       "  display: block;\n",
       "  width: 100%;\n",
       "  margin-bottom: 0;\n",
       "  padding: 0.5em;\n",
       "  box-sizing: border-box;\n",
       "  text-align: center;\n",
       "}\n",
       "\n",
       "#sk-container-id-3 label.sk-toggleable__label-arrow:before {\n",
       "  /* Arrow on the left of the label */\n",
       "  content: \"▸\";\n",
       "  float: left;\n",
       "  margin-right: 0.25em;\n",
       "  color: var(--sklearn-color-icon);\n",
       "}\n",
       "\n",
       "#sk-container-id-3 label.sk-toggleable__label-arrow:hover:before {\n",
       "  color: var(--sklearn-color-text);\n",
       "}\n",
       "\n",
       "/* Toggleable content - dropdown */\n",
       "\n",
       "#sk-container-id-3 div.sk-toggleable__content {\n",
       "  max-height: 0;\n",
       "  max-width: 0;\n",
       "  overflow: hidden;\n",
       "  text-align: left;\n",
       "  /* unfitted */\n",
       "  background-color: var(--sklearn-color-unfitted-level-0);\n",
       "}\n",
       "\n",
       "#sk-container-id-3 div.sk-toggleable__content.fitted {\n",
       "  /* fitted */\n",
       "  background-color: var(--sklearn-color-fitted-level-0);\n",
       "}\n",
       "\n",
       "#sk-container-id-3 div.sk-toggleable__content pre {\n",
       "  margin: 0.2em;\n",
       "  border-radius: 0.25em;\n",
       "  color: var(--sklearn-color-text);\n",
       "  /* unfitted */\n",
       "  background-color: var(--sklearn-color-unfitted-level-0);\n",
       "}\n",
       "\n",
       "#sk-container-id-3 div.sk-toggleable__content.fitted pre {\n",
       "  /* unfitted */\n",
       "  background-color: var(--sklearn-color-fitted-level-0);\n",
       "}\n",
       "\n",
       "#sk-container-id-3 input.sk-toggleable__control:checked~div.sk-toggleable__content {\n",
       "  /* Expand drop-down */\n",
       "  max-height: 200px;\n",
       "  max-width: 100%;\n",
       "  overflow: auto;\n",
       "}\n",
       "\n",
       "#sk-container-id-3 input.sk-toggleable__control:checked~label.sk-toggleable__label-arrow:before {\n",
       "  content: \"▾\";\n",
       "}\n",
       "\n",
       "/* Pipeline/ColumnTransformer-specific style */\n",
       "\n",
       "#sk-container-id-3 div.sk-label input.sk-toggleable__control:checked~label.sk-toggleable__label {\n",
       "  color: var(--sklearn-color-text);\n",
       "  background-color: var(--sklearn-color-unfitted-level-2);\n",
       "}\n",
       "\n",
       "#sk-container-id-3 div.sk-label.fitted input.sk-toggleable__control:checked~label.sk-toggleable__label {\n",
       "  background-color: var(--sklearn-color-fitted-level-2);\n",
       "}\n",
       "\n",
       "/* Estimator-specific style */\n",
       "\n",
       "/* Colorize estimator box */\n",
       "#sk-container-id-3 div.sk-estimator input.sk-toggleable__control:checked~label.sk-toggleable__label {\n",
       "  /* unfitted */\n",
       "  background-color: var(--sklearn-color-unfitted-level-2);\n",
       "}\n",
       "\n",
       "#sk-container-id-3 div.sk-estimator.fitted input.sk-toggleable__control:checked~label.sk-toggleable__label {\n",
       "  /* fitted */\n",
       "  background-color: var(--sklearn-color-fitted-level-2);\n",
       "}\n",
       "\n",
       "#sk-container-id-3 div.sk-label label.sk-toggleable__label,\n",
       "#sk-container-id-3 div.sk-label label {\n",
       "  /* The background is the default theme color */\n",
       "  color: var(--sklearn-color-text-on-default-background);\n",
       "}\n",
       "\n",
       "/* On hover, darken the color of the background */\n",
       "#sk-container-id-3 div.sk-label:hover label.sk-toggleable__label {\n",
       "  color: var(--sklearn-color-text);\n",
       "  background-color: var(--sklearn-color-unfitted-level-2);\n",
       "}\n",
       "\n",
       "/* Label box, darken color on hover, fitted */\n",
       "#sk-container-id-3 div.sk-label.fitted:hover label.sk-toggleable__label.fitted {\n",
       "  color: var(--sklearn-color-text);\n",
       "  background-color: var(--sklearn-color-fitted-level-2);\n",
       "}\n",
       "\n",
       "/* Estimator label */\n",
       "\n",
       "#sk-container-id-3 div.sk-label label {\n",
       "  font-family: monospace;\n",
       "  font-weight: bold;\n",
       "  display: inline-block;\n",
       "  line-height: 1.2em;\n",
       "}\n",
       "\n",
       "#sk-container-id-3 div.sk-label-container {\n",
       "  text-align: center;\n",
       "}\n",
       "\n",
       "/* Estimator-specific */\n",
       "#sk-container-id-3 div.sk-estimator {\n",
       "  font-family: monospace;\n",
       "  border: 1px dotted var(--sklearn-color-border-box);\n",
       "  border-radius: 0.25em;\n",
       "  box-sizing: border-box;\n",
       "  margin-bottom: 0.5em;\n",
       "  /* unfitted */\n",
       "  background-color: var(--sklearn-color-unfitted-level-0);\n",
       "}\n",
       "\n",
       "#sk-container-id-3 div.sk-estimator.fitted {\n",
       "  /* fitted */\n",
       "  background-color: var(--sklearn-color-fitted-level-0);\n",
       "}\n",
       "\n",
       "/* on hover */\n",
       "#sk-container-id-3 div.sk-estimator:hover {\n",
       "  /* unfitted */\n",
       "  background-color: var(--sklearn-color-unfitted-level-2);\n",
       "}\n",
       "\n",
       "#sk-container-id-3 div.sk-estimator.fitted:hover {\n",
       "  /* fitted */\n",
       "  background-color: var(--sklearn-color-fitted-level-2);\n",
       "}\n",
       "\n",
       "/* Specification for estimator info (e.g. \"i\" and \"?\") */\n",
       "\n",
       "/* Common style for \"i\" and \"?\" */\n",
       "\n",
       ".sk-estimator-doc-link,\n",
       "a:link.sk-estimator-doc-link,\n",
       "a:visited.sk-estimator-doc-link {\n",
       "  float: right;\n",
       "  font-size: smaller;\n",
       "  line-height: 1em;\n",
       "  font-family: monospace;\n",
       "  background-color: var(--sklearn-color-background);\n",
       "  border-radius: 1em;\n",
       "  height: 1em;\n",
       "  width: 1em;\n",
       "  text-decoration: none !important;\n",
       "  margin-left: 1ex;\n",
       "  /* unfitted */\n",
       "  border: var(--sklearn-color-unfitted-level-1) 1pt solid;\n",
       "  color: var(--sklearn-color-unfitted-level-1);\n",
       "}\n",
       "\n",
       ".sk-estimator-doc-link.fitted,\n",
       "a:link.sk-estimator-doc-link.fitted,\n",
       "a:visited.sk-estimator-doc-link.fitted {\n",
       "  /* fitted */\n",
       "  border: var(--sklearn-color-fitted-level-1) 1pt solid;\n",
       "  color: var(--sklearn-color-fitted-level-1);\n",
       "}\n",
       "\n",
       "/* On hover */\n",
       "div.sk-estimator:hover .sk-estimator-doc-link:hover,\n",
       ".sk-estimator-doc-link:hover,\n",
       "div.sk-label-container:hover .sk-estimator-doc-link:hover,\n",
       ".sk-estimator-doc-link:hover {\n",
       "  /* unfitted */\n",
       "  background-color: var(--sklearn-color-unfitted-level-3);\n",
       "  color: var(--sklearn-color-background);\n",
       "  text-decoration: none;\n",
       "}\n",
       "\n",
       "div.sk-estimator.fitted:hover .sk-estimator-doc-link.fitted:hover,\n",
       ".sk-estimator-doc-link.fitted:hover,\n",
       "div.sk-label-container:hover .sk-estimator-doc-link.fitted:hover,\n",
       ".sk-estimator-doc-link.fitted:hover {\n",
       "  /* fitted */\n",
       "  background-color: var(--sklearn-color-fitted-level-3);\n",
       "  color: var(--sklearn-color-background);\n",
       "  text-decoration: none;\n",
       "}\n",
       "\n",
       "/* Span, style for the box shown on hovering the info icon */\n",
       ".sk-estimator-doc-link span {\n",
       "  display: none;\n",
       "  z-index: 9999;\n",
       "  position: relative;\n",
       "  font-weight: normal;\n",
       "  right: .2ex;\n",
       "  padding: .5ex;\n",
       "  margin: .5ex;\n",
       "  width: min-content;\n",
       "  min-width: 20ex;\n",
       "  max-width: 50ex;\n",
       "  color: var(--sklearn-color-text);\n",
       "  box-shadow: 2pt 2pt 4pt #999;\n",
       "  /* unfitted */\n",
       "  background: var(--sklearn-color-unfitted-level-0);\n",
       "  border: .5pt solid var(--sklearn-color-unfitted-level-3);\n",
       "}\n",
       "\n",
       ".sk-estimator-doc-link.fitted span {\n",
       "  /* fitted */\n",
       "  background: var(--sklearn-color-fitted-level-0);\n",
       "  border: var(--sklearn-color-fitted-level-3);\n",
       "}\n",
       "\n",
       ".sk-estimator-doc-link:hover span {\n",
       "  display: block;\n",
       "}\n",
       "\n",
       "/* \"?\"-specific style due to the `<a>` HTML tag */\n",
       "\n",
       "#sk-container-id-3 a.estimator_doc_link {\n",
       "  float: right;\n",
       "  font-size: 1rem;\n",
       "  line-height: 1em;\n",
       "  font-family: monospace;\n",
       "  background-color: var(--sklearn-color-background);\n",
       "  border-radius: 1rem;\n",
       "  height: 1rem;\n",
       "  width: 1rem;\n",
       "  text-decoration: none;\n",
       "  /* unfitted */\n",
       "  color: var(--sklearn-color-unfitted-level-1);\n",
       "  border: var(--sklearn-color-unfitted-level-1) 1pt solid;\n",
       "}\n",
       "\n",
       "#sk-container-id-3 a.estimator_doc_link.fitted {\n",
       "  /* fitted */\n",
       "  border: var(--sklearn-color-fitted-level-1) 1pt solid;\n",
       "  color: var(--sklearn-color-fitted-level-1);\n",
       "}\n",
       "\n",
       "/* On hover */\n",
       "#sk-container-id-3 a.estimator_doc_link:hover {\n",
       "  /* unfitted */\n",
       "  background-color: var(--sklearn-color-unfitted-level-3);\n",
       "  color: var(--sklearn-color-background);\n",
       "  text-decoration: none;\n",
       "}\n",
       "\n",
       "#sk-container-id-3 a.estimator_doc_link.fitted:hover {\n",
       "  /* fitted */\n",
       "  background-color: var(--sklearn-color-fitted-level-3);\n",
       "}\n",
       "</style><div id=\"sk-container-id-3\" class=\"sk-top-container\"><div class=\"sk-text-repr-fallback\"><pre>XGBClassifier(base_score=None, booster=None, callbacks=None,\n",
       "              colsample_bylevel=None, colsample_bynode=None,\n",
       "              colsample_bytree=None, device=&#x27;cuda&#x27;, early_stopping_rounds=None,\n",
       "              enable_categorical=False, eval_metric=None, feature_types=None,\n",
       "              gamma=None, grow_policy=None, importance_type=None,\n",
       "              interaction_constraints=None, learning_rate=None, max_bin=None,\n",
       "              max_cat_threshold=None, max_cat_to_onehot=None,\n",
       "              max_delta_step=None, max_depth=None, max_leaves=None,\n",
       "              min_child_weight=None, missing=nan, monotone_constraints=None,\n",
       "              multi_strategy=None, n_estimators=None, n_jobs=None, num_class=13,\n",
       "              num_parallel_tree=None, ...)</pre><b>In a Jupyter environment, please rerun this cell to show the HTML representation or trust the notebook. <br />On GitHub, the HTML representation is unable to render, please try loading this page with nbviewer.org.</b></div><div class=\"sk-container\" hidden><div class=\"sk-item\"><div class=\"sk-estimator fitted sk-toggleable\"><input class=\"sk-toggleable__control sk-hidden--visually\" id=\"sk-estimator-id-5\" type=\"checkbox\" checked><label for=\"sk-estimator-id-5\" class=\"sk-toggleable__label fitted sk-toggleable__label-arrow fitted\">&nbsp;XGBClassifier<span class=\"sk-estimator-doc-link fitted\">i<span>Fitted</span></span></label><div class=\"sk-toggleable__content fitted\"><pre>XGBClassifier(base_score=None, booster=None, callbacks=None,\n",
       "              colsample_bylevel=None, colsample_bynode=None,\n",
       "              colsample_bytree=None, device=&#x27;cuda&#x27;, early_stopping_rounds=None,\n",
       "              enable_categorical=False, eval_metric=None, feature_types=None,\n",
       "              gamma=None, grow_policy=None, importance_type=None,\n",
       "              interaction_constraints=None, learning_rate=None, max_bin=None,\n",
       "              max_cat_threshold=None, max_cat_to_onehot=None,\n",
       "              max_delta_step=None, max_depth=None, max_leaves=None,\n",
       "              min_child_weight=None, missing=nan, monotone_constraints=None,\n",
       "              multi_strategy=None, n_estimators=None, n_jobs=None, num_class=13,\n",
       "              num_parallel_tree=None, ...)</pre></div> </div></div></div></div>"
      ],
      "text/plain": [
       "XGBClassifier(base_score=None, booster=None, callbacks=None,\n",
       "              colsample_bylevel=None, colsample_bynode=None,\n",
       "              colsample_bytree=None, device='cuda', early_stopping_rounds=None,\n",
       "              enable_categorical=False, eval_metric=None, feature_types=None,\n",
       "              gamma=None, grow_policy=None, importance_type=None,\n",
       "              interaction_constraints=None, learning_rate=None, max_bin=None,\n",
       "              max_cat_threshold=None, max_cat_to_onehot=None,\n",
       "              max_delta_step=None, max_depth=None, max_leaves=None,\n",
       "              min_child_weight=None, missing=nan, monotone_constraints=None,\n",
       "              multi_strategy=None, n_estimators=None, n_jobs=None, num_class=13,\n",
       "              num_parallel_tree=None, ...)"
      ]
     },
     "execution_count": 199,
     "metadata": {},
     "output_type": "execute_result"
    }
   ],
   "source": [
    "parameters = {\n",
    "    'learning_rate': [0.1, 0.01, 0.001], \n",
    "    'max_depth': [3, 4, 5],\n",
    "    'n_estimators': [50, 100, 150]\n",
    "}\n",
    "\n",
    "xgb_clf = XGBClassifier(objective='multi:softmax', \n",
    "                             num_class=13, \n",
    "                             random_state=seed, \n",
    "                             device = \"cuda\")\n",
    "\n",
    "xgb_clf.fit(X_train,  y_train)"
   ]
  },
  {
   "cell_type": "code",
   "execution_count": 203,
   "id": "6833df44-0369-4e37-bb6c-18ff89f76ffe",
   "metadata": {},
   "outputs": [
    {
     "name": "stdout",
     "output_type": "stream",
     "text": [
      "Accuracy training set score for xgboost after GridSearch: 0.9985552612569227\n",
      "Accuracy testing set score for xgboost after GridSearch: 0.1439576311988445\n"
     ]
    }
   ],
   "source": [
    "print('Accuracy training set score for xgboost after GridSearch:', accuracy_score(xgb_clf.predict(X_train), y_train))\n",
    "\n",
    "y_pred = xgb_clf.predict(X_test)\n",
    "\n",
    "print('Accuracy testing set score for xgboost after GridSearch:', accuracy_score(y_pred, y_test))"
   ]
  },
  {
   "cell_type": "code",
   "execution_count": 205,
   "id": "fbcef8d7-e943-43e2-bf79-840d7c65586f",
   "metadata": {},
   "outputs": [
    {
     "name": "stdout",
     "output_type": "stream",
     "text": [
      "Kappa training set score for xgboost after GridSearch: 0.9983993835976003\n",
      "Kappa testing set score for xgboost after GridSearch: 0.03201458017642267\n"
     ]
    }
   ],
   "source": [
    "print('Kappa training set score for xgboost after GridSearch:', cohen_kappa_score(xgb_clf.predict(X_train), y_train))\n",
    "print('Kappa testing set score for xgboost after GridSearch:', cohen_kappa_score(y_pred, y_test))"
   ]
  },
  {
   "cell_type": "code",
   "execution_count": null,
   "id": "1baa0009-af40-4c85-bac3-424a6e4bf2e6",
   "metadata": {},
   "outputs": [],
   "source": [
    "clf = GridSearchCV(xgb_clf, parameters, scoring=kappa_scorer, n_jobs=-1)\n",
    "\n",
    "clf.fit(X_train_tfidf, y_train)"
   ]
  },
  {
   "cell_type": "code",
   "execution_count": null,
   "id": "702f5abf-9d31-4911-9d0c-019393487554",
   "metadata": {},
   "outputs": [],
   "source": []
  },
  {
   "cell_type": "code",
   "execution_count": null,
   "id": "22eaeedd-4063-4d8f-9928-fa43b54697f0",
   "metadata": {},
   "outputs": [],
   "source": []
  },
  {
   "cell_type": "markdown",
   "id": "3d4c3a67-db42-4891-b2df-deda6f786e90",
   "metadata": {},
   "source": [
    "#### Regression"
   ]
  },
  {
   "cell_type": "code",
   "execution_count": 194,
   "id": "84f940ba-7543-4291-b2d0-f170c21abc99",
   "metadata": {},
   "outputs": [],
   "source": [
    "X = embeddings_df.drop(['calories', 'calorieLabels'], axis=1)\n",
    "y = embeddings_df['calories']\n",
    "\n",
    "X_train, X_test, y_train, y_test = train_test_split(X, y, test_size=0.2, random_state=seed)"
   ]
  },
  {
   "cell_type": "code",
   "execution_count": 195,
   "id": "317d7d8f-4709-452a-8c8e-f2510639db80",
   "metadata": {},
   "outputs": [
    {
     "name": "stdout",
     "output_type": "stream",
     "text": [
      "R-squared: -0.029165196243288838\n"
     ]
    }
   ],
   "source": [
    "xgb_regressor = XGBRegressor(\n",
    "                                objective='reg:squarederror', \n",
    "                                random_state=seed, \n",
    "                                device = \"cuda\"\n",
    "                            )\n",
    "\n",
    "xgb_regressor.fit(X_train, y_train)\n",
    "\n",
    "y_pred = xgb_regressor.predict(X_test)\n",
    "\n",
    "r2 = r2_score(y_test, y_pred)\n",
    "print(\"R-squared:\", r2)"
   ]
  },
  {
   "cell_type": "code",
   "execution_count": null,
   "id": "9bb0f79f-b296-4e09-9d4f-aec8ade83f70",
   "metadata": {},
   "outputs": [],
   "source": []
  },
  {
   "cell_type": "code",
   "execution_count": null,
   "id": "e9e218c5-36d5-4d62-9496-8578c27c8dfd",
   "metadata": {},
   "outputs": [],
   "source": []
  },
  {
   "cell_type": "markdown",
   "id": "fc4e7fc4-bd41-4033-b365-27460d54f007",
   "metadata": {},
   "source": [
    "### Neural Networks"
   ]
  },
  {
   "cell_type": "code",
   "execution_count": 261,
   "id": "b1536b60-6e72-437c-be1e-c2e1018d6f1f",
   "metadata": {},
   "outputs": [],
   "source": [
    "import torch\n",
    "import torch.nn as nn\n",
    "import torch.optim as optim\n",
    "import torch.nn.functional as F\n",
    "import numpy as np"
   ]
  },
  {
   "cell_type": "markdown",
   "id": "8f6e4d71-9d3b-4cec-84a9-41d15b4ff2f2",
   "metadata": {},
   "source": [
    "#### Classification"
   ]
  },
  {
   "cell_type": "code",
   "execution_count": 266,
   "id": "eb6f78bb-7d7c-4f10-ae85-ef7150bd2769",
   "metadata": {},
   "outputs": [
    {
     "name": "stdout",
     "output_type": "stream",
     "text": [
      "Epoch [1/15], Loss: 2.5694\n",
      "Epoch [2/15], Loss: 2.5692\n",
      "Epoch [3/15], Loss: 2.5697\n",
      "Epoch [4/15], Loss: 2.5681\n",
      "Epoch [5/15], Loss: 2.5697\n",
      "Epoch [6/15], Loss: 2.5689\n",
      "Epoch [7/15], Loss: 2.5689\n",
      "Epoch [8/15], Loss: 2.5675\n",
      "Epoch [9/15], Loss: 2.5684\n",
      "Epoch [10/15], Loss: 2.5674\n",
      "Epoch [11/15], Loss: 2.5671\n",
      "Epoch [12/15], Loss: 2.5667\n",
      "Epoch [13/15], Loss: 2.5672\n",
      "Epoch [14/15], Loss: 2.5672\n",
      "Epoch [15/15], Loss: 2.5653\n",
      "Training finished!\n"
     ]
    }
   ],
   "source": [
    "# Define the neural network architecture\n",
    "class NeuralNetwork(nn.Module):\n",
    "    def __init__(self, input_size, hidden_size1, hidden_size2, num_classes, dropout_prob):\n",
    "        super(NeuralNetwork, self).__init__()\n",
    "        self.fc1 = nn.Linear(input_size, hidden_size1)\n",
    "        self.fc2 = nn.Linear(hidden_size1, hidden_size2)\n",
    "        self.fc3 = nn.Linear(hidden_size2, num_classes)\n",
    "        self.dropout = nn.Dropout(dropout_prob)\n",
    "    \n",
    "    def forward(self, x):\n",
    "        out = F.relu(self.fc1(x))\n",
    "        out = self.dropout(out)\n",
    "        out = F.relu(self.fc2(out))\n",
    "        out = self.dropout(out)\n",
    "        out = self.fc3(out)\n",
    "        return out\n",
    "\n",
    "# Define hyperparameters\n",
    "input_size = 104  # Example input size, adjust according to your data\n",
    "hidden_size = 64  # Number of units in the hidden layer\n",
    "hidden_size2 = 32\n",
    "num_classes = 13  # Number of output classes\n",
    "dropout_prob = 0.5\n",
    "learning_rate = 0.0001\n",
    "num_epochs = 15\n",
    "\n",
    "# Create the neural network\n",
    "model = NeuralNetwork(input_size, hidden_size, hidden_size2, num_classes, dropout_prob)\n",
    "\n",
    "# Define loss function and optimizer\n",
    "criterion = nn.CrossEntropyLoss()\n",
    "optimizer = optim.Adam(model.parameters(), lr=learning_rate)\n",
    "\n",
    "X_train_numpy = X_train.to_numpy(dtype=np.float32)\n",
    "y_train_numpy = y_train.to_numpy(dtype=np.int64)\n",
    "\n",
    "# Convert NumPy arrays to PyTorch tensors\n",
    "X_train_tensor = torch.tensor(X_train_numpy)\n",
    "y_train_tensor = torch.tensor(y_train_numpy)\n",
    "\n",
    "\n",
    "# Training loop\n",
    "for epoch in range(num_epochs):\n",
    "    # Forward pass\n",
    "    outputs = model(X_train_tensor)\n",
    "    loss = criterion(outputs, y_train_tensor)\n",
    "    \n",
    "    # Backward pass and optimization\n",
    "    optimizer.zero_grad()\n",
    "    loss.backward()\n",
    "    optimizer.step()\n",
    "    \n",
    "    # Print loss every epoch\n",
    "    print(f'Epoch [{epoch+1}/{num_epochs}], Loss: {loss.item():.4f}')\n",
    "\n",
    "print('Training finished!')"
   ]
  },
  {
   "cell_type": "code",
   "execution_count": 267,
   "id": "9dfd3efd-7ae0-43ca-9327-751176fe9955",
   "metadata": {},
   "outputs": [
    {
     "name": "stdout",
     "output_type": "stream",
     "text": [
      "Predicted labels: tensor([4, 4, 4,  ..., 4, 4, 2])\n"
     ]
    }
   ],
   "source": [
    "X_test_numpy = X_test.to_numpy(dtype=np.float32)\n",
    "y_test_numpy = y_test.to_numpy(dtype=np.int64)\n",
    "\n",
    "# Convert NumPy arrays to PyTorch tensors\n",
    "X_test_tensor = torch.tensor(X_test_numpy)\n",
    "y_test_tensor = torch.tensor(y_test_numpy)\n",
    "\n",
    "with torch.no_grad():\n",
    "    outputs = model(X_test_tensor)\n",
    "    _, predicted = torch.max(outputs, 1)\n",
    "    print('Predicted labels:', predicted)"
   ]
  },
  {
   "cell_type": "code",
   "execution_count": 268,
   "id": "ea8b97ad-bb68-4678-9bce-97e0906b7509",
   "metadata": {},
   "outputs": [
    {
     "data": {
      "text/plain": [
       "0.10832932113625421"
      ]
     },
     "execution_count": 268,
     "metadata": {},
     "output_type": "execute_result"
    }
   ],
   "source": [
    "accuracy_score(predicted, y_test_tensor)"
   ]
  },
  {
   "cell_type": "code",
   "execution_count": 269,
   "id": "2f56f4b7-64fe-4edd-a3ee-ddbccf7f8ab9",
   "metadata": {},
   "outputs": [
    {
     "data": {
      "text/plain": [
       "Counter({4: 1338, 10: 339, 2: 276, 7: 117, 9: 6, 5: 1})"
      ]
     },
     "execution_count": 269,
     "metadata": {},
     "output_type": "execute_result"
    }
   ],
   "source": [
    "Counter(list(np.array(predicted)))"
   ]
  },
  {
   "cell_type": "code",
   "execution_count": null,
   "id": "85941f20-8dee-4855-9d31-7b663983cf00",
   "metadata": {},
   "outputs": [],
   "source": []
  },
  {
   "cell_type": "code",
   "execution_count": null,
   "id": "f05e3918-5cb0-407e-93d4-0ce63c49904f",
   "metadata": {},
   "outputs": [],
   "source": []
  },
  {
   "cell_type": "code",
   "execution_count": null,
   "id": "ab57785d-4403-4c16-9928-5c4747700af1",
   "metadata": {},
   "outputs": [],
   "source": []
  },
  {
   "cell_type": "markdown",
   "id": "92e059cd-b49e-42c6-b47d-3c5e86c14c1d",
   "metadata": {},
   "source": [
    "#### Regression"
   ]
  },
  {
   "cell_type": "code",
   "execution_count": 305,
   "id": "2f8bf156-5d39-4391-acda-11087ec9d8b6",
   "metadata": {},
   "outputs": [],
   "source": [
    "X = embeddings_df.drop(['calories', 'calorieLabels'], axis=1)\n",
    "y = embeddings_df['calories']\n",
    "\n",
    "X_train, X_test, y_train, y_test = train_test_split(X, y, test_size=0.2, random_state=seed)\n",
    "\n",
    "X_train = torch.tensor(X_train.to_numpy(), dtype=torch.float32)\n",
    "y_train = torch.tensor(y_train.to_numpy(), dtype=torch.float32).reshape(-1, 1)\n",
    "X_test = torch.tensor(X_test.to_numpy(), dtype=torch.float32)\n",
    "y_test = torch.tensor(y_test.to_numpy(), dtype=torch.float32).reshape(-1, 1)"
   ]
  },
  {
   "cell_type": "code",
   "execution_count": 310,
   "id": "a2438132-a1e3-4863-a93b-9b949a1a081e",
   "metadata": {},
   "outputs": [
    {
     "name": "stdout",
     "output_type": "stream",
     "text": [
      "Epoch [100/5000], Loss: 2907746.5000\n",
      "Epoch [200/5000], Loss: 2795243.2500\n",
      "Epoch [300/5000], Loss: 2606047.5000\n",
      "Epoch [400/5000], Loss: 2363614.0000\n",
      "Epoch [500/5000], Loss: 2095871.8750\n",
      "Epoch [600/5000], Loss: 1822677.3750\n",
      "Epoch [700/5000], Loss: 1570853.0000\n",
      "Epoch [800/5000], Loss: 1365888.2500\n",
      "Epoch [900/5000], Loss: 1215812.1250\n",
      "Epoch [1000/5000], Loss: 1117420.5000\n",
      "Epoch [1100/5000], Loss: 1060017.6250\n",
      "Epoch [1200/5000], Loss: 1030178.8125\n",
      "Epoch [1300/5000], Loss: 1016054.5000\n",
      "Epoch [1400/5000], Loss: 1009533.6250\n",
      "Epoch [1500/5000], Loss: 1006141.1250\n",
      "Epoch [1600/5000], Loss: 1003829.9375\n",
      "Epoch [1700/5000], Loss: 1001804.3125\n",
      "Epoch [1800/5000], Loss: 999791.6250\n",
      "Epoch [1900/5000], Loss: 997428.3750\n",
      "Epoch [2000/5000], Loss: 994833.4375\n",
      "Epoch [2100/5000], Loss: 992107.6875\n",
      "Epoch [2200/5000], Loss: 989269.4375\n",
      "Epoch [2300/5000], Loss: 986325.3750\n",
      "Epoch [2400/5000], Loss: 983279.0625\n",
      "Epoch [2500/5000], Loss: 980132.3125\n",
      "Epoch [2600/5000], Loss: 976885.8750\n",
      "Epoch [2700/5000], Loss: 973540.5000\n",
      "Epoch [2800/5000], Loss: 970095.8750\n",
      "Epoch [2900/5000], Loss: 966551.6250\n",
      "Epoch [3000/5000], Loss: 962907.0625\n",
      "Epoch [3100/5000], Loss: 959161.3125\n",
      "Epoch [3200/5000], Loss: 955313.1250\n",
      "Epoch [3300/5000], Loss: 951361.8125\n",
      "Epoch [3400/5000], Loss: 947306.5625\n",
      "Epoch [3500/5000], Loss: 943146.5625\n",
      "Epoch [3600/5000], Loss: 938881.8125\n",
      "Epoch [3700/5000], Loss: 934512.8125\n",
      "Epoch [3800/5000], Loss: 930040.9375\n",
      "Epoch [3900/5000], Loss: 925468.6875\n",
      "Epoch [4000/5000], Loss: 920800.4375\n",
      "Epoch [4100/5000], Loss: 916042.6250\n",
      "Epoch [4200/5000], Loss: 911204.1250\n",
      "Epoch [4300/5000], Loss: 906296.6250\n",
      "Epoch [4400/5000], Loss: 901336.1875\n",
      "Epoch [4500/5000], Loss: 896342.0625\n",
      "Epoch [4600/5000], Loss: 891337.6250\n",
      "Epoch [4700/5000], Loss: 886351.2500\n",
      "Epoch [4800/5000], Loss: 881414.8750\n",
      "Epoch [4900/5000], Loss: 876564.5000\n",
      "Epoch [5000/5000], Loss: 871838.5000\n"
     ]
    }
   ],
   "source": [
    "# Define the neural network class\n",
    "class RegressionNN(nn.Module):\n",
    "    def __init__(self, input_size, hidden_size, output_size):\n",
    "        super(RegressionNN, self).__init__()\n",
    "        self.fc1 = nn.Linear(input_size, hidden_size)\n",
    "        self.relu = nn.ReLU()\n",
    "        self.fc2 = nn.Linear(hidden_size, output_size)\n",
    "        \n",
    "    def forward(self, x):\n",
    "        x = self.fc1(x)\n",
    "        x = self.relu(x)\n",
    "        x = self.fc2(x)\n",
    "        return x\n",
    "\n",
    "# Define the hyperparameters\n",
    "input_size = 104\n",
    "hidden_size = 64\n",
    "output_size = 1\n",
    "learning_rate = 0.001\n",
    "num_epochs = 5000\n",
    "\n",
    "# Instantiate the model\n",
    "model = RegressionNN(input_size, hidden_size, output_size)\n",
    "\n",
    "# Define the loss function and optimizer\n",
    "criterion = nn.MSELoss()\n",
    "optimizer = optim.Adam(model.parameters(), lr=learning_rate)\n",
    "\n",
    "# Generate some sample data (you can replace this with your actual data)\n",
    "# For simplicity, let's assume some linear relationship y = 2x + 1\n",
    "torch.manual_seed(42)\n",
    "\n",
    "\n",
    "# Training the model\n",
    "for epoch in range(num_epochs):\n",
    "    # Forward pass\n",
    "    outputs = model(X_train)\n",
    "    loss = criterion(outputs, y_train)\n",
    "    \n",
    "    # Backward pass and optimization\n",
    "    optimizer.zero_grad()\n",
    "    loss.backward()\n",
    "    optimizer.step()\n",
    "    \n",
    "    if (epoch+1) % 100 == 0:\n",
    "        print(f'Epoch [{epoch+1}/{num_epochs}], Loss: {loss.item():.4f}')\n",
    "\n",
    "y_pred = model(X_test)"
   ]
  },
  {
   "cell_type": "code",
   "execution_count": 311,
   "id": "ccd1d84e-def7-4265-85c0-fba95ca163bd",
   "metadata": {},
   "outputs": [
    {
     "name": "stdout",
     "output_type": "stream",
     "text": [
      "R-squared: -0.01637921579154411\n"
     ]
    }
   ],
   "source": [
    "r2 = r2_score(y_test.numpy(), y_pred.detach().numpy())\n",
    "print(\"R-squared:\", r2)"
   ]
  },
  {
   "cell_type": "code",
   "execution_count": null,
   "id": "8c09cfe0-7f46-44ca-999d-aab54ab695d2",
   "metadata": {},
   "outputs": [],
   "source": []
  }
 ],
 "metadata": {
  "kernelspec": {
   "display_name": "Python 3 (ipykernel)",
   "language": "python",
   "name": "python3"
  },
  "language_info": {
   "codemirror_mode": {
    "name": "ipython",
    "version": 3
   },
   "file_extension": ".py",
   "mimetype": "text/x-python",
   "name": "python",
   "nbconvert_exporter": "python",
   "pygments_lexer": "ipython3",
   "version": "3.11.7"
  }
 },
 "nbformat": 4,
 "nbformat_minor": 5
}
