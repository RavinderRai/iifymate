{
 "cells": [
  {
   "cell_type": "markdown",
   "metadata": {},
   "source": [
    "# Calorie Estimation with Vision LLM"
   ]
  },
  {
   "cell_type": "code",
   "execution_count": 11,
   "metadata": {},
   "outputs": [],
   "source": [
    "import os\n",
    "import base64\n",
    "import openai\n",
    "from openai import OpenAI\n",
    "\n",
    "openai.api_key = os.getenv(\"OPENAI_API_KEY\")\n",
    "client = OpenAI()"
   ]
  },
  {
   "cell_type": "code",
   "execution_count": 7,
   "metadata": {},
   "outputs": [],
   "source": [
    "sample_img = '../data/sample_meal_images/chili-lime_chicken_bowl.jpg'"
   ]
  },
  {
   "cell_type": "code",
   "execution_count": 12,
   "metadata": {},
   "outputs": [],
   "source": [
    "def encode_image(image_path):\n",
    "    with open(image_path, \"rb\") as image_file:\n",
    "        return base64.b64encode(image_file.read()).decode(\"utf-8\")\n",
    "    \n",
    "base64_image = encode_image(sample_img)"
   ]
  },
  {
   "cell_type": "code",
   "execution_count": 29,
   "metadata": {},
   "outputs": [],
   "source": [
    "meal_name_prompt = \"\"\"\n",
    "Given an image of a meal, estimate the likely name of the meal. Simply return your best guess.\n",
    "\"\"\""
   ]
  },
  {
   "cell_type": "code",
   "execution_count": 30,
   "metadata": {},
   "outputs": [],
   "source": [
    "def get_meal_name(client, prompt, base64_image):\n",
    "    response = client.chat.completions.create(\n",
    "        model=\"gpt-4o-mini\",\n",
    "        messages=[\n",
    "            {\n",
    "                \"role\": \"user\",\n",
    "                \"content\": [\n",
    "                    {\n",
    "                        \"type\": \"text\",\n",
    "                        \"text\": prompt,\n",
    "                    },\n",
    "                    {\n",
    "                        \"type\": \"image_url\",\n",
    "                        \"image_url\": {\"url\": f\"data:image/jpeg;base64,{base64_image}\"},\n",
    "                    },\n",
    "                ],\n",
    "            }\n",
    "        ],\n",
    "    )\n",
    "    return response\n",
    "\n",
    "response = get_meal_name(client, meal_name_prompt, base64_image)"
   ]
  },
  {
   "cell_type": "code",
   "execution_count": 31,
   "metadata": {},
   "outputs": [
    {
     "name": "stdout",
     "output_type": "stream",
     "text": [
      "This meal could likely be a chicken burrito bowl or a chicken salad bowl, featuring rice, grilled chicken, corn, pico de gallo, and various toppings.\n"
     ]
    }
   ],
   "source": [
    "print(response.choices[0].message.content)"
   ]
  },
  {
   "cell_type": "markdown",
   "metadata": {},
   "source": [
    "Extracting the name of the meal doesn't work to well. Extracting the ingredients and portion sizes works better as you can see below."
   ]
  },
  {
   "cell_type": "code",
   "execution_count": 32,
   "metadata": {},
   "outputs": [
    {
     "name": "stdout",
     "output_type": "stream",
     "text": [
      "Based on the image of the meal, here are the potential ingredients and their estimated portion sizes:\n",
      "\n",
      "### Ingredients:\n",
      "1. **Grilled Chicken** (spiced) - approximately 4-5 ounces\n",
      "2. **Cilantro Lime Rice** - around 1 cup\n",
      "3. **Corn** - approximately 1/2 cup\n",
      "4. **Diced Tomatoes** - about 1/2 cup\n",
      "5. **Diced Avocado** - around 1/2 cup\n",
      "6. **Shredded Jicama** - about 1/4 cup\n",
      "7. **Lime Wedges** - 2 wedges\n",
      "8. **Cilantro** - a small handful as garnish\n",
      "\n",
      "These portions may vary based on personal preferences or specific recipes.\n"
     ]
    }
   ],
   "source": [
    "ingredient_list_prompt = \"\"\"\n",
    "Analyze the image of a meal and extract the ingredients and portion sizes.\n",
    "\"\"\"\n",
    "\n",
    "response = get_meal_name(client, ingredient_list_prompt, base64_image)\n",
    "\n",
    "print(response.choices[0].message.content)"
   ]
  },
  {
   "cell_type": "markdown",
   "metadata": {},
   "source": [
    "Let's get a structured output now from the ingredients and portion sizes."
   ]
  },
  {
   "cell_type": "code",
   "execution_count": 33,
   "metadata": {},
   "outputs": [],
   "source": [
    "from pydantic import BaseModel"
   ]
  },
  {
   "cell_type": "code",
   "execution_count": 37,
   "metadata": {},
   "outputs": [],
   "source": [
    "class IngredientResponse(BaseModel):\n",
    "    name: list[str]\n",
    "    amount: list[str]\n",
    "    unit: list[str]"
   ]
  },
  {
   "cell_type": "code",
   "execution_count": 44,
   "metadata": {},
   "outputs": [],
   "source": [
    "def get_gpt_ingredient_list(client, prompt, base64_image):\n",
    "    response = client.beta.chat.completions.parse(\n",
    "        model=\"gpt-4o-mini\",\n",
    "        messages=[\n",
    "            {\n",
    "                \"role\": \"user\",\n",
    "                \"content\": [\n",
    "                    {\n",
    "                        \"type\": \"text\",\n",
    "                        \"text\": prompt,\n",
    "                    },\n",
    "                    {\n",
    "                        \"type\": \"image_url\",\n",
    "                        \"image_url\": {\"url\": f\"data:image/jpeg;base64,{base64_image}\"},\n",
    "                    },\n",
    "                ],\n",
    "            }\n",
    "        ],\n",
    "        response_format=IngredientResponse\n",
    "    )\n",
    "    return response"
   ]
  },
  {
   "cell_type": "code",
   "execution_count": 45,
   "metadata": {},
   "outputs": [],
   "source": [
    "ingredient_list_prompt = \"\"\"\n",
    "Analyze the image of a meal and extract the ingredients, portion sizes, and respective units.\n",
    "\n",
    "Return them in a list for each category.\n",
    "\"\"\""
   ]
  },
  {
   "cell_type": "code",
   "execution_count": 46,
   "metadata": {},
   "outputs": [
    {
     "data": {
      "text/plain": [
       "ParsedChatCompletion[IngredientResponse](id='chatcmpl-AtvyscREYfwwcxLrEnYn29oxTrqfr', choices=[ParsedChoice[IngredientResponse](finish_reason='stop', index=0, logprobs=None, message=ParsedChatCompletionMessage[IngredientResponse](content='{\"name\":[\"Chicken\",\"Brown rice\",\"Corn\",\"Tomatoes\",\"Cilantro\",\"Avocado\",\"Jicama\",\"Lime\"],\"amount\":[\"100\",\"1\",\"1/2\",\"1\",\"2\",\"1\",\"1/2\",\"2\"],\"unit\":[\"grams\",\"cup\",\"cup\",\"cup\",\"tablespoon\",\"medium\",\"cup\",\"slices\"]}', refusal=None, role='assistant', audio=None, function_call=None, tool_calls=[], parsed=IngredientResponse(name=['Chicken', 'Brown rice', 'Corn', 'Tomatoes', 'Cilantro', 'Avocado', 'Jicama', 'Lime'], amount=['100', '1', '1/2', '1', '2', '1', '1/2', '2'], unit=['grams', 'cup', 'cup', 'cup', 'tablespoon', 'medium', 'cup', 'slices'])))], created=1737894282, model='gpt-4o-mini-2024-07-18', object='chat.completion', service_tier='default', system_fingerprint='fp_bd83329f63', usage=CompletionUsage(completion_tokens=73, prompt_tokens=970, total_tokens=1043, completion_tokens_details=CompletionTokensDetails(accepted_prediction_tokens=0, audio_tokens=0, reasoning_tokens=0, rejected_prediction_tokens=0), prompt_tokens_details=PromptTokensDetails(audio_tokens=0, cached_tokens=0)))"
      ]
     },
     "execution_count": 46,
     "metadata": {},
     "output_type": "execute_result"
    }
   ],
   "source": [
    "sample_ingredient_response = get_gpt_ingredient_list(client, ingredient_list_prompt, base64_image)\n",
    "sample_ingredient_response"
   ]
  },
  {
   "cell_type": "code",
   "execution_count": 50,
   "metadata": {},
   "outputs": [
    {
     "data": {
      "text/plain": [
       "'{\"name\":[\"Chicken\",\"Brown rice\",\"Corn\",\"Tomatoes\",\"Cilantro\",\"Avocado\",\"Jicama\",\"Lime\"],\"amount\":[\"100\",\"1\",\"1/2\",\"1\",\"2\",\"1\",\"1/2\",\"2\"],\"unit\":[\"grams\",\"cup\",\"cup\",\"cup\",\"tablespoon\",\"medium\",\"cup\",\"slices\"]}'"
      ]
     },
     "execution_count": 50,
     "metadata": {},
     "output_type": "execute_result"
    }
   ],
   "source": [
    "sample_ingredient_response.choices[0].message.content"
   ]
  },
  {
   "cell_type": "code",
   "execution_count": 52,
   "metadata": {},
   "outputs": [
    {
     "data": {
      "text/plain": [
       "{'name': ['Chicken',\n",
       "  'Brown rice',\n",
       "  'Corn',\n",
       "  'Tomatoes',\n",
       "  'Cilantro',\n",
       "  'Avocado',\n",
       "  'Jicama',\n",
       "  'Lime'],\n",
       " 'amount': ['100', '1', '1/2', '1', '2', '1', '1/2', '2'],\n",
       " 'unit': ['grams',\n",
       "  'cup',\n",
       "  'cup',\n",
       "  'cup',\n",
       "  'tablespoon',\n",
       "  'medium',\n",
       "  'cup',\n",
       "  'slices']}"
      ]
     },
     "execution_count": 52,
     "metadata": {},
     "output_type": "execute_result"
    }
   ],
   "source": [
    "import json\n",
    "\n",
    "sample_ingredients = json.loads(sample_ingredient_response.choices[0].message.content)\n",
    "sample_ingredients"
   ]
  },
  {
   "cell_type": "code",
   "execution_count": null,
   "metadata": {},
   "outputs": [],
   "source": []
  }
 ],
 "metadata": {
  "kernelspec": {
   "display_name": "iffymate",
   "language": "python",
   "name": "python3"
  },
  "language_info": {
   "codemirror_mode": {
    "name": "ipython",
    "version": 3
   },
   "file_extension": ".py",
   "mimetype": "text/x-python",
   "name": "python",
   "nbconvert_exporter": "python",
   "pygments_lexer": "ipython3",
   "version": "3.12.4"
  }
 },
 "nbformat": 4,
 "nbformat_minor": 2
}
