{
 "cells": [
  {
   "cell_type": "markdown",
   "metadata": {},
   "source": [
    "# Designing LLM System\n",
    "\n",
    "Exploring how to get the inputs needed for the ML model from the Vision LLM. The goal is to have the LLM output the recipe name, ingredients, and health labels, but we may be able to get the recipe name and health label from the ingredients list with a regular LLM, thus reducing cost as the Vision LLM is more expensive."
   ]
  },
  {
   "cell_type": "code",
   "execution_count": 1,
   "metadata": {},
   "outputs": [],
   "source": [
    "import os\n",
    "\n",
    "# Go to root directory to import relevant files\n",
    "os.chdir(\"../..\")"
   ]
  },
  {
   "cell_type": "markdown",
   "metadata": {},
   "source": [
    "## Checking Input Format\n",
    "\n",
    "We can directly see what kind of input we will need in the feature engineering step from the ML pipeline."
   ]
  },
  {
   "cell_type": "code",
   "execution_count": 2,
   "metadata": {},
   "outputs": [
    {
     "name": "stderr",
     "output_type": "stream",
     "text": [
      "[nltk_data] Downloading package stopwords to /home/ravib/nltk_data...\n",
      "[nltk_data]   Package stopwords is already up-to-date!\n",
      "[nltk_data] Downloading package wordnet to /home/ravib/nltk_data...\n",
      "[nltk_data]   Package wordnet is already up-to-date!\n",
      "[nltk_data] Downloading package punkt to /home/ravib/nltk_data...\n",
      "[nltk_data]   Package punkt is already up-to-date!\n"
     ]
    }
   ],
   "source": [
    "import pandas as pd\n",
    "from ml_features.ml_calorie_estimation.src.data_ingestion.utils import create_db_config, load_config\n",
    "from ml_features.ml_calorie_estimation.src.databases.manager import DatabaseManager\n",
    "from ml_features.ml_calorie_estimation.src.feature_engineering.text_processing import remove_stop_words, lemmatizing, get_tfidf_splits, SVD_reduction\n",
    "from ml_features.ml_calorie_estimation.src.feature_engineering.data_transformations import comma_to_bracket, replace_with_priority, get_macros\n",
    "from ml_features.ml_calorie_estimation.src.databases.models.clean_data import CleanRecipe"
   ]
  },
  {
   "cell_type": "markdown",
   "metadata": {},
   "source": [
    "Copy this code from the feature engineering pipeline step."
   ]
  },
  {
   "cell_type": "code",
   "execution_count": 3,
   "metadata": {},
   "outputs": [],
   "source": [
    "env = \"local\"\n",
    "\n",
    "# Load data from database\n",
    "config = load_config(env)\n",
    "db_config = create_db_config(config.database)\n",
    "db_manager = DatabaseManager(db_config)\n",
    "session = db_manager.Session()\n",
    "query = session.query(CleanRecipe).statement\n",
    "df = pd.read_sql(query, session.bind)\n",
    "\n",
    "# Get relevant features\n",
    "ingredientLines = df['ingredientLines']\n",
    "healthLabels = df['healthLabels']\n",
    "nutrients = df['totalNutrients']\n",
    "\n",
    "# Feature engineering transformation code here\n",
    "ingredientLines = ingredientLines.apply(comma_to_bracket)\n",
    "healthLabels = healthLabels.apply(replace_with_priority)\n",
    "   \n",
    "X = healthLabels + \" \" + df['label'] + \" \" + ingredientLines"
   ]
  },
  {
   "cell_type": "code",
   "execution_count": 4,
   "metadata": {},
   "outputs": [
    {
     "data": {
      "text/plain": [
       "['1 tablespoon olive oil',\n",
       " '1 large eggplant, cut into 1-inch pieces',\n",
       " '1 large brown or yellow onion, thinly slices',\n",
       " '2 medium carrots cut into 1/2 inch pieces',\n",
       " '1 can of whole tomatoes in juices',\n",
       " '2 cloves of garlic, minced or finely chopped',\n",
       " '1 tablespoon ras el hanout (or other Moroccan spice blend)',\n",
       " '1 teaspoon cumin',\n",
       " '1/4 teaspoon hot chili pepper/cayenne pepper',\n",
       " 'salt',\n",
       " 'pepper',\n",
       " 'cilantro']"
      ]
     },
     "execution_count": 4,
     "metadata": {},
     "output_type": "execute_result"
    }
   ],
   "source": [
    "df['ingredientLines'][0]"
   ]
  },
  {
   "cell_type": "markdown",
   "metadata": {},
   "source": [
    "Inspect the inputs."
   ]
  },
  {
   "cell_type": "code",
   "execution_count": 5,
   "metadata": {},
   "outputs": [
    {
     "data": {
      "text/plain": [
       "'Vegan'"
      ]
     },
     "execution_count": 5,
     "metadata": {},
     "output_type": "execute_result"
    }
   ],
   "source": [
    "healthLabels[0]"
   ]
  },
  {
   "cell_type": "code",
   "execution_count": 6,
   "metadata": {},
   "outputs": [
    {
     "data": {
      "text/plain": [
       "'Slow Cooker Moroccan Eggplant recipes'"
      ]
     },
     "execution_count": 6,
     "metadata": {},
     "output_type": "execute_result"
    }
   ],
   "source": [
    "df['label'][0]"
   ]
  },
  {
   "cell_type": "code",
   "execution_count": 7,
   "metadata": {},
   "outputs": [
    {
     "data": {
      "text/plain": [
       "'1 tablespoon olive oil, 1 large eggplant (cut into 1-inch pieces), 1 large brown or yellow onion (thinly slices), 2 medium carrots cut into 1/2 inch pieces, 1 can of whole tomatoes in juices, 2 cloves of garlic (minced or finely chopped), 1 tablespoon ras el hanout (or other Moroccan spice blend), 1 teaspoon cumin, 1/4 teaspoon hot chili pepper/cayenne pepper, salt, pepper, cilantro'"
      ]
     },
     "execution_count": 7,
     "metadata": {},
     "output_type": "execute_result"
    }
   ],
   "source": [
    "ingredientLines[0]"
   ]
  },
  {
   "cell_type": "code",
   "execution_count": 8,
   "metadata": {},
   "outputs": [
    {
     "data": {
      "text/plain": [
       "'Vegan Slow Cooker Moroccan Eggplant recipes 1 tablespoon olive oil, 1 large eggplant (cut into 1-inch pieces), 1 large brown or yellow onion (thinly slices), 2 medium carrots cut into 1/2 inch pieces, 1 can of whole tomatoes in juices, 2 cloves of garlic (minced or finely chopped), 1 tablespoon ras el hanout (or other Moroccan spice blend), 1 teaspoon cumin, 1/4 teaspoon hot chili pepper/cayenne pepper, salt, pepper, cilantro'"
      ]
     },
     "execution_count": 8,
     "metadata": {},
     "output_type": "execute_result"
    }
   ],
   "source": [
    "X.iloc[0]"
   ]
  },
  {
   "cell_type": "markdown",
   "metadata": {},
   "source": [
    "## Revising LLM Prompts to Match Input Format\n",
    "\n",
    "Now we can make sure our LLM prompts give us outputs in the same format as the inputs above."
   ]
  },
  {
   "cell_type": "code",
   "execution_count": 27,
   "metadata": {},
   "outputs": [
    {
     "name": "stderr",
     "output_type": "stream",
     "text": [
      "[autoreload of ml_features.llm_calorie_estimation.src.extractors.base failed: Traceback (most recent call last):\n",
      "  File \"/home/ravib/projects/iifymate/.iifymate/lib/python3.12/site-packages/IPython/extensions/autoreload.py\", line 273, in check\n",
      "    superreload(m, reload, self.old_objects)\n",
      "  File \"/home/ravib/projects/iifymate/.iifymate/lib/python3.12/site-packages/IPython/extensions/autoreload.py\", line 496, in superreload\n",
      "    update_generic(old_obj, new_obj)\n",
      "  File \"/home/ravib/projects/iifymate/.iifymate/lib/python3.12/site-packages/IPython/extensions/autoreload.py\", line 393, in update_generic\n",
      "    update(a, b)\n",
      "  File \"/home/ravib/projects/iifymate/.iifymate/lib/python3.12/site-packages/IPython/extensions/autoreload.py\", line 345, in update_class\n",
      "    if update_generic(old_obj, new_obj):\n",
      "       ^^^^^^^^^^^^^^^^^^^^^^^^^^^^^^^^\n",
      "  File \"/home/ravib/projects/iifymate/.iifymate/lib/python3.12/site-packages/IPython/extensions/autoreload.py\", line 393, in update_generic\n",
      "    update(a, b)\n",
      "  File \"/home/ravib/projects/iifymate/.iifymate/lib/python3.12/site-packages/IPython/extensions/autoreload.py\", line 305, in update_function\n",
      "    setattr(old, name, getattr(new, name))\n",
      "ValueError: __init__() requires a code object with 1 free vars, not 0\n",
      "]\n"
     ]
    }
   ],
   "source": [
    "import openai\n",
    "import importlib\n",
    "\n",
    "openai_api_key = os.getenv(\"OPENAI_API_KEY\")"
   ]
  },
  {
   "cell_type": "code",
   "execution_count": 28,
   "metadata": {},
   "outputs": [
    {
     "name": "stdout",
     "output_type": "stream",
     "text": [
      "The autoreload extension is already loaded. To reload it, use:\n",
      "  %reload_ext autoreload\n"
     ]
    }
   ],
   "source": [
    "%load_ext autoreload\n",
    "%autoreload 2\n",
    "\n",
    "from ml_features.llm_calorie_estimation.src.extractors import ingredients\n",
    "from ml_features.llm_calorie_estimation.prompts import vision_prompts\n",
    "\n",
    "# Reload the module to reflect changes\n",
    "importlib.reload(vision_prompts)\n",
    "importlib.reload(ingredients)\n",
    "\n",
    "# Now you can access the updated INGREDIENT_LIST_PROMPT_TEMPLATE\n",
    "INGREDIENT_LIST_PROMPT_TEMPLATE = vision_prompts.INGREDIENT_LIST_PROMPT_TEMPLATE"
   ]
  },
  {
   "cell_type": "code",
   "execution_count": 29,
   "metadata": {},
   "outputs": [],
   "source": [
    "sample_img_path = \"notebooks/data/sample_meal_images/scrambled_eggs.jpg\""
   ]
  },
  {
   "cell_type": "code",
   "execution_count": 30,
   "metadata": {},
   "outputs": [],
   "source": [
    "ingredient_extractor = ingredients.IngredientExtractor(api_key=openai_api_key)"
   ]
  },
  {
   "cell_type": "code",
   "execution_count": 31,
   "metadata": {},
   "outputs": [
    {
     "name": "stderr",
     "output_type": "stream",
     "text": [
      "INFO:httpx:HTTP Request: POST https://api.openai.com/v1/chat/completions \"HTTP/1.1 200 OK\"\n"
     ]
    }
   ],
   "source": [
    "ingredients_response = ingredient_extractor.extract(sample_img_path, INGREDIENT_LIST_PROMPT_TEMPLATE)"
   ]
  },
  {
   "cell_type": "code",
   "execution_count": 32,
   "metadata": {},
   "outputs": [
    {
     "data": {
      "text/plain": [
       "['3 large eggs',\n",
       " '1 tablespoon butter',\n",
       " '1/4 cup diced ham',\n",
       " '2 tablespoons chopped chives',\n",
       " 'salt',\n",
       " 'pepper',\n",
       " '1 slice whole grain bread',\n",
       " '1 teaspoon butter (for spreading)']"
      ]
     },
     "execution_count": 32,
     "metadata": {},
     "output_type": "execute_result"
    }
   ],
   "source": [
    "ingredients_list = ingredients_response.ingredients\n",
    "ingredients_list"
   ]
  },
  {
   "cell_type": "code",
   "execution_count": 21,
   "metadata": {},
   "outputs": [],
   "source": [
    "from ml_features.llm_calorie_estimation.src.extractors import health_labels\n",
    "from ml_features.llm_calorie_estimation.src.extractors import recipe_name\n",
    "from ml_features.llm_calorie_estimation.prompts import text_prompts\n",
    "\n",
    "# Reload the module to reflect changes\n",
    "importlib.reload(text_prompts)\n",
    "importlib.reload(health_labels)\n",
    "importlib.reload(recipe_name)\n",
    "\n",
    "# Now you can access the updated HEALTH_LABEL_PROMPT_TEMPLATE\n",
    "HEALTH_LABEL_PROMPT_TEMPLATE = text_prompts.HEALTH_LABEL_PROMPT_TEMPLATE\n",
    "RECIPE_LABEL_PROMPT_TEMPLATE = text_prompts.RECIPE_LABEL_PROMPT_TEMPLATE"
   ]
  },
  {
   "cell_type": "code",
   "execution_count": 22,
   "metadata": {},
   "outputs": [
    {
     "name": "stdout",
     "output_type": "stream",
     "text": [
      "\n",
      "Analyze these ingredients and determine the most appropriate single health label in JSON format.\n",
      "\n",
      "Ingredients: {{ ingredients | tojson(indent=2) }}\n",
      "\n",
      "Instructions:\n",
      "- Choose exactly one label from: ['Vegan', 'Vegetarian', 'Pescatarian', 'Paleo', 'Red-Meat-Free', 'Mediterranean']\n",
      "- Consider these rules:\n",
      "    * Vegan: No animal products whatsoever\n",
      "    * Vegetarian: May include dairy/eggs but no meat/fish\n",
      "    * Pescatarian: Includes fish but no other meat\n",
      "    * Paleo: No grains, dairy, processed foods\n",
      "    * Red-Meat-Free: May include poultry/fish\n",
      "    * Mediterranean: Emphasizes plant-based foods, fish, olive oil\n",
      "\n",
      "Example input: [\n",
      "        \"1 tablespoon olive oil\",\n",
      "        \"1 large eggplant, cut into 1-inch pieces\",\n",
      "        \"1 large brown or yellow onion, thinly slices\",\n",
      "        \"2 medium carrots cut into 1/2 inch pieces\",\n",
      "        \"1 can of whole tomatoes in juices\",\n",
      "        \"2 cloves of garlic, minced or finely chopped\",\n",
      "        \"1 tablespoon ras el hanout\",\n",
      "        \"1 teaspoon cumin\",\n",
      "        \"1/4 teaspoon hot chili pepper/cayenne pepper\",\n",
      "        \"salt\",\n",
      "        \"pepper\",\n",
      "        \"cilantro\"\n",
      "]\n",
      "Example output:\n",
      "{\n",
      "    \"health_label\": \"Vegan\"\n",
      "}\n",
      "\n",
      "Return the label in the same JSON format.\n",
      "\n"
     ]
    }
   ],
   "source": [
    "print(HEALTH_LABEL_PROMPT_TEMPLATE)"
   ]
  },
  {
   "cell_type": "code",
   "execution_count": 23,
   "metadata": {},
   "outputs": [],
   "source": [
    "health_label_extractor = health_labels.HealthLabelExtractor(api_key=openai_api_key)"
   ]
  },
  {
   "cell_type": "code",
   "execution_count": 24,
   "metadata": {},
   "outputs": [
    {
     "name": "stderr",
     "output_type": "stream",
     "text": [
      "INFO:httpx:HTTP Request: POST https://api.openai.com/v1/chat/completions \"HTTP/1.1 200 OK\"\n"
     ]
    }
   ],
   "source": [
    "sample_health_label = health_label_extractor.extract(ingredients_list, prompt=HEALTH_LABEL_PROMPT_TEMPLATE)"
   ]
  },
  {
   "cell_type": "code",
   "execution_count": 25,
   "metadata": {},
   "outputs": [
    {
     "data": {
      "text/plain": [
       "HealthLabelResponse(health_label='Red-Meat-Free')"
      ]
     },
     "execution_count": 25,
     "metadata": {},
     "output_type": "execute_result"
    }
   ],
   "source": [
    "sample_health_label"
   ]
  },
  {
   "cell_type": "code",
   "execution_count": 26,
   "metadata": {},
   "outputs": [
    {
     "name": "stderr",
     "output_type": "stream",
     "text": [
      "INFO:httpx:HTTP Request: POST https://api.openai.com/v1/chat/completions \"HTTP/1.1 200 OK\"\n"
     ]
    },
    {
     "data": {
      "text/plain": [
       "RecipeLabelResponse(recipe_label='Hearty Ham and Chive Scramble')"
      ]
     },
     "execution_count": 26,
     "metadata": {},
     "output_type": "execute_result"
    }
   ],
   "source": [
    "recipe_name_extractor = recipe_name.RecipeLabelExtractor(api_key=openai_api_key)\n",
    "sample_recipe_name = recipe_name_extractor.extract(ingredients_list, prompt=RECIPE_LABEL_PROMPT_TEMPLATE)\n",
    "sample_recipe_name"
   ]
  },
  {
   "cell_type": "code",
   "execution_count": null,
   "metadata": {},
   "outputs": [],
   "source": []
  }
 ],
 "metadata": {
  "kernelspec": {
   "display_name": ".iifymate",
   "language": "python",
   "name": "python3"
  },
  "language_info": {
   "codemirror_mode": {
    "name": "ipython",
    "version": 3
   },
   "file_extension": ".py",
   "mimetype": "text/x-python",
   "name": "python",
   "nbconvert_exporter": "python",
   "pygments_lexer": "ipython3",
   "version": "3.12.4"
  }
 },
 "nbformat": 4,
 "nbformat_minor": 2
}
