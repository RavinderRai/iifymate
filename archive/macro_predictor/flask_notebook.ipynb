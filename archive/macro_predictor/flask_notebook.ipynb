{
 "cells": [
  {
   "cell_type": "markdown",
   "metadata": {},
   "source": [
    "# Scrap/Utility Notebook for Flask App\n",
    "\n",
    "First we are loading models from GCP Vertex AI so we can copy them in the Dockerfile and hopefully decrease latency."
   ]
  },
  {
   "cell_type": "code",
   "execution_count": 1,
   "metadata": {},
   "outputs": [],
   "source": [
    "import pickle\n",
    "import json\n",
    "import pandas_gbq\n",
    "from sklearn.metrics.pairwise import cosine_similarity\n",
    "import os\n",
    "import ast\n",
    "from google.cloud import storage\n",
    "import numpy as np"
   ]
  },
  {
   "cell_type": "code",
   "execution_count": 2,
   "metadata": {},
   "outputs": [],
   "source": [
    "gcp_config_file = 'flavourquasar-gcp-key.json'\n",
    "os.environ[\"GOOGLE_APPLICATION_CREDENTIALS\"] = gcp_config_file"
   ]
  },
  {
   "cell_type": "code",
   "execution_count": 3,
   "metadata": {},
   "outputs": [],
   "source": [
    "def load_artifact_from_gcs(artifact_path, bucket_name='macro_predictor'):\n",
    "    \"\"\"\n",
    "    Loads an artifact from a pickle file stored in Google Cloud Storage.\n",
    "    Args:\n",
    "        bucket_name (str): Name of the GCS bucket.\n",
    "        artifact_path (str): Path within the bucket where the artifact is stored.\n",
    "    Returns:\n",
    "        object: Loaded pickle file.\n",
    "    \"\"\"\n",
    "    # Initialize a client and bucket\n",
    "    client = storage.Client()\n",
    "    bucket = client.bucket(bucket_name)\n",
    "\n",
    "    # Get the blob (pickle file) from GCS\n",
    "    blob = bucket.blob(artifact_path)\n",
    "\n",
    "    # Download the pickle file contents as bytes\n",
    "    pickle_bytes = blob.download_as_string()\n",
    "\n",
    "    # Load the dictionary from the downloaded pickle file contents\n",
    "    loaded_artifact = pickle.loads(pickle_bytes)\n",
    "\n",
    "    return loaded_artifact"
   ]
  },
  {
   "cell_type": "code",
   "execution_count": 4,
   "metadata": {},
   "outputs": [],
   "source": [
    "svd_fitted = load_artifact_from_gcs('macro_data_processing/svd_fitted.pkl')\n",
    "tfidf_fitted = load_artifact_from_gcs('macro_data_processing/tfidf_fitted.pkl')\n",
    "\n",
    "XGBoost_fat_model = load_artifact_from_gcs('training/XGBoost_fat_model.pkl')\n",
    "XGBoost_carbs_model = load_artifact_from_gcs('training/XGBoost_carbs_model.pkl')\n",
    "XGBoost_protein_model = load_artifact_from_gcs('training/XGBoost_protein_model.pkl')"
   ]
  },
  {
   "cell_type": "code",
   "execution_count": 7,
   "metadata": {},
   "outputs": [
    {
     "data": {
      "text/plain": [
       "xgboost.sklearn.XGBRegressor"
      ]
     },
     "execution_count": 7,
     "metadata": {},
     "output_type": "execute_result"
    }
   ],
   "source": [
    "type(XGBoost_fat_model)"
   ]
  },
  {
   "cell_type": "code",
   "execution_count": 11,
   "metadata": {},
   "outputs": [],
   "source": [
    "def save_model(model, file_name, folder='models/'):\n",
    "    file_path = folder + file_name\n",
    "    with open(file_path, \"wb\") as f:\n",
    "        pickle.dump(model, f)\n",
    "\n",
    "def load_model(model_file_name, folder='models/'):\n",
    "    file_path = folder + model_file_name\n",
    "    with open(file_path, \"rb\") as f:\n",
    "        model = pickle.load(f)\n",
    "    return model"
   ]
  },
  {
   "cell_type": "code",
   "execution_count": 15,
   "metadata": {},
   "outputs": [],
   "source": [
    "save_model(svd_fitted, 'svd_fitted.pkl')\n",
    "save_model(tfidf_fitted, 'tfidf_fitted.pkl')\n",
    "\n",
    "save_model(XGBoost_fat_model, 'XGBoost_fat_model.pkl')\n",
    "save_model(XGBoost_carbs_model, 'XGBoost_carbs_model.pkl')\n",
    "save_model(XGBoost_protein_model, 'XGBoost_protein_model.pkl')"
   ]
  },
  {
   "cell_type": "code",
   "execution_count": null,
   "metadata": {},
   "outputs": [],
   "source": []
  }
 ],
 "metadata": {
  "kernelspec": {
   "display_name": "edamam",
   "language": "python",
   "name": "python3"
  },
  "language_info": {
   "codemirror_mode": {
    "name": "ipython",
    "version": 3
   },
   "file_extension": ".py",
   "mimetype": "text/x-python",
   "name": "python",
   "nbconvert_exporter": "python",
   "pygments_lexer": "ipython3",
   "version": "3.11.7"
  }
 },
 "nbformat": 4,
 "nbformat_minor": 2
}
