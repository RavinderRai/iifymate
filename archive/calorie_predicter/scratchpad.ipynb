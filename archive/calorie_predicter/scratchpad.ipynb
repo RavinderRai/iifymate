{
 "cells": [
  {
   "cell_type": "code",
   "execution_count": 1,
   "id": "dd809d0d-bbed-4b51-aa48-89969c500204",
   "metadata": {},
   "outputs": [
    {
     "ename": "ModuleNotFoundError",
     "evalue": "No module named 'processing_functions'",
     "output_type": "error",
     "traceback": [
      "\u001b[1;31m---------------------------------------------------------------------------\u001b[0m",
      "\u001b[1;31mModuleNotFoundError\u001b[0m                       Traceback (most recent call last)",
      "Cell \u001b[1;32mIn[1], line 3\u001b[0m\n\u001b[0;32m      1\u001b[0m \u001b[38;5;28;01mimport\u001b[39;00m \u001b[38;5;21;01mpandas\u001b[39;00m \u001b[38;5;28;01mas\u001b[39;00m \u001b[38;5;21;01mpd\u001b[39;00m\n\u001b[0;32m      2\u001b[0m \u001b[38;5;28;01mimport\u001b[39;00m \u001b[38;5;21;01mast\u001b[39;00m\n\u001b[1;32m----> 3\u001b[0m \u001b[38;5;28;01mfrom\u001b[39;00m \u001b[38;5;21;01mprocessing_functions\u001b[39;00m \u001b[38;5;28;01mimport\u001b[39;00m round_up_to_nearest, round_down_to_nearest, filter_calories, sorted_binned_encoding, collapsing_to_priority\n\u001b[0;32m      4\u001b[0m \u001b[38;5;28;01mimport\u001b[39;00m \u001b[38;5;21;01mwarnings\u001b[39;00m\n",
      "\u001b[1;31mModuleNotFoundError\u001b[0m: No module named 'processing_functions'"
     ]
    }
   ],
   "source": [
    "import pandas as pd\n",
    "import ast\n",
    "from processing_functions import round_up_to_nearest, round_down_to_nearest, filter_calories, sorted_binned_encoding, collapsing_to_priority\n",
    "import warnings"
   ]
  },
  {
   "cell_type": "code",
   "execution_count": 49,
   "id": "e60a329e-9b24-4a8f-8bed-9115386e53da",
   "metadata": {},
   "outputs": [],
   "source": [
    "raw_df = pd.read_csv('../recipes.csv')\n",
    "\n",
    "#dropping duplicates from recipe name (which is the label column) because some sources give the same recipes\n",
    "df = raw_df.drop_duplicates('label')"
   ]
  },
  {
   "cell_type": "code",
   "execution_count": 82,
   "id": "777a4ed0-3cc0-4a46-beb7-306143980bbf",
   "metadata": {},
   "outputs": [],
   "source": [
    "#handling target variable first\n",
    "calories_df = df['calories']\n",
    "\n",
    "#capping the calorie count, so we will include recipes with calorie counts so that we maintain 90% of our data\n",
    "filtered_calories_df = filter_calories(df, column='calories', quartile_percent=0.9)\n",
    "max_calorie_cutoff = round_up_to_nearest(max(filtered_calories_df))"
   ]
  },
  {
   "cell_type": "code",
   "execution_count": 83,
   "id": "d5bea9ef-d77d-447d-ac22-f8cd84e68d98",
   "metadata": {},
   "outputs": [],
   "source": [
    "#binning the calorie count to turn this into a classification problem\n",
    "bin_edges = [i for i in range(0, int(max_calorie_cutoff)+1, 300)]\n",
    "labels = [f\"{bin_edges[i]}-{bin_edges[i+1]-1}\" for i in range(len(bin_edges)-1)]\n",
    "binned_calories = pd.cut(filtered_calories_df, bins=bin_edges, labels=labels, include_lowest=True)"
   ]
  },
  {
   "cell_type": "code",
   "execution_count": 84,
   "id": "b9d11936-3734-4ed3-b1f9-fc36709972cb",
   "metadata": {},
   "outputs": [],
   "source": [
    "binned_calories = binned_calories.rename('binnedCalories')"
   ]
  },
  {
   "cell_type": "code",
   "execution_count": 85,
   "id": "c9306e14-3a88-4081-aac2-42b40c118487",
   "metadata": {},
   "outputs": [],
   "source": [
    "# Assuming binned_calories is a pandas Series or DataFrame\n",
    "assert binned_calories.isna().sum() == 0, \"The count of NaN values in binned_calories is not equal to 0\""
   ]
  },
  {
   "cell_type": "code",
   "execution_count": 86,
   "id": "8d8d5b11-d6ba-4f2a-b9d6-8b145d3527de",
   "metadata": {},
   "outputs": [],
   "source": [
    "label_encoding = sorted_binned_encoding(binned_calories)\n",
    "target = binned_calories.map(label_encoding)"
   ]
  },
  {
   "cell_type": "code",
   "execution_count": 87,
   "id": "00791022-da65-464e-87c1-792aae0284d5",
   "metadata": {},
   "outputs": [
    {
     "name": "stdout",
     "output_type": "stream",
     "text": [
      "(10494, 22)\n"
     ]
    }
   ],
   "source": [
    "binned_calories_df = df.loc[target.index]\n",
    "\n",
    "print(binned_calories_df.shape)"
   ]
  },
  {
   "cell_type": "code",
   "execution_count": 88,
   "id": "97baa5b7-d76f-43af-b4fd-c53a433a7514",
   "metadata": {},
   "outputs": [
    {
     "data": {
      "text/plain": [
       "(10494, 23)"
      ]
     },
     "execution_count": 88,
     "metadata": {},
     "output_type": "execute_result"
    }
   ],
   "source": [
    "binned_calories_df = pd.concat([binned_calories_df, target], axis=1)\n",
    "binned_calories_df.shape"
   ]
  },
  {
   "cell_type": "code",
   "execution_count": null,
   "id": "befcf84f-2236-49e8-be38-c89dd46df3b7",
   "metadata": {},
   "outputs": [],
   "source": []
  },
  {
   "cell_type": "code",
   "execution_count": 89,
   "id": "f2c67e0c-6d03-42ac-aeca-2628cc2fae9a",
   "metadata": {},
   "outputs": [],
   "source": [
    "from collections import Counter"
   ]
  },
  {
   "cell_type": "code",
   "execution_count": 90,
   "id": "569aafb5-e5fe-480c-8621-ddd3e1856817",
   "metadata": {},
   "outputs": [],
   "source": [
    "dishType_df = binned_calories_df.dropna(subset=['dishType'])\n",
    "dishType_df = dishType_df['dishType'].apply(ast.literal_eval)"
   ]
  },
  {
   "cell_type": "code",
   "execution_count": 91,
   "id": "ec76296e-34c1-4af0-aff0-152542afa309",
   "metadata": {},
   "outputs": [],
   "source": [
    "def get_values(df, column):\n",
    "    df.loc[df[column].isna(), column] = '[]'\n",
    "    labels_lst = []\n",
    "    for label in df[column].apply(ast.literal_eval):\n",
    "        labels_lst += label\n",
    "    return labels_lst"
   ]
  },
  {
   "cell_type": "code",
   "execution_count": 92,
   "id": "69bdba01-4745-484e-9307-b5305ef45d4e",
   "metadata": {},
   "outputs": [
    {
     "data": {
      "text/plain": [
       "Counter({'main course': 3381,\n",
       "         'starter': 1757,\n",
       "         'condiments and sauces': 1217,\n",
       "         'desserts': 1080,\n",
       "         'salad': 1023,\n",
       "         'sandwiches': 416,\n",
       "         'soup': 411,\n",
       "         'drinks': 377,\n",
       "         'bread': 251,\n",
       "         'cereals': 206,\n",
       "         'alcohol cocktail': 168,\n",
       "         'biscuits and cookies': 116,\n",
       "         'pancake': 81,\n",
       "         'egg': 40,\n",
       "         'preserve': 11,\n",
       "         'special occasions': 11,\n",
       "         'omelet': 7,\n",
       "         'christmas': 7,\n",
       "         'preps': 6,\n",
       "         'thanksgiving': 2,\n",
       "         'new year': 1,\n",
       "         'cinco de mayo': 1})"
      ]
     },
     "execution_count": 92,
     "metadata": {},
     "output_type": "execute_result"
    }
   ],
   "source": [
    "Counter(get_values(binned_calories_df, 'dishType'))"
   ]
  },
  {
   "cell_type": "code",
   "execution_count": 93,
   "id": "94c05c0e-a82c-4727-b5a1-d8ea2307bbdc",
   "metadata": {},
   "outputs": [],
   "source": [
    "priority_list_dish_type = [\n",
    "    'main course',\n",
    "    'starter',\n",
    "    'salad',\n",
    "    'soup',\n",
    "    'drinks',\n",
    "    'bread',\n",
    "    'desserts',\n",
    "    'condiments and sauces',\n",
    "    'sandwiches',\n",
    "    'cereals',\n",
    "    'alcohol cocktail',\n",
    "    'biscuits and cookies',\n",
    "    'pancake',\n",
    "    'egg',\n",
    "    'preserve',\n",
    "    'omelet',\n",
    "    'special occasions',\n",
    "    'christmas',\n",
    "    'preps',\n",
    "    'thanksgiving',\n",
    "    'cinco de mayo'\n",
    "]"
   ]
  },
  {
   "cell_type": "code",
   "execution_count": 94,
   "id": "5d31ef15-ed68-4faf-b604-1cef48d48f62",
   "metadata": {},
   "outputs": [
    {
     "ename": "SyntaxError",
     "evalue": "invalid syntax (3484438017.py, line 7)",
     "output_type": "error",
     "traceback": [
      "\u001b[1;36m  Cell \u001b[1;32mIn[94], line 7\u001b[1;36m\u001b[0m\n\u001b[1;33m    for dish_type in\u001b[0m\n\u001b[1;37m                     ^\u001b[0m\n\u001b[1;31mSyntaxError\u001b[0m\u001b[1;31m:\u001b[0m invalid syntax\n"
     ]
    }
   ],
   "source": [
    "new_dish_type_df = []\n",
    "for dish_type_lst in dishType_df:\n",
    "    if len(dish_type_lst) == 1:\n",
    "        new_dish_type_df.append(dish_type_lst[0])\n",
    "    else:\n",
    "        for priority_dish_type in priority_list_dish_type:\n",
    "            for dish_type in \n",
    "            if priority_dish_type in dish_type_lst:\n",
    "                new_dish_type_df.append(priority_dish_type)\n",
    "                break\n",
    "            else:\n",
    "                #if for some reason none of the dish types in the list are in the priority list, just append mainn course which is the most frequent\n",
    "                new_dish_type_df.append(priority_list_dish_type[0])"
   ]
  },
  {
   "cell_type": "code",
   "execution_count": 95,
   "id": "0d76563d-4bc5-46aa-a302-f30e405f90c4",
   "metadata": {},
   "outputs": [],
   "source": [
    "def collapsing_to_priority_test(type_lst, priority_list):\n",
    "    if len(type_lst) == 1:\n",
    "        return type_lst[0]\n",
    "    else:\n",
    "        for priority_item in priority_list:\n",
    "            for item in type_lst:\n",
    "                if priority_item == item:\n",
    "                    return item\n",
    "        else:\n",
    "            warnings.warn(\"No item in the priority list was found, returning the first priority list item.\")\n",
    "            return priority_list[0]"
   ]
  },
  {
   "cell_type": "code",
   "execution_count": 96,
   "id": "db2d390c-1bc4-42f4-8055-e52e01b842ee",
   "metadata": {},
   "outputs": [
    {
     "data": {
      "text/plain": [
       "Counter({'main course': 3381,\n",
       "         'starter': 1744,\n",
       "         'condiments and sauces': 1207,\n",
       "         'desserts': 1068,\n",
       "         'salad': 970,\n",
       "         'sandwiches': 407,\n",
       "         'soup': 394,\n",
       "         'drinks': 377,\n",
       "         'bread': 250,\n",
       "         'cereals': 204,\n",
       "         'alcohol cocktail': 168,\n",
       "         'biscuits and cookies': 116,\n",
       "         'pancake': 81,\n",
       "         'preserve': 11,\n",
       "         'preps': 5,\n",
       "         'special occasions': 2})"
      ]
     },
     "execution_count": 96,
     "metadata": {},
     "output_type": "execute_result"
    }
   ],
   "source": [
    "Counter([collapsing_to_priority_test(dish_lst, priority_list_dish_type) for dish_lst in dishType_df.to_list()])"
   ]
  },
  {
   "cell_type": "code",
   "execution_count": 97,
   "id": "4c019b0f-46be-4705-8315-19eab24218f0",
   "metadata": {},
   "outputs": [
    {
     "name": "stderr",
     "output_type": "stream",
     "text": [
      "C:\\Users\\RaviB\\GitHub\\FlavorQuasar\\calorie_predicter\\processing_functions.py:73: UserWarning: cinco de mayo was not found in the priority list, returning the first priority list item.\n",
      "  warnings.warn(\"{} was not found in the priority list, returning the first priority list item.\".format(priority_item))\n"
     ]
    }
   ],
   "source": [
    "binned_calories_df = binned_calories_df.dropna(subset=['dishType'])\n",
    "dishType_df = binned_calories_df['dishType'].apply(ast.literal_eval)\n",
    "dishType_df = dishType_df.rename('dishTypeLabel')\n",
    "\n",
    "dishType_df = dishType_df.apply(lambda x: collapsing_to_priority(x, priority_list_dish_type))"
   ]
  },
  {
   "cell_type": "code",
   "execution_count": 98,
   "id": "55564ba7-66ff-48f3-b502-f3d88722d091",
   "metadata": {},
   "outputs": [
    {
     "name": "stdout",
     "output_type": "stream",
     "text": [
      "(10494,)\n"
     ]
    }
   ],
   "source": [
    "pre_processed_df = pd.concat([binned_calories_df, dishType_df], axis=1)\n",
    "print(dishType_df.shape)"
   ]
  },
  {
   "cell_type": "code",
   "execution_count": 99,
   "id": "81297616-8c03-4d46-9ca1-a5704f0161e9",
   "metadata": {},
   "outputs": [
    {
     "data": {
      "text/plain": [
       "Index(['uri', 'label', 'image', 'source', 'url', 'shareAs', 'yield',\n",
       "       'dietLabels', 'healthLabels', 'cautions', 'ingredientLines',\n",
       "       'ingredients', 'calories', 'totalWeight', 'totalTime', 'cuisineType',\n",
       "       'mealType', 'dishType', 'totalNutrients', 'totalDaily', 'digest',\n",
       "       'tags', 'binnedCalories', 'dishTypeLabel'],\n",
       "      dtype='object')"
      ]
     },
     "execution_count": 99,
     "metadata": {},
     "output_type": "execute_result"
    }
   ],
   "source": [
    "pre_processed_df.columns"
   ]
  },
  {
   "cell_type": "code",
   "execution_count": 121,
   "id": "61958c83-0180-4fe7-9f3d-90f7703e7396",
   "metadata": {},
   "outputs": [
    {
     "data": {
      "text/plain": [
       "dishTypeLabel\n",
       "alcohol cocktail         0.884605\n",
       "biscuits and cookies    -0.204065\n",
       "bread                    0.189855\n",
       "cereals                  1.315521\n",
       "condiments and sauces    0.739704\n",
       "desserts                 0.386819\n",
       "drinks                   1.554733\n",
       "main course              0.520799\n",
       "pancake                  0.277986\n",
       "preps                    0.593710\n",
       "preserve                 0.583254\n",
       "salad                    0.926322\n",
       "sandwiches               0.637394\n",
       "soup                     0.585448\n",
       "starter                  0.776458\n",
       "Name: calories, dtype: float64"
      ]
     },
     "execution_count": 121,
     "metadata": {},
     "output_type": "execute_result"
    }
   ],
   "source": [
    "skewness_by_category = pre_processed_df.groupby('dishTypeLabel')['calories'].skew()\n",
    "skewness_by_category"
   ]
  },
  {
   "cell_type": "code",
   "execution_count": 122,
   "id": "d56a0e59-499b-41e6-9b85-9e35921d71c2",
   "metadata": {},
   "outputs": [],
   "source": [
    "skewness_min = skewness_by_category.min()\n",
    "skewness_max = skewness_by_category.max()\n",
    "\n",
    "interval_width = (skewness_max - skewness_min) / 3\n",
    "bin1_end = skewness_min + interval_width\n",
    "bin2_end = bin1_end + interval_width\n",
    "\n",
    "bins = {\n",
    "    'Left Skewed (Higher Calories)': skewness_by_category[(skewness_by_category >= skewness_min) & (skewness_by_category < bin1_end)],\n",
    "    'Approximately Symmetric (Normal Calories)': skewness_by_category[(skewness_by_category >= bin1_end) & (skewness_by_category < bin2_end)],\n",
    "    'Right Skewed (Lower Calories)': skewness_by_category[skewness_by_category >= bin2_end]\n",
    "}\n",
    "\n"
   ]
  },
  {
   "cell_type": "code",
   "execution_count": 123,
   "id": "f769067c-31f4-43c2-a522-847c0fe886ba",
   "metadata": {},
   "outputs": [
    {
     "data": {
      "text/plain": [
       "{'biscuits and cookies': 'Left Skewed (Higher Calories)',\n",
       " 'bread': 'Left Skewed (Higher Calories)',\n",
       " 'pancake': 'Left Skewed (Higher Calories)',\n",
       " 'alcohol cocktail': 'Approximately Symmetric (Normal Calories)',\n",
       " 'condiments and sauces': 'Approximately Symmetric (Normal Calories)',\n",
       " 'desserts': 'Approximately Symmetric (Normal Calories)',\n",
       " 'main course': 'Approximately Symmetric (Normal Calories)',\n",
       " 'preps': 'Approximately Symmetric (Normal Calories)',\n",
       " 'preserve': 'Approximately Symmetric (Normal Calories)',\n",
       " 'salad': 'Approximately Symmetric (Normal Calories)',\n",
       " 'sandwiches': 'Approximately Symmetric (Normal Calories)',\n",
       " 'soup': 'Approximately Symmetric (Normal Calories)',\n",
       " 'starter': 'Approximately Symmetric (Normal Calories)',\n",
       " 'cereals': 'Right Skewed (Lower Calories)',\n",
       " 'drinks': 'Right Skewed (Lower Calories)'}"
      ]
     },
     "execution_count": 123,
     "metadata": {},
     "output_type": "execute_result"
    }
   ],
   "source": [
    "skew_map = {}\n",
    "for skew in bins.keys():\n",
    "    for category in bins[skew].index:\n",
    "        skew_map[category] = skew\n",
    "        #print(category)\n",
    "\n",
    "skew_map"
   ]
  },
  {
   "cell_type": "code",
   "execution_count": 124,
   "id": "5d18b063-a44d-4056-8b65-07cbe3bc68ed",
   "metadata": {},
   "outputs": [],
   "source": [
    "pre_processed_df['dishTypeSkewedLabels'] = pre_processed_df['dishTypeLabel'].map(skew_map)"
   ]
  },
  {
   "cell_type": "code",
   "execution_count": 125,
   "id": "5d4f87c5-0d79-48bd-b3f1-9aacc558dac8",
   "metadata": {},
   "outputs": [
    {
     "data": {
      "text/plain": [
       "array(['Approximately Symmetric (Normal Calories)',\n",
       "       'Right Skewed (Lower Calories)', 'Left Skewed (Higher Calories)'],\n",
       "      dtype=object)"
      ]
     },
     "execution_count": 125,
     "metadata": {},
     "output_type": "execute_result"
    }
   ],
   "source": [
    "pre_processed_df['dishTypeSkewedLabels'].unique()"
   ]
  },
  {
   "cell_type": "code",
   "execution_count": null,
   "id": "d63b869b-56ec-48df-a8fd-23d49f6b75a7",
   "metadata": {},
   "outputs": [],
   "source": []
  },
  {
   "cell_type": "code",
   "execution_count": 126,
   "id": "facabbcd-6464-4d62-8cce-56b9f6e551a1",
   "metadata": {},
   "outputs": [],
   "source": [
    "pre_processed_df = pre_processed_df.dropna(subset=['dishTypeSkewedLabels'])\n",
    "pre_processed_df = pre_processed_df.reset_index(drop=True)"
   ]
  },
  {
   "cell_type": "code",
   "execution_count": 127,
   "id": "617bfdbb-4205-4b80-9438-ff020a384b47",
   "metadata": {},
   "outputs": [],
   "source": [
    "dish_type_map = {'Approximately Symmetric (Normal Calories)': 1, 'Right Skewed (Lower Calories)': 0, 'Left Skewed (Higher Calories)': 2}"
   ]
  },
  {
   "cell_type": "code",
   "execution_count": 128,
   "id": "fb0ec76c-2300-4048-825d-7461047b95a6",
   "metadata": {},
   "outputs": [
    {
     "data": {
      "text/plain": [
       "array([1, 0, 2], dtype=int64)"
      ]
     },
     "execution_count": 128,
     "metadata": {},
     "output_type": "execute_result"
    }
   ],
   "source": [
    "pre_processed_df['dishTypeSkewedLabels'].map(dish_type_map).unique()"
   ]
  },
  {
   "cell_type": "code",
   "execution_count": 108,
   "id": "492d0849-9d51-49cf-a1d8-af34aed38b11",
   "metadata": {},
   "outputs": [],
   "source": [
    "pre_processed_df['dishTypeSkewedLabels'] = pre_processed_df['dishTypeSkewedLabels'].map(dish_type_map)"
   ]
  },
  {
   "cell_type": "code",
   "execution_count": 110,
   "id": "23a10887-d88f-4b80-a56d-ddc5ada76a8f",
   "metadata": {},
   "outputs": [
    {
     "data": {
      "text/plain": [
       "Index(['uri', 'label', 'image', 'source', 'url', 'shareAs', 'yield',\n",
       "       'dietLabels', 'healthLabels', 'cautions', 'ingredientLines',\n",
       "       'ingredients', 'calories', 'totalWeight', 'totalTime', 'cuisineType',\n",
       "       'mealType', 'dishType', 'totalNutrients', 'totalDaily', 'digest',\n",
       "       'tags', 'binnedCalories', 'dishTypeLabel', 'dishTypeSkewedLabels'],\n",
       "      dtype='object')"
      ]
     },
     "execution_count": 110,
     "metadata": {},
     "output_type": "execute_result"
    }
   ],
   "source": [
    "pre_processed_df.columns"
   ]
  },
  {
   "cell_type": "code",
   "execution_count": 111,
   "id": "21182cce-ff5e-4b9e-8e28-6cd866e0a6be",
   "metadata": {},
   "outputs": [
    {
     "data": {
      "text/plain": [
       "(10492, 25)"
      ]
     },
     "execution_count": 111,
     "metadata": {},
     "output_type": "execute_result"
    }
   ],
   "source": [
    "pre_processed_df.shape"
   ]
  },
  {
   "cell_type": "code",
   "execution_count": null,
   "id": "e7b7db0e-2a24-4b7f-9dbb-76ab00ed84f5",
   "metadata": {},
   "outputs": [],
   "source": []
  },
  {
   "cell_type": "code",
   "execution_count": null,
   "id": "51361302-55d0-4420-b984-7aaab6ada8b5",
   "metadata": {},
   "outputs": [],
   "source": []
  },
  {
   "cell_type": "code",
   "execution_count": 4,
   "id": "018a706e-0107-4b03-a682-29907ff60550",
   "metadata": {},
   "outputs": [],
   "source": [
    "import pandas as pd\n",
    "import ast\n",
    "from sklearn.preprocessing import OneHotEncoder\n",
    "from utils import round_up_to_nearest, round_down_to_nearest, filter_calories, sorted_binned_encoding, collapsing_to_priority, priority_list_meal_type, priority_list_dish_type, one_hot_encode, remove_stop_words, lemmatization\n",
    "from data_processing import get_target_variable, preprocess_dish_type, preprocess_meal_type"
   ]
  },
  {
   "cell_type": "code",
   "execution_count": 5,
   "id": "f395238f-e999-4583-b315-400b137d8b7c",
   "metadata": {},
   "outputs": [],
   "source": [
    "raw_df = pd.read_csv('../recipes.csv')\n",
    "df = raw_df.drop_duplicates('label')"
   ]
  },
  {
   "cell_type": "code",
   "execution_count": 6,
   "id": "e200528e-9f1f-49a1-9cfb-2fc7be012383",
   "metadata": {},
   "outputs": [],
   "source": [
    "pre_processed_df = get_target_variable(df)\n",
    "pre_processed_df = preprocess_dish_type(pre_processed_df)"
   ]
  },
  {
   "cell_type": "code",
   "execution_count": 22,
   "id": "8469391c-7994-41d5-b617-23db8c245baa",
   "metadata": {},
   "outputs": [],
   "source": [
    "mealType_df = pre_processed_df['mealType'].apply(ast.literal_eval)"
   ]
  },
  {
   "cell_type": "code",
   "execution_count": 7,
   "id": "a7cc0ced-8c8e-4962-a7b1-c5061a4233c3",
   "metadata": {},
   "outputs": [],
   "source": [
    "priority_list_meal_type_var = priority_list_meal_type()"
   ]
  },
  {
   "cell_type": "code",
   "execution_count": 23,
   "id": "9cee50bc-a715-4f6f-bc5c-e41fcf53ce97",
   "metadata": {},
   "outputs": [],
   "source": [
    "mealType_df = mealType_df.apply(lambda x: collapsing_to_priority(x, priority_list_meal_type_var))\n",
    "\n",
    "replace_lst = ['brunch', 'teatime']\n",
    "replacement = 'snack'\n",
    "mealType_df = mealType_df.apply(lambda x: replacement if x in replace_lst else x)"
   ]
  },
  {
   "cell_type": "code",
   "execution_count": 31,
   "id": "fbec9117-2d2d-457f-b7c2-25d2c2618b67",
   "metadata": {},
   "outputs": [],
   "source": [
    "mealType_df = mealType_df.rename('mealTypeRefined')"
   ]
  },
  {
   "cell_type": "code",
   "execution_count": 35,
   "id": "0b12cea2-6ea7-4aaa-9a9f-2d473dcc85cc",
   "metadata": {},
   "outputs": [],
   "source": [
    "pre_processed_df = pd.concat([pre_processed_df, mealType_df], axis=1)"
   ]
  },
  {
   "cell_type": "code",
   "execution_count": 4,
   "id": "9e013df7-75b8-4c08-afc4-43dcafdab9ef",
   "metadata": {},
   "outputs": [],
   "source": [
    "\n",
    "def one_hot_encode(df, column):\n",
    "    onehot_encoder = OneHotEncoder()\n",
    "    \n",
    "    # Fit and transform the column to one-hot encoded format\n",
    "    onehot_encoded = onehot_encoder.fit_transform(df[[column]])\n",
    "    onehot_encoded_array = onehot_encoded.toarray()\n",
    "    onehot_encoded_df = pd.DataFrame(onehot_encoded_array, columns=onehot_encoder.get_feature_names_out([column]))\n",
    "\n",
    "    return onehot_encoded_df"
   ]
  },
  {
   "cell_type": "code",
   "execution_count": 38,
   "id": "17446c3d-7d8e-4c22-8679-7a29dd038d2d",
   "metadata": {},
   "outputs": [],
   "source": [
    "pre_processed_df = pd.concat([pre_processed_df, onehot_encoded_df], axis=1)\n",
    "pre_processed_df = pre_processed_df.drop('mealTypeRefined', axis=1)"
   ]
  },
  {
   "cell_type": "code",
   "execution_count": 40,
   "id": "39fb7fb7-709b-4165-82e1-6d06c764caf2",
   "metadata": {},
   "outputs": [
    {
     "data": {
      "text/plain": [
       "Index(['mealTypeRefined_breakfast', 'mealTypeRefined_lunch/dinner',\n",
       "       'mealTypeRefined_snack', 'uri', 'label', 'image', 'source', 'url',\n",
       "       'shareAs', 'yield', 'dietLabels', 'healthLabels', 'cautions',\n",
       "       'ingredientLines', 'ingredients', 'calories', 'totalWeight',\n",
       "       'totalTime', 'cuisineType', 'mealType', 'dishType', 'totalNutrients',\n",
       "       'totalDaily', 'digest', 'tags', 'binnedCalories', 'dishTypeLabel',\n",
       "       'dishTypeSkewedLabels'],\n",
       "      dtype='object')"
      ]
     },
     "execution_count": 40,
     "metadata": {},
     "output_type": "execute_result"
    }
   ],
   "source": [
    "pre_processed_df.columns"
   ]
  },
  {
   "cell_type": "code",
   "execution_count": 41,
   "id": "aff9652e-4099-4448-98bd-37375fbcba68",
   "metadata": {},
   "outputs": [],
   "source": [
    "def preprocess_meal_type(pre_processed_df):\n",
    "    mealType_df = pre_processed_df['mealType'].apply(ast.literal_eval)\n",
    "\n",
    "    #converting multilabel column into single label\n",
    "    priority_list_meal_type_var = priority_list_meal_type()\n",
    "    mealType_df = mealType_df.apply(lambda x: collapsing_to_priority(x, priority_list_meal_type_var))\n",
    "\n",
    "    #replacing brunch and teatime with snack, effectively combining these categories\n",
    "    replace_lst = ['brunch', 'teatime']\n",
    "    replacement = 'snack'\n",
    "    mealType_df = mealType_df.apply(lambda x: replacement if x in replace_lst else x)\n",
    "\n",
    "    mealType_df = mealType_df.rename('mealTypeRefined')\n",
    "    pre_processed_df = pd.concat([pre_processed_df, mealType_df], axis=1)\n",
    "\n",
    "    return pre_processed_df    "
   ]
  },
  {
   "cell_type": "code",
   "execution_count": 7,
   "id": "4ed13679-b293-4c2c-a607-7639bdd84d94",
   "metadata": {},
   "outputs": [],
   "source": [
    "pre_processed_df = preprocess_meal_type(pre_processed_df)"
   ]
  },
  {
   "cell_type": "code",
   "execution_count": 8,
   "id": "eee59cdb-b1c5-483b-81bc-c16873b0338f",
   "metadata": {},
   "outputs": [],
   "source": [
    "onehot_encoded_df = one_hot_encode(pre_processed_df, 'mealTypeRefined')"
   ]
  },
  {
   "cell_type": "code",
   "execution_count": 9,
   "id": "7199ff2d-37e0-49b9-aa52-91f57d4445cd",
   "metadata": {},
   "outputs": [],
   "source": [
    "pre_processed_df = pd.concat([pre_processed_df, onehot_encoded_df], axis=1)"
   ]
  },
  {
   "cell_type": "code",
   "execution_count": 10,
   "id": "18357dec-bc8e-45a3-a2e1-fc28839858e9",
   "metadata": {},
   "outputs": [
    {
     "data": {
      "text/plain": [
       "Index(['uri', 'label', 'image', 'source', 'url', 'shareAs', 'yield',\n",
       "       'dietLabels', 'healthLabels', 'cautions', 'ingredientLines',\n",
       "       'ingredients', 'calories', 'totalWeight', 'totalTime', 'cuisineType',\n",
       "       'mealType', 'dishType', 'totalNutrients', 'totalDaily', 'digest',\n",
       "       'tags', 'binnedCalories', 'dishTypeLabel', 'dishTypeSkewedLabels',\n",
       "       'mealTypeRefined', 'mealTypeRefined_breakfast',\n",
       "       'mealTypeRefined_lunch/dinner', 'mealTypeRefined_snack'],\n",
       "      dtype='object')"
      ]
     },
     "execution_count": 10,
     "metadata": {},
     "output_type": "execute_result"
    }
   ],
   "source": [
    "pre_processed_df.columns"
   ]
  },
  {
   "cell_type": "code",
   "execution_count": 11,
   "id": "2ae01b17-0c74-4a91-babf-e4f84e123852",
   "metadata": {},
   "outputs": [],
   "source": [
    "from nltk.tokenize import word_tokenize\n",
    "from nltk.corpus import stopwords\n",
    "from nltk.stem import WordNetLemmatizer"
   ]
  },
  {
   "cell_type": "code",
   "execution_count": 12,
   "id": "5cbf2780-98c2-411b-998f-8996fa9884c6",
   "metadata": {},
   "outputs": [],
   "source": [
    "english_stop_words = stopwords.words('english')\n",
    "lemmatizer = WordNetLemmatizer()"
   ]
  },
  {
   "cell_type": "code",
   "execution_count": 13,
   "id": "1698b9ee-211c-47f0-8ae7-41c96fc7114e",
   "metadata": {},
   "outputs": [],
   "source": [
    "def pre_process_text(df, column, stop_words, lemmatizer, inplace=False):\n",
    "    recipes = df[column].copy()  # Make a copy to avoid modifying the original DataFrame inplace\n",
    "\n",
    "    recipes = recipes.apply(lambda x: remove_stop_words(x, stop_words))\n",
    "    recipes = recipes.apply(lambda x: lemmatization(x, lemmatizer))\n",
    "    recipes = recipes.apply(lambda x: word_tokenize(x))\n",
    "\n",
    "    if inplace:\n",
    "        df.loc[:, column] = recipes\n",
    "        return None  # Return None if inplace=True to indicate that the DataFrame is modified inplace\n",
    "    else:\n",
    "        new_df = df.copy()  # Make a copy of the original DataFrame\n",
    "        new_df.loc[:, column] = recipes\n",
    "        return new_df"
   ]
  },
  {
   "cell_type": "code",
   "execution_count": 14,
   "id": "934e69be-e628-4e05-befb-793ab06b5215",
   "metadata": {},
   "outputs": [],
   "source": [
    "pre_process_text(df=pre_processed_df, column='label', stop_words=english_stop_words, lemmatizer=lemmatizer, inplace=True)"
   ]
  },
  {
   "cell_type": "code",
   "execution_count": 15,
   "id": "e80d94c1-3a6a-4136-9b7f-e95141cbdd9e",
   "metadata": {},
   "outputs": [
    {
     "data": {
      "text/plain": [
       "0        0\n",
       "1        1\n",
       "2        3\n",
       "3        0\n",
       "4        0\n",
       "        ..\n",
       "10378    8\n",
       "10379    1\n",
       "10380    5\n",
       "10381    1\n",
       "10382    2\n",
       "Name: binnedCalories, Length: 10383, dtype: category\n",
       "Categories (13, int64): [0 < 1 < 2 < 3 ... 9 < 10 < 11 < 12]"
      ]
     },
     "execution_count": 15,
     "metadata": {},
     "output_type": "execute_result"
    }
   ],
   "source": [
    "pre_processed_df['binnedCalories']"
   ]
  },
  {
   "cell_type": "code",
   "execution_count": 16,
   "id": "d88cdbbd-6b4f-4b42-8b0a-a0012b508942",
   "metadata": {},
   "outputs": [],
   "source": [
    "from sklearn.model_selection import train_test_split\n",
    "from sklearn.feature_extraction.text import TfidfVectorizer"
   ]
  },
  {
   "cell_type": "code",
   "execution_count": 17,
   "id": "a2b75090-b1b6-46ee-89bf-fa8ba7ffc9e3",
   "metadata": {},
   "outputs": [],
   "source": [
    "def get_training_testing_data(df, X_columns, y_column, test_size=0.20, random_state=42):\n",
    "    X = df[X_columns]\n",
    "    y = df[y_column]\n",
    "    \n",
    "    X_train, X_test, y_train, y_test = train_test_split(X, y, test_size=test_size, random_state=random_state)\n",
    "    \n",
    "    X_train = X_train.reset_index(drop=True)\n",
    "    X_test = X_test.reset_index(drop=True)\n",
    "    y_train = y_train.reset_index(drop=True)\n",
    "    y_test = y_test.reset_index(drop=True)\n",
    "    \n",
    "    tfidf = TfidfVectorizer()\n",
    "    \n",
    "    tfidf_X_train_labels = tfidf.fit_transform(X_train['label'].str.join(' '))\n",
    "    tfidf_X_test_labels = tfidf.transform(X_test['label'].str.join(' '))\n",
    "\n",
    "    tfidf_train_df = pd.DataFrame(tfidf_X_train_labels.toarray(), columns=tfidf.get_feature_names_out())\n",
    "    tfidf_test_df = pd.DataFrame(tfidf_X_test_labels.toarray(), columns=tfidf.get_feature_names_out())\n",
    "    \n",
    "    X_train_tfidf = pd.concat([tfidf_train_df, X_train.drop('label', axis=1)], axis=1)\n",
    "    X_test_tfidf = pd.concat([tfidf_test_df, X_test.drop('label', axis=1)], axis=1)\n",
    "\n",
    "    return X_train_tfidf, X_test_tfidf, y_train, y_test"
   ]
  },
  {
   "cell_type": "code",
   "execution_count": 18,
   "id": "e388e5cd-5c1c-47b0-a5e7-e20be9da2190",
   "metadata": {},
   "outputs": [],
   "source": [
    "X_cols = ['mealTypeRefined_breakfast', 'mealTypeRefined_lunch/dinner', 'mealTypeRefined_snack', 'label', 'dishTypeSkewedLabels']\n",
    "y_col = 'binnedCalories'\n",
    "X_train, X_test, y_train, y_test = get_training_testing_data(pre_processed_df, X_cols, y_col)"
   ]
  },
  {
   "cell_type": "code",
   "execution_count": null,
   "id": "a7feef1b-6bd5-4bb1-86b7-948a7248adc5",
   "metadata": {},
   "outputs": [],
   "source": []
  },
  {
   "cell_type": "code",
   "execution_count": 4,
   "id": "c4638331-9b08-4eb6-9fc3-9733fcb86e95",
   "metadata": {},
   "outputs": [],
   "source": [
    "from sklearn.metrics import cohen_kappa_score, make_scorer, accuracy_score, r2_score\n",
    "from sklearn.model_selection import GridSearchCV\n",
    "from xgboost import XGBClassifier\n",
    "import pandas as pd\n",
    "import cupy as cp"
   ]
  },
  {
   "cell_type": "code",
   "execution_count": 5,
   "id": "fd50a226-811f-457b-a6e5-4935debe7088",
   "metadata": {},
   "outputs": [
    {
     "data": {
      "text/plain": [
       "<CUDA Device 0>"
      ]
     },
     "execution_count": 5,
     "metadata": {},
     "output_type": "execute_result"
    }
   ],
   "source": [
    "cp.cuda.Device(0).use()"
   ]
  },
  {
   "cell_type": "code",
   "execution_count": 6,
   "id": "1431827c-49a8-42d9-b552-1076d4923ba1",
   "metadata": {},
   "outputs": [],
   "source": [
    "X_train = pd.read_csv('X_train.csv')\n",
    "y_train = pd.read_csv('y_train.csv')\n",
    "X_test = pd.read_csv('X_test.csv')\n",
    "y_test = pd.read_csv('y_test.csv')"
   ]
  },
  {
   "cell_type": "code",
   "execution_count": 7,
   "id": "d9589f0d-88b7-44bc-9944-4eef03d3c270",
   "metadata": {},
   "outputs": [],
   "source": [
    "X_train_gpu, y_train_gpu = cp.array(X_train.values), cp.array(y_train.values)"
   ]
  },
  {
   "cell_type": "code",
   "execution_count": 8,
   "id": "d05c5e08-7bc0-4fbf-bf61-7bd6583320cf",
   "metadata": {},
   "outputs": [
    {
     "data": {
      "text/plain": [
       "array([[0., 0., 0., ..., 1., 0., 1.],\n",
       "       [0., 0., 0., ..., 1., 0., 0.],\n",
       "       [0., 0., 0., ..., 1., 0., 1.],\n",
       "       ...,\n",
       "       [0., 0., 0., ..., 1., 0., 1.],\n",
       "       [0., 0., 0., ..., 1., 0., 1.],\n",
       "       [0., 0., 0., ..., 1., 0., 1.]])"
      ]
     },
     "execution_count": 8,
     "metadata": {},
     "output_type": "execute_result"
    }
   ],
   "source": [
    "X_train_gpu"
   ]
  },
  {
   "cell_type": "code",
   "execution_count": 9,
   "id": "3af3305b-1751-4dc0-b5a9-35b4636e80e2",
   "metadata": {},
   "outputs": [
    {
     "ename": "TypeError",
     "evalue": "Implicit conversion to a NumPy array is not allowed. Please use `.get()` to construct a NumPy array explicitly.",
     "output_type": "error",
     "traceback": [
      "\u001b[1;31m---------------------------------------------------------------------------\u001b[0m",
      "\u001b[1;31mTypeError\u001b[0m                                 Traceback (most recent call last)",
      "Cell \u001b[1;32mIn[9], line 15\u001b[0m\n\u001b[0;32m      8\u001b[0m xgb_clf \u001b[38;5;241m=\u001b[39m XGBClassifier(objective\u001b[38;5;241m=\u001b[39m\u001b[38;5;124m'\u001b[39m\u001b[38;5;124mmulti:softmax\u001b[39m\u001b[38;5;124m'\u001b[39m, \n\u001b[0;32m      9\u001b[0m                              num_class\u001b[38;5;241m=\u001b[39m\u001b[38;5;241m13\u001b[39m, \n\u001b[0;32m     10\u001b[0m                              random_state\u001b[38;5;241m=\u001b[39m\u001b[38;5;241m42\u001b[39m, \n\u001b[0;32m     11\u001b[0m                              device \u001b[38;5;241m=\u001b[39m \u001b[38;5;124m\"\u001b[39m\u001b[38;5;124mcuda\u001b[39m\u001b[38;5;124m\"\u001b[39m)\n\u001b[0;32m     13\u001b[0m clf \u001b[38;5;241m=\u001b[39m GridSearchCV(xgb_clf, parameters, scoring\u001b[38;5;241m=\u001b[39m\u001b[38;5;124m'\u001b[39m\u001b[38;5;124maccuracy\u001b[39m\u001b[38;5;124m'\u001b[39m, n_jobs\u001b[38;5;241m=\u001b[39m\u001b[38;5;241m-\u001b[39m\u001b[38;5;241m1\u001b[39m)\n\u001b[1;32m---> 15\u001b[0m \u001b[43mclf\u001b[49m\u001b[38;5;241;43m.\u001b[39;49m\u001b[43mfit\u001b[49m\u001b[43m(\u001b[49m\u001b[43mX_train_gpu\u001b[49m\u001b[43m,\u001b[49m\u001b[43m \u001b[49m\u001b[43my_train_gpu\u001b[49m\u001b[43m)\u001b[49m\n",
      "File \u001b[1;32m~\\anaconda3\\envs\\edamam\\Lib\\site-packages\\sklearn\\base.py:1351\u001b[0m, in \u001b[0;36m_fit_context.<locals>.decorator.<locals>.wrapper\u001b[1;34m(estimator, *args, **kwargs)\u001b[0m\n\u001b[0;32m   1344\u001b[0m     estimator\u001b[38;5;241m.\u001b[39m_validate_params()\n\u001b[0;32m   1346\u001b[0m \u001b[38;5;28;01mwith\u001b[39;00m config_context(\n\u001b[0;32m   1347\u001b[0m     skip_parameter_validation\u001b[38;5;241m=\u001b[39m(\n\u001b[0;32m   1348\u001b[0m         prefer_skip_nested_validation \u001b[38;5;129;01mor\u001b[39;00m global_skip_validation\n\u001b[0;32m   1349\u001b[0m     )\n\u001b[0;32m   1350\u001b[0m ):\n\u001b[1;32m-> 1351\u001b[0m     \u001b[38;5;28;01mreturn\u001b[39;00m \u001b[43mfit_method\u001b[49m\u001b[43m(\u001b[49m\u001b[43mestimator\u001b[49m\u001b[43m,\u001b[49m\u001b[43m \u001b[49m\u001b[38;5;241;43m*\u001b[39;49m\u001b[43margs\u001b[49m\u001b[43m,\u001b[49m\u001b[43m \u001b[49m\u001b[38;5;241;43m*\u001b[39;49m\u001b[38;5;241;43m*\u001b[39;49m\u001b[43mkwargs\u001b[49m\u001b[43m)\u001b[49m\n",
      "File \u001b[1;32m~\\anaconda3\\envs\\edamam\\Lib\\site-packages\\sklearn\\model_selection\\_search.py:879\u001b[0m, in \u001b[0;36mBaseSearchCV.fit\u001b[1;34m(self, X, y, **params)\u001b[0m\n\u001b[0;32m    875\u001b[0m params \u001b[38;5;241m=\u001b[39m _check_method_params(X, params\u001b[38;5;241m=\u001b[39mparams)\n\u001b[0;32m    877\u001b[0m routed_params \u001b[38;5;241m=\u001b[39m \u001b[38;5;28mself\u001b[39m\u001b[38;5;241m.\u001b[39m_get_routed_params_for_fit(params)\n\u001b[1;32m--> 879\u001b[0m cv_orig \u001b[38;5;241m=\u001b[39m \u001b[43mcheck_cv\u001b[49m\u001b[43m(\u001b[49m\u001b[38;5;28;43mself\u001b[39;49m\u001b[38;5;241;43m.\u001b[39;49m\u001b[43mcv\u001b[49m\u001b[43m,\u001b[49m\u001b[43m \u001b[49m\u001b[43my\u001b[49m\u001b[43m,\u001b[49m\u001b[43m \u001b[49m\u001b[43mclassifier\u001b[49m\u001b[38;5;241;43m=\u001b[39;49m\u001b[43mis_classifier\u001b[49m\u001b[43m(\u001b[49m\u001b[43mestimator\u001b[49m\u001b[43m)\u001b[49m\u001b[43m)\u001b[49m\n\u001b[0;32m    880\u001b[0m n_splits \u001b[38;5;241m=\u001b[39m cv_orig\u001b[38;5;241m.\u001b[39mget_n_splits(X, y, \u001b[38;5;241m*\u001b[39m\u001b[38;5;241m*\u001b[39mrouted_params\u001b[38;5;241m.\u001b[39msplitter\u001b[38;5;241m.\u001b[39msplit)\n\u001b[0;32m    882\u001b[0m base_estimator \u001b[38;5;241m=\u001b[39m clone(\u001b[38;5;28mself\u001b[39m\u001b[38;5;241m.\u001b[39mestimator)\n",
      "File \u001b[1;32m~\\anaconda3\\envs\\edamam\\Lib\\site-packages\\sklearn\\model_selection\\_split.py:2525\u001b[0m, in \u001b[0;36mcheck_cv\u001b[1;34m(cv, y, classifier)\u001b[0m\n\u001b[0;32m   2520\u001b[0m cv \u001b[38;5;241m=\u001b[39m \u001b[38;5;241m5\u001b[39m \u001b[38;5;28;01mif\u001b[39;00m cv \u001b[38;5;129;01mis\u001b[39;00m \u001b[38;5;28;01mNone\u001b[39;00m \u001b[38;5;28;01melse\u001b[39;00m cv\n\u001b[0;32m   2521\u001b[0m \u001b[38;5;28;01mif\u001b[39;00m \u001b[38;5;28misinstance\u001b[39m(cv, numbers\u001b[38;5;241m.\u001b[39mIntegral):\n\u001b[0;32m   2522\u001b[0m     \u001b[38;5;28;01mif\u001b[39;00m (\n\u001b[0;32m   2523\u001b[0m         classifier\n\u001b[0;32m   2524\u001b[0m         \u001b[38;5;129;01mand\u001b[39;00m (y \u001b[38;5;129;01mis\u001b[39;00m \u001b[38;5;129;01mnot\u001b[39;00m \u001b[38;5;28;01mNone\u001b[39;00m)\n\u001b[1;32m-> 2525\u001b[0m         \u001b[38;5;129;01mand\u001b[39;00m (\u001b[43mtype_of_target\u001b[49m\u001b[43m(\u001b[49m\u001b[43my\u001b[49m\u001b[43m,\u001b[49m\u001b[43m \u001b[49m\u001b[43minput_name\u001b[49m\u001b[38;5;241;43m=\u001b[39;49m\u001b[38;5;124;43m\"\u001b[39;49m\u001b[38;5;124;43my\u001b[39;49m\u001b[38;5;124;43m\"\u001b[39;49m\u001b[43m)\u001b[49m \u001b[38;5;129;01min\u001b[39;00m (\u001b[38;5;124m\"\u001b[39m\u001b[38;5;124mbinary\u001b[39m\u001b[38;5;124m\"\u001b[39m, \u001b[38;5;124m\"\u001b[39m\u001b[38;5;124mmulticlass\u001b[39m\u001b[38;5;124m\"\u001b[39m))\n\u001b[0;32m   2526\u001b[0m     ):\n\u001b[0;32m   2527\u001b[0m         \u001b[38;5;28;01mreturn\u001b[39;00m StratifiedKFold(cv)\n\u001b[0;32m   2528\u001b[0m     \u001b[38;5;28;01melse\u001b[39;00m:\n",
      "File \u001b[1;32m~\\anaconda3\\envs\\edamam\\Lib\\site-packages\\sklearn\\utils\\multiclass.py:316\u001b[0m, in \u001b[0;36mtype_of_target\u001b[1;34m(y, input_name)\u001b[0m\n\u001b[0;32m    313\u001b[0m \u001b[38;5;28;01mif\u001b[39;00m sparse_pandas:\n\u001b[0;32m    314\u001b[0m     \u001b[38;5;28;01mraise\u001b[39;00m \u001b[38;5;167;01mValueError\u001b[39;00m(\u001b[38;5;124m\"\u001b[39m\u001b[38;5;124my cannot be class \u001b[39m\u001b[38;5;124m'\u001b[39m\u001b[38;5;124mSparseSeries\u001b[39m\u001b[38;5;124m'\u001b[39m\u001b[38;5;124m or \u001b[39m\u001b[38;5;124m'\u001b[39m\u001b[38;5;124mSparseArray\u001b[39m\u001b[38;5;124m'\u001b[39m\u001b[38;5;124m\"\u001b[39m)\n\u001b[1;32m--> 316\u001b[0m \u001b[38;5;28;01mif\u001b[39;00m \u001b[43mis_multilabel\u001b[49m\u001b[43m(\u001b[49m\u001b[43my\u001b[49m\u001b[43m)\u001b[49m:\n\u001b[0;32m    317\u001b[0m     \u001b[38;5;28;01mreturn\u001b[39;00m \u001b[38;5;124m\"\u001b[39m\u001b[38;5;124mmultilabel-indicator\u001b[39m\u001b[38;5;124m\"\u001b[39m\n\u001b[0;32m    319\u001b[0m \u001b[38;5;66;03m# DeprecationWarning will be replaced by ValueError, see NEP 34\u001b[39;00m\n\u001b[0;32m    320\u001b[0m \u001b[38;5;66;03m# https://numpy.org/neps/nep-0034-infer-dtype-is-object.html\u001b[39;00m\n\u001b[0;32m    321\u001b[0m \u001b[38;5;66;03m# We therefore catch both deprecation (NumPy < 1.24) warning and\u001b[39;00m\n\u001b[0;32m    322\u001b[0m \u001b[38;5;66;03m# value error (NumPy >= 1.24).\u001b[39;00m\n",
      "File \u001b[1;32m~\\anaconda3\\envs\\edamam\\Lib\\site-packages\\sklearn\\utils\\multiclass.py:171\u001b[0m, in \u001b[0;36mis_multilabel\u001b[1;34m(y)\u001b[0m\n\u001b[0;32m    169\u001b[0m warnings\u001b[38;5;241m.\u001b[39msimplefilter(\u001b[38;5;124m\"\u001b[39m\u001b[38;5;124merror\u001b[39m\u001b[38;5;124m\"\u001b[39m, VisibleDeprecationWarning)\n\u001b[0;32m    170\u001b[0m \u001b[38;5;28;01mtry\u001b[39;00m:\n\u001b[1;32m--> 171\u001b[0m     y \u001b[38;5;241m=\u001b[39m \u001b[43mcheck_array\u001b[49m\u001b[43m(\u001b[49m\u001b[43my\u001b[49m\u001b[43m,\u001b[49m\u001b[43m \u001b[49m\u001b[43mdtype\u001b[49m\u001b[38;5;241;43m=\u001b[39;49m\u001b[38;5;28;43;01mNone\u001b[39;49;00m\u001b[43m,\u001b[49m\u001b[43m \u001b[49m\u001b[38;5;241;43m*\u001b[39;49m\u001b[38;5;241;43m*\u001b[39;49m\u001b[43mcheck_y_kwargs\u001b[49m\u001b[43m)\u001b[49m\n\u001b[0;32m    172\u001b[0m \u001b[38;5;28;01mexcept\u001b[39;00m (VisibleDeprecationWarning, \u001b[38;5;167;01mValueError\u001b[39;00m) \u001b[38;5;28;01mas\u001b[39;00m e:\n\u001b[0;32m    173\u001b[0m     \u001b[38;5;28;01mif\u001b[39;00m \u001b[38;5;28mstr\u001b[39m(e)\u001b[38;5;241m.\u001b[39mstartswith(\u001b[38;5;124m\"\u001b[39m\u001b[38;5;124mComplex data not supported\u001b[39m\u001b[38;5;124m\"\u001b[39m):\n",
      "File \u001b[1;32m~\\anaconda3\\envs\\edamam\\Lib\\site-packages\\sklearn\\utils\\validation.py:951\u001b[0m, in \u001b[0;36mcheck_array\u001b[1;34m(array, accept_sparse, accept_large_sparse, dtype, order, copy, force_all_finite, ensure_2d, allow_nd, ensure_min_samples, ensure_min_features, estimator, input_name)\u001b[0m\n\u001b[0;32m    949\u001b[0m         array \u001b[38;5;241m=\u001b[39m xp\u001b[38;5;241m.\u001b[39mastype(array, dtype, copy\u001b[38;5;241m=\u001b[39m\u001b[38;5;28;01mFalse\u001b[39;00m)\n\u001b[0;32m    950\u001b[0m     \u001b[38;5;28;01melse\u001b[39;00m:\n\u001b[1;32m--> 951\u001b[0m         array \u001b[38;5;241m=\u001b[39m \u001b[43m_asarray_with_order\u001b[49m\u001b[43m(\u001b[49m\u001b[43marray\u001b[49m\u001b[43m,\u001b[49m\u001b[43m \u001b[49m\u001b[43morder\u001b[49m\u001b[38;5;241;43m=\u001b[39;49m\u001b[43morder\u001b[49m\u001b[43m,\u001b[49m\u001b[43m \u001b[49m\u001b[43mdtype\u001b[49m\u001b[38;5;241;43m=\u001b[39;49m\u001b[43mdtype\u001b[49m\u001b[43m,\u001b[49m\u001b[43m \u001b[49m\u001b[43mxp\u001b[49m\u001b[38;5;241;43m=\u001b[39;49m\u001b[43mxp\u001b[49m\u001b[43m)\u001b[49m\n\u001b[0;32m    952\u001b[0m \u001b[38;5;28;01mexcept\u001b[39;00m ComplexWarning \u001b[38;5;28;01mas\u001b[39;00m complex_warning:\n\u001b[0;32m    953\u001b[0m     \u001b[38;5;28;01mraise\u001b[39;00m \u001b[38;5;167;01mValueError\u001b[39;00m(\n\u001b[0;32m    954\u001b[0m         \u001b[38;5;124m\"\u001b[39m\u001b[38;5;124mComplex data not supported\u001b[39m\u001b[38;5;130;01m\\n\u001b[39;00m\u001b[38;5;132;01m{}\u001b[39;00m\u001b[38;5;130;01m\\n\u001b[39;00m\u001b[38;5;124m\"\u001b[39m\u001b[38;5;241m.\u001b[39mformat(array)\n\u001b[0;32m    955\u001b[0m     ) \u001b[38;5;28;01mfrom\u001b[39;00m \u001b[38;5;21;01mcomplex_warning\u001b[39;00m\n",
      "File \u001b[1;32m~\\anaconda3\\envs\\edamam\\Lib\\site-packages\\sklearn\\utils\\_array_api.py:521\u001b[0m, in \u001b[0;36m_asarray_with_order\u001b[1;34m(array, dtype, order, copy, xp)\u001b[0m\n\u001b[0;32m    519\u001b[0m     array \u001b[38;5;241m=\u001b[39m numpy\u001b[38;5;241m.\u001b[39marray(array, order\u001b[38;5;241m=\u001b[39morder, dtype\u001b[38;5;241m=\u001b[39mdtype)\n\u001b[0;32m    520\u001b[0m \u001b[38;5;28;01melse\u001b[39;00m:\n\u001b[1;32m--> 521\u001b[0m     array \u001b[38;5;241m=\u001b[39m \u001b[43mnumpy\u001b[49m\u001b[38;5;241;43m.\u001b[39;49m\u001b[43masarray\u001b[49m\u001b[43m(\u001b[49m\u001b[43marray\u001b[49m\u001b[43m,\u001b[49m\u001b[43m \u001b[49m\u001b[43morder\u001b[49m\u001b[38;5;241;43m=\u001b[39;49m\u001b[43morder\u001b[49m\u001b[43m,\u001b[49m\u001b[43m \u001b[49m\u001b[43mdtype\u001b[49m\u001b[38;5;241;43m=\u001b[39;49m\u001b[43mdtype\u001b[49m\u001b[43m)\u001b[49m\n\u001b[0;32m    523\u001b[0m \u001b[38;5;66;03m# At this point array is a NumPy ndarray. We convert it to an array\u001b[39;00m\n\u001b[0;32m    524\u001b[0m \u001b[38;5;66;03m# container that is consistent with the input's namespace.\u001b[39;00m\n\u001b[0;32m    525\u001b[0m \u001b[38;5;28;01mreturn\u001b[39;00m xp\u001b[38;5;241m.\u001b[39masarray(array)\n",
      "File \u001b[1;32mcupy\\_core\\core.pyx:1475\u001b[0m, in \u001b[0;36mcupy._core.core._ndarray_base.__array__\u001b[1;34m()\u001b[0m\n",
      "\u001b[1;31mTypeError\u001b[0m: Implicit conversion to a NumPy array is not allowed. Please use `.get()` to construct a NumPy array explicitly."
     ]
    }
   ],
   "source": [
    "parameters = {\n",
    "    'learning_rate': [0.1], \n",
    "    #'max_depth': [3, 5, 7],\n",
    "    #'colsample_bytree': [0.6, 0.8, 1.0],\n",
    "    #'n_estimators': [50, 100, 150]\n",
    "}\n",
    "\n",
    "xgb_clf = XGBClassifier(objective='multi:softmax', \n",
    "                             num_class=13, \n",
    "                             random_state=42, \n",
    "                             device = \"cuda\")\n",
    "\n",
    "clf = GridSearchCV(xgb_clf, parameters, scoring='accuracy', n_jobs=-1)\n",
    "\n",
    "clf.fit(X_train_gpu, y_train_gpu)"
   ]
  },
  {
   "cell_type": "code",
   "execution_count": 51,
   "id": "199f04d4-c0be-4511-ada2-3cd834ffceab",
   "metadata": {},
   "outputs": [
    {
     "data": {
      "text/plain": [
       "array([2, 2, 8, ..., 2, 1, 5])"
      ]
     },
     "execution_count": 51,
     "metadata": {},
     "output_type": "execute_result"
    }
   ],
   "source": [
    "clf.predict(X_train)"
   ]
  },
  {
   "cell_type": "code",
   "execution_count": null,
   "id": "29bfba8d-8d13-4cb7-864e-8795990fb34a",
   "metadata": {},
   "outputs": [],
   "source": []
  },
  {
   "cell_type": "code",
   "execution_count": 10,
   "id": "7788bbe8-1632-43d7-a980-fe737134ea3e",
   "metadata": {},
   "outputs": [
    {
     "data": {
      "text/html": [
       "<style>#sk-container-id-1 {\n",
       "  /* Definition of color scheme common for light and dark mode */\n",
       "  --sklearn-color-text: black;\n",
       "  --sklearn-color-line: gray;\n",
       "  /* Definition of color scheme for unfitted estimators */\n",
       "  --sklearn-color-unfitted-level-0: #fff5e6;\n",
       "  --sklearn-color-unfitted-level-1: #f6e4d2;\n",
       "  --sklearn-color-unfitted-level-2: #ffe0b3;\n",
       "  --sklearn-color-unfitted-level-3: chocolate;\n",
       "  /* Definition of color scheme for fitted estimators */\n",
       "  --sklearn-color-fitted-level-0: #f0f8ff;\n",
       "  --sklearn-color-fitted-level-1: #d4ebff;\n",
       "  --sklearn-color-fitted-level-2: #b3dbfd;\n",
       "  --sklearn-color-fitted-level-3: cornflowerblue;\n",
       "\n",
       "  /* Specific color for light theme */\n",
       "  --sklearn-color-text-on-default-background: var(--sg-text-color, var(--theme-code-foreground, var(--jp-content-font-color1, black)));\n",
       "  --sklearn-color-background: var(--sg-background-color, var(--theme-background, var(--jp-layout-color0, white)));\n",
       "  --sklearn-color-border-box: var(--sg-text-color, var(--theme-code-foreground, var(--jp-content-font-color1, black)));\n",
       "  --sklearn-color-icon: #696969;\n",
       "\n",
       "  @media (prefers-color-scheme: dark) {\n",
       "    /* Redefinition of color scheme for dark theme */\n",
       "    --sklearn-color-text-on-default-background: var(--sg-text-color, var(--theme-code-foreground, var(--jp-content-font-color1, white)));\n",
       "    --sklearn-color-background: var(--sg-background-color, var(--theme-background, var(--jp-layout-color0, #111)));\n",
       "    --sklearn-color-border-box: var(--sg-text-color, var(--theme-code-foreground, var(--jp-content-font-color1, white)));\n",
       "    --sklearn-color-icon: #878787;\n",
       "  }\n",
       "}\n",
       "\n",
       "#sk-container-id-1 {\n",
       "  color: var(--sklearn-color-text);\n",
       "}\n",
       "\n",
       "#sk-container-id-1 pre {\n",
       "  padding: 0;\n",
       "}\n",
       "\n",
       "#sk-container-id-1 input.sk-hidden--visually {\n",
       "  border: 0;\n",
       "  clip: rect(1px 1px 1px 1px);\n",
       "  clip: rect(1px, 1px, 1px, 1px);\n",
       "  height: 1px;\n",
       "  margin: -1px;\n",
       "  overflow: hidden;\n",
       "  padding: 0;\n",
       "  position: absolute;\n",
       "  width: 1px;\n",
       "}\n",
       "\n",
       "#sk-container-id-1 div.sk-dashed-wrapped {\n",
       "  border: 1px dashed var(--sklearn-color-line);\n",
       "  margin: 0 0.4em 0.5em 0.4em;\n",
       "  box-sizing: border-box;\n",
       "  padding-bottom: 0.4em;\n",
       "  background-color: var(--sklearn-color-background);\n",
       "}\n",
       "\n",
       "#sk-container-id-1 div.sk-container {\n",
       "  /* jupyter's `normalize.less` sets `[hidden] { display: none; }`\n",
       "     but bootstrap.min.css set `[hidden] { display: none !important; }`\n",
       "     so we also need the `!important` here to be able to override the\n",
       "     default hidden behavior on the sphinx rendered scikit-learn.org.\n",
       "     See: https://github.com/scikit-learn/scikit-learn/issues/21755 */\n",
       "  display: inline-block !important;\n",
       "  position: relative;\n",
       "}\n",
       "\n",
       "#sk-container-id-1 div.sk-text-repr-fallback {\n",
       "  display: none;\n",
       "}\n",
       "\n",
       "div.sk-parallel-item,\n",
       "div.sk-serial,\n",
       "div.sk-item {\n",
       "  /* draw centered vertical line to link estimators */\n",
       "  background-image: linear-gradient(var(--sklearn-color-text-on-default-background), var(--sklearn-color-text-on-default-background));\n",
       "  background-size: 2px 100%;\n",
       "  background-repeat: no-repeat;\n",
       "  background-position: center center;\n",
       "}\n",
       "\n",
       "/* Parallel-specific style estimator block */\n",
       "\n",
       "#sk-container-id-1 div.sk-parallel-item::after {\n",
       "  content: \"\";\n",
       "  width: 100%;\n",
       "  border-bottom: 2px solid var(--sklearn-color-text-on-default-background);\n",
       "  flex-grow: 1;\n",
       "}\n",
       "\n",
       "#sk-container-id-1 div.sk-parallel {\n",
       "  display: flex;\n",
       "  align-items: stretch;\n",
       "  justify-content: center;\n",
       "  background-color: var(--sklearn-color-background);\n",
       "  position: relative;\n",
       "}\n",
       "\n",
       "#sk-container-id-1 div.sk-parallel-item {\n",
       "  display: flex;\n",
       "  flex-direction: column;\n",
       "}\n",
       "\n",
       "#sk-container-id-1 div.sk-parallel-item:first-child::after {\n",
       "  align-self: flex-end;\n",
       "  width: 50%;\n",
       "}\n",
       "\n",
       "#sk-container-id-1 div.sk-parallel-item:last-child::after {\n",
       "  align-self: flex-start;\n",
       "  width: 50%;\n",
       "}\n",
       "\n",
       "#sk-container-id-1 div.sk-parallel-item:only-child::after {\n",
       "  width: 0;\n",
       "}\n",
       "\n",
       "/* Serial-specific style estimator block */\n",
       "\n",
       "#sk-container-id-1 div.sk-serial {\n",
       "  display: flex;\n",
       "  flex-direction: column;\n",
       "  align-items: center;\n",
       "  background-color: var(--sklearn-color-background);\n",
       "  padding-right: 1em;\n",
       "  padding-left: 1em;\n",
       "}\n",
       "\n",
       "\n",
       "/* Toggleable style: style used for estimator/Pipeline/ColumnTransformer box that is\n",
       "clickable and can be expanded/collapsed.\n",
       "- Pipeline and ColumnTransformer use this feature and define the default style\n",
       "- Estimators will overwrite some part of the style using the `sk-estimator` class\n",
       "*/\n",
       "\n",
       "/* Pipeline and ColumnTransformer style (default) */\n",
       "\n",
       "#sk-container-id-1 div.sk-toggleable {\n",
       "  /* Default theme specific background. It is overwritten whether we have a\n",
       "  specific estimator or a Pipeline/ColumnTransformer */\n",
       "  background-color: var(--sklearn-color-background);\n",
       "}\n",
       "\n",
       "/* Toggleable label */\n",
       "#sk-container-id-1 label.sk-toggleable__label {\n",
       "  cursor: pointer;\n",
       "  display: block;\n",
       "  width: 100%;\n",
       "  margin-bottom: 0;\n",
       "  padding: 0.5em;\n",
       "  box-sizing: border-box;\n",
       "  text-align: center;\n",
       "}\n",
       "\n",
       "#sk-container-id-1 label.sk-toggleable__label-arrow:before {\n",
       "  /* Arrow on the left of the label */\n",
       "  content: \"▸\";\n",
       "  float: left;\n",
       "  margin-right: 0.25em;\n",
       "  color: var(--sklearn-color-icon);\n",
       "}\n",
       "\n",
       "#sk-container-id-1 label.sk-toggleable__label-arrow:hover:before {\n",
       "  color: var(--sklearn-color-text);\n",
       "}\n",
       "\n",
       "/* Toggleable content - dropdown */\n",
       "\n",
       "#sk-container-id-1 div.sk-toggleable__content {\n",
       "  max-height: 0;\n",
       "  max-width: 0;\n",
       "  overflow: hidden;\n",
       "  text-align: left;\n",
       "  /* unfitted */\n",
       "  background-color: var(--sklearn-color-unfitted-level-0);\n",
       "}\n",
       "\n",
       "#sk-container-id-1 div.sk-toggleable__content.fitted {\n",
       "  /* fitted */\n",
       "  background-color: var(--sklearn-color-fitted-level-0);\n",
       "}\n",
       "\n",
       "#sk-container-id-1 div.sk-toggleable__content pre {\n",
       "  margin: 0.2em;\n",
       "  border-radius: 0.25em;\n",
       "  color: var(--sklearn-color-text);\n",
       "  /* unfitted */\n",
       "  background-color: var(--sklearn-color-unfitted-level-0);\n",
       "}\n",
       "\n",
       "#sk-container-id-1 div.sk-toggleable__content.fitted pre {\n",
       "  /* unfitted */\n",
       "  background-color: var(--sklearn-color-fitted-level-0);\n",
       "}\n",
       "\n",
       "#sk-container-id-1 input.sk-toggleable__control:checked~div.sk-toggleable__content {\n",
       "  /* Expand drop-down */\n",
       "  max-height: 200px;\n",
       "  max-width: 100%;\n",
       "  overflow: auto;\n",
       "}\n",
       "\n",
       "#sk-container-id-1 input.sk-toggleable__control:checked~label.sk-toggleable__label-arrow:before {\n",
       "  content: \"▾\";\n",
       "}\n",
       "\n",
       "/* Pipeline/ColumnTransformer-specific style */\n",
       "\n",
       "#sk-container-id-1 div.sk-label input.sk-toggleable__control:checked~label.sk-toggleable__label {\n",
       "  color: var(--sklearn-color-text);\n",
       "  background-color: var(--sklearn-color-unfitted-level-2);\n",
       "}\n",
       "\n",
       "#sk-container-id-1 div.sk-label.fitted input.sk-toggleable__control:checked~label.sk-toggleable__label {\n",
       "  background-color: var(--sklearn-color-fitted-level-2);\n",
       "}\n",
       "\n",
       "/* Estimator-specific style */\n",
       "\n",
       "/* Colorize estimator box */\n",
       "#sk-container-id-1 div.sk-estimator input.sk-toggleable__control:checked~label.sk-toggleable__label {\n",
       "  /* unfitted */\n",
       "  background-color: var(--sklearn-color-unfitted-level-2);\n",
       "}\n",
       "\n",
       "#sk-container-id-1 div.sk-estimator.fitted input.sk-toggleable__control:checked~label.sk-toggleable__label {\n",
       "  /* fitted */\n",
       "  background-color: var(--sklearn-color-fitted-level-2);\n",
       "}\n",
       "\n",
       "#sk-container-id-1 div.sk-label label.sk-toggleable__label,\n",
       "#sk-container-id-1 div.sk-label label {\n",
       "  /* The background is the default theme color */\n",
       "  color: var(--sklearn-color-text-on-default-background);\n",
       "}\n",
       "\n",
       "/* On hover, darken the color of the background */\n",
       "#sk-container-id-1 div.sk-label:hover label.sk-toggleable__label {\n",
       "  color: var(--sklearn-color-text);\n",
       "  background-color: var(--sklearn-color-unfitted-level-2);\n",
       "}\n",
       "\n",
       "/* Label box, darken color on hover, fitted */\n",
       "#sk-container-id-1 div.sk-label.fitted:hover label.sk-toggleable__label.fitted {\n",
       "  color: var(--sklearn-color-text);\n",
       "  background-color: var(--sklearn-color-fitted-level-2);\n",
       "}\n",
       "\n",
       "/* Estimator label */\n",
       "\n",
       "#sk-container-id-1 div.sk-label label {\n",
       "  font-family: monospace;\n",
       "  font-weight: bold;\n",
       "  display: inline-block;\n",
       "  line-height: 1.2em;\n",
       "}\n",
       "\n",
       "#sk-container-id-1 div.sk-label-container {\n",
       "  text-align: center;\n",
       "}\n",
       "\n",
       "/* Estimator-specific */\n",
       "#sk-container-id-1 div.sk-estimator {\n",
       "  font-family: monospace;\n",
       "  border: 1px dotted var(--sklearn-color-border-box);\n",
       "  border-radius: 0.25em;\n",
       "  box-sizing: border-box;\n",
       "  margin-bottom: 0.5em;\n",
       "  /* unfitted */\n",
       "  background-color: var(--sklearn-color-unfitted-level-0);\n",
       "}\n",
       "\n",
       "#sk-container-id-1 div.sk-estimator.fitted {\n",
       "  /* fitted */\n",
       "  background-color: var(--sklearn-color-fitted-level-0);\n",
       "}\n",
       "\n",
       "/* on hover */\n",
       "#sk-container-id-1 div.sk-estimator:hover {\n",
       "  /* unfitted */\n",
       "  background-color: var(--sklearn-color-unfitted-level-2);\n",
       "}\n",
       "\n",
       "#sk-container-id-1 div.sk-estimator.fitted:hover {\n",
       "  /* fitted */\n",
       "  background-color: var(--sklearn-color-fitted-level-2);\n",
       "}\n",
       "\n",
       "/* Specification for estimator info (e.g. \"i\" and \"?\") */\n",
       "\n",
       "/* Common style for \"i\" and \"?\" */\n",
       "\n",
       ".sk-estimator-doc-link,\n",
       "a:link.sk-estimator-doc-link,\n",
       "a:visited.sk-estimator-doc-link {\n",
       "  float: right;\n",
       "  font-size: smaller;\n",
       "  line-height: 1em;\n",
       "  font-family: monospace;\n",
       "  background-color: var(--sklearn-color-background);\n",
       "  border-radius: 1em;\n",
       "  height: 1em;\n",
       "  width: 1em;\n",
       "  text-decoration: none !important;\n",
       "  margin-left: 1ex;\n",
       "  /* unfitted */\n",
       "  border: var(--sklearn-color-unfitted-level-1) 1pt solid;\n",
       "  color: var(--sklearn-color-unfitted-level-1);\n",
       "}\n",
       "\n",
       ".sk-estimator-doc-link.fitted,\n",
       "a:link.sk-estimator-doc-link.fitted,\n",
       "a:visited.sk-estimator-doc-link.fitted {\n",
       "  /* fitted */\n",
       "  border: var(--sklearn-color-fitted-level-1) 1pt solid;\n",
       "  color: var(--sklearn-color-fitted-level-1);\n",
       "}\n",
       "\n",
       "/* On hover */\n",
       "div.sk-estimator:hover .sk-estimator-doc-link:hover,\n",
       ".sk-estimator-doc-link:hover,\n",
       "div.sk-label-container:hover .sk-estimator-doc-link:hover,\n",
       ".sk-estimator-doc-link:hover {\n",
       "  /* unfitted */\n",
       "  background-color: var(--sklearn-color-unfitted-level-3);\n",
       "  color: var(--sklearn-color-background);\n",
       "  text-decoration: none;\n",
       "}\n",
       "\n",
       "div.sk-estimator.fitted:hover .sk-estimator-doc-link.fitted:hover,\n",
       ".sk-estimator-doc-link.fitted:hover,\n",
       "div.sk-label-container:hover .sk-estimator-doc-link.fitted:hover,\n",
       ".sk-estimator-doc-link.fitted:hover {\n",
       "  /* fitted */\n",
       "  background-color: var(--sklearn-color-fitted-level-3);\n",
       "  color: var(--sklearn-color-background);\n",
       "  text-decoration: none;\n",
       "}\n",
       "\n",
       "/* Span, style for the box shown on hovering the info icon */\n",
       ".sk-estimator-doc-link span {\n",
       "  display: none;\n",
       "  z-index: 9999;\n",
       "  position: relative;\n",
       "  font-weight: normal;\n",
       "  right: .2ex;\n",
       "  padding: .5ex;\n",
       "  margin: .5ex;\n",
       "  width: min-content;\n",
       "  min-width: 20ex;\n",
       "  max-width: 50ex;\n",
       "  color: var(--sklearn-color-text);\n",
       "  box-shadow: 2pt 2pt 4pt #999;\n",
       "  /* unfitted */\n",
       "  background: var(--sklearn-color-unfitted-level-0);\n",
       "  border: .5pt solid var(--sklearn-color-unfitted-level-3);\n",
       "}\n",
       "\n",
       ".sk-estimator-doc-link.fitted span {\n",
       "  /* fitted */\n",
       "  background: var(--sklearn-color-fitted-level-0);\n",
       "  border: var(--sklearn-color-fitted-level-3);\n",
       "}\n",
       "\n",
       ".sk-estimator-doc-link:hover span {\n",
       "  display: block;\n",
       "}\n",
       "\n",
       "/* \"?\"-specific style due to the `<a>` HTML tag */\n",
       "\n",
       "#sk-container-id-1 a.estimator_doc_link {\n",
       "  float: right;\n",
       "  font-size: 1rem;\n",
       "  line-height: 1em;\n",
       "  font-family: monospace;\n",
       "  background-color: var(--sklearn-color-background);\n",
       "  border-radius: 1rem;\n",
       "  height: 1rem;\n",
       "  width: 1rem;\n",
       "  text-decoration: none;\n",
       "  /* unfitted */\n",
       "  color: var(--sklearn-color-unfitted-level-1);\n",
       "  border: var(--sklearn-color-unfitted-level-1) 1pt solid;\n",
       "}\n",
       "\n",
       "#sk-container-id-1 a.estimator_doc_link.fitted {\n",
       "  /* fitted */\n",
       "  border: var(--sklearn-color-fitted-level-1) 1pt solid;\n",
       "  color: var(--sklearn-color-fitted-level-1);\n",
       "}\n",
       "\n",
       "/* On hover */\n",
       "#sk-container-id-1 a.estimator_doc_link:hover {\n",
       "  /* unfitted */\n",
       "  background-color: var(--sklearn-color-unfitted-level-3);\n",
       "  color: var(--sklearn-color-background);\n",
       "  text-decoration: none;\n",
       "}\n",
       "\n",
       "#sk-container-id-1 a.estimator_doc_link.fitted:hover {\n",
       "  /* fitted */\n",
       "  background-color: var(--sklearn-color-fitted-level-3);\n",
       "}\n",
       "</style><div id=\"sk-container-id-1\" class=\"sk-top-container\"><div class=\"sk-text-repr-fallback\"><pre>XGBClassifier(base_score=None, booster=None, callbacks=None,\n",
       "              colsample_bylevel=None, colsample_bynode=None,\n",
       "              colsample_bytree=None, device=&#x27;cuda&#x27;, early_stopping_rounds=None,\n",
       "              enable_categorical=False, eval_metric=None, feature_types=None,\n",
       "              gamma=None, grow_policy=None, importance_type=None,\n",
       "              interaction_constraints=None, learning_rate=None, max_bin=None,\n",
       "              max_cat_threshold=None, max_cat_to_onehot=None,\n",
       "              max_delta_step=None, max_depth=None, max_leaves=None,\n",
       "              min_child_weight=None, missing=nan, monotone_constraints=None,\n",
       "              multi_strategy=None, n_estimators=None, n_jobs=None, num_class=13,\n",
       "              num_parallel_tree=None, ...)</pre><b>In a Jupyter environment, please rerun this cell to show the HTML representation or trust the notebook. <br />On GitHub, the HTML representation is unable to render, please try loading this page with nbviewer.org.</b></div><div class=\"sk-container\" hidden><div class=\"sk-item\"><div class=\"sk-estimator fitted sk-toggleable\"><input class=\"sk-toggleable__control sk-hidden--visually\" id=\"sk-estimator-id-1\" type=\"checkbox\" checked><label for=\"sk-estimator-id-1\" class=\"sk-toggleable__label fitted sk-toggleable__label-arrow fitted\">&nbsp;XGBClassifier<span class=\"sk-estimator-doc-link fitted\">i<span>Fitted</span></span></label><div class=\"sk-toggleable__content fitted\"><pre>XGBClassifier(base_score=None, booster=None, callbacks=None,\n",
       "              colsample_bylevel=None, colsample_bynode=None,\n",
       "              colsample_bytree=None, device=&#x27;cuda&#x27;, early_stopping_rounds=None,\n",
       "              enable_categorical=False, eval_metric=None, feature_types=None,\n",
       "              gamma=None, grow_policy=None, importance_type=None,\n",
       "              interaction_constraints=None, learning_rate=None, max_bin=None,\n",
       "              max_cat_threshold=None, max_cat_to_onehot=None,\n",
       "              max_delta_step=None, max_depth=None, max_leaves=None,\n",
       "              min_child_weight=None, missing=nan, monotone_constraints=None,\n",
       "              multi_strategy=None, n_estimators=None, n_jobs=None, num_class=13,\n",
       "              num_parallel_tree=None, ...)</pre></div> </div></div></div></div>"
      ],
      "text/plain": [
       "XGBClassifier(base_score=None, booster=None, callbacks=None,\n",
       "              colsample_bylevel=None, colsample_bynode=None,\n",
       "              colsample_bytree=None, device='cuda', early_stopping_rounds=None,\n",
       "              enable_categorical=False, eval_metric=None, feature_types=None,\n",
       "              gamma=None, grow_policy=None, importance_type=None,\n",
       "              interaction_constraints=None, learning_rate=None, max_bin=None,\n",
       "              max_cat_threshold=None, max_cat_to_onehot=None,\n",
       "              max_delta_step=None, max_depth=None, max_leaves=None,\n",
       "              min_child_weight=None, missing=nan, monotone_constraints=None,\n",
       "              multi_strategy=None, n_estimators=None, n_jobs=None, num_class=13,\n",
       "              num_parallel_tree=None, ...)"
      ]
     },
     "execution_count": 10,
     "metadata": {},
     "output_type": "execute_result"
    }
   ],
   "source": [
    "# Convert dataframes to Cupy arrays\n",
    "X_train_gpu = cp.array(X_train.values)\n",
    "y_train_gpu = cp.array(y_train.values)\n",
    "\n",
    "# Initialize XGBoost regressor\n",
    "clf = XGBClassifier(objective='multi:softmax', \n",
    "                             num_class=13, \n",
    "                             random_state=42, \n",
    "                             device = \"cuda\")\n",
    "\n",
    "# Fit the model\n",
    "clf.fit(X_train_gpu, y_train_gpu)"
   ]
  },
  {
   "cell_type": "code",
   "execution_count": 11,
   "id": "614cb227-e300-41b4-a0a8-a040941578bc",
   "metadata": {},
   "outputs": [
    {
     "data": {
      "text/plain": [
       "array([9, 2, 8, ..., 4, 1, 5])"
      ]
     },
     "execution_count": 11,
     "metadata": {},
     "output_type": "execute_result"
    }
   ],
   "source": [
    "# Now you can use predict on GPU data\n",
    "clf.predict(X_train_gpu)"
   ]
  },
  {
   "cell_type": "code",
   "execution_count": null,
   "id": "bdbb5812-127e-490c-8e81-e4fb0a60ffe0",
   "metadata": {},
   "outputs": [],
   "source": []
  },
  {
   "cell_type": "code",
   "execution_count": 13,
   "id": "8ccd28fe-faf3-418d-b8c4-70e19a0d2909",
   "metadata": {},
   "outputs": [],
   "source": [
    "import pandas as pd\n",
    "import mlflow\n",
    "import mlflow.sklearn\n",
    "from sklearn.metrics import accuracy_score\n",
    "import os"
   ]
  },
  {
   "cell_type": "code",
   "execution_count": 14,
   "id": "037a2a36-9429-4c4f-ab5d-e52b98807527",
   "metadata": {},
   "outputs": [],
   "source": [
    "mlflow_directory = \"mlruns\"  # Relative path to the mlruns folder\n",
    "latest_run_id = max(os.listdir(mlflow_directory))"
   ]
  },
  {
   "cell_type": "code",
   "execution_count": 17,
   "id": "cd1fa64c-19bb-4a17-af65-d352a8aeefd9",
   "metadata": {},
   "outputs": [],
   "source": [
    "# Load the MLflow model for the latest run\n",
    "model_path = f\"mlruns/{latest_run_id}/xgboost_model\"\n",
    "model_path = \"mlruns/0/03506decd126452d9ec8b6280ce463f6/artifacts/xgboost_model\""
   ]
  },
  {
   "cell_type": "code",
   "execution_count": 18,
   "id": "007ed88c-ed37-406a-b50f-52c8b290cf70",
   "metadata": {},
   "outputs": [],
   "source": [
    "loaded_model = mlflow.sklearn.load_model(model_path)"
   ]
  },
  {
   "cell_type": "code",
   "execution_count": 20,
   "id": "a038e3a1-64e8-42be-aa41-623dd0c6db2e",
   "metadata": {},
   "outputs": [
    {
     "data": {
      "text/plain": [
       "'meta.yaml'"
      ]
     },
     "execution_count": 20,
     "metadata": {},
     "output_type": "execute_result"
    }
   ],
   "source": [
    "max(os.listdir(\"mlruns/0\"))"
   ]
  },
  {
   "cell_type": "code",
   "execution_count": 28,
   "id": "c700abba-affb-4247-81b3-5d52fc8145d3",
   "metadata": {},
   "outputs": [],
   "source": [
    "mlruns_path = \"mlruns/0\"\n",
    "\n",
    "# Get a list of directories in mlruns/0\n",
    "run_directories = [d for d in os.listdir(mlruns_path) if os.path.isdir(os.path.join(mlruns_path, d))]\n",
    "\n",
    "# Sort directories based on creation time (modification time)\n",
    "latest_run_directory_id = max(run_directories, key=lambda d: os.path.getmtime(os.path.join(mlruns_path, d)))"
   ]
  },
  {
   "cell_type": "code",
   "execution_count": 29,
   "id": "ce3f1c54-4370-46c6-84ed-d99fda2a543d",
   "metadata": {},
   "outputs": [
    {
     "data": {
      "text/plain": [
       "'03506decd126452d9ec8b6280ce463f6'"
      ]
     },
     "execution_count": 29,
     "metadata": {},
     "output_type": "execute_result"
    }
   ],
   "source": [
    "latest_run_directory_id"
   ]
  },
  {
   "cell_type": "code",
   "execution_count": 37,
   "id": "11ccee8b-cf27-43d2-8998-ca6748fec7a7",
   "metadata": {},
   "outputs": [],
   "source": [
    "model_path = f\"mlruns/0/{latest_run_directory_id}/artifacts/xgboost_model/\""
   ]
  },
  {
   "cell_type": "code",
   "execution_count": 39,
   "id": "b8e1eb20-9faf-45d0-afe0-b3f4fe31ee2e",
   "metadata": {},
   "outputs": [],
   "source": [
    "loaded_model = mlflow.sklearn.load_model(model_path)"
   ]
  },
  {
   "cell_type": "code",
   "execution_count": 51,
   "id": "997e5b44-d04e-4007-b057-37f84a7f2f8d",
   "metadata": {},
   "outputs": [
    {
     "data": {
      "text/plain": [
       "array([[0., 0., 0., ..., 1., 0., 1.]])"
      ]
     },
     "execution_count": 51,
     "metadata": {},
     "output_type": "execute_result"
    }
   ],
   "source": [
    "sample_input = X_test.iloc[2].to_numpy().reshape(1, -1)\n",
    "sample_input"
   ]
  },
  {
   "cell_type": "code",
   "execution_count": 52,
   "id": "35632f9a-a08a-4a80-946c-fdf9cc136438",
   "metadata": {},
   "outputs": [
    {
     "data": {
      "text/plain": [
       "array([2])"
      ]
     },
     "execution_count": 52,
     "metadata": {},
     "output_type": "execute_result"
    }
   ],
   "source": [
    "loaded_model.predict(sample_input)"
   ]
  },
  {
   "cell_type": "code",
   "execution_count": null,
   "id": "319b2c87-380a-4988-9419-27a50c62eead",
   "metadata": {},
   "outputs": [],
   "source": []
  },
  {
   "cell_type": "code",
   "execution_count": null,
   "id": "d4a87a02-4151-46db-8ec5-0c8d6a7642a6",
   "metadata": {},
   "outputs": [],
   "source": []
  },
  {
   "cell_type": "code",
   "execution_count": 1,
   "id": "b0d881b6-8a8a-469d-9edb-5c66b3dc0d84",
   "metadata": {},
   "outputs": [],
   "source": [
    "import sys\n",
    "import os"
   ]
  },
  {
   "cell_type": "code",
   "execution_count": 14,
   "id": "bf841825-bb7e-4136-9291-465cd13e47db",
   "metadata": {},
   "outputs": [],
   "source": [
    "sys.path.append(r'C:\\Users\\RaviB\\GitHub\\FlavorQuasar\\calorie_predicter')"
   ]
  },
  {
   "cell_type": "code",
   "execution_count": 2,
   "id": "36e4ecd3-e956-4033-9b07-1b32227a3740",
   "metadata": {},
   "outputs": [
    {
     "data": {
      "text/plain": [
       "'C:\\\\Users\\\\RaviB\\\\GitHub\\\\FlavorQuasar'"
      ]
     },
     "execution_count": 2,
     "metadata": {},
     "output_type": "execute_result"
    }
   ],
   "source": [
    "os.path.abspath(os.path.join(os.getcwd(), \"..\"))"
   ]
  },
  {
   "cell_type": "code",
   "execution_count": 3,
   "id": "d4484021-af1a-4748-8f27-06ae520dd7df",
   "metadata": {},
   "outputs": [],
   "source": [
    "sys.path.append(os.path.abspath(os.path.join(os.getcwd(), \"..\")))"
   ]
  },
  {
   "cell_type": "code",
   "execution_count": 4,
   "id": "be16a988-e309-478d-8221-47d668452887",
   "metadata": {},
   "outputs": [],
   "source": [
    "from calorie_predicter.utils import (\n",
    "    round_up_to_nearest,\n",
    "    filter_calories,\n",
    "    sorted_binned_encoding,\n",
    "    collapsing_to_priority,\n",
    "    priority_list_dish_type,\n",
    "    priority_list_meal_type,\n",
    "    one_hot_encode,\n",
    "    pre_process_text\n",
    ")"
   ]
  },
  {
   "cell_type": "code",
   "execution_count": 6,
   "id": "39b2c2d1-87d7-448c-9472-0ca5afaf7816",
   "metadata": {},
   "outputs": [],
   "source": [
    "from nltk.corpus import stopwords"
   ]
  },
  {
   "cell_type": "code",
   "execution_count": 9,
   "id": "aa58904c-f171-49b8-ae01-447d7c504d05",
   "metadata": {},
   "outputs": [],
   "source": [
    "english_stop_words = stopwords.words('english')"
   ]
  },
  {
   "cell_type": "code",
   "execution_count": 10,
   "id": "85294a09-ae04-49db-9bed-412ff6ca92ad",
   "metadata": {},
   "outputs": [
    {
     "name": "stderr",
     "output_type": "stream",
     "text": [
      "[nltk_data] Downloading package stopwords to\n",
      "[nltk_data]     C:\\Users\\RaviB\\AppData\\Roaming\\nltk_data...\n",
      "[nltk_data]   Package stopwords is already up-to-date!\n"
     ]
    },
    {
     "data": {
      "text/plain": [
       "True"
      ]
     },
     "execution_count": 10,
     "metadata": {},
     "output_type": "execute_result"
    }
   ],
   "source": [
    "nltk.download('stopwords')"
   ]
  },
  {
   "cell_type": "code",
   "execution_count": null,
   "id": "c21be3b1-38e5-4bff-8d9c-dba39f121296",
   "metadata": {},
   "outputs": [],
   "source": []
  }
 ],
 "metadata": {
  "kernelspec": {
   "display_name": "Python 3 (ipykernel)",
   "language": "python",
   "name": "python3"
  },
  "language_info": {
   "codemirror_mode": {
    "name": "ipython",
    "version": 3
   },
   "file_extension": ".py",
   "mimetype": "text/x-python",
   "name": "python",
   "nbconvert_exporter": "python",
   "pygments_lexer": "ipython3",
   "version": "3.11.7"
  }
 },
 "nbformat": 4,
 "nbformat_minor": 5
}
