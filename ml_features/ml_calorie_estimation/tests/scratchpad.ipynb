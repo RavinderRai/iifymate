{
 "cells": [
  {
   "cell_type": "code",
   "execution_count": 1,
   "metadata": {},
   "outputs": [],
   "source": [
    "import pandas as pd"
   ]
  },
  {
   "cell_type": "code",
   "execution_count": 3,
   "metadata": {},
   "outputs": [],
   "source": [
    "df = pd.read_csv('data/test_raw_data.csv')"
   ]
  },
  {
   "cell_type": "code",
   "execution_count": 4,
   "metadata": {},
   "outputs": [
    {
     "data": {
      "text/html": [
       "<div>\n",
       "<style scoped>\n",
       "    .dataframe tbody tr th:only-of-type {\n",
       "        vertical-align: middle;\n",
       "    }\n",
       "\n",
       "    .dataframe tbody tr th {\n",
       "        vertical-align: top;\n",
       "    }\n",
       "\n",
       "    .dataframe thead th {\n",
       "        text-align: right;\n",
       "    }\n",
       "</style>\n",
       "<table border=\"1\" class=\"dataframe\">\n",
       "  <thead>\n",
       "    <tr style=\"text-align: right;\">\n",
       "      <th></th>\n",
       "      <th>id</th>\n",
       "      <th>uri</th>\n",
       "      <th>label</th>\n",
       "      <th>url</th>\n",
       "      <th>yield_</th>\n",
       "      <th>dietLabels</th>\n",
       "      <th>healthLabels</th>\n",
       "      <th>cautions</th>\n",
       "      <th>ingredientLines</th>\n",
       "      <th>ingredients</th>\n",
       "      <th>calories</th>\n",
       "      <th>totalWeight</th>\n",
       "      <th>totalTime</th>\n",
       "      <th>cuisineType</th>\n",
       "      <th>mealType</th>\n",
       "      <th>dishType</th>\n",
       "      <th>totalNutrients</th>\n",
       "      <th>totalDaily</th>\n",
       "      <th>digest</th>\n",
       "      <th>tags</th>\n",
       "    </tr>\n",
       "  </thead>\n",
       "  <tbody>\n",
       "    <tr>\n",
       "      <th>0</th>\n",
       "      <td>365</td>\n",
       "      <td>http://www.edamam.com/ontologies/edamam.owl#re...</td>\n",
       "      <td>Chicken and Rice Soup</td>\n",
       "      <td>https://stlcooks.com/chicken-and-rice-soup/</td>\n",
       "      <td>12</td>\n",
       "      <td>[\"Low-Carb\"]</td>\n",
       "      <td>[\"Sugar-Conscious\", \"Mediterranean\", \"Dairy-Fr...</td>\n",
       "      <td>[]</td>\n",
       "      <td>[\"3 lb. Chicken\", \"1 bay leaf\", \"1 med Onion, ...</td>\n",
       "      <td>[{\"text\": \"3 lb. Chicken\", \"quantity\": 3.0, \"m...</td>\n",
       "      <td>3484.079787</td>\n",
       "      <td>2113.656854</td>\n",
       "      <td>0</td>\n",
       "      <td>[\"american\"]</td>\n",
       "      <td>[\"lunch/dinner\"]</td>\n",
       "      <td>[\"soup\"]</td>\n",
       "      <td>{\"ENERC_KCAL\": {\"label\": \"Energy\", \"quantity\":...</td>\n",
       "      <td>{\"ENERC_KCAL\": {\"label\": \"Energy\", \"quantity\":...</td>\n",
       "      <td>[{\"label\": \"Fat\", \"tag\": \"FAT\", \"schemaOrgTag\"...</td>\n",
       "      <td>[]</td>\n",
       "    </tr>\n",
       "    <tr>\n",
       "      <th>1</th>\n",
       "      <td>585</td>\n",
       "      <td>http://www.edamam.com/ontologies/edamam.owl#re...</td>\n",
       "      <td>Greek Yogurt Bowl With Dulce De Leche recipes</td>\n",
       "      <td>http://www.healingtomato.com/2016/09/29/greek-...</td>\n",
       "      <td>1</td>\n",
       "      <td>[]</td>\n",
       "      <td>[\"Kidney-Friendly\", \"Vegetarian\", \"Pescatarian...</td>\n",
       "      <td>[\"Gluten\", \"Wheat\", \"Sulfites\"]</td>\n",
       "      <td>[\"1 cup Greek yogurt\", \"3 fresh strawberries i...</td>\n",
       "      <td>[{\"text\": \"1 cup Greek yogurt\", \"quantity\": 1....</td>\n",
       "      <td>379.745583</td>\n",
       "      <td>354.925000</td>\n",
       "      <td>5</td>\n",
       "      <td>[\"mediterranean\"]</td>\n",
       "      <td>[\"breakfast\"]</td>\n",
       "      <td>[\"desserts\"]</td>\n",
       "      <td>{\"ENERC_KCAL\": {\"label\": \"Energy\", \"quantity\":...</td>\n",
       "      <td>{\"ENERC_KCAL\": {\"label\": \"Energy\", \"quantity\":...</td>\n",
       "      <td>[{\"label\": \"Fat\", \"tag\": \"FAT\", \"schemaOrgTag\"...</td>\n",
       "      <td>[\"greek\", \"lunch\", \"bowl\", \"yogurt\", \"greek yo...</td>\n",
       "    </tr>\n",
       "    <tr>\n",
       "      <th>2</th>\n",
       "      <td>285</td>\n",
       "      <td>http://www.edamam.com/ontologies/edamam.owl#re...</td>\n",
       "      <td>Peach and Toasted Almond Greek Yogurt</td>\n",
       "      <td>http://www.delish.com/cooking/recipe-ideas/rec...</td>\n",
       "      <td>1</td>\n",
       "      <td>[\"Low-Sodium\"]</td>\n",
       "      <td>[\"Vegetarian\", \"Pescatarian\", \"Gluten-Free\", \"...</td>\n",
       "      <td>[\"Sulfites\"]</td>\n",
       "      <td>[\"2 tbsp. sliced almonds\", \"1 peach\", \"6 oz. G...</td>\n",
       "      <td>[{\"text\": \"2 tbsp. sliced almonds\", \"quantity\"...</td>\n",
       "      <td>345.653261</td>\n",
       "      <td>350.201305</td>\n",
       "      <td>0</td>\n",
       "      <td>[\"mediterranean\"]</td>\n",
       "      <td>[\"breakfast\"]</td>\n",
       "      <td>[\"starter\"]</td>\n",
       "      <td>{\"ENERC_KCAL\": {\"label\": \"Energy\", \"quantity\":...</td>\n",
       "      <td>{\"ENERC_KCAL\": {\"label\": \"Energy\", \"quantity\":...</td>\n",
       "      <td>[{\"label\": \"Fat\", \"tag\": \"FAT\", \"schemaOrgTag\"...</td>\n",
       "      <td>[]</td>\n",
       "    </tr>\n",
       "    <tr>\n",
       "      <th>3</th>\n",
       "      <td>120</td>\n",
       "      <td>http://www.edamam.com/ontologies/edamam.owl#re...</td>\n",
       "      <td>Raspberry Vinaigrette Dressing</td>\n",
       "      <td>http://allrecipes.com/Recipe/Raspberry-Vinaigr...</td>\n",
       "      <td>12</td>\n",
       "      <td>[\"Low-Sodium\"]</td>\n",
       "      <td>[\"Low Potassium\", \"Kidney-Friendly\", \"Vegan\", ...</td>\n",
       "      <td>[]</td>\n",
       "      <td>[\"1/2 cup raspberry wine vinegar\", \"1/2 cup ve...</td>\n",
       "      <td>[{\"text\": \"1/2 cup raspberry wine vinegar\", \"q...</td>\n",
       "      <td>1407.890750</td>\n",
       "      <td>342.325000</td>\n",
       "      <td>0</td>\n",
       "      <td>[\"french\"]</td>\n",
       "      <td>[\"lunch/dinner\"]</td>\n",
       "      <td>[\"condiments and sauces\"]</td>\n",
       "      <td>{\"ENERC_KCAL\": {\"label\": \"Energy\", \"quantity\":...</td>\n",
       "      <td>{\"ENERC_KCAL\": {\"label\": \"Energy\", \"quantity\":...</td>\n",
       "      <td>[{\"label\": \"Fat\", \"tag\": \"FAT\", \"schemaOrgTag\"...</td>\n",
       "      <td>[]</td>\n",
       "    </tr>\n",
       "    <tr>\n",
       "      <th>4</th>\n",
       "      <td>405</td>\n",
       "      <td>http://www.edamam.com/ontologies/edamam.owl#re...</td>\n",
       "      <td>Cod Cakes</td>\n",
       "      <td>https://www.foodnetwork.com/recipes/cod-cakes-...</td>\n",
       "      <td>38</td>\n",
       "      <td>[\"Low-Carb\"]</td>\n",
       "      <td>[\"Sugar-Conscious\", \"Egg-Free\", \"Peanut-Free\",...</td>\n",
       "      <td>[\"Sulfites\"]</td>\n",
       "      <td>[\"Salt\", \"Bay leaves\", \"Lemon wedges\", \"Black ...</td>\n",
       "      <td>[{\"text\": \"Salt\", \"quantity\": 0.0, \"measure\": ...</td>\n",
       "      <td>13989.472668</td>\n",
       "      <td>6765.564344</td>\n",
       "      <td>200</td>\n",
       "      <td>[\"mediterranean\"]</td>\n",
       "      <td>[\"lunch/dinner\"]</td>\n",
       "      <td>[\"desserts\"]</td>\n",
       "      <td>{\"ENERC_KCAL\": {\"label\": \"Energy\", \"quantity\":...</td>\n",
       "      <td>{\"ENERC_KCAL\": {\"label\": \"Energy\", \"quantity\":...</td>\n",
       "      <td>[{\"label\": \"Fat\", \"tag\": \"FAT\", \"schemaOrgTag\"...</td>\n",
       "      <td>[]</td>\n",
       "    </tr>\n",
       "  </tbody>\n",
       "</table>\n",
       "</div>"
      ],
      "text/plain": [
       "    id                                                uri  \\\n",
       "0  365  http://www.edamam.com/ontologies/edamam.owl#re...   \n",
       "1  585  http://www.edamam.com/ontologies/edamam.owl#re...   \n",
       "2  285  http://www.edamam.com/ontologies/edamam.owl#re...   \n",
       "3  120  http://www.edamam.com/ontologies/edamam.owl#re...   \n",
       "4  405  http://www.edamam.com/ontologies/edamam.owl#re...   \n",
       "\n",
       "                                           label  \\\n",
       "0                          Chicken and Rice Soup   \n",
       "1  Greek Yogurt Bowl With Dulce De Leche recipes   \n",
       "2          Peach and Toasted Almond Greek Yogurt   \n",
       "3                 Raspberry Vinaigrette Dressing   \n",
       "4                                      Cod Cakes   \n",
       "\n",
       "                                                 url  yield_      dietLabels  \\\n",
       "0        https://stlcooks.com/chicken-and-rice-soup/      12    [\"Low-Carb\"]   \n",
       "1  http://www.healingtomato.com/2016/09/29/greek-...       1              []   \n",
       "2  http://www.delish.com/cooking/recipe-ideas/rec...       1  [\"Low-Sodium\"]   \n",
       "3  http://allrecipes.com/Recipe/Raspberry-Vinaigr...      12  [\"Low-Sodium\"]   \n",
       "4  https://www.foodnetwork.com/recipes/cod-cakes-...      38    [\"Low-Carb\"]   \n",
       "\n",
       "                                        healthLabels  \\\n",
       "0  [\"Sugar-Conscious\", \"Mediterranean\", \"Dairy-Fr...   \n",
       "1  [\"Kidney-Friendly\", \"Vegetarian\", \"Pescatarian...   \n",
       "2  [\"Vegetarian\", \"Pescatarian\", \"Gluten-Free\", \"...   \n",
       "3  [\"Low Potassium\", \"Kidney-Friendly\", \"Vegan\", ...   \n",
       "4  [\"Sugar-Conscious\", \"Egg-Free\", \"Peanut-Free\",...   \n",
       "\n",
       "                          cautions  \\\n",
       "0                               []   \n",
       "1  [\"Gluten\", \"Wheat\", \"Sulfites\"]   \n",
       "2                     [\"Sulfites\"]   \n",
       "3                               []   \n",
       "4                     [\"Sulfites\"]   \n",
       "\n",
       "                                     ingredientLines  \\\n",
       "0  [\"3 lb. Chicken\", \"1 bay leaf\", \"1 med Onion, ...   \n",
       "1  [\"1 cup Greek yogurt\", \"3 fresh strawberries i...   \n",
       "2  [\"2 tbsp. sliced almonds\", \"1 peach\", \"6 oz. G...   \n",
       "3  [\"1/2 cup raspberry wine vinegar\", \"1/2 cup ve...   \n",
       "4  [\"Salt\", \"Bay leaves\", \"Lemon wedges\", \"Black ...   \n",
       "\n",
       "                                         ingredients      calories  \\\n",
       "0  [{\"text\": \"3 lb. Chicken\", \"quantity\": 3.0, \"m...   3484.079787   \n",
       "1  [{\"text\": \"1 cup Greek yogurt\", \"quantity\": 1....    379.745583   \n",
       "2  [{\"text\": \"2 tbsp. sliced almonds\", \"quantity\"...    345.653261   \n",
       "3  [{\"text\": \"1/2 cup raspberry wine vinegar\", \"q...   1407.890750   \n",
       "4  [{\"text\": \"Salt\", \"quantity\": 0.0, \"measure\": ...  13989.472668   \n",
       "\n",
       "   totalWeight  totalTime        cuisineType          mealType  \\\n",
       "0  2113.656854          0       [\"american\"]  [\"lunch/dinner\"]   \n",
       "1   354.925000          5  [\"mediterranean\"]     [\"breakfast\"]   \n",
       "2   350.201305          0  [\"mediterranean\"]     [\"breakfast\"]   \n",
       "3   342.325000          0         [\"french\"]  [\"lunch/dinner\"]   \n",
       "4  6765.564344        200  [\"mediterranean\"]  [\"lunch/dinner\"]   \n",
       "\n",
       "                    dishType  \\\n",
       "0                   [\"soup\"]   \n",
       "1               [\"desserts\"]   \n",
       "2                [\"starter\"]   \n",
       "3  [\"condiments and sauces\"]   \n",
       "4               [\"desserts\"]   \n",
       "\n",
       "                                      totalNutrients  \\\n",
       "0  {\"ENERC_KCAL\": {\"label\": \"Energy\", \"quantity\":...   \n",
       "1  {\"ENERC_KCAL\": {\"label\": \"Energy\", \"quantity\":...   \n",
       "2  {\"ENERC_KCAL\": {\"label\": \"Energy\", \"quantity\":...   \n",
       "3  {\"ENERC_KCAL\": {\"label\": \"Energy\", \"quantity\":...   \n",
       "4  {\"ENERC_KCAL\": {\"label\": \"Energy\", \"quantity\":...   \n",
       "\n",
       "                                          totalDaily  \\\n",
       "0  {\"ENERC_KCAL\": {\"label\": \"Energy\", \"quantity\":...   \n",
       "1  {\"ENERC_KCAL\": {\"label\": \"Energy\", \"quantity\":...   \n",
       "2  {\"ENERC_KCAL\": {\"label\": \"Energy\", \"quantity\":...   \n",
       "3  {\"ENERC_KCAL\": {\"label\": \"Energy\", \"quantity\":...   \n",
       "4  {\"ENERC_KCAL\": {\"label\": \"Energy\", \"quantity\":...   \n",
       "\n",
       "                                              digest  \\\n",
       "0  [{\"label\": \"Fat\", \"tag\": \"FAT\", \"schemaOrgTag\"...   \n",
       "1  [{\"label\": \"Fat\", \"tag\": \"FAT\", \"schemaOrgTag\"...   \n",
       "2  [{\"label\": \"Fat\", \"tag\": \"FAT\", \"schemaOrgTag\"...   \n",
       "3  [{\"label\": \"Fat\", \"tag\": \"FAT\", \"schemaOrgTag\"...   \n",
       "4  [{\"label\": \"Fat\", \"tag\": \"FAT\", \"schemaOrgTag\"...   \n",
       "\n",
       "                                                tags  \n",
       "0                                                 []  \n",
       "1  [\"greek\", \"lunch\", \"bowl\", \"yogurt\", \"greek yo...  \n",
       "2                                                 []  \n",
       "3                                                 []  \n",
       "4                                                 []  "
      ]
     },
     "execution_count": 4,
     "metadata": {},
     "output_type": "execute_result"
    }
   ],
   "source": [
    "df.head()"
   ]
  },
  {
   "cell_type": "code",
   "execution_count": 6,
   "metadata": {},
   "outputs": [
    {
     "data": {
      "text/plain": [
       "'[{\"text\": \"3 lb. Chicken\", \"quantity\": 3.0, \"measure\": \"pound\", \"food\": \"Chicken\", \"weight\": 1360.77711, \"foodCategory\": \"Poultry\", \"foodId\": \"food_bmyxrshbfao9s1amjrvhoauob6mo\", \"image\": \"https://www.edamam.com/food-img/d33/d338229d774a743f7858f6764e095878.jpg\"}, {\"text\": \"1 bay leaf\", \"quantity\": 1.0, \"measure\": \"<unit>\", \"food\": \"bay leaf\", \"weight\": 0.6, \"foodCategory\": \"Condiments and sauces\", \"foodId\": \"food_asx39x4ayja4jab6ivj6zayvkblo\", \"image\": \"https://www.edamam.com/food-img/0f9/0f9f5f95df173e9ffaaff2977bef88f3.jpg\"}, {\"text\": \"1 med Onion, quartered\", \"quantity\": 1.0, \"measure\": \"<unit>\", \"food\": \"Onion\", \"weight\": 125.0, \"foodCategory\": \"vegetables\", \"foodId\": \"food_bmrvi4ob4binw9a5m7l07amlfcoy\", \"image\": \"https://www.edamam.com/food-img/205/205e6bf2399b85d34741892ef91cc603.jpg\"}, {\"text\": \"1 whole clove\", \"quantity\": 1.0, \"measure\": \"<unit>\", \"food\": \"clove\", \"weight\": 0.15, \"foodCategory\": \"Condiments and sauces\", \"foodId\": \"food_abb00nxbw761ggavcuto7b3mw1s0\", \"image\": \"https://www.edamam.com/food-img/8bc/8bc63f9742815a245d37e5f346674ca4.jpg\"}, {\"text\": \"2 tomatoes, quartered\", \"quantity\": 2.0, \"measure\": \"<unit>\", \"food\": \"tomatoes\", \"weight\": 246.0, \"foodCategory\": \"vegetables\", \"foodId\": \"food_a6k79rrahp8fe2b26zussa3wtkqh\", \"image\": \"https://www.edamam.com/food-img/23e/23e727a14f1035bdc2733bb0477efbd2.jpg\"}, {\"text\": \"1 carrot, cut into 1\\\\u201c pieces\", \"quantity\": 1.0, \"measure\": \"<unit>\", \"food\": \"carrot\", \"weight\": 61.0, \"foodCategory\": \"vegetables\", \"foodId\": \"food_ai215e5b85pdh5ajd4aafa3w2zm8\", \"image\": \"https://www.edamam.com/food-img/121/121e33fce0bb9546ed7d060b6c114e29.jpg\"}, {\"text\": \"1/4 cup Chopped celery leaves\", \"quantity\": 0.25, \"measure\": \"cup\", \"food\": \"celery leaves\", \"weight\": 15.0, \"foodCategory\": \"vegetables\", \"foodId\": \"food_a1go6s4bmfxljka5h2k5ianfm1em\", \"image\": \"https://www.edamam.com/food-img/46a/46a132e96626d7989b4d6ed8c91f4da0.jpg\"}, {\"text\": \"1/2 cup Uncooked white rice\", \"quantity\": 0.5, \"measure\": \"cup\", \"food\": \"white rice\", \"weight\": 97.5, \"foodCategory\": \"grains\", \"foodId\": \"food_bpumdjzb5rtqaeabb0kbgbcgr4t9\", \"image\": \"https://www.edamam.com/food-img/0fc/0fc9fa8a3e0276198d75b2e259068f8a.jpg\"}, {\"text\": \"salt & freshly ground black pepper\", \"quantity\": 0.0, \"measure\": null, \"food\": \"salt\", \"weight\": 12.62416266, \"foodCategory\": \"Condiments and sauces\", \"foodId\": \"food_btxz81db72hwbra2pncvebzzzum9\", \"image\": \"https://www.edamam.com/food-img/694/6943ea510918c6025795e8dc6e6eaaeb.jpg\"}, {\"text\": \"3 carrots, thinly sliced on the diagonal\", \"quantity\": 3.0, \"measure\": \"<unit>\", \"food\": \"carrots\", \"weight\": 183.0, \"foodCategory\": \"vegetables\", \"foodId\": \"food_ai215e5b85pdh5ajd4aafa3w2zm8\", \"image\": \"https://www.edamam.com/food-img/121/121e33fce0bb9546ed7d060b6c114e29.jpg\"}, {\"text\": \"1/4 cup Finely chopped flat-leaf parsley\", \"quantity\": 0.25, \"measure\": \"cup\", \"food\": \"parsley\", \"weight\": 15.0, \"foodCategory\": \"vegetables\", \"foodId\": \"food_b244pqdazw24zobr5vqu2bf0uid8\", \"image\": \"https://www.edamam.com/food-img/46a/46a132e96626d7989b4d6ed8c91f4da0.jpg\"}]'"
      ]
     },
     "execution_count": 6,
     "metadata": {},
     "output_type": "execute_result"
    }
   ],
   "source": [
    "df['ingredients'][0]"
   ]
  },
  {
   "cell_type": "code",
   "execution_count": 21,
   "metadata": {},
   "outputs": [],
   "source": [
    "import ast\n",
    "\n",
    "def clean_ingredients(df: pd.DataFrame) -> pd.DataFrame:\n",
    "    \"\"\"Clean the ingredients column.\"\"\"\n",
    "    def parse_ingredients(ingredients):\n",
    "        if isinstance(ingredients, str):\n",
    "            ingredients = ast.literal_eval(ingredients)\n",
    "        return [{'text': ing['text'], \n",
    "                'quantity': float(ing['quantity']) if 'quantity' in ing else 0.0,\n",
    "                'measure': ing['measure'] if 'measure' in ing else 'unit'} \n",
    "                for ing in ingredients]\n",
    "    \n",
    "    df['ingredients'] = df['ingredients'].apply(parse_ingredients)\n",
    "    return df"
   ]
  },
  {
   "cell_type": "code",
   "execution_count": 25,
   "metadata": {},
   "outputs": [
    {
     "data": {
      "text/plain": [
       "list"
      ]
     },
     "execution_count": 25,
     "metadata": {},
     "output_type": "execute_result"
    }
   ],
   "source": [
    "type(clean_ingredients(df)['ingredients'][0])"
   ]
  },
  {
   "cell_type": "code",
   "execution_count": 17,
   "metadata": {},
   "outputs": [
    {
     "data": {
      "text/plain": [
       "'[{\"text\": \"3 lb. Chicken\", \"quantity\": 3.0, \"measure\": \"pound\", \"food\": \"Chicken\", \"weight\": 1360.77711, \"foodCategory\": \"Poultry\", \"foodId\": \"food_bmyxrshbfao9s1amjrvhoauob6mo\", \"image\": \"https://www.edamam.com/food-img/d33/d338229d774a743f7858f6764e095878.jpg\"}, {\"text\": \"1 bay leaf\", \"quantity\": 1.0, \"measure\": \"<unit>\", \"food\": \"bay leaf\", \"weight\": 0.6, \"foodCategory\": \"Condiments and sauces\", \"foodId\": \"food_asx39x4ayja4jab6ivj6zayvkblo\", \"image\": \"https://www.edamam.com/food-img/0f9/0f9f5f95df173e9ffaaff2977bef88f3.jpg\"}, {\"text\": \"1 med Onion, quartered\", \"quantity\": 1.0, \"measure\": \"<unit>\", \"food\": \"Onion\", \"weight\": 125.0, \"foodCategory\": \"vegetables\", \"foodId\": \"food_bmrvi4ob4binw9a5m7l07amlfcoy\", \"image\": \"https://www.edamam.com/food-img/205/205e6bf2399b85d34741892ef91cc603.jpg\"}, {\"text\": \"1 whole clove\", \"quantity\": 1.0, \"measure\": \"<unit>\", \"food\": \"clove\", \"weight\": 0.15, \"foodCategory\": \"Condiments and sauces\", \"foodId\": \"food_abb00nxbw761ggavcuto7b3mw1s0\", \"image\": \"https://www.edamam.com/food-img/8bc/8bc63f9742815a245d37e5f346674ca4.jpg\"}, {\"text\": \"2 tomatoes, quartered\", \"quantity\": 2.0, \"measure\": \"<unit>\", \"food\": \"tomatoes\", \"weight\": 246.0, \"foodCategory\": \"vegetables\", \"foodId\": \"food_a6k79rrahp8fe2b26zussa3wtkqh\", \"image\": \"https://www.edamam.com/food-img/23e/23e727a14f1035bdc2733bb0477efbd2.jpg\"}, {\"text\": \"1 carrot, cut into 1\\\\u201c pieces\", \"quantity\": 1.0, \"measure\": \"<unit>\", \"food\": \"carrot\", \"weight\": 61.0, \"foodCategory\": \"vegetables\", \"foodId\": \"food_ai215e5b85pdh5ajd4aafa3w2zm8\", \"image\": \"https://www.edamam.com/food-img/121/121e33fce0bb9546ed7d060b6c114e29.jpg\"}, {\"text\": \"1/4 cup Chopped celery leaves\", \"quantity\": 0.25, \"measure\": \"cup\", \"food\": \"celery leaves\", \"weight\": 15.0, \"foodCategory\": \"vegetables\", \"foodId\": \"food_a1go6s4bmfxljka5h2k5ianfm1em\", \"image\": \"https://www.edamam.com/food-img/46a/46a132e96626d7989b4d6ed8c91f4da0.jpg\"}, {\"text\": \"1/2 cup Uncooked white rice\", \"quantity\": 0.5, \"measure\": \"cup\", \"food\": \"white rice\", \"weight\": 97.5, \"foodCategory\": \"grains\", \"foodId\": \"food_bpumdjzb5rtqaeabb0kbgbcgr4t9\", \"image\": \"https://www.edamam.com/food-img/0fc/0fc9fa8a3e0276198d75b2e259068f8a.jpg\"}, {\"text\": \"salt & freshly ground black pepper\", \"quantity\": 0.0, \"measure\": null, \"food\": \"salt\", \"weight\": 12.62416266, \"foodCategory\": \"Condiments and sauces\", \"foodId\": \"food_btxz81db72hwbra2pncvebzzzum9\", \"image\": \"https://www.edamam.com/food-img/694/6943ea510918c6025795e8dc6e6eaaeb.jpg\"}, {\"text\": \"3 carrots, thinly sliced on the diagonal\", \"quantity\": 3.0, \"measure\": \"<unit>\", \"food\": \"carrots\", \"weight\": 183.0, \"foodCategory\": \"vegetables\", \"foodId\": \"food_ai215e5b85pdh5ajd4aafa3w2zm8\", \"image\": \"https://www.edamam.com/food-img/121/121e33fce0bb9546ed7d060b6c114e29.jpg\"}, {\"text\": \"1/4 cup Finely chopped flat-leaf parsley\", \"quantity\": 0.25, \"measure\": \"cup\", \"food\": \"parsley\", \"weight\": 15.0, \"foodCategory\": \"vegetables\", \"foodId\": \"food_b244pqdazw24zobr5vqu2bf0uid8\", \"image\": \"https://www.edamam.com/food-img/46a/46a132e96626d7989b4d6ed8c91f4da0.jpg\"}]'"
      ]
     },
     "execution_count": 17,
     "metadata": {},
     "output_type": "execute_result"
    }
   ],
   "source": [
    "df['ingredients'][0]"
   ]
  },
  {
   "cell_type": "code",
   "execution_count": 18,
   "metadata": {},
   "outputs": [
    {
     "ename": "ValueError",
     "evalue": "malformed node or string on line 1: <ast.Name object at 0x7fcec16e7550>",
     "output_type": "error",
     "traceback": [
      "\u001b[0;31m---------------------------------------------------------------------------\u001b[0m",
      "\u001b[0;31mValueError\u001b[0m                                Traceback (most recent call last)",
      "Cell \u001b[0;32mIn[18], line 1\u001b[0m\n\u001b[0;32m----> 1\u001b[0m \u001b[43mdf\u001b[49m\u001b[43m[\u001b[49m\u001b[38;5;124;43m'\u001b[39;49m\u001b[38;5;124;43mingredients\u001b[39;49m\u001b[38;5;124;43m'\u001b[39;49m\u001b[43m]\u001b[49m\u001b[38;5;241;43m.\u001b[39;49m\u001b[43mapply\u001b[49m\u001b[43m(\u001b[49m\u001b[43mparse_ingredients\u001b[49m\u001b[43m)\u001b[49m\n",
      "File \u001b[0;32m~/envs/iffymate/lib/python3.12/site-packages/pandas/core/series.py:4904\u001b[0m, in \u001b[0;36mSeries.apply\u001b[0;34m(self, func, convert_dtype, args, by_row, **kwargs)\u001b[0m\n\u001b[1;32m   4769\u001b[0m \u001b[38;5;28;01mdef\u001b[39;00m\u001b[38;5;250m \u001b[39m\u001b[38;5;21mapply\u001b[39m(\n\u001b[1;32m   4770\u001b[0m     \u001b[38;5;28mself\u001b[39m,\n\u001b[1;32m   4771\u001b[0m     func: AggFuncType,\n\u001b[0;32m   (...)\u001b[0m\n\u001b[1;32m   4776\u001b[0m     \u001b[38;5;241m*\u001b[39m\u001b[38;5;241m*\u001b[39mkwargs,\n\u001b[1;32m   4777\u001b[0m ) \u001b[38;5;241m-\u001b[39m\u001b[38;5;241m>\u001b[39m DataFrame \u001b[38;5;241m|\u001b[39m Series:\n\u001b[1;32m   4778\u001b[0m \u001b[38;5;250m    \u001b[39m\u001b[38;5;124;03m\"\"\"\u001b[39;00m\n\u001b[1;32m   4779\u001b[0m \u001b[38;5;124;03m    Invoke function on values of Series.\u001b[39;00m\n\u001b[1;32m   4780\u001b[0m \n\u001b[0;32m   (...)\u001b[0m\n\u001b[1;32m   4895\u001b[0m \u001b[38;5;124;03m    dtype: float64\u001b[39;00m\n\u001b[1;32m   4896\u001b[0m \u001b[38;5;124;03m    \"\"\"\u001b[39;00m\n\u001b[1;32m   4897\u001b[0m     \u001b[38;5;28;01mreturn\u001b[39;00m \u001b[43mSeriesApply\u001b[49m\u001b[43m(\u001b[49m\n\u001b[1;32m   4898\u001b[0m \u001b[43m        \u001b[49m\u001b[38;5;28;43mself\u001b[39;49m\u001b[43m,\u001b[49m\n\u001b[1;32m   4899\u001b[0m \u001b[43m        \u001b[49m\u001b[43mfunc\u001b[49m\u001b[43m,\u001b[49m\n\u001b[1;32m   4900\u001b[0m \u001b[43m        \u001b[49m\u001b[43mconvert_dtype\u001b[49m\u001b[38;5;241;43m=\u001b[39;49m\u001b[43mconvert_dtype\u001b[49m\u001b[43m,\u001b[49m\n\u001b[1;32m   4901\u001b[0m \u001b[43m        \u001b[49m\u001b[43mby_row\u001b[49m\u001b[38;5;241;43m=\u001b[39;49m\u001b[43mby_row\u001b[49m\u001b[43m,\u001b[49m\n\u001b[1;32m   4902\u001b[0m \u001b[43m        \u001b[49m\u001b[43margs\u001b[49m\u001b[38;5;241;43m=\u001b[39;49m\u001b[43margs\u001b[49m\u001b[43m,\u001b[49m\n\u001b[1;32m   4903\u001b[0m \u001b[43m        \u001b[49m\u001b[43mkwargs\u001b[49m\u001b[38;5;241;43m=\u001b[39;49m\u001b[43mkwargs\u001b[49m\u001b[43m,\u001b[49m\n\u001b[0;32m-> 4904\u001b[0m \u001b[43m    \u001b[49m\u001b[43m)\u001b[49m\u001b[38;5;241;43m.\u001b[39;49m\u001b[43mapply\u001b[49m\u001b[43m(\u001b[49m\u001b[43m)\u001b[49m\n",
      "File \u001b[0;32m~/envs/iffymate/lib/python3.12/site-packages/pandas/core/apply.py:1427\u001b[0m, in \u001b[0;36mSeriesApply.apply\u001b[0;34m(self)\u001b[0m\n\u001b[1;32m   1424\u001b[0m     \u001b[38;5;28;01mreturn\u001b[39;00m \u001b[38;5;28mself\u001b[39m\u001b[38;5;241m.\u001b[39mapply_compat()\n\u001b[1;32m   1426\u001b[0m \u001b[38;5;66;03m# self.func is Callable\u001b[39;00m\n\u001b[0;32m-> 1427\u001b[0m \u001b[38;5;28;01mreturn\u001b[39;00m \u001b[38;5;28;43mself\u001b[39;49m\u001b[38;5;241;43m.\u001b[39;49m\u001b[43mapply_standard\u001b[49m\u001b[43m(\u001b[49m\u001b[43m)\u001b[49m\n",
      "File \u001b[0;32m~/envs/iffymate/lib/python3.12/site-packages/pandas/core/apply.py:1507\u001b[0m, in \u001b[0;36mSeriesApply.apply_standard\u001b[0;34m(self)\u001b[0m\n\u001b[1;32m   1501\u001b[0m \u001b[38;5;66;03m# row-wise access\u001b[39;00m\n\u001b[1;32m   1502\u001b[0m \u001b[38;5;66;03m# apply doesn't have a `na_action` keyword and for backward compat reasons\u001b[39;00m\n\u001b[1;32m   1503\u001b[0m \u001b[38;5;66;03m# we need to give `na_action=\"ignore\"` for categorical data.\u001b[39;00m\n\u001b[1;32m   1504\u001b[0m \u001b[38;5;66;03m# TODO: remove the `na_action=\"ignore\"` when that default has been changed in\u001b[39;00m\n\u001b[1;32m   1505\u001b[0m \u001b[38;5;66;03m#  Categorical (GH51645).\u001b[39;00m\n\u001b[1;32m   1506\u001b[0m action \u001b[38;5;241m=\u001b[39m \u001b[38;5;124m\"\u001b[39m\u001b[38;5;124mignore\u001b[39m\u001b[38;5;124m\"\u001b[39m \u001b[38;5;28;01mif\u001b[39;00m \u001b[38;5;28misinstance\u001b[39m(obj\u001b[38;5;241m.\u001b[39mdtype, CategoricalDtype) \u001b[38;5;28;01melse\u001b[39;00m \u001b[38;5;28;01mNone\u001b[39;00m\n\u001b[0;32m-> 1507\u001b[0m mapped \u001b[38;5;241m=\u001b[39m \u001b[43mobj\u001b[49m\u001b[38;5;241;43m.\u001b[39;49m\u001b[43m_map_values\u001b[49m\u001b[43m(\u001b[49m\n\u001b[1;32m   1508\u001b[0m \u001b[43m    \u001b[49m\u001b[43mmapper\u001b[49m\u001b[38;5;241;43m=\u001b[39;49m\u001b[43mcurried\u001b[49m\u001b[43m,\u001b[49m\u001b[43m \u001b[49m\u001b[43mna_action\u001b[49m\u001b[38;5;241;43m=\u001b[39;49m\u001b[43maction\u001b[49m\u001b[43m,\u001b[49m\u001b[43m \u001b[49m\u001b[43mconvert\u001b[49m\u001b[38;5;241;43m=\u001b[39;49m\u001b[38;5;28;43mself\u001b[39;49m\u001b[38;5;241;43m.\u001b[39;49m\u001b[43mconvert_dtype\u001b[49m\n\u001b[1;32m   1509\u001b[0m \u001b[43m\u001b[49m\u001b[43m)\u001b[49m\n\u001b[1;32m   1511\u001b[0m \u001b[38;5;28;01mif\u001b[39;00m \u001b[38;5;28mlen\u001b[39m(mapped) \u001b[38;5;129;01mand\u001b[39;00m \u001b[38;5;28misinstance\u001b[39m(mapped[\u001b[38;5;241m0\u001b[39m], ABCSeries):\n\u001b[1;32m   1512\u001b[0m     \u001b[38;5;66;03m# GH#43986 Need to do list(mapped) in order to get treated as nested\u001b[39;00m\n\u001b[1;32m   1513\u001b[0m     \u001b[38;5;66;03m#  See also GH#25959 regarding EA support\u001b[39;00m\n\u001b[1;32m   1514\u001b[0m     \u001b[38;5;28;01mreturn\u001b[39;00m obj\u001b[38;5;241m.\u001b[39m_constructor_expanddim(\u001b[38;5;28mlist\u001b[39m(mapped), index\u001b[38;5;241m=\u001b[39mobj\u001b[38;5;241m.\u001b[39mindex)\n",
      "File \u001b[0;32m~/envs/iffymate/lib/python3.12/site-packages/pandas/core/base.py:921\u001b[0m, in \u001b[0;36mIndexOpsMixin._map_values\u001b[0;34m(self, mapper, na_action, convert)\u001b[0m\n\u001b[1;32m    918\u001b[0m \u001b[38;5;28;01mif\u001b[39;00m \u001b[38;5;28misinstance\u001b[39m(arr, ExtensionArray):\n\u001b[1;32m    919\u001b[0m     \u001b[38;5;28;01mreturn\u001b[39;00m arr\u001b[38;5;241m.\u001b[39mmap(mapper, na_action\u001b[38;5;241m=\u001b[39mna_action)\n\u001b[0;32m--> 921\u001b[0m \u001b[38;5;28;01mreturn\u001b[39;00m \u001b[43malgorithms\u001b[49m\u001b[38;5;241;43m.\u001b[39;49m\u001b[43mmap_array\u001b[49m\u001b[43m(\u001b[49m\u001b[43marr\u001b[49m\u001b[43m,\u001b[49m\u001b[43m \u001b[49m\u001b[43mmapper\u001b[49m\u001b[43m,\u001b[49m\u001b[43m \u001b[49m\u001b[43mna_action\u001b[49m\u001b[38;5;241;43m=\u001b[39;49m\u001b[43mna_action\u001b[49m\u001b[43m,\u001b[49m\u001b[43m \u001b[49m\u001b[43mconvert\u001b[49m\u001b[38;5;241;43m=\u001b[39;49m\u001b[43mconvert\u001b[49m\u001b[43m)\u001b[49m\n",
      "File \u001b[0;32m~/envs/iffymate/lib/python3.12/site-packages/pandas/core/algorithms.py:1743\u001b[0m, in \u001b[0;36mmap_array\u001b[0;34m(arr, mapper, na_action, convert)\u001b[0m\n\u001b[1;32m   1741\u001b[0m values \u001b[38;5;241m=\u001b[39m arr\u001b[38;5;241m.\u001b[39mastype(\u001b[38;5;28mobject\u001b[39m, copy\u001b[38;5;241m=\u001b[39m\u001b[38;5;28;01mFalse\u001b[39;00m)\n\u001b[1;32m   1742\u001b[0m \u001b[38;5;28;01mif\u001b[39;00m na_action \u001b[38;5;129;01mis\u001b[39;00m \u001b[38;5;28;01mNone\u001b[39;00m:\n\u001b[0;32m-> 1743\u001b[0m     \u001b[38;5;28;01mreturn\u001b[39;00m \u001b[43mlib\u001b[49m\u001b[38;5;241;43m.\u001b[39;49m\u001b[43mmap_infer\u001b[49m\u001b[43m(\u001b[49m\u001b[43mvalues\u001b[49m\u001b[43m,\u001b[49m\u001b[43m \u001b[49m\u001b[43mmapper\u001b[49m\u001b[43m,\u001b[49m\u001b[43m \u001b[49m\u001b[43mconvert\u001b[49m\u001b[38;5;241;43m=\u001b[39;49m\u001b[43mconvert\u001b[49m\u001b[43m)\u001b[49m\n\u001b[1;32m   1744\u001b[0m \u001b[38;5;28;01melse\u001b[39;00m:\n\u001b[1;32m   1745\u001b[0m     \u001b[38;5;28;01mreturn\u001b[39;00m lib\u001b[38;5;241m.\u001b[39mmap_infer_mask(\n\u001b[1;32m   1746\u001b[0m         values, mapper, mask\u001b[38;5;241m=\u001b[39misna(values)\u001b[38;5;241m.\u001b[39mview(np\u001b[38;5;241m.\u001b[39muint8), convert\u001b[38;5;241m=\u001b[39mconvert\n\u001b[1;32m   1747\u001b[0m     )\n",
      "File \u001b[0;32mlib.pyx:2972\u001b[0m, in \u001b[0;36mpandas._libs.lib.map_infer\u001b[0;34m()\u001b[0m\n",
      "Cell \u001b[0;32mIn[13], line 3\u001b[0m, in \u001b[0;36mparse_ingredients\u001b[0;34m(ingredients)\u001b[0m\n\u001b[1;32m      1\u001b[0m \u001b[38;5;28;01mdef\u001b[39;00m\u001b[38;5;250m \u001b[39m\u001b[38;5;21mparse_ingredients\u001b[39m(ingredients):\n\u001b[1;32m      2\u001b[0m     \u001b[38;5;66;03m#if isinstance(ingredients, str):\u001b[39;00m\n\u001b[0;32m----> 3\u001b[0m     ingredients \u001b[38;5;241m=\u001b[39m \u001b[43mast\u001b[49m\u001b[38;5;241;43m.\u001b[39;49m\u001b[43mliteral_eval\u001b[49m\u001b[43m(\u001b[49m\u001b[43mingredients\u001b[49m\u001b[43m)\u001b[49m\n\u001b[1;32m      4\u001b[0m     \u001b[38;5;28;01mreturn\u001b[39;00m [{\u001b[38;5;124m'\u001b[39m\u001b[38;5;124mtext\u001b[39m\u001b[38;5;124m'\u001b[39m: ing[\u001b[38;5;124m'\u001b[39m\u001b[38;5;124mtext\u001b[39m\u001b[38;5;124m'\u001b[39m], \n\u001b[1;32m      5\u001b[0m             \u001b[38;5;124m'\u001b[39m\u001b[38;5;124mquantity\u001b[39m\u001b[38;5;124m'\u001b[39m: \u001b[38;5;28mfloat\u001b[39m(ing[\u001b[38;5;124m'\u001b[39m\u001b[38;5;124mquantity\u001b[39m\u001b[38;5;124m'\u001b[39m]) \u001b[38;5;28;01mif\u001b[39;00m \u001b[38;5;124m'\u001b[39m\u001b[38;5;124mquantity\u001b[39m\u001b[38;5;124m'\u001b[39m \u001b[38;5;129;01min\u001b[39;00m ing \u001b[38;5;28;01melse\u001b[39;00m \u001b[38;5;241m0.0\u001b[39m,\n\u001b[1;32m      6\u001b[0m             \u001b[38;5;124m'\u001b[39m\u001b[38;5;124mmeasure\u001b[39m\u001b[38;5;124m'\u001b[39m: ing[\u001b[38;5;124m'\u001b[39m\u001b[38;5;124mmeasure\u001b[39m\u001b[38;5;124m'\u001b[39m] \u001b[38;5;28;01mif\u001b[39;00m \u001b[38;5;124m'\u001b[39m\u001b[38;5;124mmeasure\u001b[39m\u001b[38;5;124m'\u001b[39m \u001b[38;5;129;01min\u001b[39;00m ing \u001b[38;5;28;01melse\u001b[39;00m \u001b[38;5;124m'\u001b[39m\u001b[38;5;124munit\u001b[39m\u001b[38;5;124m'\u001b[39m} \n\u001b[1;32m      7\u001b[0m             \u001b[38;5;28;01mfor\u001b[39;00m ing \u001b[38;5;129;01min\u001b[39;00m ingredients]\n",
      "File \u001b[0;32m~/miniconda3/lib/python3.12/ast.py:112\u001b[0m, in \u001b[0;36mliteral_eval\u001b[0;34m(node_or_string)\u001b[0m\n\u001b[1;32m    110\u001b[0m                 \u001b[38;5;28;01mreturn\u001b[39;00m left \u001b[38;5;241m-\u001b[39m right\n\u001b[1;32m    111\u001b[0m     \u001b[38;5;28;01mreturn\u001b[39;00m _convert_signed_num(node)\n\u001b[0;32m--> 112\u001b[0m \u001b[38;5;28;01mreturn\u001b[39;00m \u001b[43m_convert\u001b[49m\u001b[43m(\u001b[49m\u001b[43mnode_or_string\u001b[49m\u001b[43m)\u001b[49m\n",
      "File \u001b[0;32m~/miniconda3/lib/python3.12/ast.py:92\u001b[0m, in \u001b[0;36mliteral_eval.<locals>._convert\u001b[0;34m(node)\u001b[0m\n\u001b[1;32m     90\u001b[0m     \u001b[38;5;28;01mreturn\u001b[39;00m \u001b[38;5;28mtuple\u001b[39m(\u001b[38;5;28mmap\u001b[39m(_convert, node\u001b[38;5;241m.\u001b[39melts))\n\u001b[1;32m     91\u001b[0m \u001b[38;5;28;01melif\u001b[39;00m \u001b[38;5;28misinstance\u001b[39m(node, List):\n\u001b[0;32m---> 92\u001b[0m     \u001b[38;5;28;01mreturn\u001b[39;00m \u001b[38;5;28;43mlist\u001b[39;49m\u001b[43m(\u001b[49m\u001b[38;5;28;43mmap\u001b[39;49m\u001b[43m(\u001b[49m\u001b[43m_convert\u001b[49m\u001b[43m,\u001b[49m\u001b[43m \u001b[49m\u001b[43mnode\u001b[49m\u001b[38;5;241;43m.\u001b[39;49m\u001b[43melts\u001b[49m\u001b[43m)\u001b[49m\u001b[43m)\u001b[49m\n\u001b[1;32m     93\u001b[0m \u001b[38;5;28;01melif\u001b[39;00m \u001b[38;5;28misinstance\u001b[39m(node, Set):\n\u001b[1;32m     94\u001b[0m     \u001b[38;5;28;01mreturn\u001b[39;00m \u001b[38;5;28mset\u001b[39m(\u001b[38;5;28mmap\u001b[39m(_convert, node\u001b[38;5;241m.\u001b[39melts))\n",
      "File \u001b[0;32m~/miniconda3/lib/python3.12/ast.py:101\u001b[0m, in \u001b[0;36mliteral_eval.<locals>._convert\u001b[0;34m(node)\u001b[0m\n\u001b[1;32m     99\u001b[0m     \u001b[38;5;28;01mif\u001b[39;00m \u001b[38;5;28mlen\u001b[39m(node\u001b[38;5;241m.\u001b[39mkeys) \u001b[38;5;241m!=\u001b[39m \u001b[38;5;28mlen\u001b[39m(node\u001b[38;5;241m.\u001b[39mvalues):\n\u001b[1;32m    100\u001b[0m         _raise_malformed_node(node)\n\u001b[0;32m--> 101\u001b[0m     \u001b[38;5;28;01mreturn\u001b[39;00m \u001b[38;5;28;43mdict\u001b[39;49m\u001b[43m(\u001b[49m\u001b[38;5;28;43mzip\u001b[39;49m\u001b[43m(\u001b[49m\u001b[38;5;28;43mmap\u001b[39;49m\u001b[43m(\u001b[49m\u001b[43m_convert\u001b[49m\u001b[43m,\u001b[49m\u001b[43m \u001b[49m\u001b[43mnode\u001b[49m\u001b[38;5;241;43m.\u001b[39;49m\u001b[43mkeys\u001b[49m\u001b[43m)\u001b[49m\u001b[43m,\u001b[49m\n\u001b[1;32m    102\u001b[0m \u001b[43m                    \u001b[49m\u001b[38;5;28;43mmap\u001b[39;49m\u001b[43m(\u001b[49m\u001b[43m_convert\u001b[49m\u001b[43m,\u001b[49m\u001b[43m \u001b[49m\u001b[43mnode\u001b[49m\u001b[38;5;241;43m.\u001b[39;49m\u001b[43mvalues\u001b[49m\u001b[43m)\u001b[49m\u001b[43m)\u001b[49m\u001b[43m)\u001b[49m\n\u001b[1;32m    103\u001b[0m \u001b[38;5;28;01melif\u001b[39;00m \u001b[38;5;28misinstance\u001b[39m(node, BinOp) \u001b[38;5;129;01mand\u001b[39;00m \u001b[38;5;28misinstance\u001b[39m(node\u001b[38;5;241m.\u001b[39mop, (Add, Sub)):\n\u001b[1;32m    104\u001b[0m     left \u001b[38;5;241m=\u001b[39m _convert_signed_num(node\u001b[38;5;241m.\u001b[39mleft)\n",
      "File \u001b[0;32m~/miniconda3/lib/python3.12/ast.py:111\u001b[0m, in \u001b[0;36mliteral_eval.<locals>._convert\u001b[0;34m(node)\u001b[0m\n\u001b[1;32m    109\u001b[0m         \u001b[38;5;28;01melse\u001b[39;00m:\n\u001b[1;32m    110\u001b[0m             \u001b[38;5;28;01mreturn\u001b[39;00m left \u001b[38;5;241m-\u001b[39m right\n\u001b[0;32m--> 111\u001b[0m \u001b[38;5;28;01mreturn\u001b[39;00m \u001b[43m_convert_signed_num\u001b[49m\u001b[43m(\u001b[49m\u001b[43mnode\u001b[49m\u001b[43m)\u001b[49m\n",
      "File \u001b[0;32m~/miniconda3/lib/python3.12/ast.py:85\u001b[0m, in \u001b[0;36mliteral_eval.<locals>._convert_signed_num\u001b[0;34m(node)\u001b[0m\n\u001b[1;32m     83\u001b[0m     \u001b[38;5;28;01melse\u001b[39;00m:\n\u001b[1;32m     84\u001b[0m         \u001b[38;5;28;01mreturn\u001b[39;00m \u001b[38;5;241m-\u001b[39m operand\n\u001b[0;32m---> 85\u001b[0m \u001b[38;5;28;01mreturn\u001b[39;00m \u001b[43m_convert_num\u001b[49m\u001b[43m(\u001b[49m\u001b[43mnode\u001b[49m\u001b[43m)\u001b[49m\n",
      "File \u001b[0;32m~/miniconda3/lib/python3.12/ast.py:76\u001b[0m, in \u001b[0;36mliteral_eval.<locals>._convert_num\u001b[0;34m(node)\u001b[0m\n\u001b[1;32m     74\u001b[0m \u001b[38;5;28;01mdef\u001b[39;00m\u001b[38;5;250m \u001b[39m\u001b[38;5;21m_convert_num\u001b[39m(node):\n\u001b[1;32m     75\u001b[0m     \u001b[38;5;28;01mif\u001b[39;00m \u001b[38;5;129;01mnot\u001b[39;00m \u001b[38;5;28misinstance\u001b[39m(node, Constant) \u001b[38;5;129;01mor\u001b[39;00m \u001b[38;5;28mtype\u001b[39m(node\u001b[38;5;241m.\u001b[39mvalue) \u001b[38;5;129;01mnot\u001b[39;00m \u001b[38;5;129;01min\u001b[39;00m (\u001b[38;5;28mint\u001b[39m, \u001b[38;5;28mfloat\u001b[39m, \u001b[38;5;28mcomplex\u001b[39m):\n\u001b[0;32m---> 76\u001b[0m         \u001b[43m_raise_malformed_node\u001b[49m\u001b[43m(\u001b[49m\u001b[43mnode\u001b[49m\u001b[43m)\u001b[49m\n\u001b[1;32m     77\u001b[0m     \u001b[38;5;28;01mreturn\u001b[39;00m node\u001b[38;5;241m.\u001b[39mvalue\n",
      "File \u001b[0;32m~/miniconda3/lib/python3.12/ast.py:73\u001b[0m, in \u001b[0;36mliteral_eval.<locals>._raise_malformed_node\u001b[0;34m(node)\u001b[0m\n\u001b[1;32m     71\u001b[0m \u001b[38;5;28;01mif\u001b[39;00m lno \u001b[38;5;241m:=\u001b[39m \u001b[38;5;28mgetattr\u001b[39m(node, \u001b[38;5;124m'\u001b[39m\u001b[38;5;124mlineno\u001b[39m\u001b[38;5;124m'\u001b[39m, \u001b[38;5;28;01mNone\u001b[39;00m):\n\u001b[1;32m     72\u001b[0m     msg \u001b[38;5;241m+\u001b[39m\u001b[38;5;241m=\u001b[39m \u001b[38;5;124mf\u001b[39m\u001b[38;5;124m'\u001b[39m\u001b[38;5;124m on line \u001b[39m\u001b[38;5;132;01m{\u001b[39;00mlno\u001b[38;5;132;01m}\u001b[39;00m\u001b[38;5;124m'\u001b[39m\n\u001b[0;32m---> 73\u001b[0m \u001b[38;5;28;01mraise\u001b[39;00m \u001b[38;5;167;01mValueError\u001b[39;00m(msg \u001b[38;5;241m+\u001b[39m \u001b[38;5;124mf\u001b[39m\u001b[38;5;124m'\u001b[39m\u001b[38;5;124m: \u001b[39m\u001b[38;5;132;01m{\u001b[39;00mnode\u001b[38;5;132;01m!r}\u001b[39;00m\u001b[38;5;124m'\u001b[39m)\n",
      "\u001b[0;31mValueError\u001b[0m: malformed node or string on line 1: <ast.Name object at 0x7fcec16e7550>"
     ]
    }
   ],
   "source": [
    "df['ingredients'].apply(parse_ingredients)"
   ]
  },
  {
   "cell_type": "code",
   "execution_count": 19,
   "metadata": {},
   "outputs": [
    {
     "ename": "KeyError",
     "evalue": "'ingredients'",
     "output_type": "error",
     "traceback": [
      "\u001b[0;31m---------------------------------------------------------------------------\u001b[0m",
      "\u001b[0;31mKeyError\u001b[0m                                  Traceback (most recent call last)",
      "Cell \u001b[0;32mIn[19], line 1\u001b[0m\n\u001b[0;32m----> 1\u001b[0m \u001b[43mclean_ingredients\u001b[49m\u001b[43m(\u001b[49m\u001b[43mdf\u001b[49m\u001b[43m[\u001b[49m\u001b[38;5;124;43m'\u001b[39;49m\u001b[38;5;124;43mingredients\u001b[39;49m\u001b[38;5;124;43m'\u001b[39;49m\u001b[43m]\u001b[49m\u001b[43m)\u001b[49m\n",
      "Cell \u001b[0;32mIn[16], line 13\u001b[0m, in \u001b[0;36mclean_ingredients\u001b[0;34m(df)\u001b[0m\n\u001b[1;32m      7\u001b[0m         ingredients \u001b[38;5;241m=\u001b[39m json\u001b[38;5;241m.\u001b[39mloads(ingredients)\n\u001b[1;32m      8\u001b[0m     \u001b[38;5;28;01mreturn\u001b[39;00m [{\u001b[38;5;124m'\u001b[39m\u001b[38;5;124mtext\u001b[39m\u001b[38;5;124m'\u001b[39m: ing[\u001b[38;5;124m'\u001b[39m\u001b[38;5;124mtext\u001b[39m\u001b[38;5;124m'\u001b[39m], \n\u001b[1;32m      9\u001b[0m             \u001b[38;5;124m'\u001b[39m\u001b[38;5;124mquantity\u001b[39m\u001b[38;5;124m'\u001b[39m: \u001b[38;5;28mfloat\u001b[39m(ing[\u001b[38;5;124m'\u001b[39m\u001b[38;5;124mquantity\u001b[39m\u001b[38;5;124m'\u001b[39m]) \u001b[38;5;28;01mif\u001b[39;00m \u001b[38;5;124m'\u001b[39m\u001b[38;5;124mquantity\u001b[39m\u001b[38;5;124m'\u001b[39m \u001b[38;5;129;01min\u001b[39;00m ing \u001b[38;5;28;01melse\u001b[39;00m \u001b[38;5;241m0.0\u001b[39m,\n\u001b[1;32m     10\u001b[0m             \u001b[38;5;124m'\u001b[39m\u001b[38;5;124mmeasure\u001b[39m\u001b[38;5;124m'\u001b[39m: ing[\u001b[38;5;124m'\u001b[39m\u001b[38;5;124mmeasure\u001b[39m\u001b[38;5;124m'\u001b[39m] \u001b[38;5;28;01mif\u001b[39;00m \u001b[38;5;124m'\u001b[39m\u001b[38;5;124mmeasure\u001b[39m\u001b[38;5;124m'\u001b[39m \u001b[38;5;129;01min\u001b[39;00m ing \u001b[38;5;28;01melse\u001b[39;00m \u001b[38;5;124m'\u001b[39m\u001b[38;5;124munit\u001b[39m\u001b[38;5;124m'\u001b[39m} \n\u001b[1;32m     11\u001b[0m             \u001b[38;5;28;01mfor\u001b[39;00m ing \u001b[38;5;129;01min\u001b[39;00m ingredients]\n\u001b[0;32m---> 13\u001b[0m df[\u001b[38;5;124m'\u001b[39m\u001b[38;5;124mingredients\u001b[39m\u001b[38;5;124m'\u001b[39m] \u001b[38;5;241m=\u001b[39m \u001b[43mdf\u001b[49m\u001b[43m[\u001b[49m\u001b[38;5;124;43m'\u001b[39;49m\u001b[38;5;124;43mingredients\u001b[39;49m\u001b[38;5;124;43m'\u001b[39;49m\u001b[43m]\u001b[49m\u001b[38;5;241m.\u001b[39mapply(parse_ingredients)\n\u001b[1;32m     14\u001b[0m \u001b[38;5;28;01mreturn\u001b[39;00m df\n",
      "File \u001b[0;32m~/envs/iffymate/lib/python3.12/site-packages/pandas/core/series.py:1111\u001b[0m, in \u001b[0;36mSeries.__getitem__\u001b[0;34m(self, key)\u001b[0m\n\u001b[1;32m   1108\u001b[0m     \u001b[38;5;28;01mreturn\u001b[39;00m \u001b[38;5;28mself\u001b[39m\u001b[38;5;241m.\u001b[39m_values[key]\n\u001b[1;32m   1110\u001b[0m \u001b[38;5;28;01melif\u001b[39;00m key_is_scalar:\n\u001b[0;32m-> 1111\u001b[0m     \u001b[38;5;28;01mreturn\u001b[39;00m \u001b[38;5;28;43mself\u001b[39;49m\u001b[38;5;241;43m.\u001b[39;49m\u001b[43m_get_value\u001b[49m\u001b[43m(\u001b[49m\u001b[43mkey\u001b[49m\u001b[43m)\u001b[49m\n\u001b[1;32m   1113\u001b[0m \u001b[38;5;66;03m# Convert generator to list before going through hashable part\u001b[39;00m\n\u001b[1;32m   1114\u001b[0m \u001b[38;5;66;03m# (We will iterate through the generator there to check for slices)\u001b[39;00m\n\u001b[1;32m   1115\u001b[0m \u001b[38;5;28;01mif\u001b[39;00m is_iterator(key):\n",
      "File \u001b[0;32m~/envs/iffymate/lib/python3.12/site-packages/pandas/core/series.py:1227\u001b[0m, in \u001b[0;36mSeries._get_value\u001b[0;34m(self, label, takeable)\u001b[0m\n\u001b[1;32m   1224\u001b[0m     \u001b[38;5;28;01mreturn\u001b[39;00m \u001b[38;5;28mself\u001b[39m\u001b[38;5;241m.\u001b[39m_values[label]\n\u001b[1;32m   1226\u001b[0m \u001b[38;5;66;03m# Similar to Index.get_value, but we do not fall back to positional\u001b[39;00m\n\u001b[0;32m-> 1227\u001b[0m loc \u001b[38;5;241m=\u001b[39m \u001b[38;5;28;43mself\u001b[39;49m\u001b[38;5;241;43m.\u001b[39;49m\u001b[43mindex\u001b[49m\u001b[38;5;241;43m.\u001b[39;49m\u001b[43mget_loc\u001b[49m\u001b[43m(\u001b[49m\u001b[43mlabel\u001b[49m\u001b[43m)\u001b[49m\n\u001b[1;32m   1229\u001b[0m \u001b[38;5;28;01mif\u001b[39;00m is_integer(loc):\n\u001b[1;32m   1230\u001b[0m     \u001b[38;5;28;01mreturn\u001b[39;00m \u001b[38;5;28mself\u001b[39m\u001b[38;5;241m.\u001b[39m_values[loc]\n",
      "File \u001b[0;32m~/envs/iffymate/lib/python3.12/site-packages/pandas/core/indexes/range.py:417\u001b[0m, in \u001b[0;36mRangeIndex.get_loc\u001b[0;34m(self, key)\u001b[0m\n\u001b[1;32m    415\u001b[0m         \u001b[38;5;28;01mraise\u001b[39;00m \u001b[38;5;167;01mKeyError\u001b[39;00m(key) \u001b[38;5;28;01mfrom\u001b[39;00m\u001b[38;5;250m \u001b[39m\u001b[38;5;21;01merr\u001b[39;00m\n\u001b[1;32m    416\u001b[0m \u001b[38;5;28;01mif\u001b[39;00m \u001b[38;5;28misinstance\u001b[39m(key, Hashable):\n\u001b[0;32m--> 417\u001b[0m     \u001b[38;5;28;01mraise\u001b[39;00m \u001b[38;5;167;01mKeyError\u001b[39;00m(key)\n\u001b[1;32m    418\u001b[0m \u001b[38;5;28mself\u001b[39m\u001b[38;5;241m.\u001b[39m_check_indexing_error(key)\n\u001b[1;32m    419\u001b[0m \u001b[38;5;28;01mraise\u001b[39;00m \u001b[38;5;167;01mKeyError\u001b[39;00m(key)\n",
      "\u001b[0;31mKeyError\u001b[0m: 'ingredients'"
     ]
    }
   ],
   "source": [
    "clean_ingredients(df['ingredients'])"
   ]
  },
  {
   "cell_type": "code",
   "execution_count": 5,
   "metadata": {},
   "outputs": [],
   "source": [
    "df = pd.read_csv('data/test_clean_data.csv')"
   ]
  },
  {
   "cell_type": "code",
   "execution_count": 6,
   "metadata": {},
   "outputs": [],
   "source": [
    "def comma_to_bracket(ingredient_list: list) -> str:\n",
    "    \"\"\"\n",
    "    Input: ingredient_list (list): a list of strings, like ingredients of a recipe.\n",
    "    Output: recipe (str): commas in individual elements from input string are removed, then they are all joined together with a comma, so commas seperate each ingredient now.\n",
    "    \"\"\"\n",
    "    processed_ingredients = []\n",
    "    \n",
    "    for ingredient in ingredient_list:\n",
    "        parts = ingredient.split(',', 1)  # Split at the first comma\n",
    "        if len(parts) > 1:  # Check if there is a comma\n",
    "            # Check if the part after the comma is already in brackets\n",
    "            if '(' not in parts[1] and ')' not in parts[1]:\n",
    "                parts[1] = f'({parts[1].strip()})'  # Put it in brackets\n",
    "        processed_ingredients.append(' '.join(parts))\n",
    "\n",
    "    # Join the processed strings with a comma and space now that we removed the commas in the individual strings\n",
    "    recipe = ', '.join(processed_ingredients)\n",
    "\n",
    "    return recipe"
   ]
  },
  {
   "cell_type": "code",
   "execution_count": 7,
   "metadata": {},
   "outputs": [],
   "source": [
    "ingredientLines = df['ingredientLines']"
   ]
  },
  {
   "cell_type": "code",
   "execution_count": 10,
   "metadata": {},
   "outputs": [],
   "source": [
    "import ast"
   ]
  },
  {
   "cell_type": "code",
   "execution_count": 11,
   "metadata": {},
   "outputs": [],
   "source": [
    "ingredientLines = ingredientLines.apply(ast.literal_eval)"
   ]
  },
  {
   "cell_type": "code",
   "execution_count": 13,
   "metadata": {},
   "outputs": [
    {
     "data": {
      "text/plain": [
       "0     [1 cup flour, 1/4 cup rolled oats not instant,...\n",
       "1     [* 1/3 cup (30 g) rolled oat**, * 1/2 cup (120...\n",
       "2     [2 cups finely diced peaches or nectarines, 2 ...\n",
       "3     [1 (12.3-ounce) package reduced-fat, firm tofu...\n",
       "4     [4 duck breasts, 200 g rocket, watercress or s...\n",
       "                            ...                        \n",
       "95    [500g linguini, 200ml olive oil, 6 red bird's ...\n",
       "96    [* 2 tb butter, * 1 large onion, chopped, * 2 ...\n",
       "97    [4 ounces cream cheese, softened, 1 egg, 1 tab...\n",
       "98    [* 4 sweet potato (i prefer smaller one), * 1 ...\n",
       "99    [0.5 cup chopped walnuts, 2.5 cups gluten-free...\n",
       "Name: ingredientLines, Length: 100, dtype: object"
      ]
     },
     "execution_count": 13,
     "metadata": {},
     "output_type": "execute_result"
    }
   ],
   "source": [
    "ingredientLines"
   ]
  },
  {
   "cell_type": "code",
   "execution_count": 14,
   "metadata": {},
   "outputs": [
    {
     "data": {
      "text/plain": [
       "0     1 cup flour, 1/4 cup rolled oats not instant, ...\n",
       "1     * 1/3 cup (30 g) rolled oat**, * 1/2 cup (120 ...\n",
       "2     2 cups finely diced peaches or nectarines, 2 t...\n",
       "3     1 (12.3-ounce) package reduced-fat (firm tofu,...\n",
       "4     4 duck breasts, 200 g rocket  watercress or sa...\n",
       "                            ...                        \n",
       "95    500g linguini, 200ml olive oil, 6 red bird's e...\n",
       "96    * 2 tb butter, * 1 large onion (chopped), * 2 ...\n",
       "97    4 ounces cream cheese (softened), 1 egg, 1 tab...\n",
       "98    * 4 sweet potato (i prefer smaller one), * 1 t...\n",
       "99    0.5 cup chopped walnuts, 2.5 cups gluten-free ...\n",
       "Name: ingredientLines, Length: 100, dtype: object"
      ]
     },
     "execution_count": 14,
     "metadata": {},
     "output_type": "execute_result"
    }
   ],
   "source": [
    "ingredientLines.apply(comma_to_bracket)"
   ]
  },
  {
   "cell_type": "code",
   "execution_count": 15,
   "metadata": {},
   "outputs": [
    {
     "data": {
      "text/plain": [
       "0     [\"Kidney-Friendly\", \"Vegetarian\", \"Pescatarian...\n",
       "1     [\"Vegan\", \"Vegetarian\", \"Pescatarian\", \"Dairy-...\n",
       "2     [\"Vegan\", \"Vegetarian\", \"Pescatarian\", \"Dairy-...\n",
       "3     [\"Pescatarian\", \"Dairy-Free\", \"Gluten-Free\", \"...\n",
       "4     [\"Keto-Friendly\", \"Paleo\", \"Mediterranean\", \"D...\n",
       "                            ...                        \n",
       "95    [\"Sugar-Conscious\", \"Pescatarian\", \"Mediterran...\n",
       "96    [\"Egg-Free\", \"Peanut-Free\", \"Tree-Nut-Free\", \"...\n",
       "97    [\"Sugar-Conscious\", \"Low Potassium\", \"Kidney-F...\n",
       "98    [\"Vegan\", \"Vegetarian\", \"Pescatarian\", \"Paleo\"...\n",
       "99    [\"Sugar-Conscious\", \"Low Potassium\", \"Kidney-F...\n",
       "Name: healthLabels, Length: 100, dtype: object"
      ]
     },
     "execution_count": 15,
     "metadata": {},
     "output_type": "execute_result"
    }
   ],
   "source": [
    "df['healthLabels']"
   ]
  },
  {
   "cell_type": "code",
   "execution_count": 18,
   "metadata": {},
   "outputs": [
    {
     "data": {
      "text/plain": [
       "0     {\"Energy\": {\"quantity\": 1339.1685363, \"unit\": ...\n",
       "1     {\"Energy\": {\"quantity\": 342.81567400288515, \"u...\n",
       "2     {\"Energy\": {\"quantity\": 802.4633333454614, \"un...\n",
       "3     {\"Energy\": {\"quantity\": 1921.5618464240574, \"u...\n",
       "4     {\"Energy\": {\"quantity\": 1110.68, \"unit\": \"kcal...\n",
       "                            ...                        \n",
       "95    {\"Energy\": {\"quantity\": 5509.213879554382, \"un...\n",
       "96    {\"Energy\": {\"quantity\": 633.5571363764622, \"un...\n",
       "97    {\"Energy\": {\"quantity\": 1645.2604893538632, \"u...\n",
       "98    {\"Energy\": {\"quantity\": 871.19034, \"unit\": \"kc...\n",
       "99    {\"Energy\": {\"quantity\": 2163.3956596218754, \"u...\n",
       "Name: totalNutrients, Length: 100, dtype: object"
      ]
     },
     "execution_count": 18,
     "metadata": {},
     "output_type": "execute_result"
    }
   ],
   "source": [
    "df['totalNutrients']"
   ]
  },
  {
   "cell_type": "code",
   "execution_count": null,
   "metadata": {},
   "outputs": [],
   "source": []
  }
 ],
 "metadata": {
  "kernelspec": {
   "display_name": "iffymate",
   "language": "python",
   "name": "python3"
  },
  "language_info": {
   "codemirror_mode": {
    "name": "ipython",
    "version": 3
   },
   "file_extension": ".py",
   "mimetype": "text/x-python",
   "name": "python",
   "nbconvert_exporter": "python",
   "pygments_lexer": "ipython3",
   "version": "3.12.4"
  }
 },
 "nbformat": 4,
 "nbformat_minor": 2
}
